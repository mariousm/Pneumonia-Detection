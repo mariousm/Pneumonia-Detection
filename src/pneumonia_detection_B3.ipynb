{
  "cells": [
    {
      "cell_type": "markdown",
      "metadata": {
        "id": "jfhHSQoRktDb"
      },
      "source": [
        ""
      ]
    },
    {
      "cell_type": "markdown",
      "metadata": {
        "id": "gQc31ylIoJzI"
      },
      "source": [
        "# Importación de librerías"
      ]
    },
    {
      "cell_type": "code",
      "execution_count": null,
      "metadata": {
        "id": "F4ghj3pmoJzJ"
      },
      "outputs": [],
      "source": [
        "import numpy as np\n",
        "import pandas as pd\n",
        "import os\n",
        "import csv\n",
        "import random\n",
        "import _pickle as pickle\n",
        "from PIL import Image\n",
        "from skimage.transform import resize\n",
        "\n",
        "import seaborn as sns\n",
        "from sklearn.metrics import confusion_matrix, classification_report\n",
        "\n",
        "from tensorflow import keras\n",
        "from tensorflow.keras.applications import EfficientNetB4\n",
        "from tensorflow.keras.optimizers import Adam\n",
        "from keras.models import Sequential\n",
        "from keras import layers\n",
        "\n",
        "import matplotlib.pyplot as plt"
      ]
    },
    {
      "cell_type": "markdown",
      "metadata": {
        "id": "-gx8TfIaaEM_"
      },
      "source": [
        "# Carga de Google Drive"
      ]
    },
    {
      "cell_type": "code",
      "execution_count": null,
      "metadata": {
        "colab": {
          "base_uri": "https://localhost:8080/"
        },
        "id": "R18rOwHuoeme",
        "outputId": "26fddd4e-4ea8-4c58-899f-b556befc58d2"
      },
      "outputs": [
        {
          "output_type": "stream",
          "name": "stdout",
          "text": [
            "Mounted at /content/drive\n"
          ]
        }
      ],
      "source": [
        "from google.colab import drive\n",
        "drive.mount('/content/drive')"
      ]
    },
    {
      "cell_type": "markdown",
      "metadata": {
        "id": "Bjk_r3zDajYf"
      },
      "source": [
        "# Lectura de los datos"
      ]
    },
    {
      "cell_type": "code",
      "execution_count": null,
      "metadata": {
        "colab": {
          "base_uri": "https://localhost:8080/"
        },
        "id": "TJlyy1otafCy",
        "outputId": "0515a54b-bf0d-45cb-85ac-b1a2d6c0cfa1"
      },
      "outputs": [
        {
          "output_type": "stream",
          "name": "stdout",
          "text": [
            "El número de registros en df_train es: 32072\n",
            "El número de registros en df_test es: 3000\n",
            "El número de registros en df_validation es: 3000\n"
          ]
        }
      ],
      "source": [
        "# Carga de los dataframes de train, test y validation\n",
        "df_train = pd.read_csv(\"/content/drive/MyDrive/TFM/data/EfficientNetB4/train_labels.csv\")\n",
        "df_test = pd.read_csv(\"/content/drive/MyDrive/TFM/data/EfficientNetB4/test_labels.csv\")\n",
        "df_validation = pd.read_csv(\"/content/drive/MyDrive/TFM/data/EfficientNetB4/validation_labels.csv\")\n",
        "\n",
        "print(\"El número de registros en df_train es: \" + str(len(df_train)))\n",
        "print(\"El número de registros en df_test es: \" + str(len(df_test)))\n",
        "print(\"El número de registros en df_validation es: \" + str(len(df_validation)))"
      ]
    },
    {
      "cell_type": "code",
      "execution_count": null,
      "metadata": {
        "colab": {
          "base_uri": "https://localhost:8080/",
          "height": 206
        },
        "id": "52Viwc_6cFW_",
        "outputId": "33fb1146-42ef-490f-df69-45ed3a864740"
      },
      "outputs": [
        {
          "output_type": "execute_result",
          "data": {
            "text/plain": [
              "                              PatientId  Target\n",
              "0  ba8f8cb0-5aed-4242-b117-8516f4c7b51b       0\n",
              "1  49f5c9f1-8c3c-4afc-b940-33e1500d31e8       0\n",
              "2  0cc27255-7f78-4093-84d7-04190a7d72ec       0\n",
              "3  a12b6a40-323c-4ead-8875-5b84ae4beb6f       0\n",
              "4  de94813d-0475-41b0-b248-af03dfb5a412       0"
            ],
            "text/html": [
              "\n",
              "  <div id=\"df-53ada5fc-aa74-4bbf-a4a9-f13f8cd6a88d\">\n",
              "    <div class=\"colab-df-container\">\n",
              "      <div>\n",
              "<style scoped>\n",
              "    .dataframe tbody tr th:only-of-type {\n",
              "        vertical-align: middle;\n",
              "    }\n",
              "\n",
              "    .dataframe tbody tr th {\n",
              "        vertical-align: top;\n",
              "    }\n",
              "\n",
              "    .dataframe thead th {\n",
              "        text-align: right;\n",
              "    }\n",
              "</style>\n",
              "<table border=\"1\" class=\"dataframe\">\n",
              "  <thead>\n",
              "    <tr style=\"text-align: right;\">\n",
              "      <th></th>\n",
              "      <th>PatientId</th>\n",
              "      <th>Target</th>\n",
              "    </tr>\n",
              "  </thead>\n",
              "  <tbody>\n",
              "    <tr>\n",
              "      <th>0</th>\n",
              "      <td>ba8f8cb0-5aed-4242-b117-8516f4c7b51b</td>\n",
              "      <td>0</td>\n",
              "    </tr>\n",
              "    <tr>\n",
              "      <th>1</th>\n",
              "      <td>49f5c9f1-8c3c-4afc-b940-33e1500d31e8</td>\n",
              "      <td>0</td>\n",
              "    </tr>\n",
              "    <tr>\n",
              "      <th>2</th>\n",
              "      <td>0cc27255-7f78-4093-84d7-04190a7d72ec</td>\n",
              "      <td>0</td>\n",
              "    </tr>\n",
              "    <tr>\n",
              "      <th>3</th>\n",
              "      <td>a12b6a40-323c-4ead-8875-5b84ae4beb6f</td>\n",
              "      <td>0</td>\n",
              "    </tr>\n",
              "    <tr>\n",
              "      <th>4</th>\n",
              "      <td>de94813d-0475-41b0-b248-af03dfb5a412</td>\n",
              "      <td>0</td>\n",
              "    </tr>\n",
              "  </tbody>\n",
              "</table>\n",
              "</div>\n",
              "      <button class=\"colab-df-convert\" onclick=\"convertToInteractive('df-53ada5fc-aa74-4bbf-a4a9-f13f8cd6a88d')\"\n",
              "              title=\"Convert this dataframe to an interactive table.\"\n",
              "              style=\"display:none;\">\n",
              "        \n",
              "  <svg xmlns=\"http://www.w3.org/2000/svg\" height=\"24px\"viewBox=\"0 0 24 24\"\n",
              "       width=\"24px\">\n",
              "    <path d=\"M0 0h24v24H0V0z\" fill=\"none\"/>\n",
              "    <path d=\"M18.56 5.44l.94 2.06.94-2.06 2.06-.94-2.06-.94-.94-2.06-.94 2.06-2.06.94zm-11 1L8.5 8.5l.94-2.06 2.06-.94-2.06-.94L8.5 2.5l-.94 2.06-2.06.94zm10 10l.94 2.06.94-2.06 2.06-.94-2.06-.94-.94-2.06-.94 2.06-2.06.94z\"/><path d=\"M17.41 7.96l-1.37-1.37c-.4-.4-.92-.59-1.43-.59-.52 0-1.04.2-1.43.59L10.3 9.45l-7.72 7.72c-.78.78-.78 2.05 0 2.83L4 21.41c.39.39.9.59 1.41.59.51 0 1.02-.2 1.41-.59l7.78-7.78 2.81-2.81c.8-.78.8-2.07 0-2.86zM5.41 20L4 18.59l7.72-7.72 1.47 1.35L5.41 20z\"/>\n",
              "  </svg>\n",
              "      </button>\n",
              "      \n",
              "  <style>\n",
              "    .colab-df-container {\n",
              "      display:flex;\n",
              "      flex-wrap:wrap;\n",
              "      gap: 12px;\n",
              "    }\n",
              "\n",
              "    .colab-df-convert {\n",
              "      background-color: #E8F0FE;\n",
              "      border: none;\n",
              "      border-radius: 50%;\n",
              "      cursor: pointer;\n",
              "      display: none;\n",
              "      fill: #1967D2;\n",
              "      height: 32px;\n",
              "      padding: 0 0 0 0;\n",
              "      width: 32px;\n",
              "    }\n",
              "\n",
              "    .colab-df-convert:hover {\n",
              "      background-color: #E2EBFA;\n",
              "      box-shadow: 0px 1px 2px rgba(60, 64, 67, 0.3), 0px 1px 3px 1px rgba(60, 64, 67, 0.15);\n",
              "      fill: #174EA6;\n",
              "    }\n",
              "\n",
              "    [theme=dark] .colab-df-convert {\n",
              "      background-color: #3B4455;\n",
              "      fill: #D2E3FC;\n",
              "    }\n",
              "\n",
              "    [theme=dark] .colab-df-convert:hover {\n",
              "      background-color: #434B5C;\n",
              "      box-shadow: 0px 1px 3px 1px rgba(0, 0, 0, 0.15);\n",
              "      filter: drop-shadow(0px 1px 2px rgba(0, 0, 0, 0.3));\n",
              "      fill: #FFFFFF;\n",
              "    }\n",
              "  </style>\n",
              "\n",
              "      <script>\n",
              "        const buttonEl =\n",
              "          document.querySelector('#df-53ada5fc-aa74-4bbf-a4a9-f13f8cd6a88d button.colab-df-convert');\n",
              "        buttonEl.style.display =\n",
              "          google.colab.kernel.accessAllowed ? 'block' : 'none';\n",
              "\n",
              "        async function convertToInteractive(key) {\n",
              "          const element = document.querySelector('#df-53ada5fc-aa74-4bbf-a4a9-f13f8cd6a88d');\n",
              "          const dataTable =\n",
              "            await google.colab.kernel.invokeFunction('convertToInteractive',\n",
              "                                                     [key], {});\n",
              "          if (!dataTable) return;\n",
              "\n",
              "          const docLinkHtml = 'Like what you see? Visit the ' +\n",
              "            '<a target=\"_blank\" href=https://colab.research.google.com/notebooks/data_table.ipynb>data table notebook</a>'\n",
              "            + ' to learn more about interactive tables.';\n",
              "          element.innerHTML = '';\n",
              "          dataTable['output_type'] = 'display_data';\n",
              "          await google.colab.output.renderOutput(dataTable, element);\n",
              "          const docLink = document.createElement('div');\n",
              "          docLink.innerHTML = docLinkHtml;\n",
              "          element.appendChild(docLink);\n",
              "        }\n",
              "      </script>\n",
              "    </div>\n",
              "  </div>\n",
              "  "
            ]
          },
          "metadata": {},
          "execution_count": 4
        }
      ],
      "source": [
        "df_train.head()"
      ]
    },
    {
      "cell_type": "code",
      "execution_count": null,
      "metadata": {
        "colab": {
          "base_uri": "https://localhost:8080/",
          "height": 206
        },
        "id": "dVMof2eacJbj",
        "outputId": "0f679e6a-017e-4122-9525-6eed9dda7f26"
      },
      "outputs": [
        {
          "output_type": "execute_result",
          "data": {
            "text/plain": [
              "                              PatientId  Target\n",
              "0  a74b7b44-ae2b-48cc-bc0a-597d221a4d08       0\n",
              "1  da0483cc-6cd4-40c5-aaef-b085a01cd76c       0\n",
              "2  7658ef50-d386-4066-92d9-5d5735af5f3c       0\n",
              "3  922fa0c4-f867-4102-9741-5952a84c3fee       0\n",
              "4  cab1fcd3-7e67-4928-8612-80bae540ca2c       0"
            ],
            "text/html": [
              "\n",
              "  <div id=\"df-2be1692a-0488-4004-96c8-74468cb81517\">\n",
              "    <div class=\"colab-df-container\">\n",
              "      <div>\n",
              "<style scoped>\n",
              "    .dataframe tbody tr th:only-of-type {\n",
              "        vertical-align: middle;\n",
              "    }\n",
              "\n",
              "    .dataframe tbody tr th {\n",
              "        vertical-align: top;\n",
              "    }\n",
              "\n",
              "    .dataframe thead th {\n",
              "        text-align: right;\n",
              "    }\n",
              "</style>\n",
              "<table border=\"1\" class=\"dataframe\">\n",
              "  <thead>\n",
              "    <tr style=\"text-align: right;\">\n",
              "      <th></th>\n",
              "      <th>PatientId</th>\n",
              "      <th>Target</th>\n",
              "    </tr>\n",
              "  </thead>\n",
              "  <tbody>\n",
              "    <tr>\n",
              "      <th>0</th>\n",
              "      <td>a74b7b44-ae2b-48cc-bc0a-597d221a4d08</td>\n",
              "      <td>0</td>\n",
              "    </tr>\n",
              "    <tr>\n",
              "      <th>1</th>\n",
              "      <td>da0483cc-6cd4-40c5-aaef-b085a01cd76c</td>\n",
              "      <td>0</td>\n",
              "    </tr>\n",
              "    <tr>\n",
              "      <th>2</th>\n",
              "      <td>7658ef50-d386-4066-92d9-5d5735af5f3c</td>\n",
              "      <td>0</td>\n",
              "    </tr>\n",
              "    <tr>\n",
              "      <th>3</th>\n",
              "      <td>922fa0c4-f867-4102-9741-5952a84c3fee</td>\n",
              "      <td>0</td>\n",
              "    </tr>\n",
              "    <tr>\n",
              "      <th>4</th>\n",
              "      <td>cab1fcd3-7e67-4928-8612-80bae540ca2c</td>\n",
              "      <td>0</td>\n",
              "    </tr>\n",
              "  </tbody>\n",
              "</table>\n",
              "</div>\n",
              "      <button class=\"colab-df-convert\" onclick=\"convertToInteractive('df-2be1692a-0488-4004-96c8-74468cb81517')\"\n",
              "              title=\"Convert this dataframe to an interactive table.\"\n",
              "              style=\"display:none;\">\n",
              "        \n",
              "  <svg xmlns=\"http://www.w3.org/2000/svg\" height=\"24px\"viewBox=\"0 0 24 24\"\n",
              "       width=\"24px\">\n",
              "    <path d=\"M0 0h24v24H0V0z\" fill=\"none\"/>\n",
              "    <path d=\"M18.56 5.44l.94 2.06.94-2.06 2.06-.94-2.06-.94-.94-2.06-.94 2.06-2.06.94zm-11 1L8.5 8.5l.94-2.06 2.06-.94-2.06-.94L8.5 2.5l-.94 2.06-2.06.94zm10 10l.94 2.06.94-2.06 2.06-.94-2.06-.94-.94-2.06-.94 2.06-2.06.94z\"/><path d=\"M17.41 7.96l-1.37-1.37c-.4-.4-.92-.59-1.43-.59-.52 0-1.04.2-1.43.59L10.3 9.45l-7.72 7.72c-.78.78-.78 2.05 0 2.83L4 21.41c.39.39.9.59 1.41.59.51 0 1.02-.2 1.41-.59l7.78-7.78 2.81-2.81c.8-.78.8-2.07 0-2.86zM5.41 20L4 18.59l7.72-7.72 1.47 1.35L5.41 20z\"/>\n",
              "  </svg>\n",
              "      </button>\n",
              "      \n",
              "  <style>\n",
              "    .colab-df-container {\n",
              "      display:flex;\n",
              "      flex-wrap:wrap;\n",
              "      gap: 12px;\n",
              "    }\n",
              "\n",
              "    .colab-df-convert {\n",
              "      background-color: #E8F0FE;\n",
              "      border: none;\n",
              "      border-radius: 50%;\n",
              "      cursor: pointer;\n",
              "      display: none;\n",
              "      fill: #1967D2;\n",
              "      height: 32px;\n",
              "      padding: 0 0 0 0;\n",
              "      width: 32px;\n",
              "    }\n",
              "\n",
              "    .colab-df-convert:hover {\n",
              "      background-color: #E2EBFA;\n",
              "      box-shadow: 0px 1px 2px rgba(60, 64, 67, 0.3), 0px 1px 3px 1px rgba(60, 64, 67, 0.15);\n",
              "      fill: #174EA6;\n",
              "    }\n",
              "\n",
              "    [theme=dark] .colab-df-convert {\n",
              "      background-color: #3B4455;\n",
              "      fill: #D2E3FC;\n",
              "    }\n",
              "\n",
              "    [theme=dark] .colab-df-convert:hover {\n",
              "      background-color: #434B5C;\n",
              "      box-shadow: 0px 1px 3px 1px rgba(0, 0, 0, 0.15);\n",
              "      filter: drop-shadow(0px 1px 2px rgba(0, 0, 0, 0.3));\n",
              "      fill: #FFFFFF;\n",
              "    }\n",
              "  </style>\n",
              "\n",
              "      <script>\n",
              "        const buttonEl =\n",
              "          document.querySelector('#df-2be1692a-0488-4004-96c8-74468cb81517 button.colab-df-convert');\n",
              "        buttonEl.style.display =\n",
              "          google.colab.kernel.accessAllowed ? 'block' : 'none';\n",
              "\n",
              "        async function convertToInteractive(key) {\n",
              "          const element = document.querySelector('#df-2be1692a-0488-4004-96c8-74468cb81517');\n",
              "          const dataTable =\n",
              "            await google.colab.kernel.invokeFunction('convertToInteractive',\n",
              "                                                     [key], {});\n",
              "          if (!dataTable) return;\n",
              "\n",
              "          const docLinkHtml = 'Like what you see? Visit the ' +\n",
              "            '<a target=\"_blank\" href=https://colab.research.google.com/notebooks/data_table.ipynb>data table notebook</a>'\n",
              "            + ' to learn more about interactive tables.';\n",
              "          element.innerHTML = '';\n",
              "          dataTable['output_type'] = 'display_data';\n",
              "          await google.colab.output.renderOutput(dataTable, element);\n",
              "          const docLink = document.createElement('div');\n",
              "          docLink.innerHTML = docLinkHtml;\n",
              "          element.appendChild(docLink);\n",
              "        }\n",
              "      </script>\n",
              "    </div>\n",
              "  </div>\n",
              "  "
            ]
          },
          "metadata": {},
          "execution_count": 5
        }
      ],
      "source": [
        "df_test.head()"
      ]
    },
    {
      "cell_type": "code",
      "execution_count": null,
      "metadata": {
        "colab": {
          "base_uri": "https://localhost:8080/",
          "height": 206
        },
        "id": "F8UDpReecL3H",
        "outputId": "bd95f353-a7ff-4dab-8a51-9597d4317dc6"
      },
      "outputs": [
        {
          "output_type": "execute_result",
          "data": {
            "text/plain": [
              "                              PatientId  Target\n",
              "0  6a2d8b64-cf13-47e2-bed9-41a6b801e1fb       1\n",
              "1  97a6f7c7-df3f-4127-907d-27823c48f2fe       1\n",
              "2  b434200b-248e-4aa3-aeff-b0c9351a65fc       1\n",
              "3  9abdc28f-151f-4243-8595-1751a8ad1286       0\n",
              "4  bf88dd53-1b28-44b4-b101-33b49816d8a0       0"
            ],
            "text/html": [
              "\n",
              "  <div id=\"df-7a352e5d-f4fc-4d30-b802-2f41e1c2d14b\">\n",
              "    <div class=\"colab-df-container\">\n",
              "      <div>\n",
              "<style scoped>\n",
              "    .dataframe tbody tr th:only-of-type {\n",
              "        vertical-align: middle;\n",
              "    }\n",
              "\n",
              "    .dataframe tbody tr th {\n",
              "        vertical-align: top;\n",
              "    }\n",
              "\n",
              "    .dataframe thead th {\n",
              "        text-align: right;\n",
              "    }\n",
              "</style>\n",
              "<table border=\"1\" class=\"dataframe\">\n",
              "  <thead>\n",
              "    <tr style=\"text-align: right;\">\n",
              "      <th></th>\n",
              "      <th>PatientId</th>\n",
              "      <th>Target</th>\n",
              "    </tr>\n",
              "  </thead>\n",
              "  <tbody>\n",
              "    <tr>\n",
              "      <th>0</th>\n",
              "      <td>6a2d8b64-cf13-47e2-bed9-41a6b801e1fb</td>\n",
              "      <td>1</td>\n",
              "    </tr>\n",
              "    <tr>\n",
              "      <th>1</th>\n",
              "      <td>97a6f7c7-df3f-4127-907d-27823c48f2fe</td>\n",
              "      <td>1</td>\n",
              "    </tr>\n",
              "    <tr>\n",
              "      <th>2</th>\n",
              "      <td>b434200b-248e-4aa3-aeff-b0c9351a65fc</td>\n",
              "      <td>1</td>\n",
              "    </tr>\n",
              "    <tr>\n",
              "      <th>3</th>\n",
              "      <td>9abdc28f-151f-4243-8595-1751a8ad1286</td>\n",
              "      <td>0</td>\n",
              "    </tr>\n",
              "    <tr>\n",
              "      <th>4</th>\n",
              "      <td>bf88dd53-1b28-44b4-b101-33b49816d8a0</td>\n",
              "      <td>0</td>\n",
              "    </tr>\n",
              "  </tbody>\n",
              "</table>\n",
              "</div>\n",
              "      <button class=\"colab-df-convert\" onclick=\"convertToInteractive('df-7a352e5d-f4fc-4d30-b802-2f41e1c2d14b')\"\n",
              "              title=\"Convert this dataframe to an interactive table.\"\n",
              "              style=\"display:none;\">\n",
              "        \n",
              "  <svg xmlns=\"http://www.w3.org/2000/svg\" height=\"24px\"viewBox=\"0 0 24 24\"\n",
              "       width=\"24px\">\n",
              "    <path d=\"M0 0h24v24H0V0z\" fill=\"none\"/>\n",
              "    <path d=\"M18.56 5.44l.94 2.06.94-2.06 2.06-.94-2.06-.94-.94-2.06-.94 2.06-2.06.94zm-11 1L8.5 8.5l.94-2.06 2.06-.94-2.06-.94L8.5 2.5l-.94 2.06-2.06.94zm10 10l.94 2.06.94-2.06 2.06-.94-2.06-.94-.94-2.06-.94 2.06-2.06.94z\"/><path d=\"M17.41 7.96l-1.37-1.37c-.4-.4-.92-.59-1.43-.59-.52 0-1.04.2-1.43.59L10.3 9.45l-7.72 7.72c-.78.78-.78 2.05 0 2.83L4 21.41c.39.39.9.59 1.41.59.51 0 1.02-.2 1.41-.59l7.78-7.78 2.81-2.81c.8-.78.8-2.07 0-2.86zM5.41 20L4 18.59l7.72-7.72 1.47 1.35L5.41 20z\"/>\n",
              "  </svg>\n",
              "      </button>\n",
              "      \n",
              "  <style>\n",
              "    .colab-df-container {\n",
              "      display:flex;\n",
              "      flex-wrap:wrap;\n",
              "      gap: 12px;\n",
              "    }\n",
              "\n",
              "    .colab-df-convert {\n",
              "      background-color: #E8F0FE;\n",
              "      border: none;\n",
              "      border-radius: 50%;\n",
              "      cursor: pointer;\n",
              "      display: none;\n",
              "      fill: #1967D2;\n",
              "      height: 32px;\n",
              "      padding: 0 0 0 0;\n",
              "      width: 32px;\n",
              "    }\n",
              "\n",
              "    .colab-df-convert:hover {\n",
              "      background-color: #E2EBFA;\n",
              "      box-shadow: 0px 1px 2px rgba(60, 64, 67, 0.3), 0px 1px 3px 1px rgba(60, 64, 67, 0.15);\n",
              "      fill: #174EA6;\n",
              "    }\n",
              "\n",
              "    [theme=dark] .colab-df-convert {\n",
              "      background-color: #3B4455;\n",
              "      fill: #D2E3FC;\n",
              "    }\n",
              "\n",
              "    [theme=dark] .colab-df-convert:hover {\n",
              "      background-color: #434B5C;\n",
              "      box-shadow: 0px 1px 3px 1px rgba(0, 0, 0, 0.15);\n",
              "      filter: drop-shadow(0px 1px 2px rgba(0, 0, 0, 0.3));\n",
              "      fill: #FFFFFF;\n",
              "    }\n",
              "  </style>\n",
              "\n",
              "      <script>\n",
              "        const buttonEl =\n",
              "          document.querySelector('#df-7a352e5d-f4fc-4d30-b802-2f41e1c2d14b button.colab-df-convert');\n",
              "        buttonEl.style.display =\n",
              "          google.colab.kernel.accessAllowed ? 'block' : 'none';\n",
              "\n",
              "        async function convertToInteractive(key) {\n",
              "          const element = document.querySelector('#df-7a352e5d-f4fc-4d30-b802-2f41e1c2d14b');\n",
              "          const dataTable =\n",
              "            await google.colab.kernel.invokeFunction('convertToInteractive',\n",
              "                                                     [key], {});\n",
              "          if (!dataTable) return;\n",
              "\n",
              "          const docLinkHtml = 'Like what you see? Visit the ' +\n",
              "            '<a target=\"_blank\" href=https://colab.research.google.com/notebooks/data_table.ipynb>data table notebook</a>'\n",
              "            + ' to learn more about interactive tables.';\n",
              "          element.innerHTML = '';\n",
              "          dataTable['output_type'] = 'display_data';\n",
              "          await google.colab.output.renderOutput(dataTable, element);\n",
              "          const docLink = document.createElement('div');\n",
              "          docLink.innerHTML = docLinkHtml;\n",
              "          element.appendChild(docLink);\n",
              "        }\n",
              "      </script>\n",
              "    </div>\n",
              "  </div>\n",
              "  "
            ]
          },
          "metadata": {},
          "execution_count": 6
        }
      ],
      "source": [
        "df_validation.head()"
      ]
    },
    {
      "cell_type": "markdown",
      "metadata": {
        "id": "FDUw5d7gcBNv"
      },
      "source": [
        "## Comprobación de los datos"
      ]
    },
    {
      "cell_type": "markdown",
      "metadata": {
        "id": "OmhmLhb3cfqn"
      },
      "source": [
        "Vamos a comprobar que las imágenes que se encuentran en cada directorio, es decir, en train, validation, y test, también están en los dataframes correspondientes.\n",
        "\n",
        "Se hace esta comprobación básicamente para saber si se han subido de forma correcta las imágenes."
      ]
    },
    {
      "cell_type": "code",
      "execution_count": null,
      "metadata": {
        "id": "_6mF_InwcD2F"
      },
      "outputs": [],
      "source": [
        "def check_images(dir, df):\n",
        "  files = os.listdir(dir)\n",
        "  num_elements = len(df)\n",
        "  num_images = len(files)\n",
        "\n",
        "  # Recorremos el dataframe correspondiente y comprobamos si están las imágenes\n",
        "  for patientId in df[\"PatientId\"]:\n",
        "    if not patientId + \".png\" in files:\n",
        "      return False\n",
        "\n",
        "  # Comprobamoos que hay el mismo número de registros que de imágenes\n",
        "  if num_elements != num_images:\n",
        "    return False\n",
        "\n",
        "  return True"
      ]
    },
    {
      "cell_type": "code",
      "execution_count": null,
      "metadata": {
        "colab": {
          "base_uri": "https://localhost:8080/"
        },
        "id": "5FUCNknOe5J9",
        "outputId": "58112983-33af-4bdb-f2c3-35b3b5a2b2da"
      },
      "outputs": [
        {
          "output_type": "stream",
          "name": "stdout",
          "text": [
            "Train: True\n",
            "Test: True\n",
            "Validation: True\n"
          ]
        }
      ],
      "source": [
        "print(\"Train: \" + str(check_images(\"/content/drive/MyDrive/TFM/data/EfficientNetB4/train_images\", df_train)))\n",
        "print(\"Test: \" + str(check_images(\"/content/drive/MyDrive/TFM/data/EfficientNetB4/test_images\", df_test)))\n",
        "print(\"Validation: \" + str(check_images(\"/content/drive/MyDrive/TFM/data/EfficientNetB4/validation_images\", df_validation)))"
      ]
    },
    {
      "cell_type": "markdown",
      "source": [
        "# Carga de las imágenes preprocesadas"
      ],
      "metadata": {
        "id": "YcG77svo2qOb"
      }
    },
    {
      "cell_type": "markdown",
      "source": [
        "En este punto vamos a cargar todas las imágenes que tenemos en un diccionario, es decir, tanto las imágenes de train, como de test y validation.\n",
        "\n",
        "Este diccionario está formado por un par clave-valor, donde la clave va a ser el `PatientId` (el nombre de la imágenes sin el \".png\"), y el valor va a ser la imágenes preprocesada en formato 380x380 (neceario para hacer uso de EfficientNetB4).\n",
        "\n",
        "Se ha hecho uso de esta carga en un diccionario para reducir los tiempos de ejecución en el entrenamiento de la red, ya que anteriormente el Data Generator tardaba demasiado por dos motivos:\n",
        "* Al abrir la imagen en cada época.\n",
        "* Al redimensionar la imagen del formato original 1024x1024 a 380x380."
      ],
      "metadata": {
        "id": "A91ooyaC27_i"
      }
    },
    {
      "cell_type": "code",
      "source": [
        "# EXTRA\n",
        "TRAIN_FOLDER = \"/content/drive/MyDrive/TFM/data/EfficientNetB4/train_images\"\n",
        "TEST_FOLDER = \"/content/drive/MyDrive/TFM/data/EfficientNetB4/test_images\"\n",
        "VALID_FOLDER = \"/content/drive/MyDrive/TFM/data/EfficientNetB4/validation_images\"\n",
        "\n",
        "MODEL_NAME = \"model1/\""
      ],
      "metadata": {
        "id": "RSd1P3fM4dR0"
      },
      "execution_count": null,
      "outputs": []
    },
    {
      "cell_type": "code",
      "source": [
        "def get_dic_images(dir, dic_images):\n",
        "  files = os.listdir(dir)\n",
        "  dic = dic_images.copy()\n",
        "\n",
        "  for filename in files:\n",
        "    patientId = filename.split(\".\")[0]\n",
        "    image = np.array(Image.open(os.path.join(dir, filename)))\n",
        "    dic[patientId] = image\n",
        "  \n",
        "  return dic"
      ],
      "metadata": {
        "id": "aa-fbtfg4yGD"
      },
      "execution_count": null,
      "outputs": []
    },
    {
      "cell_type": "code",
      "source": [
        "dic_images = {}\n",
        "dic_images = get_dic_images(TRAIN_FOLDER, dic_images)\n",
        "dic_images = get_dic_images(TEST_FOLDER, dic_images)\n",
        "dic_images = get_dic_images(VALID_FOLDER, dic_images)"
      ],
      "metadata": {
        "id": "DS9lOPnr3yZz"
      },
      "execution_count": null,
      "outputs": []
    },
    {
      "cell_type": "code",
      "source": [
        "# Volcamos los datos a un fichero\n",
        "pickle.dump(dic_images, open(os.path.join(\"/content/drive/MyDrive/TFM/data/EfficientNetB4\", \"dic_images.pickle\"), 'wb'))"
      ],
      "metadata": {
        "id": "9_K0LYti7mcW"
      },
      "execution_count": null,
      "outputs": []
    },
    {
      "cell_type": "markdown",
      "source": [
        "Para no tener que cargar todo el rato el diccionario, ya que esto es muy costoso (estar abriendo cada imagen), hemos el diccionario a un fichero pickle.\n",
        "\n",
        "De esta forma, conseguimos reducir el tiempo de carga de las imágenes. Finalmente, definimos la carga en el caso de ser necesaria: "
      ],
      "metadata": {
        "id": "U4RBHRoe66Go"
      }
    },
    {
      "cell_type": "code",
      "source": [
        "# Hacemos la lectura de los datos\n",
        "dic_images = pickle.load(open(os.path.join(\"/content/drive/MyDrive/TFM/data/EfficientNetB4\", \"dic_images.pickle\"), \"rb\"))\n",
        "\n",
        "# Comprobamos que se ha hecho la lectura de forma correcta\n",
        "print(\"El número total de imágenes es: \" + str(len(dic_images)))\n",
        "print(\"El número total de imágenes esperadas es: \" + str(len(df_train) + len(df_test) + len(df_validation)))"
      ],
      "metadata": {
        "colab": {
          "base_uri": "https://localhost:8080/"
        },
        "id": "jCs-6SM79lFF",
        "outputId": "862a761e-ed1b-4ad4-a7e8-a981f3e02760"
      },
      "execution_count": null,
      "outputs": [
        {
          "output_type": "stream",
          "name": "stdout",
          "text": [
            "El número total de imágenes es: 38072\n",
            "El número total de imágenes esperadas es: 38072\n"
          ]
        }
      ]
    },
    {
      "cell_type": "markdown",
      "metadata": {
        "id": "R6CWyq-mWyZB"
      },
      "source": [
        "# Data Generator"
      ]
    },
    {
      "cell_type": "markdown",
      "metadata": {
        "id": "2ctkEPEAW9kz"
      },
      "source": [
        "En este punto vamos a resolver la problemática de la carga de los datos en memoria. El dataset de entrenamiento presenta 32072 imágenes con resolución 380x380, lo cual hace que haya un elevado consumo de memoria, hasta tal punto que puede que Google Colab no sea capaz de soportar.\n",
        "\n",
        "Para solventar este problema creamos un data generator, el cual se encarga de cargar en memoria pequeños grupos de imágenes según se vayan utilizando, es decir, dependiendo del tamaño del batch.\n",
        "\n",
        "La salida que proporciona el data generator es un cojunto de imágenes junto con la variable objetivo.\n",
        "\n",
        "Cabe destacar que al usar EfficientNet la imagen de entrada a la red tiene que tener valores entre 0 y 255, es por ello que no se normalizan los datos porque EfficientNet ya tiene sus layers para hacerlo.\n"
      ]
    },
    {
      "cell_type": "code",
      "execution_count": null,
      "metadata": {
        "id": "D-fBVVqdX-KG"
      },
      "outputs": [],
      "source": [
        "# https://stanford.edu/~shervine/blog/keras-how-to-generate-data-on-the-fly\n",
        "\n",
        "class DataGenerator(keras.utils.Sequence):\n",
        "\n",
        "  # Constructor\n",
        "  def __init__(self, folder, dataset, dic_images, batch_size=32, image_size=256, shuffle=True, predict=False):\n",
        "    self.folder = folder\n",
        "    self.filenames = os.listdir(folder)\n",
        "    self.dataset = dataset\n",
        "    self.dic_images = dic_images.copy()\n",
        "    self.batch_size = batch_size\n",
        "    self.image_size = image_size\n",
        "    self.shuffle = shuffle\n",
        "    self.predict = predict\n",
        "    self.on_epoch_end()\n",
        "    \n",
        "\n",
        "  # Carga y Transformación de la imágenes para training\n",
        "  # filename: es el nombre del archivo de la imagen, es decir, con png\n",
        "  def __train__(self, filename):\n",
        "    filename = filename.split(\".\")[0]\n",
        "\n",
        "    # Cargamos la imagen original\n",
        "    img = self.dic_images[filename]\n",
        "\n",
        "    # Cargamos la variable objetivo\n",
        "    target = self.dataset[self.dataset[\"PatientId\"] == filename][\"Target\"].item()\n",
        "\n",
        "    # Reducción de la escala de la imagen\n",
        "    if (self.image_size, self.image_size) != (IMG_SIZE, IMG_SIZE): \n",
        "      img = resize(img, (self.image_size, self.image_size), mode=\"reflect\") * 255\n",
        "      img = img.astype(np.uint8)\n",
        "\n",
        "    # Normalizamos\n",
        "    # img_min = img.min()\n",
        "    # img_max = img.max()\n",
        "    # img_norm = (img - img_min) / (img_max - img_min)\n",
        "\n",
        "    # Expandimos las dimensiones (self.image_size, self.image_size, 1)\n",
        "    # img_norm = np.expand_dims(img_norm, -1)\n",
        "    img = np.expand_dims(img, -1)\n",
        "\n",
        "    return img, target\n",
        "\n",
        "\n",
        "  # Carga y transformación de las imágenes para testing\n",
        "  def __test__(self, filename):\n",
        "    filename = filename.split(\".\")[0]\n",
        "\n",
        "    # Cargamos la imagen original\n",
        "    img = self.dic_images[filename]\n",
        "\n",
        "    # Reducción de la escala de la imagen\n",
        "    if (self.image_size, self.image_size) != (IMG_SIZE, IMG_SIZE): \n",
        "      img = resize(img, (self.image_size, self.image_size), mode=\"reflect\") * 255\n",
        "      img = img.astype(np.uint8)\n",
        "\n",
        "    # Normalizamos\n",
        "    # img_min = img.min()\n",
        "    # img_max = img.max()\n",
        "    # img_norm = (img - img_min) / (img_max - img_min)\n",
        "\n",
        "    # Expandimos las dimensiones (self.image_size, self.image_size, 1)\n",
        "    # img_norm = np.expand_dims(img_norm, -1)\n",
        "    img = np.expand_dims(img, -1)\n",
        "\n",
        "    return img\n",
        "\n",
        "  \n",
        "  # Método encargado de generar el batch\n",
        "  def __getitem__(self, index):\n",
        "    # Generación de los nombres de archivos pertenecientes al batch\n",
        "    filenames_batch = self.filenames[index*self.batch_size:(index+1)*self.batch_size]\n",
        "\n",
        "    if self.predict:\n",
        "      # Modo testing\n",
        "      imgs = [self.__test__(filename) for filename in filenames_batch]\n",
        "      imgs = np.array(imgs)\n",
        "      return imgs, filenames_batch\n",
        "\n",
        "    else:\n",
        "      # Modo training\n",
        "      items = [self.__train__(filename) for filename in filenames_batch]\n",
        "      imgs, targets = zip(*items)\n",
        "      imgs = np.array(imgs)\n",
        "      targets = np.expand_dims(np.array(targets), -1)\n",
        "      return imgs, targets\n",
        "\n",
        "  # Método encargado de mezclar nos nombres de archivos, para así dotar de una mayor aleatoriedad\n",
        "  def on_epoch_end(self):\n",
        "    if self.shuffle:\n",
        "      random.shuffle(self.filenames)\n",
        "\n",
        "  # Método para controlar el tamaño del \n",
        "  def __len__(self):\n",
        "    return int(len(self.filenames) / self.batch_size)"
      ]
    },
    {
      "cell_type": "markdown",
      "metadata": {
        "id": "zcXOLL4F2g6S"
      },
      "source": [
        "# Red Neuronal Convolucional"
      ]
    },
    {
      "cell_type": "markdown",
      "metadata": {
        "id": "jtELF9Ux2njD"
      },
      "source": [
        "El siguiente paso es crear la red neuronal convolucional, para ello vamos a hacer uso de `EfficientNet`, en nuestro caso usaremos `EfficientNetB4`.\n",
        "\n",
        "Al usar `EfficientNetB4` estamos \"limitados\" a que la resolución de las imágenes sea de 380x380, en vez de 1024x1024 que era el tamaño original.\n",
        "\n",
        "Otro punto a destacar es que la imagen que introduzcamos al modelo no hace falta normalizarla, ya que se encarga `EfficientNetB4` de hacerlo."
      ]
    },
    {
      "cell_type": "markdown",
      "metadata": {
        "id": "sWbjvtWrB7E9"
      },
      "source": [
        "## Hiperparámetros"
      ]
    },
    {
      "cell_type": "code",
      "execution_count": null,
      "metadata": {
        "id": "6W1G9uBn6Ect"
      },
      "outputs": [],
      "source": [
        "# Data generator\n",
        "IMG_SIZE = 380\n",
        "BATCH_SIZE = 32\n",
        "\n",
        "# CNN\n",
        "NUM_CLASSES = 2\n",
        "LEARNING_RATE = 1e-3\n",
        "EPOCHS = 30 # 30"
      ]
    },
    {
      "cell_type": "markdown",
      "metadata": {
        "id": "EJmlsna9B-W9"
      },
      "source": [
        "## Data augmentation"
      ]
    },
    {
      "cell_type": "markdown",
      "metadata": {
        "id": "BuSOk5ZP6kA3"
      },
      "source": [
        "El siguiente punto es definir el data augmentation, para así mejorar la variabilidad del entrenamiento y por lo tanto la precisión de la red neuronal."
      ]
    },
    {
      "cell_type": "code",
      "execution_count": null,
      "metadata": {
        "id": "QhZ7IzBQ6sAm"
      },
      "outputs": [],
      "source": [
        "img_augmentation = Sequential(\n",
        "    [\n",
        "     layers.RandomRotation(factor=0.05),\n",
        "     layers.RandomTranslation(height_factor=0.05, width_factor=0.02),\n",
        "     layers.RandomFlip(\"horizontal\"),\n",
        "     layers.RandomContrast(factor=0.05),\n",
        "    ],\n",
        "    name = \"img_augmentation\"\n",
        ")"
      ]
    },
    {
      "cell_type": "markdown",
      "metadata": {
        "id": "UZGKIRNGCBF_"
      },
      "source": [
        "## CNN y transfer learning"
      ]
    },
    {
      "cell_type": "markdown",
      "metadata": {
        "id": "YtHJInQoCHcZ"
      },
      "source": [
        "El siguiente paso es crear la red neuronal convolucional y aplicar transefer learning.\n",
        "\n",
        "El transfer learning lo que significa es que vamos a tener dos modelos, un modelo base con pesos ya pre-entrenados con otro tipo de problemas, y un modelo nuevo basado en el modelo base.\n",
        "\n",
        "De forma resumida lo que se va a hacer es lo siguiente:\n",
        "* 1º: vamos a inicializar el modelo base con pesos ya pre-entrenados.\n",
        "* 2º: se van a congelar todos los layers del modelo base con `trainable = False`.\n",
        "* 3º: Creamos un nuevo modelo después de la salida del modelo base.\n",
        "* 4º: Entrenamos el nuevo modeloo con el dataset."
      ]
    },
    {
      "cell_type": "code",
      "execution_count": null,
      "metadata": {
        "id": "rUNW70exDDQE"
      },
      "outputs": [],
      "source": [
        "# Método que se encarga de generar el modelo\n",
        "# https://keras.io/examples/vision/image_classification_efficientnet_fine_tuning/#transfer-learning-from-pretrained-weights\n",
        "# https://stackoverflow.com/questions/51995977/how-can-i-use-a-pre-trained-neural-network-with-grayscale-images\n",
        "def build_model():\n",
        "  inputs = layers.Input(shape=(IMG_SIZE, IMG_SIZE, 1))\n",
        "  x = img_augmentation(inputs)\n",
        "  x = layers.Concatenate()([x, x, x])  \n",
        "  model = EfficientNetB4(include_top=False, input_tensor=x, weights=\"imagenet\")\n",
        "\n",
        "  # Freeze the pretrained weights\n",
        "  model.trainable = False\n",
        "\n",
        "  # Rebuild top\n",
        "  x = layers.GlobalAveragePooling2D(name=\"avg_pool\")(model.output)\n",
        "  x = layers.BatchNormalization()(x)\n",
        "\n",
        "  top_dropout_rate = 0.2\n",
        "  x = layers.Dropout(top_dropout_rate, name=\"top_dropout\")(x)\n",
        "  # outputs = layers.Dense(NUM_CLASSES, activation=\"softmax\", name=\"pred\")(x)\n",
        "  outputs = layers.Dense(1, activation=\"sigmoid\", name=\"pred\")(x)\n",
        "\n",
        "  # Compile\n",
        "  model = keras.Model(inputs, outputs, name=\"EfficientNet\")\n",
        "  optimizer = Adam(learning_rate=LEARNING_RATE)\n",
        "  model.compile(\n",
        "      optimizer=optimizer, loss=\"binary_crossentropy\", metrics=[\"accuracy\"]\n",
        "  )\n",
        "  return model"
      ]
    },
    {
      "cell_type": "markdown",
      "metadata": {
        "id": "pvOTVwl8Hlmw"
      },
      "source": [
        "## Training"
      ]
    },
    {
      "cell_type": "code",
      "execution_count": null,
      "metadata": {
        "id": "eSYXWw79HqTY"
      },
      "outputs": [],
      "source": [
        "# Obtenemos los generadores para training y validaton\n",
        "train_gen = DataGenerator(folder=TRAIN_FOLDER, dataset=df_train, dic_images=dic_images, batch_size=BATCH_SIZE, image_size=IMG_SIZE, shuffle=True, predict=False)\n",
        "valid_gen = DataGenerator(folder=VALID_FOLDER, dataset=df_validation, dic_images=dic_images, batch_size=BATCH_SIZE, image_size=IMG_SIZE, shuffle=False, predict=False)"
      ]
    },
    {
      "cell_type": "code",
      "execution_count": null,
      "metadata": {
        "colab": {
          "base_uri": "https://localhost:8080/"
        },
        "id": "bVCT36HATAHP",
        "outputId": "942cd1bc-8a5c-4a73-a465-775b55995e29"
      },
      "outputs": [
        {
          "output_type": "stream",
          "name": "stdout",
          "text": [
            "Downloading data from https://storage.googleapis.com/keras-applications/efficientnetb0_notop.h5\n",
            "16711680/16705208 [==============================] - 1s 0us/step\n",
            "16719872/16705208 [==============================] - 1s 0us/step\n"
          ]
        }
      ],
      "source": [
        "# Construimos el modelo (tanto el modelo base como el nuestro)\n",
        "model = build_model()"
      ]
    },
    {
      "cell_type": "code",
      "execution_count": null,
      "metadata": {
        "colab": {
          "base_uri": "https://localhost:8080/"
        },
        "id": "38eKXD28TDLl",
        "outputId": "052e70f9-0948-46e2-caa2-028265a922ae"
      },
      "outputs": [
        {
          "output_type": "stream",
          "name": "stdout",
          "text": [
            "Epoch 1/30\n",
            "1002/1002 [==============================] - 128s 110ms/step - loss: 0.4947 - accuracy: 0.7701 - val_loss: 0.4900 - val_accuracy: 0.7860\n",
            "Epoch 2/30\n",
            "1002/1002 [==============================] - 109s 108ms/step - loss: 0.4557 - accuracy: 0.7887 - val_loss: 0.4998 - val_accuracy: 0.7863\n",
            "Epoch 3/30\n",
            "1002/1002 [==============================] - 108s 108ms/step - loss: 0.4486 - accuracy: 0.7942 - val_loss: 0.4746 - val_accuracy: 0.7974\n",
            "Epoch 4/30\n",
            "1002/1002 [==============================] - 108s 108ms/step - loss: 0.4457 - accuracy: 0.7963 - val_loss: 0.4828 - val_accuracy: 0.7940\n",
            "Epoch 5/30\n",
            "1002/1002 [==============================] - 108s 108ms/step - loss: 0.4478 - accuracy: 0.7924 - val_loss: 0.5066 - val_accuracy: 0.7907\n",
            "Epoch 6/30\n",
            "1002/1002 [==============================] - 108s 108ms/step - loss: 0.4434 - accuracy: 0.7966 - val_loss: 0.4885 - val_accuracy: 0.7917\n",
            "Epoch 7/30\n",
            "1002/1002 [==============================] - 108s 108ms/step - loss: 0.4431 - accuracy: 0.7948 - val_loss: 0.4773 - val_accuracy: 0.7974\n",
            "Epoch 8/30\n",
            "1002/1002 [==============================] - 107s 107ms/step - loss: 0.4437 - accuracy: 0.7984 - val_loss: 0.4755 - val_accuracy: 0.8024\n",
            "Epoch 9/30\n",
            "1002/1002 [==============================] - 108s 108ms/step - loss: 0.4430 - accuracy: 0.7963 - val_loss: 0.4786 - val_accuracy: 0.7940\n",
            "Epoch 10/30\n",
            "1002/1002 [==============================] - 108s 108ms/step - loss: 0.4412 - accuracy: 0.7972 - val_loss: 0.4676 - val_accuracy: 0.7981\n",
            "Epoch 11/30\n",
            "1002/1002 [==============================] - 108s 108ms/step - loss: 0.4468 - accuracy: 0.7943 - val_loss: 0.4733 - val_accuracy: 0.7900\n",
            "Epoch 12/30\n",
            "1002/1002 [==============================] - 108s 108ms/step - loss: 0.4406 - accuracy: 0.7949 - val_loss: 0.4836 - val_accuracy: 0.7863\n",
            "Epoch 13/30\n",
            "1002/1002 [==============================] - 108s 108ms/step - loss: 0.4387 - accuracy: 0.7973 - val_loss: 0.4726 - val_accuracy: 0.7947\n",
            "Epoch 14/30\n",
            "1002/1002 [==============================] - 112s 112ms/step - loss: 0.4436 - accuracy: 0.7953 - val_loss: 0.4787 - val_accuracy: 0.7890\n",
            "Epoch 15/30\n",
            "1002/1002 [==============================] - 114s 114ms/step - loss: 0.4431 - accuracy: 0.7954 - val_loss: 0.4923 - val_accuracy: 0.7897\n",
            "Epoch 16/30\n",
            "1002/1002 [==============================] - 109s 108ms/step - loss: 0.4450 - accuracy: 0.7932 - val_loss: 0.4716 - val_accuracy: 0.7930\n",
            "Epoch 17/30\n",
            "1002/1002 [==============================] - 109s 108ms/step - loss: 0.4393 - accuracy: 0.7987 - val_loss: 0.4669 - val_accuracy: 0.7991\n",
            "Epoch 18/30\n",
            "1002/1002 [==============================] - 111s 111ms/step - loss: 0.4380 - accuracy: 0.7973 - val_loss: 0.4605 - val_accuracy: 0.7947\n",
            "Epoch 19/30\n",
            "1002/1002 [==============================] - 108s 108ms/step - loss: 0.4392 - accuracy: 0.7976 - val_loss: 0.4866 - val_accuracy: 0.7957\n",
            "Epoch 20/30\n",
            "1002/1002 [==============================] - 108s 108ms/step - loss: 0.4417 - accuracy: 0.7966 - val_loss: 0.4630 - val_accuracy: 0.7900\n",
            "Epoch 21/30\n",
            "1002/1002 [==============================] - 109s 108ms/step - loss: 0.4387 - accuracy: 0.7960 - val_loss: 0.4812 - val_accuracy: 0.7923\n",
            "Epoch 22/30\n",
            "1002/1002 [==============================] - 109s 108ms/step - loss: 0.4387 - accuracy: 0.7987 - val_loss: 0.4685 - val_accuracy: 0.7977\n",
            "Epoch 23/30\n",
            "1002/1002 [==============================] - 108s 108ms/step - loss: 0.4371 - accuracy: 0.8004 - val_loss: 0.4757 - val_accuracy: 0.7927\n",
            "Epoch 24/30\n",
            "1002/1002 [==============================] - 108s 108ms/step - loss: 0.4366 - accuracy: 0.7987 - val_loss: 0.4969 - val_accuracy: 0.7856\n",
            "Epoch 25/30\n",
            "1002/1002 [==============================] - 109s 108ms/step - loss: 0.4377 - accuracy: 0.7992 - val_loss: 0.4648 - val_accuracy: 0.7970\n",
            "Epoch 26/30\n",
            "1002/1002 [==============================] - 108s 108ms/step - loss: 0.4384 - accuracy: 0.8001 - val_loss: 0.4623 - val_accuracy: 0.8011\n",
            "Epoch 27/30\n",
            "1002/1002 [==============================] - 109s 108ms/step - loss: 0.4359 - accuracy: 0.8004 - val_loss: 0.4737 - val_accuracy: 0.7944\n",
            "Epoch 28/30\n",
            "1002/1002 [==============================] - 109s 108ms/step - loss: 0.4371 - accuracy: 0.7997 - val_loss: 0.4537 - val_accuracy: 0.7994\n",
            "Epoch 29/30\n",
            "1002/1002 [==============================] - 109s 108ms/step - loss: 0.4383 - accuracy: 0.7991 - val_loss: 0.4636 - val_accuracy: 0.8014\n",
            "Epoch 30/30\n",
            "1002/1002 [==============================] - 108s 107ms/step - loss: 0.4396 - accuracy: 0.7952 - val_loss: 0.4664 - val_accuracy: 0.7937\n"
          ]
        }
      ],
      "source": [
        "# Entrenamos la red\n",
        "history = model.fit(\n",
        "    train_gen,\n",
        "    validation_data=valid_gen,\n",
        "    epochs=EPOCHS,\n",
        ")"
      ]
    },
    {
      "cell_type": "markdown",
      "source": [
        "## Guardado del modelo"
      ],
      "metadata": {
        "id": "v5Y8H4veg1aH"
      }
    },
    {
      "cell_type": "markdown",
      "source": [
        "Antes de evaluar a nivel visual el modelo vamos a guardarlo:"
      ],
      "metadata": {
        "id": "9DjjGCJvg4nn"
      }
    },
    {
      "cell_type": "code",
      "source": [
        "# Guardamos el modelo\n",
        "model_save_path = \"/content/drive/MyDrive/TFM/models/EfficientNetB4/\" + MODEL_NAME + \"model_\" + \"EP\" + str(EPOCHS) + \"_\" + \"LR\" + str(LEARNING_RATE) + \"_\" + \"BS\" + str(BATCH_SIZE) + '.pickle'\n",
        "model.save(model_save_path)"
      ],
      "metadata": {
        "colab": {
          "base_uri": "https://localhost:8080/"
        },
        "id": "ag3W5YR3g9X2",
        "outputId": "304b64d4-c59b-4dcc-f237-f28fdd11fdf1"
      },
      "execution_count": null,
      "outputs": [
        {
          "output_type": "stream",
          "name": "stdout",
          "text": [
            "INFO:tensorflow:Assets written to: /content/drive/MyDrive/TFM/models/EfficientNetB0/model3/model_EP30_LR0.001_BS32.pickle/assets\n"
          ]
        }
      ]
    },
    {
      "cell_type": "code",
      "source": [
        "# Guardamos el history del modelo\n",
        "pickle.dump(history.history, open(os.path.join(\"/content/drive/MyDrive/TFM/models/EfficientNetB4/\" + MODEL_NAME, \"history.pickle\"), 'wb'))"
      ],
      "metadata": {
        "id": "nMpTX4NZjtUD"
      },
      "execution_count": null,
      "outputs": []
    },
    {
      "cell_type": "markdown",
      "source": [
        "## Visualización de la pérdida y de la precisión"
      ],
      "metadata": {
        "id": "46Df3-w5hVO5"
      }
    },
    {
      "cell_type": "code",
      "source": [
        "# Visualizamos la evolución de la accuracy\n",
        "def show_accuracy(history):\n",
        "  fig, axis = plt.subplots(figsize=(8,5))\n",
        "  plt.plot(history['accuracy'])\n",
        "  plt.plot(history['val_accuracy'])\n",
        "  plt.title('model accuracy')\n",
        "  plt.ylabel('accuracy')\n",
        "  plt.xlabel('epoch')\n",
        "  plt.legend(['train', 'validation'], loc='lower right')\n",
        "  plt.show()\n",
        "\n",
        "# Visualizamos la evolución del error cometido por la red\n",
        "def show_loss(history):\n",
        "  fig, axis = plt.subplots(figsize=(8,5))\n",
        "  plt.plot(history['loss'])\n",
        "  plt.plot(history['val_loss'])\n",
        "  plt.title('model loss')\n",
        "  plt.ylabel('loss')\n",
        "  plt.xlabel('epoch')\n",
        "  plt.legend(['train', 'validation'], loc='upper right')\n",
        "  plt.show()"
      ],
      "metadata": {
        "id": "6FRtOWjlhZCa"
      },
      "execution_count": null,
      "outputs": []
    },
    {
      "cell_type": "code",
      "source": [
        "show_accuracy(history.history)\n",
        "show_loss(history.history)"
      ],
      "metadata": {
        "colab": {
          "base_uri": "https://localhost:8080/",
          "height": 683
        },
        "id": "bXt2I_azlF40",
        "outputId": "1272e35e-46e1-41b5-e501-e51cf518b4d6"
      },
      "execution_count": null,
      "outputs": [
        {
          "output_type": "display_data",
          "data": {
            "text/plain": [
              "<Figure size 576x360 with 1 Axes>"
            ],
            "image/png": "[encoded data removed]"
          },
          "metadata": {
            "needs_background": "light"
          }
        },
        {
          "output_type": "display_data",
          "data": {
            "text/plain": [
              "<Figure size 576x360 with 1 Axes>"
            ],
            "image/png": "[encoded data removed]"
          },
          "metadata": {
            "needs_background": "light"
          }
        }
      ]
    },
    {
      "cell_type": "markdown",
      "source": [
        "# Fine-tuning"
      ],
      "metadata": {
        "id": "L_aSa1gElqJI"
      }
    },
    {
      "cell_type": "markdown",
      "source": [
        "Una vez tenemos el red neuronal entrenada procedemos a mejorar la precisión de la misma, para ello vas a realizar lo técnica que se conoce como \"fine-tuning\".\n",
        "\n",
        "El objetivo Fine-tuning es mejorar la precisión del modelo a partir de \"descongelar\" cierto número de layers del modelo base y usar un learning rate más pequeño."
      ],
      "metadata": {
        "id": "kCRp8GkBl4sP"
      }
    },
    {
      "cell_type": "markdown",
      "source": [
        "## Hiperparámetros"
      ],
      "metadata": {
        "id": "QmkozaELn3XV"
      }
    },
    {
      "cell_type": "code",
      "source": [
        "# CNN\n",
        "LEARNING_RATE_FT = 1e-5 # 1e-5\n",
        "EPOCHS_FT = 15 # 15"
      ],
      "metadata": {
        "id": "tfvZO_venOSP"
      },
      "execution_count": null,
      "outputs": []
    },
    {
      "cell_type": "markdown",
      "source": [
        "## CNN y Fine-tuning"
      ],
      "metadata": {
        "id": "jKr6Tyy8n9PQ"
      }
    },
    {
      "cell_type": "code",
      "source": [
        "def unfreeze_model(model):\n",
        "  for layer in model.layers[-20:]:\n",
        "      if not isinstance(layer, layers.BatchNormalization):\n",
        "          layer.trainable = True\n",
        "\n",
        "  optimizer = Adam(learning_rate=LEARNING_RATE_FT)\n",
        "  model.compile(\n",
        "      optimizer=optimizer, loss=\"binary_crossentropy\", metrics=[\"accuracy\"]\n",
        "  )"
      ],
      "metadata": {
        "id": "5Fs0vHuOm-cY"
      },
      "execution_count": null,
      "outputs": []
    },
    {
      "cell_type": "markdown",
      "source": [
        "## Training"
      ],
      "metadata": {
        "id": "ZUuqw3NJoEM7"
      }
    },
    {
      "cell_type": "code",
      "source": [
        "# Descongelamos layers del modelo base\n",
        "unfreeze_model(model)"
      ],
      "metadata": {
        "id": "Qz6iyAU7nquI"
      },
      "execution_count": null,
      "outputs": []
    },
    {
      "cell_type": "code",
      "source": [
        "# Entrenamos la red\n",
        "history_ft = model.fit(\n",
        "    train_gen,\n",
        "    validation_data=valid_gen,\n",
        "    epochs=EPOCHS_FT,\n",
        ")"
      ],
      "metadata": {
        "colab": {
          "base_uri": "https://localhost:8080/"
        },
        "id": "KDdVDvtQoakf",
        "outputId": "14fa95b9-4ff5-4e5a-c10e-e1acef3f7c3e"
      },
      "execution_count": null,
      "outputs": [
        {
          "output_type": "stream",
          "name": "stdout",
          "text": [
            "Epoch 1/15\n",
            "1002/1002 [==============================] - 121s 113ms/step - loss: 0.4241 - accuracy: 0.8049 - val_loss: 0.4824 - val_accuracy: 0.7957\n",
            "Epoch 2/15\n",
            "1002/1002 [==============================] - 110s 110ms/step - loss: 0.4125 - accuracy: 0.8132 - val_loss: 0.4901 - val_accuracy: 0.7991\n",
            "Epoch 3/15\n",
            "1002/1002 [==============================] - 110s 110ms/step - loss: 0.4050 - accuracy: 0.8152 - val_loss: 0.4909 - val_accuracy: 0.7991\n",
            "Epoch 4/15\n",
            "1002/1002 [==============================] - 110s 110ms/step - loss: 0.3972 - accuracy: 0.8216 - val_loss: 0.4864 - val_accuracy: 0.7984\n",
            "Epoch 5/15\n",
            "1002/1002 [==============================] - 119s 119ms/step - loss: 0.3899 - accuracy: 0.8255 - val_loss: 0.5018 - val_accuracy: 0.7964\n",
            "Epoch 6/15\n",
            "1002/1002 [==============================] - 124s 124ms/step - loss: 0.3878 - accuracy: 0.8252 - val_loss: 0.4838 - val_accuracy: 0.8041\n",
            "Epoch 7/15\n",
            "1002/1002 [==============================] - 114s 114ms/step - loss: 0.3770 - accuracy: 0.8302 - val_loss: 0.4899 - val_accuracy: 0.8034\n",
            "Epoch 8/15\n",
            "1002/1002 [==============================] - 112s 112ms/step - loss: 0.3791 - accuracy: 0.8299 - val_loss: 0.5072 - val_accuracy: 0.8007\n",
            "Epoch 9/15\n",
            "1002/1002 [==============================] - 111s 111ms/step - loss: 0.3724 - accuracy: 0.8339 - val_loss: 0.4815 - val_accuracy: 0.8024\n",
            "Epoch 10/15\n",
            "1002/1002 [==============================] - 111s 111ms/step - loss: 0.3679 - accuracy: 0.8316 - val_loss: 0.4938 - val_accuracy: 0.7987\n",
            "Epoch 11/15\n",
            "1002/1002 [==============================] - 111s 111ms/step - loss: 0.3657 - accuracy: 0.8372 - val_loss: 0.5044 - val_accuracy: 0.8007\n",
            "Epoch 12/15\n",
            "1002/1002 [==============================] - 111s 110ms/step - loss: 0.3631 - accuracy: 0.8382 - val_loss: 0.5013 - val_accuracy: 0.8004\n",
            "Epoch 13/15\n",
            "1002/1002 [==============================] - 111s 111ms/step - loss: 0.3605 - accuracy: 0.8392 - val_loss: 0.4929 - val_accuracy: 0.8044\n",
            "Epoch 14/15\n",
            "1002/1002 [==============================] - 111s 111ms/step - loss: 0.3559 - accuracy: 0.8376 - val_loss: 0.4754 - val_accuracy: 0.8058\n",
            "Epoch 15/15\n",
            "1002/1002 [==============================] - 111s 110ms/step - loss: 0.3523 - accuracy: 0.8411 - val_loss: 0.5208 - val_accuracy: 0.7970\n"
          ]
        }
      ]
    },
    {
      "cell_type": "markdown",
      "source": [
        "## Guardado del modelo"
      ],
      "metadata": {
        "id": "pal_6fgvsQ_O"
      }
    },
    {
      "cell_type": "code",
      "source": [
        "# Guardamos el modelo\n",
        "model_ft_save_path = \"/content/drive/MyDrive/TFM/models/EfficientNetB4/\" + MODEL_NAME + \"model_ft\" + \"EP\" + str(EPOCHS_FT) + \"_\" + \"LR\" + str(LEARNING_RATE_FT) + \"_\" + \"BS\" + str(BATCH_SIZE) + '.pickle'\n",
        "model.save(model_ft_save_path)"
      ],
      "metadata": {
        "colab": {
          "base_uri": "https://localhost:8080/"
        },
        "id": "Qx50aZyDseE_",
        "outputId": "178a8647-3554-4adb-9365-8b6a3f40d438"
      },
      "execution_count": null,
      "outputs": [
        {
          "output_type": "stream",
          "name": "stdout",
          "text": [
            "INFO:tensorflow:Assets written to: /content/drive/MyDrive/TFM/models/EfficientNetB0/model3/model_ftEP15_LR1e-05_BS32.pickle/assets\n"
          ]
        }
      ]
    },
    {
      "cell_type": "code",
      "source": [
        "# Guardamos el history del modelo\n",
        "pickle.dump(history_ft.history, open(os.path.join(\"/content/drive/MyDrive/TFM/models/EfficientNetB4/\" + MODEL_NAME, \"history_ft.pickle\"), 'wb'))"
      ],
      "metadata": {
        "id": "_t74mC7JsrwH"
      },
      "execution_count": null,
      "outputs": []
    },
    {
      "cell_type": "markdown",
      "source": [
        "## Visualización de la pérdida y de la precisión"
      ],
      "metadata": {
        "id": "I87eAVTKsTOA"
      }
    },
    {
      "cell_type": "code",
      "source": [
        "show_accuracy(history_ft.history)\n",
        "show_loss(history_ft.history)"
      ],
      "metadata": {
        "colab": {
          "base_uri": "https://localhost:8080/",
          "height": 683
        },
        "id": "R5wLL9-es0KU",
        "outputId": "054152aa-12a4-4772-9d3d-d005b57d04ff"
      },
      "execution_count": null,
      "outputs": [
        {
          "output_type": "display_data",
          "data": {
            "text/plain": [
              "<Figure size 576x360 with 1 Axes>"
            ],
            "image/png": "[encoded data removed]"
          },
          "metadata": {
            "needs_background": "light"
          }
        },
        {
          "output_type": "display_data",
          "data": {
            "text/plain": [
              "<Figure size 576x360 with 1 Axes>"
            ],
            "image/png": "[encoded data removed]"
          },
          "metadata": {
            "needs_background": "light"
          }
        }
      ]
    },
    {
      "cell_type": "markdown",
      "source": [
        "# Evaluación del modelo"
      ],
      "metadata": {
        "id": "iFdE-vSwsDo8"
      }
    },
    {
      "cell_type": "markdown",
      "source": [
        "Evaluación del modelo a partir de la matriz de confusión y del informe de clasificación:"
      ],
      "metadata": {
        "id": "lJLFPUwZsMve"
      }
    },
    {
      "cell_type": "code",
      "source": [
        "# Obtenermos el generador para test\n",
        "test_gen = DataGenerator(folder=TEST_FOLDER, dataset=df_test, dic_images=dic_images, batch_size=BATCH_SIZE, image_size=IMG_SIZE, shuffle=False, predict=True)"
      ],
      "metadata": {
        "id": "eUtZ41O63AXh"
      },
      "execution_count": null,
      "outputs": []
    },
    {
      "cell_type": "code",
      "source": [
        "# Calculamos las predicciones para cada batch\n",
        "y_test = []\n",
        "y_preds = []\n",
        "\n",
        "for images, filenames in test_gen:\n",
        "  y_preds_batch = model.predict(images)\n",
        "\n",
        "  for y_pred, filename in zip(y_preds_batch, filenames):\n",
        "    y_test.append(df_test[df_test[\"PatientId\"] == filename.split(\".\")[0]][\"Target\"].item())\n",
        "    if y_pred < 0.5:\n",
        "      y_preds.append(0)\n",
        "    else:\n",
        "      y_preds.append(1)"
      ],
      "metadata": {
        "id": "A148EiyU3moi"
      },
      "execution_count": null,
      "outputs": []
    },
    {
      "cell_type": "code",
      "source": [
        "# Matriz de confusión\n",
        "matrix = confusion_matrix(y_test, y_preds)\n",
        "\n",
        "# Visualización de la matriz de confusión\n",
        "# https://stackoverflow.com/questions/19233771/sklearn-plot-confusion-matrix-with-labels\n",
        "fig, ax = plt.subplots(nrows=1, ncols=1, figsize=(12,12))\n",
        "sns.heatmap(matrix, annot=True, fmt='g', ax=ax)  #annot=True to annotate cells, ftm='g' to disable scientific notation\n",
        "ax.set_xlabel('Predicted labels');ax.set_ylabel('True labels')\n",
        "ax.set_title('Confusion Matrix');\n",
        "ax.xaxis.set_ticklabels(list(np.unique(y_preds)))\n",
        "ax.yaxis.set_ticklabels(list(np.unique(y_preds)))\n",
        "plt.show()\n",
        "\n",
        "#Accuracy\n",
        "accuracy = 0\n",
        "for i in range(matrix.shape[0]):\n",
        "  accuracy += matrix[i,i]\n",
        "accuracy = accuracy / sum(sum(matrix))\n",
        "print(\"\\n\\nLa precisión: \" + str(round(accuracy * 100, 2)) + \" %\")"
      ],
      "metadata": {
        "colab": {
          "base_uri": "https://localhost:8080/",
          "height": 782
        },
        "id": "gmUDXXjM2QuK",
        "outputId": "373a3f1d-9290-4820-8acc-bc2ae4e0e8ce"
      },
      "execution_count": null,
      "outputs": [
        {
          "output_type": "display_data",
          "data": {
            "text/plain": [
              "<Figure size 864x864 with 2 Axes>"
            ],
            "image/png": "[encoded data removed]"
          },
          "metadata": {
            "needs_background": "light"
          }
        },
        {
          "output_type": "stream",
          "name": "stdout",
          "text": [
            "\n",
            "\n",
            "La precisión: 80.81 %\n"
          ]
        }
      ]
    },
    {
      "cell_type": "code",
      "source": [
        "#Precision, Recall and F1-score\n",
        "print(classification_report(y_test, y_preds))"
      ],
      "metadata": {
        "colab": {
          "base_uri": "https://localhost:8080/"
        },
        "id": "zdYnkJA2-j-j",
        "outputId": "fd96dae2-c6f1-4e3b-9840-01a606b375d0"
      },
      "execution_count": null,
      "outputs": [
        {
          "output_type": "stream",
          "name": "stdout",
          "text": [
            "              precision    recall  f1-score   support\n",
            "\n",
            "           0       0.81      0.98      0.89      2324\n",
            "           1       0.73      0.20      0.31       652\n",
            "\n",
            "    accuracy                           0.81      2976\n",
            "   macro avg       0.77      0.59      0.60      2976\n",
            "weighted avg       0.80      0.81      0.76      2976\n",
            "\n"
          ]
        }
      ]
    },
    {
      "cell_type": "code",
      "source": [
        "model.summary()"
      ],
      "metadata": {
        "colab": {
          "base_uri": "https://localhost:8080/"
        },
        "id": "dZqUPuXI4-Cs",
        "outputId": "eb1a5876-ec9c-45ab-e742-4597f20b151f"
      },
      "execution_count": null,
      "outputs": [
        {
          "output_type": "stream",
          "name": "stdout",
          "text": [
            "Model: \"EfficientNet\"\n",
            "__________________________________________________________________________________________________\n",
            " Layer (type)                   Output Shape         Param #     Connected to                     \n",
            "==================================================================================================\n",
            " input_1 (InputLayer)           [(None, 224, 224, 1  0           []                               \n",
            "                                )]                                                                \n",
            "                                                                                                  \n",
            " img_augmentation (Sequential)  (None, 224, 224, 1)  0           ['input_1[0][0]']                \n",
            "                                                                                                  \n",
            " concatenate (Concatenate)      (None, 224, 224, 3)  0           ['img_augmentation[0][0]',       \n",
            "                                                                  'img_augmentation[0][0]',       \n",
            "                                                                  'img_augmentation[0][0]']       \n",
            "                                                                                                  \n",
            " rescaling (Rescaling)          (None, 224, 224, 3)  0           ['concatenate[0][0]']            \n",
            "                                                                                                  \n",
            " normalization (Normalization)  (None, 224, 224, 3)  7           ['rescaling[0][0]']              \n",
            "                                                                                                  \n",
            " stem_conv_pad (ZeroPadding2D)  (None, 225, 225, 3)  0           ['normalization[0][0]']          \n",
            "                                                                                                  \n",
            " stem_conv (Conv2D)             (None, 112, 112, 32  864         ['stem_conv_pad[0][0]']          \n",
            "                                )                                                                 \n",
            "                                                                                                  \n",
            " stem_bn (BatchNormalization)   (None, 112, 112, 32  128         ['stem_conv[0][0]']              \n",
            "                                )                                                                 \n",
            "                                                                                                  \n",
            " stem_activation (Activation)   (None, 112, 112, 32  0           ['stem_bn[0][0]']                \n",
            "                                )                                                                 \n",
            "                                                                                                  \n",
            " block1a_dwconv (DepthwiseConv2  (None, 112, 112, 32  288        ['stem_activation[0][0]']        \n",
            " D)                             )                                                                 \n",
            "                                                                                                  \n",
            " block1a_bn (BatchNormalization  (None, 112, 112, 32  128        ['block1a_dwconv[0][0]']         \n",
            " )                              )                                                                 \n",
            "                                                                                                  \n",
            " block1a_activation (Activation  (None, 112, 112, 32  0          ['block1a_bn[0][0]']             \n",
            " )                              )                                                                 \n",
            "                                                                                                  \n",
            " block1a_se_squeeze (GlobalAver  (None, 32)          0           ['block1a_activation[0][0]']     \n",
            " agePooling2D)                                                                                    \n",
            "                                                                                                  \n",
            " block1a_se_reshape (Reshape)   (None, 1, 1, 32)     0           ['block1a_se_squeeze[0][0]']     \n",
            "                                                                                                  \n",
            " block1a_se_reduce (Conv2D)     (None, 1, 1, 8)      264         ['block1a_se_reshape[0][0]']     \n",
            "                                                                                                  \n",
            " block1a_se_expand (Conv2D)     (None, 1, 1, 32)     288         ['block1a_se_reduce[0][0]']      \n",
            "                                                                                                  \n",
            " block1a_se_excite (Multiply)   (None, 112, 112, 32  0           ['block1a_activation[0][0]',     \n",
            "                                )                                 'block1a_se_expand[0][0]']      \n",
            "                                                                                                  \n",
            " block1a_project_conv (Conv2D)  (None, 112, 112, 16  512         ['block1a_se_excite[0][0]']      \n",
            "                                )                                                                 \n",
            "                                                                                                  \n",
            " block1a_project_bn (BatchNorma  (None, 112, 112, 16  64         ['block1a_project_conv[0][0]']   \n",
            " lization)                      )                                                                 \n",
            "                                                                                                  \n",
            " block2a_expand_conv (Conv2D)   (None, 112, 112, 96  1536        ['block1a_project_bn[0][0]']     \n",
            "                                )                                                                 \n",
            "                                                                                                  \n",
            " block2a_expand_bn (BatchNormal  (None, 112, 112, 96  384        ['block2a_expand_conv[0][0]']    \n",
            " ization)                       )                                                                 \n",
            "                                                                                                  \n",
            " block2a_expand_activation (Act  (None, 112, 112, 96  0          ['block2a_expand_bn[0][0]']      \n",
            " ivation)                       )                                                                 \n",
            "                                                                                                  \n",
            " block2a_dwconv_pad (ZeroPaddin  (None, 113, 113, 96  0          ['block2a_expand_activation[0][0]\n",
            " g2D)                           )                                ']                               \n",
            "                                                                                                  \n",
            " block2a_dwconv (DepthwiseConv2  (None, 56, 56, 96)  864         ['block2a_dwconv_pad[0][0]']     \n",
            " D)                                                                                               \n",
            "                                                                                                  \n",
            " block2a_bn (BatchNormalization  (None, 56, 56, 96)  384         ['block2a_dwconv[0][0]']         \n",
            " )                                                                                                \n",
            "                                                                                                  \n",
            " block2a_activation (Activation  (None, 56, 56, 96)  0           ['block2a_bn[0][0]']             \n",
            " )                                                                                                \n",
            "                                                                                                  \n",
            " block2a_se_squeeze (GlobalAver  (None, 96)          0           ['block2a_activation[0][0]']     \n",
            " agePooling2D)                                                                                    \n",
            "                                                                                                  \n",
            " block2a_se_reshape (Reshape)   (None, 1, 1, 96)     0           ['block2a_se_squeeze[0][0]']     \n",
            "                                                                                                  \n",
            " block2a_se_reduce (Conv2D)     (None, 1, 1, 4)      388         ['block2a_se_reshape[0][0]']     \n",
            "                                                                                                  \n",
            " block2a_se_expand (Conv2D)     (None, 1, 1, 96)     480         ['block2a_se_reduce[0][0]']      \n",
            "                                                                                                  \n",
            " block2a_se_excite (Multiply)   (None, 56, 56, 96)   0           ['block2a_activation[0][0]',     \n",
            "                                                                  'block2a_se_expand[0][0]']      \n",
            "                                                                                                  \n",
            " block2a_project_conv (Conv2D)  (None, 56, 56, 24)   2304        ['block2a_se_excite[0][0]']      \n",
            "                                                                                                  \n",
            " block2a_project_bn (BatchNorma  (None, 56, 56, 24)  96          ['block2a_project_conv[0][0]']   \n",
            " lization)                                                                                        \n",
            "                                                                                                  \n",
            " block2b_expand_conv (Conv2D)   (None, 56, 56, 144)  3456        ['block2a_project_bn[0][0]']     \n",
            "                                                                                                  \n",
            " block2b_expand_bn (BatchNormal  (None, 56, 56, 144)  576        ['block2b_expand_conv[0][0]']    \n",
            " ization)                                                                                         \n",
            "                                                                                                  \n",
            " block2b_expand_activation (Act  (None, 56, 56, 144)  0          ['block2b_expand_bn[0][0]']      \n",
            " ivation)                                                                                         \n",
            "                                                                                                  \n",
            " block2b_dwconv (DepthwiseConv2  (None, 56, 56, 144)  1296       ['block2b_expand_activation[0][0]\n",
            " D)                                                              ']                               \n",
            "                                                                                                  \n",
            " block2b_bn (BatchNormalization  (None, 56, 56, 144)  576        ['block2b_dwconv[0][0]']         \n",
            " )                                                                                                \n",
            "                                                                                                  \n",
            " block2b_activation (Activation  (None, 56, 56, 144)  0          ['block2b_bn[0][0]']             \n",
            " )                                                                                                \n",
            "                                                                                                  \n",
            " block2b_se_squeeze (GlobalAver  (None, 144)         0           ['block2b_activation[0][0]']     \n",
            " agePooling2D)                                                                                    \n",
            "                                                                                                  \n",
            " block2b_se_reshape (Reshape)   (None, 1, 1, 144)    0           ['block2b_se_squeeze[0][0]']     \n",
            "                                                                                                  \n",
            " block2b_se_reduce (Conv2D)     (None, 1, 1, 6)      870         ['block2b_se_reshape[0][0]']     \n",
            "                                                                                                  \n",
            " block2b_se_expand (Conv2D)     (None, 1, 1, 144)    1008        ['block2b_se_reduce[0][0]']      \n",
            "                                                                                                  \n",
            " block2b_se_excite (Multiply)   (None, 56, 56, 144)  0           ['block2b_activation[0][0]',     \n",
            "                                                                  'block2b_se_expand[0][0]']      \n",
            "                                                                                                  \n",
            " block2b_project_conv (Conv2D)  (None, 56, 56, 24)   3456        ['block2b_se_excite[0][0]']      \n",
            "                                                                                                  \n",
            " block2b_project_bn (BatchNorma  (None, 56, 56, 24)  96          ['block2b_project_conv[0][0]']   \n",
            " lization)                                                                                        \n",
            "                                                                                                  \n",
            " block2b_drop (Dropout)         (None, 56, 56, 24)   0           ['block2b_project_bn[0][0]']     \n",
            "                                                                                                  \n",
            " block2b_add (Add)              (None, 56, 56, 24)   0           ['block2b_drop[0][0]',           \n",
            "                                                                  'block2a_project_bn[0][0]']     \n",
            "                                                                                                  \n",
            " block3a_expand_conv (Conv2D)   (None, 56, 56, 144)  3456        ['block2b_add[0][0]']            \n",
            "                                                                                                  \n",
            " block3a_expand_bn (BatchNormal  (None, 56, 56, 144)  576        ['block3a_expand_conv[0][0]']    \n",
            " ization)                                                                                         \n",
            "                                                                                                  \n",
            " block3a_expand_activation (Act  (None, 56, 56, 144)  0          ['block3a_expand_bn[0][0]']      \n",
            " ivation)                                                                                         \n",
            "                                                                                                  \n",
            " block3a_dwconv_pad (ZeroPaddin  (None, 59, 59, 144)  0          ['block3a_expand_activation[0][0]\n",
            " g2D)                                                            ']                               \n",
            "                                                                                                  \n",
            " block3a_dwconv (DepthwiseConv2  (None, 28, 28, 144)  3600       ['block3a_dwconv_pad[0][0]']     \n",
            " D)                                                                                               \n",
            "                                                                                                  \n",
            " block3a_bn (BatchNormalization  (None, 28, 28, 144)  576        ['block3a_dwconv[0][0]']         \n",
            " )                                                                                                \n",
            "                                                                                                  \n",
            " block3a_activation (Activation  (None, 28, 28, 144)  0          ['block3a_bn[0][0]']             \n",
            " )                                                                                                \n",
            "                                                                                                  \n",
            " block3a_se_squeeze (GlobalAver  (None, 144)         0           ['block3a_activation[0][0]']     \n",
            " agePooling2D)                                                                                    \n",
            "                                                                                                  \n",
            " block3a_se_reshape (Reshape)   (None, 1, 1, 144)    0           ['block3a_se_squeeze[0][0]']     \n",
            "                                                                                                  \n",
            " block3a_se_reduce (Conv2D)     (None, 1, 1, 6)      870         ['block3a_se_reshape[0][0]']     \n",
            "                                                                                                  \n",
            " block3a_se_expand (Conv2D)     (None, 1, 1, 144)    1008        ['block3a_se_reduce[0][0]']      \n",
            "                                                                                                  \n",
            " block3a_se_excite (Multiply)   (None, 28, 28, 144)  0           ['block3a_activation[0][0]',     \n",
            "                                                                  'block3a_se_expand[0][0]']      \n",
            "                                                                                                  \n",
            " block3a_project_conv (Conv2D)  (None, 28, 28, 40)   5760        ['block3a_se_excite[0][0]']      \n",
            "                                                                                                  \n",
            " block3a_project_bn (BatchNorma  (None, 28, 28, 40)  160         ['block3a_project_conv[0][0]']   \n",
            " lization)                                                                                        \n",
            "                                                                                                  \n",
            " block3b_expand_conv (Conv2D)   (None, 28, 28, 240)  9600        ['block3a_project_bn[0][0]']     \n",
            "                                                                                                  \n",
            " block3b_expand_bn (BatchNormal  (None, 28, 28, 240)  960        ['block3b_expand_conv[0][0]']    \n",
            " ization)                                                                                         \n",
            "                                                                                                  \n",
            " block3b_expand_activation (Act  (None, 28, 28, 240)  0          ['block3b_expand_bn[0][0]']      \n",
            " ivation)                                                                                         \n",
            "                                                                                                  \n",
            " block3b_dwconv (DepthwiseConv2  (None, 28, 28, 240)  6000       ['block3b_expand_activation[0][0]\n",
            " D)                                                              ']                               \n",
            "                                                                                                  \n",
            " block3b_bn (BatchNormalization  (None, 28, 28, 240)  960        ['block3b_dwconv[0][0]']         \n",
            " )                                                                                                \n",
            "                                                                                                  \n",
            " block3b_activation (Activation  (None, 28, 28, 240)  0          ['block3b_bn[0][0]']             \n",
            " )                                                                                                \n",
            "                                                                                                  \n",
            " block3b_se_squeeze (GlobalAver  (None, 240)         0           ['block3b_activation[0][0]']     \n",
            " agePooling2D)                                                                                    \n",
            "                                                                                                  \n",
            " block3b_se_reshape (Reshape)   (None, 1, 1, 240)    0           ['block3b_se_squeeze[0][0]']     \n",
            "                                                                                                  \n",
            " block3b_se_reduce (Conv2D)     (None, 1, 1, 10)     2410        ['block3b_se_reshape[0][0]']     \n",
            "                                                                                                  \n",
            " block3b_se_expand (Conv2D)     (None, 1, 1, 240)    2640        ['block3b_se_reduce[0][0]']      \n",
            "                                                                                                  \n",
            " block3b_se_excite (Multiply)   (None, 28, 28, 240)  0           ['block3b_activation[0][0]',     \n",
            "                                                                  'block3b_se_expand[0][0]']      \n",
            "                                                                                                  \n",
            " block3b_project_conv (Conv2D)  (None, 28, 28, 40)   9600        ['block3b_se_excite[0][0]']      \n",
            "                                                                                                  \n",
            " block3b_project_bn (BatchNorma  (None, 28, 28, 40)  160         ['block3b_project_conv[0][0]']   \n",
            " lization)                                                                                        \n",
            "                                                                                                  \n",
            " block3b_drop (Dropout)         (None, 28, 28, 40)   0           ['block3b_project_bn[0][0]']     \n",
            "                                                                                                  \n",
            " block3b_add (Add)              (None, 28, 28, 40)   0           ['block3b_drop[0][0]',           \n",
            "                                                                  'block3a_project_bn[0][0]']     \n",
            "                                                                                                  \n",
            " block4a_expand_conv (Conv2D)   (None, 28, 28, 240)  9600        ['block3b_add[0][0]']            \n",
            "                                                                                                  \n",
            " block4a_expand_bn (BatchNormal  (None, 28, 28, 240)  960        ['block4a_expand_conv[0][0]']    \n",
            " ization)                                                                                         \n",
            "                                                                                                  \n",
            " block4a_expand_activation (Act  (None, 28, 28, 240)  0          ['block4a_expand_bn[0][0]']      \n",
            " ivation)                                                                                         \n",
            "                                                                                                  \n",
            " block4a_dwconv_pad (ZeroPaddin  (None, 29, 29, 240)  0          ['block4a_expand_activation[0][0]\n",
            " g2D)                                                            ']                               \n",
            "                                                                                                  \n",
            " block4a_dwconv (DepthwiseConv2  (None, 14, 14, 240)  2160       ['block4a_dwconv_pad[0][0]']     \n",
            " D)                                                                                               \n",
            "                                                                                                  \n",
            " block4a_bn (BatchNormalization  (None, 14, 14, 240)  960        ['block4a_dwconv[0][0]']         \n",
            " )                                                                                                \n",
            "                                                                                                  \n",
            " block4a_activation (Activation  (None, 14, 14, 240)  0          ['block4a_bn[0][0]']             \n",
            " )                                                                                                \n",
            "                                                                                                  \n",
            " block4a_se_squeeze (GlobalAver  (None, 240)         0           ['block4a_activation[0][0]']     \n",
            " agePooling2D)                                                                                    \n",
            "                                                                                                  \n",
            " block4a_se_reshape (Reshape)   (None, 1, 1, 240)    0           ['block4a_se_squeeze[0][0]']     \n",
            "                                                                                                  \n",
            " block4a_se_reduce (Conv2D)     (None, 1, 1, 10)     2410        ['block4a_se_reshape[0][0]']     \n",
            "                                                                                                  \n",
            " block4a_se_expand (Conv2D)     (None, 1, 1, 240)    2640        ['block4a_se_reduce[0][0]']      \n",
            "                                                                                                  \n",
            " block4a_se_excite (Multiply)   (None, 14, 14, 240)  0           ['block4a_activation[0][0]',     \n",
            "                                                                  'block4a_se_expand[0][0]']      \n",
            "                                                                                                  \n",
            " block4a_project_conv (Conv2D)  (None, 14, 14, 80)   19200       ['block4a_se_excite[0][0]']      \n",
            "                                                                                                  \n",
            " block4a_project_bn (BatchNorma  (None, 14, 14, 80)  320         ['block4a_project_conv[0][0]']   \n",
            " lization)                                                                                        \n",
            "                                                                                                  \n",
            " block4b_expand_conv (Conv2D)   (None, 14, 14, 480)  38400       ['block4a_project_bn[0][0]']     \n",
            "                                                                                                  \n",
            " block4b_expand_bn (BatchNormal  (None, 14, 14, 480)  1920       ['block4b_expand_conv[0][0]']    \n",
            " ization)                                                                                         \n",
            "                                                                                                  \n",
            " block4b_expand_activation (Act  (None, 14, 14, 480)  0          ['block4b_expand_bn[0][0]']      \n",
            " ivation)                                                                                         \n",
            "                                                                                                  \n",
            " block4b_dwconv (DepthwiseConv2  (None, 14, 14, 480)  4320       ['block4b_expand_activation[0][0]\n",
            " D)                                                              ']                               \n",
            "                                                                                                  \n",
            " block4b_bn (BatchNormalization  (None, 14, 14, 480)  1920       ['block4b_dwconv[0][0]']         \n",
            " )                                                                                                \n",
            "                                                                                                  \n",
            " block4b_activation (Activation  (None, 14, 14, 480)  0          ['block4b_bn[0][0]']             \n",
            " )                                                                                                \n",
            "                                                                                                  \n",
            " block4b_se_squeeze (GlobalAver  (None, 480)         0           ['block4b_activation[0][0]']     \n",
            " agePooling2D)                                                                                    \n",
            "                                                                                                  \n",
            " block4b_se_reshape (Reshape)   (None, 1, 1, 480)    0           ['block4b_se_squeeze[0][0]']     \n",
            "                                                                                                  \n",
            " block4b_se_reduce (Conv2D)     (None, 1, 1, 20)     9620        ['block4b_se_reshape[0][0]']     \n",
            "                                                                                                  \n",
            " block4b_se_expand (Conv2D)     (None, 1, 1, 480)    10080       ['block4b_se_reduce[0][0]']      \n",
            "                                                                                                  \n",
            " block4b_se_excite (Multiply)   (None, 14, 14, 480)  0           ['block4b_activation[0][0]',     \n",
            "                                                                  'block4b_se_expand[0][0]']      \n",
            "                                                                                                  \n",
            " block4b_project_conv (Conv2D)  (None, 14, 14, 80)   38400       ['block4b_se_excite[0][0]']      \n",
            "                                                                                                  \n",
            " block4b_project_bn (BatchNorma  (None, 14, 14, 80)  320         ['block4b_project_conv[0][0]']   \n",
            " lization)                                                                                        \n",
            "                                                                                                  \n",
            " block4b_drop (Dropout)         (None, 14, 14, 80)   0           ['block4b_project_bn[0][0]']     \n",
            "                                                                                                  \n",
            " block4b_add (Add)              (None, 14, 14, 80)   0           ['block4b_drop[0][0]',           \n",
            "                                                                  'block4a_project_bn[0][0]']     \n",
            "                                                                                                  \n",
            " block4c_expand_conv (Conv2D)   (None, 14, 14, 480)  38400       ['block4b_add[0][0]']            \n",
            "                                                                                                  \n",
            " block4c_expand_bn (BatchNormal  (None, 14, 14, 480)  1920       ['block4c_expand_conv[0][0]']    \n",
            " ization)                                                                                         \n",
            "                                                                                                  \n",
            " block4c_expand_activation (Act  (None, 14, 14, 480)  0          ['block4c_expand_bn[0][0]']      \n",
            " ivation)                                                                                         \n",
            "                                                                                                  \n",
            " block4c_dwconv (DepthwiseConv2  (None, 14, 14, 480)  4320       ['block4c_expand_activation[0][0]\n",
            " D)                                                              ']                               \n",
            "                                                                                                  \n",
            " block4c_bn (BatchNormalization  (None, 14, 14, 480)  1920       ['block4c_dwconv[0][0]']         \n",
            " )                                                                                                \n",
            "                                                                                                  \n",
            " block4c_activation (Activation  (None, 14, 14, 480)  0          ['block4c_bn[0][0]']             \n",
            " )                                                                                                \n",
            "                                                                                                  \n",
            " block4c_se_squeeze (GlobalAver  (None, 480)         0           ['block4c_activation[0][0]']     \n",
            " agePooling2D)                                                                                    \n",
            "                                                                                                  \n",
            " block4c_se_reshape (Reshape)   (None, 1, 1, 480)    0           ['block4c_se_squeeze[0][0]']     \n",
            "                                                                                                  \n",
            " block4c_se_reduce (Conv2D)     (None, 1, 1, 20)     9620        ['block4c_se_reshape[0][0]']     \n",
            "                                                                                                  \n",
            " block4c_se_expand (Conv2D)     (None, 1, 1, 480)    10080       ['block4c_se_reduce[0][0]']      \n",
            "                                                                                                  \n",
            " block4c_se_excite (Multiply)   (None, 14, 14, 480)  0           ['block4c_activation[0][0]',     \n",
            "                                                                  'block4c_se_expand[0][0]']      \n",
            "                                                                                                  \n",
            " block4c_project_conv (Conv2D)  (None, 14, 14, 80)   38400       ['block4c_se_excite[0][0]']      \n",
            "                                                                                                  \n",
            " block4c_project_bn (BatchNorma  (None, 14, 14, 80)  320         ['block4c_project_conv[0][0]']   \n",
            " lization)                                                                                        \n",
            "                                                                                                  \n",
            " block4c_drop (Dropout)         (None, 14, 14, 80)   0           ['block4c_project_bn[0][0]']     \n",
            "                                                                                                  \n",
            " block4c_add (Add)              (None, 14, 14, 80)   0           ['block4c_drop[0][0]',           \n",
            "                                                                  'block4b_add[0][0]']            \n",
            "                                                                                                  \n",
            " block5a_expand_conv (Conv2D)   (None, 14, 14, 480)  38400       ['block4c_add[0][0]']            \n",
            "                                                                                                  \n",
            " block5a_expand_bn (BatchNormal  (None, 14, 14, 480)  1920       ['block5a_expand_conv[0][0]']    \n",
            " ization)                                                                                         \n",
            "                                                                                                  \n",
            " block5a_expand_activation (Act  (None, 14, 14, 480)  0          ['block5a_expand_bn[0][0]']      \n",
            " ivation)                                                                                         \n",
            "                                                                                                  \n",
            " block5a_dwconv (DepthwiseConv2  (None, 14, 14, 480)  12000      ['block5a_expand_activation[0][0]\n",
            " D)                                                              ']                               \n",
            "                                                                                                  \n",
            " block5a_bn (BatchNormalization  (None, 14, 14, 480)  1920       ['block5a_dwconv[0][0]']         \n",
            " )                                                                                                \n",
            "                                                                                                  \n",
            " block5a_activation (Activation  (None, 14, 14, 480)  0          ['block5a_bn[0][0]']             \n",
            " )                                                                                                \n",
            "                                                                                                  \n",
            " block5a_se_squeeze (GlobalAver  (None, 480)         0           ['block5a_activation[0][0]']     \n",
            " agePooling2D)                                                                                    \n",
            "                                                                                                  \n",
            " block5a_se_reshape (Reshape)   (None, 1, 1, 480)    0           ['block5a_se_squeeze[0][0]']     \n",
            "                                                                                                  \n",
            " block5a_se_reduce (Conv2D)     (None, 1, 1, 20)     9620        ['block5a_se_reshape[0][0]']     \n",
            "                                                                                                  \n",
            " block5a_se_expand (Conv2D)     (None, 1, 1, 480)    10080       ['block5a_se_reduce[0][0]']      \n",
            "                                                                                                  \n",
            " block5a_se_excite (Multiply)   (None, 14, 14, 480)  0           ['block5a_activation[0][0]',     \n",
            "                                                                  'block5a_se_expand[0][0]']      \n",
            "                                                                                                  \n",
            " block5a_project_conv (Conv2D)  (None, 14, 14, 112)  53760       ['block5a_se_excite[0][0]']      \n",
            "                                                                                                  \n",
            " block5a_project_bn (BatchNorma  (None, 14, 14, 112)  448        ['block5a_project_conv[0][0]']   \n",
            " lization)                                                                                        \n",
            "                                                                                                  \n",
            " block5b_expand_conv (Conv2D)   (None, 14, 14, 672)  75264       ['block5a_project_bn[0][0]']     \n",
            "                                                                                                  \n",
            " block5b_expand_bn (BatchNormal  (None, 14, 14, 672)  2688       ['block5b_expand_conv[0][0]']    \n",
            " ization)                                                                                         \n",
            "                                                                                                  \n",
            " block5b_expand_activation (Act  (None, 14, 14, 672)  0          ['block5b_expand_bn[0][0]']      \n",
            " ivation)                                                                                         \n",
            "                                                                                                  \n",
            " block5b_dwconv (DepthwiseConv2  (None, 14, 14, 672)  16800      ['block5b_expand_activation[0][0]\n",
            " D)                                                              ']                               \n",
            "                                                                                                  \n",
            " block5b_bn (BatchNormalization  (None, 14, 14, 672)  2688       ['block5b_dwconv[0][0]']         \n",
            " )                                                                                                \n",
            "                                                                                                  \n",
            " block5b_activation (Activation  (None, 14, 14, 672)  0          ['block5b_bn[0][0]']             \n",
            " )                                                                                                \n",
            "                                                                                                  \n",
            " block5b_se_squeeze (GlobalAver  (None, 672)         0           ['block5b_activation[0][0]']     \n",
            " agePooling2D)                                                                                    \n",
            "                                                                                                  \n",
            " block5b_se_reshape (Reshape)   (None, 1, 1, 672)    0           ['block5b_se_squeeze[0][0]']     \n",
            "                                                                                                  \n",
            " block5b_se_reduce (Conv2D)     (None, 1, 1, 28)     18844       ['block5b_se_reshape[0][0]']     \n",
            "                                                                                                  \n",
            " block5b_se_expand (Conv2D)     (None, 1, 1, 672)    19488       ['block5b_se_reduce[0][0]']      \n",
            "                                                                                                  \n",
            " block5b_se_excite (Multiply)   (None, 14, 14, 672)  0           ['block5b_activation[0][0]',     \n",
            "                                                                  'block5b_se_expand[0][0]']      \n",
            "                                                                                                  \n",
            " block5b_project_conv (Conv2D)  (None, 14, 14, 112)  75264       ['block5b_se_excite[0][0]']      \n",
            "                                                                                                  \n",
            " block5b_project_bn (BatchNorma  (None, 14, 14, 112)  448        ['block5b_project_conv[0][0]']   \n",
            " lization)                                                                                        \n",
            "                                                                                                  \n",
            " block5b_drop (Dropout)         (None, 14, 14, 112)  0           ['block5b_project_bn[0][0]']     \n",
            "                                                                                                  \n",
            " block5b_add (Add)              (None, 14, 14, 112)  0           ['block5b_drop[0][0]',           \n",
            "                                                                  'block5a_project_bn[0][0]']     \n",
            "                                                                                                  \n",
            " block5c_expand_conv (Conv2D)   (None, 14, 14, 672)  75264       ['block5b_add[0][0]']            \n",
            "                                                                                                  \n",
            " block5c_expand_bn (BatchNormal  (None, 14, 14, 672)  2688       ['block5c_expand_conv[0][0]']    \n",
            " ization)                                                                                         \n",
            "                                                                                                  \n",
            " block5c_expand_activation (Act  (None, 14, 14, 672)  0          ['block5c_expand_bn[0][0]']      \n",
            " ivation)                                                                                         \n",
            "                                                                                                  \n",
            " block5c_dwconv (DepthwiseConv2  (None, 14, 14, 672)  16800      ['block5c_expand_activation[0][0]\n",
            " D)                                                              ']                               \n",
            "                                                                                                  \n",
            " block5c_bn (BatchNormalization  (None, 14, 14, 672)  2688       ['block5c_dwconv[0][0]']         \n",
            " )                                                                                                \n",
            "                                                                                                  \n",
            " block5c_activation (Activation  (None, 14, 14, 672)  0          ['block5c_bn[0][0]']             \n",
            " )                                                                                                \n",
            "                                                                                                  \n",
            " block5c_se_squeeze (GlobalAver  (None, 672)         0           ['block5c_activation[0][0]']     \n",
            " agePooling2D)                                                                                    \n",
            "                                                                                                  \n",
            " block5c_se_reshape (Reshape)   (None, 1, 1, 672)    0           ['block5c_se_squeeze[0][0]']     \n",
            "                                                                                                  \n",
            " block5c_se_reduce (Conv2D)     (None, 1, 1, 28)     18844       ['block5c_se_reshape[0][0]']     \n",
            "                                                                                                  \n",
            " block5c_se_expand (Conv2D)     (None, 1, 1, 672)    19488       ['block5c_se_reduce[0][0]']      \n",
            "                                                                                                  \n",
            " block5c_se_excite (Multiply)   (None, 14, 14, 672)  0           ['block5c_activation[0][0]',     \n",
            "                                                                  'block5c_se_expand[0][0]']      \n",
            "                                                                                                  \n",
            " block5c_project_conv (Conv2D)  (None, 14, 14, 112)  75264       ['block5c_se_excite[0][0]']      \n",
            "                                                                                                  \n",
            " block5c_project_bn (BatchNorma  (None, 14, 14, 112)  448        ['block5c_project_conv[0][0]']   \n",
            " lization)                                                                                        \n",
            "                                                                                                  \n",
            " block5c_drop (Dropout)         (None, 14, 14, 112)  0           ['block5c_project_bn[0][0]']     \n",
            "                                                                                                  \n",
            " block5c_add (Add)              (None, 14, 14, 112)  0           ['block5c_drop[0][0]',           \n",
            "                                                                  'block5b_add[0][0]']            \n",
            "                                                                                                  \n",
            " block6a_expand_conv (Conv2D)   (None, 14, 14, 672)  75264       ['block5c_add[0][0]']            \n",
            "                                                                                                  \n",
            " block6a_expand_bn (BatchNormal  (None, 14, 14, 672)  2688       ['block6a_expand_conv[0][0]']    \n",
            " ization)                                                                                         \n",
            "                                                                                                  \n",
            " block6a_expand_activation (Act  (None, 14, 14, 672)  0          ['block6a_expand_bn[0][0]']      \n",
            " ivation)                                                                                         \n",
            "                                                                                                  \n",
            " block6a_dwconv_pad (ZeroPaddin  (None, 17, 17, 672)  0          ['block6a_expand_activation[0][0]\n",
            " g2D)                                                            ']                               \n",
            "                                                                                                  \n",
            " block6a_dwconv (DepthwiseConv2  (None, 7, 7, 672)   16800       ['block6a_dwconv_pad[0][0]']     \n",
            " D)                                                                                               \n",
            "                                                                                                  \n",
            " block6a_bn (BatchNormalization  (None, 7, 7, 672)   2688        ['block6a_dwconv[0][0]']         \n",
            " )                                                                                                \n",
            "                                                                                                  \n",
            " block6a_activation (Activation  (None, 7, 7, 672)   0           ['block6a_bn[0][0]']             \n",
            " )                                                                                                \n",
            "                                                                                                  \n",
            " block6a_se_squeeze (GlobalAver  (None, 672)         0           ['block6a_activation[0][0]']     \n",
            " agePooling2D)                                                                                    \n",
            "                                                                                                  \n",
            " block6a_se_reshape (Reshape)   (None, 1, 1, 672)    0           ['block6a_se_squeeze[0][0]']     \n",
            "                                                                                                  \n",
            " block6a_se_reduce (Conv2D)     (None, 1, 1, 28)     18844       ['block6a_se_reshape[0][0]']     \n",
            "                                                                                                  \n",
            " block6a_se_expand (Conv2D)     (None, 1, 1, 672)    19488       ['block6a_se_reduce[0][0]']      \n",
            "                                                                                                  \n",
            " block6a_se_excite (Multiply)   (None, 7, 7, 672)    0           ['block6a_activation[0][0]',     \n",
            "                                                                  'block6a_se_expand[0][0]']      \n",
            "                                                                                                  \n",
            " block6a_project_conv (Conv2D)  (None, 7, 7, 192)    129024      ['block6a_se_excite[0][0]']      \n",
            "                                                                                                  \n",
            " block6a_project_bn (BatchNorma  (None, 7, 7, 192)   768         ['block6a_project_conv[0][0]']   \n",
            " lization)                                                                                        \n",
            "                                                                                                  \n",
            " block6b_expand_conv (Conv2D)   (None, 7, 7, 1152)   221184      ['block6a_project_bn[0][0]']     \n",
            "                                                                                                  \n",
            " block6b_expand_bn (BatchNormal  (None, 7, 7, 1152)  4608        ['block6b_expand_conv[0][0]']    \n",
            " ization)                                                                                         \n",
            "                                                                                                  \n",
            " block6b_expand_activation (Act  (None, 7, 7, 1152)  0           ['block6b_expand_bn[0][0]']      \n",
            " ivation)                                                                                         \n",
            "                                                                                                  \n",
            " block6b_dwconv (DepthwiseConv2  (None, 7, 7, 1152)  28800       ['block6b_expand_activation[0][0]\n",
            " D)                                                              ']                               \n",
            "                                                                                                  \n",
            " block6b_bn (BatchNormalization  (None, 7, 7, 1152)  4608        ['block6b_dwconv[0][0]']         \n",
            " )                                                                                                \n",
            "                                                                                                  \n",
            " block6b_activation (Activation  (None, 7, 7, 1152)  0           ['block6b_bn[0][0]']             \n",
            " )                                                                                                \n",
            "                                                                                                  \n",
            " block6b_se_squeeze (GlobalAver  (None, 1152)        0           ['block6b_activation[0][0]']     \n",
            " agePooling2D)                                                                                    \n",
            "                                                                                                  \n",
            " block6b_se_reshape (Reshape)   (None, 1, 1, 1152)   0           ['block6b_se_squeeze[0][0]']     \n",
            "                                                                                                  \n",
            " block6b_se_reduce (Conv2D)     (None, 1, 1, 48)     55344       ['block6b_se_reshape[0][0]']     \n",
            "                                                                                                  \n",
            " block6b_se_expand (Conv2D)     (None, 1, 1, 1152)   56448       ['block6b_se_reduce[0][0]']      \n",
            "                                                                                                  \n",
            " block6b_se_excite (Multiply)   (None, 7, 7, 1152)   0           ['block6b_activation[0][0]',     \n",
            "                                                                  'block6b_se_expand[0][0]']      \n",
            "                                                                                                  \n",
            " block6b_project_conv (Conv2D)  (None, 7, 7, 192)    221184      ['block6b_se_excite[0][0]']      \n",
            "                                                                                                  \n",
            " block6b_project_bn (BatchNorma  (None, 7, 7, 192)   768         ['block6b_project_conv[0][0]']   \n",
            " lization)                                                                                        \n",
            "                                                                                                  \n",
            " block6b_drop (Dropout)         (None, 7, 7, 192)    0           ['block6b_project_bn[0][0]']     \n",
            "                                                                                                  \n",
            " block6b_add (Add)              (None, 7, 7, 192)    0           ['block6b_drop[0][0]',           \n",
            "                                                                  'block6a_project_bn[0][0]']     \n",
            "                                                                                                  \n",
            " block6c_expand_conv (Conv2D)   (None, 7, 7, 1152)   221184      ['block6b_add[0][0]']            \n",
            "                                                                                                  \n",
            " block6c_expand_bn (BatchNormal  (None, 7, 7, 1152)  4608        ['block6c_expand_conv[0][0]']    \n",
            " ization)                                                                                         \n",
            "                                                                                                  \n",
            " block6c_expand_activation (Act  (None, 7, 7, 1152)  0           ['block6c_expand_bn[0][0]']      \n",
            " ivation)                                                                                         \n",
            "                                                                                                  \n",
            " block6c_dwconv (DepthwiseConv2  (None, 7, 7, 1152)  28800       ['block6c_expand_activation[0][0]\n",
            " D)                                                              ']                               \n",
            "                                                                                                  \n",
            " block6c_bn (BatchNormalization  (None, 7, 7, 1152)  4608        ['block6c_dwconv[0][0]']         \n",
            " )                                                                                                \n",
            "                                                                                                  \n",
            " block6c_activation (Activation  (None, 7, 7, 1152)  0           ['block6c_bn[0][0]']             \n",
            " )                                                                                                \n",
            "                                                                                                  \n",
            " block6c_se_squeeze (GlobalAver  (None, 1152)        0           ['block6c_activation[0][0]']     \n",
            " agePooling2D)                                                                                    \n",
            "                                                                                                  \n",
            " block6c_se_reshape (Reshape)   (None, 1, 1, 1152)   0           ['block6c_se_squeeze[0][0]']     \n",
            "                                                                                                  \n",
            " block6c_se_reduce (Conv2D)     (None, 1, 1, 48)     55344       ['block6c_se_reshape[0][0]']     \n",
            "                                                                                                  \n",
            " block6c_se_expand (Conv2D)     (None, 1, 1, 1152)   56448       ['block6c_se_reduce[0][0]']      \n",
            "                                                                                                  \n",
            " block6c_se_excite (Multiply)   (None, 7, 7, 1152)   0           ['block6c_activation[0][0]',     \n",
            "                                                                  'block6c_se_expand[0][0]']      \n",
            "                                                                                                  \n",
            " block6c_project_conv (Conv2D)  (None, 7, 7, 192)    221184      ['block6c_se_excite[0][0]']      \n",
            "                                                                                                  \n",
            " block6c_project_bn (BatchNorma  (None, 7, 7, 192)   768         ['block6c_project_conv[0][0]']   \n",
            " lization)                                                                                        \n",
            "                                                                                                  \n",
            " block6c_drop (Dropout)         (None, 7, 7, 192)    0           ['block6c_project_bn[0][0]']     \n",
            "                                                                                                  \n",
            " block6c_add (Add)              (None, 7, 7, 192)    0           ['block6c_drop[0][0]',           \n",
            "                                                                  'block6b_add[0][0]']            \n",
            "                                                                                                  \n",
            " block6d_expand_conv (Conv2D)   (None, 7, 7, 1152)   221184      ['block6c_add[0][0]']            \n",
            "                                                                                                  \n",
            " block6d_expand_bn (BatchNormal  (None, 7, 7, 1152)  4608        ['block6d_expand_conv[0][0]']    \n",
            " ization)                                                                                         \n",
            "                                                                                                  \n",
            " block6d_expand_activation (Act  (None, 7, 7, 1152)  0           ['block6d_expand_bn[0][0]']      \n",
            " ivation)                                                                                         \n",
            "                                                                                                  \n",
            " block6d_dwconv (DepthwiseConv2  (None, 7, 7, 1152)  28800       ['block6d_expand_activation[0][0]\n",
            " D)                                                              ']                               \n",
            "                                                                                                  \n",
            " block6d_bn (BatchNormalization  (None, 7, 7, 1152)  4608        ['block6d_dwconv[0][0]']         \n",
            " )                                                                                                \n",
            "                                                                                                  \n",
            " block6d_activation (Activation  (None, 7, 7, 1152)  0           ['block6d_bn[0][0]']             \n",
            " )                                                                                                \n",
            "                                                                                                  \n",
            " block6d_se_squeeze (GlobalAver  (None, 1152)        0           ['block6d_activation[0][0]']     \n",
            " agePooling2D)                                                                                    \n",
            "                                                                                                  \n",
            " block6d_se_reshape (Reshape)   (None, 1, 1, 1152)   0           ['block6d_se_squeeze[0][0]']     \n",
            "                                                                                                  \n",
            " block6d_se_reduce (Conv2D)     (None, 1, 1, 48)     55344       ['block6d_se_reshape[0][0]']     \n",
            "                                                                                                  \n",
            " block6d_se_expand (Conv2D)     (None, 1, 1, 1152)   56448       ['block6d_se_reduce[0][0]']      \n",
            "                                                                                                  \n",
            " block6d_se_excite (Multiply)   (None, 7, 7, 1152)   0           ['block6d_activation[0][0]',     \n",
            "                                                                  'block6d_se_expand[0][0]']      \n",
            "                                                                                                  \n",
            " block6d_project_conv (Conv2D)  (None, 7, 7, 192)    221184      ['block6d_se_excite[0][0]']      \n",
            "                                                                                                  \n",
            " block6d_project_bn (BatchNorma  (None, 7, 7, 192)   768         ['block6d_project_conv[0][0]']   \n",
            " lization)                                                                                        \n",
            "                                                                                                  \n",
            " block6d_drop (Dropout)         (None, 7, 7, 192)    0           ['block6d_project_bn[0][0]']     \n",
            "                                                                                                  \n",
            " block6d_add (Add)              (None, 7, 7, 192)    0           ['block6d_drop[0][0]',           \n",
            "                                                                  'block6c_add[0][0]']            \n",
            "                                                                                                  \n",
            " block7a_expand_conv (Conv2D)   (None, 7, 7, 1152)   221184      ['block6d_add[0][0]']            \n",
            "                                                                                                  \n",
            " block7a_expand_bn (BatchNormal  (None, 7, 7, 1152)  4608        ['block7a_expand_conv[0][0]']    \n",
            " ization)                                                                                         \n",
            "                                                                                                  \n",
            " block7a_expand_activation (Act  (None, 7, 7, 1152)  0           ['block7a_expand_bn[0][0]']      \n",
            " ivation)                                                                                         \n",
            "                                                                                                  \n",
            " block7a_dwconv (DepthwiseConv2  (None, 7, 7, 1152)  10368       ['block7a_expand_activation[0][0]\n",
            " D)                                                              ']                               \n",
            "                                                                                                  \n",
            " block7a_bn (BatchNormalization  (None, 7, 7, 1152)  4608        ['block7a_dwconv[0][0]']         \n",
            " )                                                                                                \n",
            "                                                                                                  \n",
            " block7a_activation (Activation  (None, 7, 7, 1152)  0           ['block7a_bn[0][0]']             \n",
            " )                                                                                                \n",
            "                                                                                                  \n",
            " block7a_se_squeeze (GlobalAver  (None, 1152)        0           ['block7a_activation[0][0]']     \n",
            " agePooling2D)                                                                                    \n",
            "                                                                                                  \n",
            " block7a_se_reshape (Reshape)   (None, 1, 1, 1152)   0           ['block7a_se_squeeze[0][0]']     \n",
            "                                                                                                  \n",
            " block7a_se_reduce (Conv2D)     (None, 1, 1, 48)     55344       ['block7a_se_reshape[0][0]']     \n",
            "                                                                                                  \n",
            " block7a_se_expand (Conv2D)     (None, 1, 1, 1152)   56448       ['block7a_se_reduce[0][0]']      \n",
            "                                                                                                  \n",
            " block7a_se_excite (Multiply)   (None, 7, 7, 1152)   0           ['block7a_activation[0][0]',     \n",
            "                                                                  'block7a_se_expand[0][0]']      \n",
            "                                                                                                  \n",
            " block7a_project_conv (Conv2D)  (None, 7, 7, 320)    368640      ['block7a_se_excite[0][0]']      \n",
            "                                                                                                  \n",
            " block7a_project_bn (BatchNorma  (None, 7, 7, 320)   1280        ['block7a_project_conv[0][0]']   \n",
            " lization)                                                                                        \n",
            "                                                                                                  \n",
            " top_conv (Conv2D)              (None, 7, 7, 1280)   409600      ['block7a_project_bn[0][0]']     \n",
            "                                                                                                  \n",
            " top_bn (BatchNormalization)    (None, 7, 7, 1280)   5120        ['top_conv[0][0]']               \n",
            "                                                                                                  \n",
            " top_activation (Activation)    (None, 7, 7, 1280)   0           ['top_bn[0][0]']                 \n",
            "                                                                                                  \n",
            " avg_pool (GlobalAveragePooling  (None, 1280)        0           ['top_activation[0][0]']         \n",
            " 2D)                                                                                              \n",
            "                                                                                                  \n",
            " batch_normalization (BatchNorm  (None, 1280)        5120        ['avg_pool[0][0]']               \n",
            " alization)                                                                                       \n",
            "                                                                                                  \n",
            " top_dropout (Dropout)          (None, 1280)         0           ['batch_normalization[0][0]']    \n",
            "                                                                                                  \n",
            " pred (Dense)                   (None, 1)            1281        ['top_dropout[0][0]']            \n",
            "                                                                                                  \n",
            "==================================================================================================\n",
            "Total params: 4,055,972\n",
            "Trainable params: 1,125,425\n",
            "Non-trainable params: 2,930,547\n",
            "__________________________________________________________________________________________________\n"
          ]
        }
      ]
    }
  ],
  "metadata": {
    "accelerator": "GPU",
    "colab": {
      "collapsed_sections": [],
      "name": "pneumonia_detection_B4.ipynb",
      "toc_visible": true,
      "provenance": []
    },
    "kernelspec": {
      "display_name": "Python 3",
      "language": "python",
      "name": "python3"
    },
    "language_info": {
      "codemirror_mode": {
        "name": "ipython",
        "version": 3
      },
      "file_extension": ".py",
      "mimetype": "text/x-python",
      "name": "python",
      "nbconvert_exporter": "python",
      "pygments_lexer": "ipython3",
      "version": "3.7.12"
    }
  },
  "nbformat": 4,
  "nbformat_minor": 0
}