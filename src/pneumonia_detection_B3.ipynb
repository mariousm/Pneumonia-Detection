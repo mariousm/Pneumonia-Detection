{
  "cells": [
    {
      "cell_type": "markdown",
      "metadata": {
        "id": "jfhHSQoRktDb"
      },
      "source": [
        ""
      ]
    },
    {
      "cell_type": "markdown",
      "metadata": {
        "id": "gQc31ylIoJzI"
      },
      "source": [
        "# Importación de librerías"
      ]
    },
    {
      "cell_type": "code",
      "execution_count": 1,
      "metadata": {
        "id": "F4ghj3pmoJzJ"
      },
      "outputs": [],
      "source": [
        "import numpy as np\n",
        "import pandas as pd\n",
        "import os\n",
        "import csv\n",
        "import random\n",
        "import _pickle as pickle\n",
        "from PIL import Image\n",
        "from skimage.transform import resize\n",
        "\n",
        "import seaborn as sns\n",
        "from sklearn.metrics import confusion_matrix, classification_report, roc_curve, roc_auc_score\n",
        "\n",
        "from tensorflow import keras\n",
        "from tensorflow.keras.applications import EfficientNetB3\n",
        "from tensorflow.keras.optimizers import Adam\n",
        "from keras.models import Sequential\n",
        "from keras import layers\n",
        "from keras.models import load_model\n",
        "\n",
        "import matplotlib.pyplot as plt"
      ]
    },
    {
      "cell_type": "markdown",
      "metadata": {
        "id": "-gx8TfIaaEM_"
      },
      "source": [
        "# Carga de Google Drive"
      ]
    },
    {
      "cell_type": "code",
      "execution_count": 2,
      "metadata": {
        "colab": {
          "base_uri": "https://localhost:8080/"
        },
        "id": "R18rOwHuoeme",
        "outputId": "2920ac1c-7457-49a0-d7ea-b3ec6eb8dfef"
      },
      "outputs": [
        {
          "output_type": "stream",
          "name": "stdout",
          "text": [
            "Mounted at /content/drive\n"
          ]
        }
      ],
      "source": [
        "from google.colab import drive\n",
        "drive.mount('/content/drive')"
      ]
    },
    {
      "cell_type": "markdown",
      "metadata": {
        "id": "Bjk_r3zDajYf"
      },
      "source": [
        "# Lectura de los datos"
      ]
    },
    {
      "cell_type": "code",
      "execution_count": 3,
      "metadata": {
        "colab": {
          "base_uri": "https://localhost:8080/"
        },
        "id": "TJlyy1otafCy",
        "outputId": "a44e7cb6-9288-4594-d298-5b4d37589b0c"
      },
      "outputs": [
        {
          "output_type": "stream",
          "name": "stdout",
          "text": [
            "El número de registros en df_train es: 32144\n",
            "El número de registros en df_test es: 3000\n",
            "El número de registros en df_validation es: 3000\n"
          ]
        }
      ],
      "source": [
        "# Carga de los dataframes de train, test y validation\n",
        "df_train = pd.read_csv(\"/content/drive/MyDrive/TFM/data/EfficientNetB3/train_labels.csv\")\n",
        "df_test = pd.read_csv(\"/content/drive/MyDrive/TFM/data/EfficientNetB3/test_labels.csv\")\n",
        "df_validation = pd.read_csv(\"/content/drive/MyDrive/TFM/data/EfficientNetB3/validation_labels.csv\")\n",
        "\n",
        "print(\"El número de registros en df_train es: \" + str(len(df_train)))\n",
        "print(\"El número de registros en df_test es: \" + str(len(df_test)))\n",
        "print(\"El número de registros en df_validation es: \" + str(len(df_validation)))"
      ]
    },
    {
      "cell_type": "code",
      "execution_count": null,
      "metadata": {
        "colab": {
          "base_uri": "https://localhost:8080/",
          "height": 206
        },
        "id": "52Viwc_6cFW_",
        "outputId": "3e4c0882-a71f-498e-da68-df0fb24bc7a3"
      },
      "outputs": [
        {
          "data": {
            "text/html": [
              "\n",
              "  <div id=\"df-864fba71-eed2-4331-92af-052c96dfbf91\">\n",
              "    <div class=\"colab-df-container\">\n",
              "      <div>\n",
              "<style scoped>\n",
              "    .dataframe tbody tr th:only-of-type {\n",
              "        vertical-align: middle;\n",
              "    }\n",
              "\n",
              "    .dataframe tbody tr th {\n",
              "        vertical-align: top;\n",
              "    }\n",
              "\n",
              "    .dataframe thead th {\n",
              "        text-align: right;\n",
              "    }\n",
              "</style>\n",
              "<table border=\"1\" class=\"dataframe\">\n",
              "  <thead>\n",
              "    <tr style=\"text-align: right;\">\n",
              "      <th></th>\n",
              "      <th>PatientId</th>\n",
              "      <th>Target</th>\n",
              "    </tr>\n",
              "  </thead>\n",
              "  <tbody>\n",
              "    <tr>\n",
              "      <th>0</th>\n",
              "      <td>087d375c-c266-4069-84dd-4d1d9d906539</td>\n",
              "      <td>0</td>\n",
              "    </tr>\n",
              "    <tr>\n",
              "      <th>1</th>\n",
              "      <td>bf90b850-cae0-4f24-9767-a63923beeaf3</td>\n",
              "      <td>0</td>\n",
              "    </tr>\n",
              "    <tr>\n",
              "      <th>2</th>\n",
              "      <td>6d3f2555-82f6-49ea-91ec-2b70fe3fb7bf</td>\n",
              "      <td>0</td>\n",
              "    </tr>\n",
              "    <tr>\n",
              "      <th>3</th>\n",
              "      <td>9f12306f-aeae-4898-b99a-2b15be3e81d7</td>\n",
              "      <td>0</td>\n",
              "    </tr>\n",
              "    <tr>\n",
              "      <th>4</th>\n",
              "      <td>bcc05c8d-c968-49e7-b68b-bd61aaf88215</td>\n",
              "      <td>0</td>\n",
              "    </tr>\n",
              "  </tbody>\n",
              "</table>\n",
              "</div>\n",
              "      <button class=\"colab-df-convert\" onclick=\"convertToInteractive('df-864fba71-eed2-4331-92af-052c96dfbf91')\"\n",
              "              title=\"Convert this dataframe to an interactive table.\"\n",
              "              style=\"display:none;\">\n",
              "        \n",
              "  <svg xmlns=\"http://www.w3.org/2000/svg\" height=\"24px\"viewBox=\"0 0 24 24\"\n",
              "       width=\"24px\">\n",
              "    <path d=\"M0 0h24v24H0V0z\" fill=\"none\"/>\n",
              "    <path d=\"M18.56 5.44l.94 2.06.94-2.06 2.06-.94-2.06-.94-.94-2.06-.94 2.06-2.06.94zm-11 1L8.5 8.5l.94-2.06 2.06-.94-2.06-.94L8.5 2.5l-.94 2.06-2.06.94zm10 10l.94 2.06.94-2.06 2.06-.94-2.06-.94-.94-2.06-.94 2.06-2.06.94z\"/><path d=\"M17.41 7.96l-1.37-1.37c-.4-.4-.92-.59-1.43-.59-.52 0-1.04.2-1.43.59L10.3 9.45l-7.72 7.72c-.78.78-.78 2.05 0 2.83L4 21.41c.39.39.9.59 1.41.59.51 0 1.02-.2 1.41-.59l7.78-7.78 2.81-2.81c.8-.78.8-2.07 0-2.86zM5.41 20L4 18.59l7.72-7.72 1.47 1.35L5.41 20z\"/>\n",
              "  </svg>\n",
              "      </button>\n",
              "      \n",
              "  <style>\n",
              "    .colab-df-container {\n",
              "      display:flex;\n",
              "      flex-wrap:wrap;\n",
              "      gap: 12px;\n",
              "    }\n",
              "\n",
              "    .colab-df-convert {\n",
              "      background-color: #E8F0FE;\n",
              "      border: none;\n",
              "      border-radius: 50%;\n",
              "      cursor: pointer;\n",
              "      display: none;\n",
              "      fill: #1967D2;\n",
              "      height: 32px;\n",
              "      padding: 0 0 0 0;\n",
              "      width: 32px;\n",
              "    }\n",
              "\n",
              "    .colab-df-convert:hover {\n",
              "      background-color: #E2EBFA;\n",
              "      box-shadow: 0px 1px 2px rgba(60, 64, 67, 0.3), 0px 1px 3px 1px rgba(60, 64, 67, 0.15);\n",
              "      fill: #174EA6;\n",
              "    }\n",
              "\n",
              "    [theme=dark] .colab-df-convert {\n",
              "      background-color: #3B4455;\n",
              "      fill: #D2E3FC;\n",
              "    }\n",
              "\n",
              "    [theme=dark] .colab-df-convert:hover {\n",
              "      background-color: #434B5C;\n",
              "      box-shadow: 0px 1px 3px 1px rgba(0, 0, 0, 0.15);\n",
              "      filter: drop-shadow(0px 1px 2px rgba(0, 0, 0, 0.3));\n",
              "      fill: #FFFFFF;\n",
              "    }\n",
              "  </style>\n",
              "\n",
              "      <script>\n",
              "        const buttonEl =\n",
              "          document.querySelector('#df-864fba71-eed2-4331-92af-052c96dfbf91 button.colab-df-convert');\n",
              "        buttonEl.style.display =\n",
              "          google.colab.kernel.accessAllowed ? 'block' : 'none';\n",
              "\n",
              "        async function convertToInteractive(key) {\n",
              "          const element = document.querySelector('#df-864fba71-eed2-4331-92af-052c96dfbf91');\n",
              "          const dataTable =\n",
              "            await google.colab.kernel.invokeFunction('convertToInteractive',\n",
              "                                                     [key], {});\n",
              "          if (!dataTable) return;\n",
              "\n",
              "          const docLinkHtml = 'Like what you see? Visit the ' +\n",
              "            '<a target=\"_blank\" href=https://colab.research.google.com/notebooks/data_table.ipynb>data table notebook</a>'\n",
              "            + ' to learn more about interactive tables.';\n",
              "          element.innerHTML = '';\n",
              "          dataTable['output_type'] = 'display_data';\n",
              "          await google.colab.output.renderOutput(dataTable, element);\n",
              "          const docLink = document.createElement('div');\n",
              "          docLink.innerHTML = docLinkHtml;\n",
              "          element.appendChild(docLink);\n",
              "        }\n",
              "      </script>\n",
              "    </div>\n",
              "  </div>\n",
              "  "
            ],
            "text/plain": [
              "                              PatientId  Target\n",
              "0  087d375c-c266-4069-84dd-4d1d9d906539       0\n",
              "1  bf90b850-cae0-4f24-9767-a63923beeaf3       0\n",
              "2  6d3f2555-82f6-49ea-91ec-2b70fe3fb7bf       0\n",
              "3  9f12306f-aeae-4898-b99a-2b15be3e81d7       0\n",
              "4  bcc05c8d-c968-49e7-b68b-bd61aaf88215       0"
            ]
          },
          "execution_count": 4,
          "metadata": {},
          "output_type": "execute_result"
        }
      ],
      "source": [
        "df_train.head()"
      ]
    },
    {
      "cell_type": "code",
      "execution_count": null,
      "metadata": {
        "colab": {
          "base_uri": "https://localhost:8080/",
          "height": 206
        },
        "id": "dVMof2eacJbj",
        "outputId": "709d65d8-3b54-4cd8-9348-7a3e7c2de42f"
      },
      "outputs": [
        {
          "data": {
            "text/html": [
              "\n",
              "  <div id=\"df-5bb70234-01b5-437b-8011-043664a01605\">\n",
              "    <div class=\"colab-df-container\">\n",
              "      <div>\n",
              "<style scoped>\n",
              "    .dataframe tbody tr th:only-of-type {\n",
              "        vertical-align: middle;\n",
              "    }\n",
              "\n",
              "    .dataframe tbody tr th {\n",
              "        vertical-align: top;\n",
              "    }\n",
              "\n",
              "    .dataframe thead th {\n",
              "        text-align: right;\n",
              "    }\n",
              "</style>\n",
              "<table border=\"1\" class=\"dataframe\">\n",
              "  <thead>\n",
              "    <tr style=\"text-align: right;\">\n",
              "      <th></th>\n",
              "      <th>PatientId</th>\n",
              "      <th>Target</th>\n",
              "    </tr>\n",
              "  </thead>\n",
              "  <tbody>\n",
              "    <tr>\n",
              "      <th>0</th>\n",
              "      <td>8d48694a-f998-4043-bc98-63a3c18527f2</td>\n",
              "      <td>1</td>\n",
              "    </tr>\n",
              "    <tr>\n",
              "      <th>1</th>\n",
              "      <td>74344068-50a8-4c34-af4e-f2e533cacd8c</td>\n",
              "      <td>0</td>\n",
              "    </tr>\n",
              "    <tr>\n",
              "      <th>2</th>\n",
              "      <td>4688892f-076f-4d48-85e3-34da2c3bf7f3</td>\n",
              "      <td>0</td>\n",
              "    </tr>\n",
              "    <tr>\n",
              "      <th>3</th>\n",
              "      <td>00f2de16-a231-40c3-9a5f-8198f530a4b0</td>\n",
              "      <td>0</td>\n",
              "    </tr>\n",
              "    <tr>\n",
              "      <th>4</th>\n",
              "      <td>ecde8726-a846-4a55-93d9-1762acbae97d</td>\n",
              "      <td>0</td>\n",
              "    </tr>\n",
              "  </tbody>\n",
              "</table>\n",
              "</div>\n",
              "      <button class=\"colab-df-convert\" onclick=\"convertToInteractive('df-5bb70234-01b5-437b-8011-043664a01605')\"\n",
              "              title=\"Convert this dataframe to an interactive table.\"\n",
              "              style=\"display:none;\">\n",
              "        \n",
              "  <svg xmlns=\"http://www.w3.org/2000/svg\" height=\"24px\"viewBox=\"0 0 24 24\"\n",
              "       width=\"24px\">\n",
              "    <path d=\"M0 0h24v24H0V0z\" fill=\"none\"/>\n",
              "    <path d=\"M18.56 5.44l.94 2.06.94-2.06 2.06-.94-2.06-.94-.94-2.06-.94 2.06-2.06.94zm-11 1L8.5 8.5l.94-2.06 2.06-.94-2.06-.94L8.5 2.5l-.94 2.06-2.06.94zm10 10l.94 2.06.94-2.06 2.06-.94-2.06-.94-.94-2.06-.94 2.06-2.06.94z\"/><path d=\"M17.41 7.96l-1.37-1.37c-.4-.4-.92-.59-1.43-.59-.52 0-1.04.2-1.43.59L10.3 9.45l-7.72 7.72c-.78.78-.78 2.05 0 2.83L4 21.41c.39.39.9.59 1.41.59.51 0 1.02-.2 1.41-.59l7.78-7.78 2.81-2.81c.8-.78.8-2.07 0-2.86zM5.41 20L4 18.59l7.72-7.72 1.47 1.35L5.41 20z\"/>\n",
              "  </svg>\n",
              "      </button>\n",
              "      \n",
              "  <style>\n",
              "    .colab-df-container {\n",
              "      display:flex;\n",
              "      flex-wrap:wrap;\n",
              "      gap: 12px;\n",
              "    }\n",
              "\n",
              "    .colab-df-convert {\n",
              "      background-color: #E8F0FE;\n",
              "      border: none;\n",
              "      border-radius: 50%;\n",
              "      cursor: pointer;\n",
              "      display: none;\n",
              "      fill: #1967D2;\n",
              "      height: 32px;\n",
              "      padding: 0 0 0 0;\n",
              "      width: 32px;\n",
              "    }\n",
              "\n",
              "    .colab-df-convert:hover {\n",
              "      background-color: #E2EBFA;\n",
              "      box-shadow: 0px 1px 2px rgba(60, 64, 67, 0.3), 0px 1px 3px 1px rgba(60, 64, 67, 0.15);\n",
              "      fill: #174EA6;\n",
              "    }\n",
              "\n",
              "    [theme=dark] .colab-df-convert {\n",
              "      background-color: #3B4455;\n",
              "      fill: #D2E3FC;\n",
              "    }\n",
              "\n",
              "    [theme=dark] .colab-df-convert:hover {\n",
              "      background-color: #434B5C;\n",
              "      box-shadow: 0px 1px 3px 1px rgba(0, 0, 0, 0.15);\n",
              "      filter: drop-shadow(0px 1px 2px rgba(0, 0, 0, 0.3));\n",
              "      fill: #FFFFFF;\n",
              "    }\n",
              "  </style>\n",
              "\n",
              "      <script>\n",
              "        const buttonEl =\n",
              "          document.querySelector('#df-5bb70234-01b5-437b-8011-043664a01605 button.colab-df-convert');\n",
              "        buttonEl.style.display =\n",
              "          google.colab.kernel.accessAllowed ? 'block' : 'none';\n",
              "\n",
              "        async function convertToInteractive(key) {\n",
              "          const element = document.querySelector('#df-5bb70234-01b5-437b-8011-043664a01605');\n",
              "          const dataTable =\n",
              "            await google.colab.kernel.invokeFunction('convertToInteractive',\n",
              "                                                     [key], {});\n",
              "          if (!dataTable) return;\n",
              "\n",
              "          const docLinkHtml = 'Like what you see? Visit the ' +\n",
              "            '<a target=\"_blank\" href=https://colab.research.google.com/notebooks/data_table.ipynb>data table notebook</a>'\n",
              "            + ' to learn more about interactive tables.';\n",
              "          element.innerHTML = '';\n",
              "          dataTable['output_type'] = 'display_data';\n",
              "          await google.colab.output.renderOutput(dataTable, element);\n",
              "          const docLink = document.createElement('div');\n",
              "          docLink.innerHTML = docLinkHtml;\n",
              "          element.appendChild(docLink);\n",
              "        }\n",
              "      </script>\n",
              "    </div>\n",
              "  </div>\n",
              "  "
            ],
            "text/plain": [
              "                              PatientId  Target\n",
              "0  8d48694a-f998-4043-bc98-63a3c18527f2       1\n",
              "1  74344068-50a8-4c34-af4e-f2e533cacd8c       0\n",
              "2  4688892f-076f-4d48-85e3-34da2c3bf7f3       0\n",
              "3  00f2de16-a231-40c3-9a5f-8198f530a4b0       0\n",
              "4  ecde8726-a846-4a55-93d9-1762acbae97d       0"
            ]
          },
          "execution_count": 5,
          "metadata": {},
          "output_type": "execute_result"
        }
      ],
      "source": [
        "df_test.head()"
      ]
    },
    {
      "cell_type": "code",
      "execution_count": null,
      "metadata": {
        "colab": {
          "base_uri": "https://localhost:8080/",
          "height": 206
        },
        "id": "F8UDpReecL3H",
        "outputId": "c5b1aafe-9985-467c-b316-34859f1f076b"
      },
      "outputs": [
        {
          "data": {
            "text/html": [
              "\n",
              "  <div id=\"df-03d3fb33-2209-4373-9f5a-2d23e4379632\">\n",
              "    <div class=\"colab-df-container\">\n",
              "      <div>\n",
              "<style scoped>\n",
              "    .dataframe tbody tr th:only-of-type {\n",
              "        vertical-align: middle;\n",
              "    }\n",
              "\n",
              "    .dataframe tbody tr th {\n",
              "        vertical-align: top;\n",
              "    }\n",
              "\n",
              "    .dataframe thead th {\n",
              "        text-align: right;\n",
              "    }\n",
              "</style>\n",
              "<table border=\"1\" class=\"dataframe\">\n",
              "  <thead>\n",
              "    <tr style=\"text-align: right;\">\n",
              "      <th></th>\n",
              "      <th>PatientId</th>\n",
              "      <th>Target</th>\n",
              "    </tr>\n",
              "  </thead>\n",
              "  <tbody>\n",
              "    <tr>\n",
              "      <th>0</th>\n",
              "      <td>76115ff9-5117-45fc-831b-29bc150bf0ff</td>\n",
              "      <td>0</td>\n",
              "    </tr>\n",
              "    <tr>\n",
              "      <th>1</th>\n",
              "      <td>70d88928-f775-4ac7-99f0-86d54907b631</td>\n",
              "      <td>0</td>\n",
              "    </tr>\n",
              "    <tr>\n",
              "      <th>2</th>\n",
              "      <td>4c5e8452-6bb3-4e36-86c6-b508b7cf50d6</td>\n",
              "      <td>0</td>\n",
              "    </tr>\n",
              "    <tr>\n",
              "      <th>3</th>\n",
              "      <td>45a1e0ab-3eb3-4587-b679-2b2310635804</td>\n",
              "      <td>1</td>\n",
              "    </tr>\n",
              "    <tr>\n",
              "      <th>4</th>\n",
              "      <td>fb25a758-fb40-471d-b15e-03aa03e245b0</td>\n",
              "      <td>0</td>\n",
              "    </tr>\n",
              "  </tbody>\n",
              "</table>\n",
              "</div>\n",
              "      <button class=\"colab-df-convert\" onclick=\"convertToInteractive('df-03d3fb33-2209-4373-9f5a-2d23e4379632')\"\n",
              "              title=\"Convert this dataframe to an interactive table.\"\n",
              "              style=\"display:none;\">\n",
              "        \n",
              "  <svg xmlns=\"http://www.w3.org/2000/svg\" height=\"24px\"viewBox=\"0 0 24 24\"\n",
              "       width=\"24px\">\n",
              "    <path d=\"M0 0h24v24H0V0z\" fill=\"none\"/>\n",
              "    <path d=\"M18.56 5.44l.94 2.06.94-2.06 2.06-.94-2.06-.94-.94-2.06-.94 2.06-2.06.94zm-11 1L8.5 8.5l.94-2.06 2.06-.94-2.06-.94L8.5 2.5l-.94 2.06-2.06.94zm10 10l.94 2.06.94-2.06 2.06-.94-2.06-.94-.94-2.06-.94 2.06-2.06.94z\"/><path d=\"M17.41 7.96l-1.37-1.37c-.4-.4-.92-.59-1.43-.59-.52 0-1.04.2-1.43.59L10.3 9.45l-7.72 7.72c-.78.78-.78 2.05 0 2.83L4 21.41c.39.39.9.59 1.41.59.51 0 1.02-.2 1.41-.59l7.78-7.78 2.81-2.81c.8-.78.8-2.07 0-2.86zM5.41 20L4 18.59l7.72-7.72 1.47 1.35L5.41 20z\"/>\n",
              "  </svg>\n",
              "      </button>\n",
              "      \n",
              "  <style>\n",
              "    .colab-df-container {\n",
              "      display:flex;\n",
              "      flex-wrap:wrap;\n",
              "      gap: 12px;\n",
              "    }\n",
              "\n",
              "    .colab-df-convert {\n",
              "      background-color: #E8F0FE;\n",
              "      border: none;\n",
              "      border-radius: 50%;\n",
              "      cursor: pointer;\n",
              "      display: none;\n",
              "      fill: #1967D2;\n",
              "      height: 32px;\n",
              "      padding: 0 0 0 0;\n",
              "      width: 32px;\n",
              "    }\n",
              "\n",
              "    .colab-df-convert:hover {\n",
              "      background-color: #E2EBFA;\n",
              "      box-shadow: 0px 1px 2px rgba(60, 64, 67, 0.3), 0px 1px 3px 1px rgba(60, 64, 67, 0.15);\n",
              "      fill: #174EA6;\n",
              "    }\n",
              "\n",
              "    [theme=dark] .colab-df-convert {\n",
              "      background-color: #3B4455;\n",
              "      fill: #D2E3FC;\n",
              "    }\n",
              "\n",
              "    [theme=dark] .colab-df-convert:hover {\n",
              "      background-color: #434B5C;\n",
              "      box-shadow: 0px 1px 3px 1px rgba(0, 0, 0, 0.15);\n",
              "      filter: drop-shadow(0px 1px 2px rgba(0, 0, 0, 0.3));\n",
              "      fill: #FFFFFF;\n",
              "    }\n",
              "  </style>\n",
              "\n",
              "      <script>\n",
              "        const buttonEl =\n",
              "          document.querySelector('#df-03d3fb33-2209-4373-9f5a-2d23e4379632 button.colab-df-convert');\n",
              "        buttonEl.style.display =\n",
              "          google.colab.kernel.accessAllowed ? 'block' : 'none';\n",
              "\n",
              "        async function convertToInteractive(key) {\n",
              "          const element = document.querySelector('#df-03d3fb33-2209-4373-9f5a-2d23e4379632');\n",
              "          const dataTable =\n",
              "            await google.colab.kernel.invokeFunction('convertToInteractive',\n",
              "                                                     [key], {});\n",
              "          if (!dataTable) return;\n",
              "\n",
              "          const docLinkHtml = 'Like what you see? Visit the ' +\n",
              "            '<a target=\"_blank\" href=https://colab.research.google.com/notebooks/data_table.ipynb>data table notebook</a>'\n",
              "            + ' to learn more about interactive tables.';\n",
              "          element.innerHTML = '';\n",
              "          dataTable['output_type'] = 'display_data';\n",
              "          await google.colab.output.renderOutput(dataTable, element);\n",
              "          const docLink = document.createElement('div');\n",
              "          docLink.innerHTML = docLinkHtml;\n",
              "          element.appendChild(docLink);\n",
              "        }\n",
              "      </script>\n",
              "    </div>\n",
              "  </div>\n",
              "  "
            ],
            "text/plain": [
              "                              PatientId  Target\n",
              "0  76115ff9-5117-45fc-831b-29bc150bf0ff       0\n",
              "1  70d88928-f775-4ac7-99f0-86d54907b631       0\n",
              "2  4c5e8452-6bb3-4e36-86c6-b508b7cf50d6       0\n",
              "3  45a1e0ab-3eb3-4587-b679-2b2310635804       1\n",
              "4  fb25a758-fb40-471d-b15e-03aa03e245b0       0"
            ]
          },
          "execution_count": 6,
          "metadata": {},
          "output_type": "execute_result"
        }
      ],
      "source": [
        "df_validation.head()"
      ]
    },
    {
      "cell_type": "markdown",
      "metadata": {
        "id": "FDUw5d7gcBNv"
      },
      "source": [
        "## Comprobación de los datos"
      ]
    },
    {
      "cell_type": "markdown",
      "metadata": {
        "id": "OmhmLhb3cfqn"
      },
      "source": [
        "Vamos a comprobar que las imágenes que se encuentran en cada directorio, es decir, en train, validation, y test, también están en los dataframes correspondientes.\n",
        "\n",
        "Se hace esta comprobación básicamente para saber si se han subido de forma correcta las imágenes."
      ]
    },
    {
      "cell_type": "code",
      "execution_count": 4,
      "metadata": {
        "id": "_6mF_InwcD2F"
      },
      "outputs": [],
      "source": [
        "def check_images(dir, df):\n",
        "  files = os.listdir(dir)\n",
        "  num_elements = len(df)\n",
        "  num_images = len(files)\n",
        "\n",
        "  # Recorremos el dataframe correspondiente y comprobamos si están las imágenes\n",
        "  for patientId in df[\"PatientId\"]:\n",
        "    if not patientId + \".png\" in files:\n",
        "      return False\n",
        "\n",
        "  # Comprobamoos que hay el mismo número de registros que de imágenes\n",
        "  if num_elements != num_images:\n",
        "    return False\n",
        "\n",
        "  return True"
      ]
    },
    {
      "cell_type": "code",
      "execution_count": 6,
      "metadata": {
        "colab": {
          "base_uri": "https://localhost:8080/"
        },
        "id": "5FUCNknOe5J9",
        "outputId": "5cfa0c56-2e25-4b53-834c-977c2f25d44e"
      },
      "outputs": [
        {
          "output_type": "stream",
          "name": "stdout",
          "text": [
            "Train: True\n",
            "Test: True\n",
            "Validation: True\n"
          ]
        }
      ],
      "source": [
        "print(\"Train: \" + str(check_images(\"/content/drive/MyDrive/TFM/data/EfficientNetB3/train_images\", df_train)))\n",
        "print(\"Test: \" + str(check_images(\"/content/drive/MyDrive/TFM/data/EfficientNetB3/test_images\", df_test)))\n",
        "print(\"Validation: \" + str(check_images(\"/content/drive/MyDrive/TFM/data/EfficientNetB3/validation_images\", df_validation)))"
      ]
    },
    {
      "cell_type": "markdown",
      "metadata": {
        "id": "YcG77svo2qOb"
      },
      "source": [
        "# Carga de las imágenes preprocesadas"
      ]
    },
    {
      "cell_type": "markdown",
      "metadata": {
        "id": "A91ooyaC27_i"
      },
      "source": [
        "En este punto vamos a cargar todas las imágenes que tenemos en un diccionario, es decir, tanto las imágenes de train, como de test y validation.\n",
        "\n",
        "Este diccionario está formado por un par clave-valor, donde la clave va a ser el `PatientId` (el nombre de la imágenes sin el \".png\"), y el valor va a ser la imágenes preprocesada en formato 300x300 (neceario para hacer uso de EfficientNetB3).\n",
        "\n",
        "Se ha hecho uso de esta carga en un diccionario para reducir los tiempos de ejecución en el entrenamiento de la red, ya que anteriormente el Data Generator tardaba demasiado por dos motivos:\n",
        "* Al abrir la imagen en cada época.\n",
        "* Al redimensionar la imagen del formato original 1024x1024 a 300x300."
      ]
    },
    {
      "cell_type": "code",
      "execution_count": 7,
      "metadata": {
        "id": "RSd1P3fM4dR0"
      },
      "outputs": [],
      "source": [
        "# EXTRA\n",
        "TRAIN_FOLDER = \"/content/drive/MyDrive/TFM/data/EfficientNetB3/train_images\"\n",
        "TEST_FOLDER = \"/content/drive/MyDrive/TFM/data/EfficientNetB3/test_images\"\n",
        "VALID_FOLDER = \"/content/drive/MyDrive/TFM/data/EfficientNetB3/validation_images\"\n",
        "\n",
        "MODEL_NAME = \"model1/\""
      ]
    },
    {
      "cell_type": "code",
      "execution_count": null,
      "metadata": {
        "id": "aa-fbtfg4yGD"
      },
      "outputs": [],
      "source": [
        "def get_dic_images(dir, dic_images):\n",
        "  files = os.listdir(dir)\n",
        "  dic = dic_images.copy()\n",
        "\n",
        "  for filename in files:\n",
        "    patientId = filename.split(\".\")[0]\n",
        "    image = np.array(Image.open(os.path.join(dir, filename)))\n",
        "    dic[patientId] = image\n",
        "  \n",
        "  return dic"
      ]
    },
    {
      "cell_type": "code",
      "execution_count": null,
      "metadata": {
        "id": "DS9lOPnr3yZz"
      },
      "outputs": [],
      "source": [
        "dic_images = {}\n",
        "dic_images = get_dic_images(TRAIN_FOLDER, dic_images)\n",
        "dic_images = get_dic_images(TEST_FOLDER, dic_images)\n",
        "dic_images = get_dic_images(VALID_FOLDER, dic_images)"
      ]
    },
    {
      "cell_type": "code",
      "execution_count": null,
      "metadata": {
        "id": "9_K0LYti7mcW"
      },
      "outputs": [],
      "source": [
        "# Volcamos los datos a un fichero\n",
        "pickle.dump(dic_images, open(os.path.join(\"/content/drive/MyDrive/TFM/data/EfficientNetB3\", \"dic_images.pickle\"), 'wb'))"
      ]
    },
    {
      "cell_type": "markdown",
      "metadata": {
        "id": "U4RBHRoe66Go"
      },
      "source": [
        "Para no tener que cargar todo el rato el diccionario, ya que esto es muy costoso (estar abriendo cada imagen), hemos el diccionario a un fichero pickle.\n",
        "\n",
        "De esta forma, conseguimos reducir el tiempo de carga de las imágenes. Finalmente, definimos la carga en el caso de ser necesaria: "
      ]
    },
    {
      "cell_type": "code",
      "execution_count": 8,
      "metadata": {
        "colab": {
          "base_uri": "https://localhost:8080/"
        },
        "id": "jCs-6SM79lFF",
        "outputId": "f6ee8c8f-583e-40e4-e887-34d122f2b82a"
      },
      "outputs": [
        {
          "output_type": "stream",
          "name": "stdout",
          "text": [
            "El número total de imágenes es: 38144\n",
            "El número total de imágenes esperadas es: 38144\n"
          ]
        }
      ],
      "source": [
        "# Hacemos la lectura de los datos\n",
        "dic_images = pickle.load(open(os.path.join(\"/content/drive/MyDrive/TFM/data/EfficientNetB3\", \"dic_images.pickle\"), \"rb\"))\n",
        "\n",
        "# Comprobamos que se ha hecho la lectura de forma correcta\n",
        "print(\"El número total de imágenes es: \" + str(len(dic_images)))\n",
        "print(\"El número total de imágenes esperadas es: \" + str(len(df_train) + len(df_test) + len(df_validation)))"
      ]
    },
    {
      "cell_type": "markdown",
      "metadata": {
        "id": "R6CWyq-mWyZB"
      },
      "source": [
        "# Data Generator"
      ]
    },
    {
      "cell_type": "markdown",
      "metadata": {
        "id": "2ctkEPEAW9kz"
      },
      "source": [
        "En este punto vamos a resolver la problemática de la carga de los datos en memoria. El dataset de entrenamiento presenta 32144 imágenes con resolución 300x300, lo cual hace que haya un elevado consumo de memoria, hasta tal punto que puede que Google Colab no sea capaz de soportar.\n",
        "\n",
        "Para solventar este problema creamos un data generator, el cual se encarga de cargar en memoria pequeños grupos de imágenes según se vayan utilizando, es decir, dependiendo del tamaño del batch.\n",
        "\n",
        "La salida que proporciona el data generator es un cojunto de imágenes junto con la variable objetivo.\n",
        "\n",
        "Cabe destacar que al usar EfficientNet la imagen de entrada a la red tiene que tener valores entre 0 y 255, es por ello que no se normalizan los datos porque EfficientNet ya tiene sus layers para hacerlo.\n"
      ]
    },
    {
      "cell_type": "code",
      "execution_count": 9,
      "metadata": {
        "id": "D-fBVVqdX-KG"
      },
      "outputs": [],
      "source": [
        "# https://stanford.edu/~shervine/blog/keras-how-to-generate-data-on-the-fly\n",
        "\n",
        "class DataGenerator(keras.utils.Sequence):\n",
        "\n",
        "  # Constructor\n",
        "  def __init__(self, folder, dataset, dic_images, batch_size=32, image_size=256, shuffle=True, predict=False):\n",
        "    self.folder = folder\n",
        "    self.filenames = os.listdir(folder)\n",
        "    self.dataset = dataset\n",
        "    self.dic_images = dic_images.copy()\n",
        "    self.batch_size = batch_size\n",
        "    self.image_size = image_size\n",
        "    self.shuffle = shuffle\n",
        "    self.predict = predict\n",
        "    self.on_epoch_end()\n",
        "    \n",
        "\n",
        "  # Carga y Transformación de la imágenes para training\n",
        "  # filename: es el nombre del archivo de la imagen, es decir, con png\n",
        "  def __train__(self, filename):\n",
        "    filename = filename.split(\".\")[0]\n",
        "\n",
        "    # Cargamos la imagen original\n",
        "    img = self.dic_images[filename]\n",
        "\n",
        "    # Cargamos la variable objetivo\n",
        "    target = self.dataset[self.dataset[\"PatientId\"] == filename][\"Target\"].item()\n",
        "\n",
        "    # Reducción de la escala de la imagen\n",
        "    if (self.image_size, self.image_size) != (IMG_SIZE, IMG_SIZE): \n",
        "      img = resize(img, (self.image_size, self.image_size), mode=\"reflect\") * 255\n",
        "      img = img.astype(np.uint8)\n",
        "\n",
        "    # Normalizamos\n",
        "    # img_min = img.min()\n",
        "    # img_max = img.max()\n",
        "    # img_norm = (img - img_min) / (img_max - img_min)\n",
        "\n",
        "    # Expandimos las dimensiones (self.image_size, self.image_size, 1)\n",
        "    # img_norm = np.expand_dims(img_norm, -1)\n",
        "    img = np.expand_dims(img, -1)\n",
        "\n",
        "    return img, target\n",
        "\n",
        "\n",
        "  # Carga y transformación de las imágenes para testing\n",
        "  def __test__(self, filename):\n",
        "    filename = filename.split(\".\")[0]\n",
        "\n",
        "    # Cargamos la imagen original\n",
        "    img = self.dic_images[filename]\n",
        "\n",
        "    # Reducción de la escala de la imagen\n",
        "    if (self.image_size, self.image_size) != (IMG_SIZE, IMG_SIZE): \n",
        "      img = resize(img, (self.image_size, self.image_size), mode=\"reflect\") * 255\n",
        "      img = img.astype(np.uint8)\n",
        "\n",
        "    # Normalizamos\n",
        "    # img_min = img.min()\n",
        "    # img_max = img.max()\n",
        "    # img_norm = (img - img_min) / (img_max - img_min)\n",
        "\n",
        "    # Expandimos las dimensiones (self.image_size, self.image_size, 1)\n",
        "    # img_norm = np.expand_dims(img_norm, -1)\n",
        "    img = np.expand_dims(img, -1)\n",
        "\n",
        "    return img\n",
        "\n",
        "  \n",
        "  # Método encargado de generar el batch\n",
        "  def __getitem__(self, index):\n",
        "    # Generación de los nombres de archivos pertenecientes al batch\n",
        "    filenames_batch = self.filenames[index*self.batch_size:(index+1)*self.batch_size]\n",
        "\n",
        "    if self.predict:\n",
        "      # Modo testing\n",
        "      imgs = [self.__test__(filename) for filename in filenames_batch]\n",
        "      imgs = np.array(imgs)\n",
        "      return imgs, filenames_batch\n",
        "\n",
        "    else:\n",
        "      # Modo training\n",
        "      items = [self.__train__(filename) for filename in filenames_batch]\n",
        "      imgs, targets = zip(*items)\n",
        "      imgs = np.array(imgs)\n",
        "      targets = np.expand_dims(np.array(targets), -1)\n",
        "      return imgs, targets\n",
        "\n",
        "  # Método encargado de mezclar nos nombres de archivos, para así dotar de una mayor aleatoriedad\n",
        "  def on_epoch_end(self):\n",
        "    if self.shuffle:\n",
        "      random.shuffle(self.filenames)\n",
        "\n",
        "  # Método para controlar el tamaño del \n",
        "  def __len__(self):\n",
        "    return int(len(self.filenames) / self.batch_size)"
      ]
    },
    {
      "cell_type": "markdown",
      "metadata": {
        "id": "zcXOLL4F2g6S"
      },
      "source": [
        "# Red Neuronal Convolucional"
      ]
    },
    {
      "cell_type": "markdown",
      "metadata": {
        "id": "jtELF9Ux2njD"
      },
      "source": [
        "El siguiente paso es crear la red neuronal convolucional, para ello vamos a hacer uso de `EfficientNet`, en nuestro caso usaremos `EfficientNetB3`.\n",
        "\n",
        "Al usar `EfficientNetB3` estamos \"limitados\" a que la resolución de las imágenes sea de 300x300, en vez de 1024x1024 que era el tamaño original.\n",
        "\n",
        "Otro punto a destacar es que la imagen que introduzcamos al modelo no hace falta normalizarla, ya que se encarga `EfficientNetB3` de hacerlo."
      ]
    },
    {
      "cell_type": "markdown",
      "metadata": {
        "id": "sWbjvtWrB7E9"
      },
      "source": [
        "## Hiperparámetros"
      ]
    },
    {
      "cell_type": "code",
      "execution_count": 10,
      "metadata": {
        "id": "6W1G9uBn6Ect"
      },
      "outputs": [],
      "source": [
        "# Data generator\n",
        "IMG_SIZE = 300\n",
        "BATCH_SIZE = 32\n",
        "\n",
        "# CNN\n",
        "LEARNING_RATE = 1e-4\n",
        "EPOCHS = 50 # 20, 30, 50, 30"
      ]
    },
    {
      "cell_type": "markdown",
      "metadata": {
        "id": "EJmlsna9B-W9"
      },
      "source": [
        "## Data augmentation"
      ]
    },
    {
      "cell_type": "markdown",
      "metadata": {
        "id": "BuSOk5ZP6kA3"
      },
      "source": [
        "El siguiente punto es definir el data augmentation, para así mejorar la variabilidad del entrenamiento y por lo tanto la precisión de la red neuronal."
      ]
    },
    {
      "cell_type": "code",
      "execution_count": 11,
      "metadata": {
        "id": "QhZ7IzBQ6sAm"
      },
      "outputs": [],
      "source": [
        "img_augmentation = Sequential(\n",
        "    [\n",
        "     layers.RandomRotation(factor=0.05),\n",
        "     layers.RandomTranslation(height_factor=0.05, width_factor=0.02),\n",
        "     layers.RandomFlip(\"horizontal\"),\n",
        "     layers.RandomContrast(factor=0.05),\n",
        "    ],\n",
        "    name = \"img_augmentation\"\n",
        ")"
      ]
    },
    {
      "cell_type": "markdown",
      "metadata": {
        "id": "UZGKIRNGCBF_"
      },
      "source": [
        "## CNN y transfer learning"
      ]
    },
    {
      "cell_type": "markdown",
      "metadata": {
        "id": "YtHJInQoCHcZ"
      },
      "source": [
        "El siguiente paso es crear la red neuronal convolucional y aplicar transfer learning.\n",
        "\n",
        "El transfer learning lo que significa es que vamos a tener dos modelos, un modelo base con pesos ya pre-entrenados con otro tipo de problemas, y un modelo nuevo basado en el modelo base.\n",
        "\n",
        "De forma resumida lo que se va a hacer es lo siguiente:\n",
        "* 1º: vamos a inicializar el modelo base con pesos ya pre-entrenados.\n",
        "* 2º: se van a congelar todos los layers del modelo base con `trainable = False`.\n",
        "* 3º: Creamos un nuevo modelo después de la salida del modelo base.\n",
        "* 4º: Entrenamos el nuevo modelo con el dataset."
      ]
    },
    {
      "cell_type": "code",
      "execution_count": 17,
      "metadata": {
        "id": "rUNW70exDDQE"
      },
      "outputs": [],
      "source": [
        "# Método que se encarga de generar el modelo\n",
        "# https://keras.io/examples/vision/image_classification_efficientnet_fine_tuning/#transfer-learning-from-pretrained-weights\n",
        "# https://stackoverflow.com/questions/51995977/how-can-i-use-a-pre-trained-neural-network-with-grayscale-images\n",
        "def build_model():\n",
        "  inputs = layers.Input(shape=(IMG_SIZE, IMG_SIZE, 1))\n",
        "  x = img_augmentation(inputs)\n",
        "  x = layers.Concatenate()([x, x, x])  \n",
        "  model = EfficientNetB3(include_top=False, input_tensor=x, weights=\"imagenet\")\n",
        "\n",
        "  # Freeze the pretrained weights\n",
        "  model.trainable = False\n",
        "\n",
        "  # Rebuild top\n",
        "  x = layers.GlobalAveragePooling2D(name=\"avg_pool\")(model.output)\n",
        "  x = layers.BatchNormalization()(x)\n",
        "\n",
        "  top_dropout_rate = 0.2\n",
        "  x = layers.Dropout(top_dropout_rate, name=\"top_dropout\")(x)\n",
        "  outputs = layers.Dense(1, activation=\"sigmoid\", name=\"pred\")(x)\n",
        "\n",
        "  # Compile\n",
        "  model = keras.Model(inputs, outputs, name=\"EfficientNet\")\n",
        "  optimizer = Adam(learning_rate=LEARNING_RATE)\n",
        "  model.compile(\n",
        "      optimizer=optimizer, loss=\"binary_crossentropy\", metrics=[\"accuracy\"]\n",
        "  )\n",
        "  return model"
      ]
    },
    {
      "cell_type": "markdown",
      "metadata": {
        "id": "pvOTVwl8Hlmw"
      },
      "source": [
        "## Training"
      ]
    },
    {
      "cell_type": "code",
      "execution_count": 18,
      "metadata": {
        "id": "eSYXWw79HqTY"
      },
      "outputs": [],
      "source": [
        "# Obtenemos los generadores para training y validaton\n",
        "train_gen = DataGenerator(folder=TRAIN_FOLDER, dataset=df_train, dic_images=dic_images, batch_size=BATCH_SIZE, image_size=IMG_SIZE, shuffle=True, predict=False)\n",
        "valid_gen = DataGenerator(folder=VALID_FOLDER, dataset=df_validation, dic_images=dic_images, batch_size=BATCH_SIZE, image_size=IMG_SIZE, shuffle=False, predict=False)"
      ]
    },
    {
      "cell_type": "code",
      "execution_count": 19,
      "metadata": {
        "id": "bVCT36HATAHP"
      },
      "outputs": [],
      "source": [
        "# Construimos el modelo (tanto el modelo base como el nuestro)\n",
        "model = build_model()"
      ]
    },
    {
      "cell_type": "code",
      "execution_count": 20,
      "metadata": {
        "colab": {
          "base_uri": "https://localhost:8080/"
        },
        "id": "38eKXD28TDLl",
        "outputId": "d2ec6e71-fecf-423b-9d04-fa62487a36b8"
      },
      "outputs": [
        {
          "output_type": "stream",
          "name": "stdout",
          "text": [
            "Epoch 1/50\n",
            "1004/1004 [==============================] - 262s 238ms/step - loss: 0.5972 - accuracy: 0.7008 - val_loss: 0.4563 - val_accuracy: 0.7853\n",
            "Epoch 2/50\n",
            "1004/1004 [==============================] - 239s 238ms/step - loss: 0.4936 - accuracy: 0.7678 - val_loss: 0.4502 - val_accuracy: 0.7927\n",
            "Epoch 3/50\n",
            "1004/1004 [==============================] - 238s 237ms/step - loss: 0.4735 - accuracy: 0.7782 - val_loss: 0.4478 - val_accuracy: 0.7974\n",
            "Epoch 4/50\n",
            "1004/1004 [==============================] - 238s 237ms/step - loss: 0.4540 - accuracy: 0.7864 - val_loss: 0.4507 - val_accuracy: 0.7947\n",
            "Epoch 5/50\n",
            "1004/1004 [==============================] - 238s 237ms/step - loss: 0.4488 - accuracy: 0.7929 - val_loss: 0.4521 - val_accuracy: 0.8004\n",
            "Epoch 6/50\n",
            "1004/1004 [==============================] - 237s 236ms/step - loss: 0.4419 - accuracy: 0.7959 - val_loss: 0.4475 - val_accuracy: 0.7991\n",
            "Epoch 7/50\n",
            "1004/1004 [==============================] - 237s 236ms/step - loss: 0.4330 - accuracy: 0.7990 - val_loss: 0.4485 - val_accuracy: 0.8001\n",
            "Epoch 8/50\n",
            "1004/1004 [==============================] - 237s 236ms/step - loss: 0.4322 - accuracy: 0.8006 - val_loss: 0.4496 - val_accuracy: 0.7977\n",
            "Epoch 9/50\n",
            "1004/1004 [==============================] - 238s 237ms/step - loss: 0.4291 - accuracy: 0.8019 - val_loss: 0.4501 - val_accuracy: 0.8024\n",
            "Epoch 10/50\n",
            "1004/1004 [==============================] - 237s 236ms/step - loss: 0.4250 - accuracy: 0.8048 - val_loss: 0.4426 - val_accuracy: 0.8017\n",
            "Epoch 11/50\n",
            "1004/1004 [==============================] - 237s 236ms/step - loss: 0.4218 - accuracy: 0.8051 - val_loss: 0.4384 - val_accuracy: 0.7981\n",
            "Epoch 12/50\n",
            "1004/1004 [==============================] - 237s 236ms/step - loss: 0.4209 - accuracy: 0.8083 - val_loss: 0.4461 - val_accuracy: 0.7964\n",
            "Epoch 13/50\n",
            "1004/1004 [==============================] - 238s 237ms/step - loss: 0.4170 - accuracy: 0.8070 - val_loss: 0.4527 - val_accuracy: 0.7964\n",
            "Epoch 14/50\n",
            "1004/1004 [==============================] - 238s 237ms/step - loss: 0.4187 - accuracy: 0.8070 - val_loss: 0.4449 - val_accuracy: 0.7947\n",
            "Epoch 15/50\n",
            "1004/1004 [==============================] - 238s 237ms/step - loss: 0.4148 - accuracy: 0.8087 - val_loss: 0.4471 - val_accuracy: 0.7997\n",
            "Epoch 16/50\n",
            "1004/1004 [==============================] - 238s 237ms/step - loss: 0.4169 - accuracy: 0.8074 - val_loss: 0.4501 - val_accuracy: 0.7991\n",
            "Epoch 17/50\n",
            "1004/1004 [==============================] - 238s 237ms/step - loss: 0.4145 - accuracy: 0.8094 - val_loss: 0.4497 - val_accuracy: 0.7974\n",
            "Epoch 18/50\n",
            "1004/1004 [==============================] - 238s 237ms/step - loss: 0.4137 - accuracy: 0.8099 - val_loss: 0.4461 - val_accuracy: 0.7984\n",
            "Epoch 19/50\n",
            "1004/1004 [==============================] - 238s 237ms/step - loss: 0.4127 - accuracy: 0.8119 - val_loss: 0.4494 - val_accuracy: 0.7977\n",
            "Epoch 20/50\n",
            "1004/1004 [==============================] - 238s 237ms/step - loss: 0.4120 - accuracy: 0.8089 - val_loss: 0.4453 - val_accuracy: 0.8004\n",
            "Epoch 21/50\n",
            "1004/1004 [==============================] - 238s 237ms/step - loss: 0.4108 - accuracy: 0.8116 - val_loss: 0.4440 - val_accuracy: 0.8017\n",
            "Epoch 22/50\n",
            "1004/1004 [==============================] - 238s 237ms/step - loss: 0.4137 - accuracy: 0.8099 - val_loss: 0.4464 - val_accuracy: 0.7984\n",
            "Epoch 23/50\n",
            "1004/1004 [==============================] - 238s 237ms/step - loss: 0.4124 - accuracy: 0.8113 - val_loss: 0.4418 - val_accuracy: 0.8024\n",
            "Epoch 24/50\n",
            "1004/1004 [==============================] - 238s 237ms/step - loss: 0.4127 - accuracy: 0.8127 - val_loss: 0.4500 - val_accuracy: 0.7984\n",
            "Epoch 25/50\n",
            "1004/1004 [==============================] - 238s 237ms/step - loss: 0.4115 - accuracy: 0.8113 - val_loss: 0.4421 - val_accuracy: 0.8014\n",
            "Epoch 26/50\n",
            "1004/1004 [==============================] - 238s 237ms/step - loss: 0.4102 - accuracy: 0.8103 - val_loss: 0.4503 - val_accuracy: 0.8024\n",
            "Epoch 27/50\n",
            "1004/1004 [==============================] - 238s 237ms/step - loss: 0.4110 - accuracy: 0.8082 - val_loss: 0.4458 - val_accuracy: 0.7974\n",
            "Epoch 28/50\n",
            "1004/1004 [==============================] - 238s 237ms/step - loss: 0.4091 - accuracy: 0.8122 - val_loss: 0.4501 - val_accuracy: 0.7997\n",
            "Epoch 29/50\n",
            "1004/1004 [==============================] - 238s 237ms/step - loss: 0.4098 - accuracy: 0.8117 - val_loss: 0.4482 - val_accuracy: 0.7974\n",
            "Epoch 30/50\n",
            "1004/1004 [==============================] - 238s 237ms/step - loss: 0.4138 - accuracy: 0.8110 - val_loss: 0.4358 - val_accuracy: 0.8021\n",
            "Epoch 31/50\n",
            "1004/1004 [==============================] - 238s 237ms/step - loss: 0.4095 - accuracy: 0.8138 - val_loss: 0.4450 - val_accuracy: 0.7997\n",
            "Epoch 32/50\n",
            "1004/1004 [==============================] - 238s 237ms/step - loss: 0.4084 - accuracy: 0.8125 - val_loss: 0.4431 - val_accuracy: 0.8017\n",
            "Epoch 33/50\n",
            "1004/1004 [==============================] - 238s 237ms/step - loss: 0.4058 - accuracy: 0.8139 - val_loss: 0.4517 - val_accuracy: 0.7994\n",
            "Epoch 34/50\n",
            "1004/1004 [==============================] - 238s 237ms/step - loss: 0.4088 - accuracy: 0.8133 - val_loss: 0.4512 - val_accuracy: 0.8001\n",
            "Epoch 35/50\n",
            "1004/1004 [==============================] - 238s 237ms/step - loss: 0.4108 - accuracy: 0.8099 - val_loss: 0.4484 - val_accuracy: 0.7987\n",
            "Epoch 36/50\n",
            "1004/1004 [==============================] - 238s 237ms/step - loss: 0.4115 - accuracy: 0.8120 - val_loss: 0.4519 - val_accuracy: 0.7954\n",
            "Epoch 37/50\n",
            "1004/1004 [==============================] - 238s 237ms/step - loss: 0.4113 - accuracy: 0.8114 - val_loss: 0.4484 - val_accuracy: 0.7991\n",
            "Epoch 38/50\n",
            "1004/1004 [==============================] - 239s 238ms/step - loss: 0.4093 - accuracy: 0.8114 - val_loss: 0.4507 - val_accuracy: 0.8021\n",
            "Epoch 39/50\n",
            "1004/1004 [==============================] - 238s 237ms/step - loss: 0.4079 - accuracy: 0.8105 - val_loss: 0.4493 - val_accuracy: 0.7967\n",
            "Epoch 40/50\n",
            "1004/1004 [==============================] - 238s 237ms/step - loss: 0.4087 - accuracy: 0.8102 - val_loss: 0.4500 - val_accuracy: 0.7987\n",
            "Epoch 41/50\n",
            "1004/1004 [==============================] - 238s 237ms/step - loss: 0.4133 - accuracy: 0.8141 - val_loss: 0.4534 - val_accuracy: 0.8001\n",
            "Epoch 42/50\n",
            "1004/1004 [==============================] - 238s 237ms/step - loss: 0.4109 - accuracy: 0.8107 - val_loss: 0.4516 - val_accuracy: 0.8017\n",
            "Epoch 43/50\n",
            "1004/1004 [==============================] - 238s 237ms/step - loss: 0.4077 - accuracy: 0.8138 - val_loss: 0.4439 - val_accuracy: 0.8021\n",
            "Epoch 44/50\n",
            "1004/1004 [==============================] - 238s 237ms/step - loss: 0.4087 - accuracy: 0.8113 - val_loss: 0.4533 - val_accuracy: 0.8004\n",
            "Epoch 45/50\n",
            "1004/1004 [==============================] - 238s 237ms/step - loss: 0.4070 - accuracy: 0.8130 - val_loss: 0.4467 - val_accuracy: 0.7991\n",
            "Epoch 46/50\n",
            "1004/1004 [==============================] - 239s 238ms/step - loss: 0.4084 - accuracy: 0.8126 - val_loss: 0.4448 - val_accuracy: 0.8028\n",
            "Epoch 47/50\n",
            "1004/1004 [==============================] - 238s 237ms/step - loss: 0.4106 - accuracy: 0.8138 - val_loss: 0.4517 - val_accuracy: 0.8011\n",
            "Epoch 48/50\n",
            "1004/1004 [==============================] - 238s 237ms/step - loss: 0.4107 - accuracy: 0.8120 - val_loss: 0.4452 - val_accuracy: 0.7960\n",
            "Epoch 49/50\n",
            "1004/1004 [==============================] - 238s 237ms/step - loss: 0.4115 - accuracy: 0.8116 - val_loss: 0.4441 - val_accuracy: 0.8014\n",
            "Epoch 50/50\n",
            "1004/1004 [==============================] - 238s 237ms/step - loss: 0.4085 - accuracy: 0.8133 - val_loss: 0.4599 - val_accuracy: 0.7937\n"
          ]
        }
      ],
      "source": [
        "# Entrenamos la red\n",
        "history = model.fit(\n",
        "    train_gen,\n",
        "    validation_data=valid_gen,\n",
        "    epochs=EPOCHS,\n",
        ")"
      ]
    },
    {
      "cell_type": "markdown",
      "metadata": {
        "id": "v5Y8H4veg1aH"
      },
      "source": [
        "## Guardado del modelo"
      ]
    },
    {
      "cell_type": "markdown",
      "metadata": {
        "id": "9DjjGCJvg4nn"
      },
      "source": [
        "Antes de evaluar a nivel visual el modelo vamos a guardarlo:"
      ]
    },
    {
      "cell_type": "code",
      "execution_count": 21,
      "metadata": {
        "colab": {
          "base_uri": "https://localhost:8080/"
        },
        "id": "ag3W5YR3g9X2",
        "outputId": "dd6eb4b7-5ba8-41c7-d5fd-412dc3921eb6"
      },
      "outputs": [
        {
          "output_type": "stream",
          "name": "stdout",
          "text": [
            "INFO:tensorflow:Assets written to: /content/drive/MyDrive/TFM/models/EfficientNetB3/model1/model_EP50_LR0.0001_BS32.pickle/assets\n"
          ]
        }
      ],
      "source": [
        "# Guardamos el modelo\n",
        "model_save_path = \"/content/drive/MyDrive/TFM/models/EfficientNetB3/\" + MODEL_NAME + \"model_\" + \"EP\" + str(EPOCHS) + \"_\" + \"LR\" + str(LEARNING_RATE) + \"_\" + \"BS\" + str(BATCH_SIZE) + '.pickle'\n",
        "model.save(model_save_path)"
      ]
    },
    {
      "cell_type": "code",
      "execution_count": 22,
      "metadata": {
        "id": "nMpTX4NZjtUD"
      },
      "outputs": [],
      "source": [
        "# Guardamos el history del modelo\n",
        "pickle.dump(history.history, open(os.path.join(\"/content/drive/MyDrive/TFM/models/EfficientNetB3/\" + MODEL_NAME, \"history.pickle\"), 'wb'))"
      ]
    },
    {
      "cell_type": "markdown",
      "metadata": {
        "id": "46Df3-w5hVO5"
      },
      "source": [
        "## Visualización de la pérdida y de la precisión"
      ]
    },
    {
      "cell_type": "code",
      "execution_count": 23,
      "metadata": {
        "id": "6FRtOWjlhZCa"
      },
      "outputs": [],
      "source": [
        "# Visualizamos la evolución de la accuracy\n",
        "def show_accuracy(history):\n",
        "  fig, axis = plt.subplots(figsize=(8,5))\n",
        "  plt.plot(history['accuracy'])\n",
        "  plt.plot(history['val_accuracy'])\n",
        "  plt.title('model accuracy')\n",
        "  plt.ylabel('accuracy')\n",
        "  plt.xlabel('epoch')\n",
        "  plt.legend(['train', 'validation'], loc='lower right')\n",
        "  plt.show()\n",
        "\n",
        "# Visualizamos la evolución del error cometido por la red\n",
        "def show_loss(history):\n",
        "  fig, axis = plt.subplots(figsize=(8,5))\n",
        "  plt.plot(history['loss'])\n",
        "  plt.plot(history['val_loss'])\n",
        "  plt.title('model loss')\n",
        "  plt.ylabel('loss')\n",
        "  plt.xlabel('epoch')\n",
        "  plt.legend(['train', 'validation'], loc='upper right')\n",
        "  plt.show()"
      ]
    },
    {
      "cell_type": "code",
      "execution_count": 24,
      "metadata": {
        "colab": {
          "base_uri": "https://localhost:8080/",
          "height": 683
        },
        "id": "bXt2I_azlF40",
        "outputId": "4ce16e4b-25d2-45d7-d823-68fdb2fa27ef"
      },
      "outputs": [
        {
          "output_type": "display_data",
          "data": {
            "text/plain": [
              "<Figure size 576x360 with 1 Axes>"
            ],
            "image/png": "[encoded data removed]"
          },
          "metadata": {
            "needs_background": "light"
          }
        },
        {
          "output_type": "display_data",
          "data": {
            "text/plain": [
              "<Figure size 576x360 with 1 Axes>"
            ],
            "image/png": "[encoded data removed]"
          },
          "metadata": {
            "needs_background": "light"
          }
        }
      ],
      "source": [
        "show_accuracy(history.history)\n",
        "show_loss(history.history)"
      ]
    },
    {
      "cell_type": "markdown",
      "metadata": {
        "id": "cWV0p_Rdx27e"
      },
      "source": [
        "## Evaluación del modelo"
      ]
    },
    {
      "cell_type": "markdown",
      "metadata": {
        "id": "YsW3tC18xuVP"
      },
      "source": [
        "Evaluación del modelo a partir de la matriz de confusión y del informe de clasificación:"
      ]
    },
    {
      "cell_type": "code",
      "execution_count": 12,
      "metadata": {
        "id": "DFk_mKW_xuVQ"
      },
      "outputs": [],
      "source": [
        "# Obtenermos el generador para test\n",
        "test_gen = DataGenerator(folder=TEST_FOLDER, dataset=df_test, dic_images=dic_images, batch_size=BATCH_SIZE, image_size=IMG_SIZE, shuffle=False, predict=True)"
      ]
    },
    {
      "cell_type": "code",
      "execution_count": 26,
      "metadata": {
        "id": "yuZ9Qzv-xuVQ"
      },
      "outputs": [],
      "source": [
        "# Calculamos las predicciones para cada batch\n",
        "y_test = []\n",
        "y_preds = []\n",
        "y_probs = []\n",
        "\n",
        "for images, filenames in test_gen:\n",
        "  y_preds_batch = model.predict(images)\n",
        "\n",
        "  for y_pred, filename in zip(y_preds_batch, filenames):\n",
        "    y_test.append(df_test[df_test[\"PatientId\"] == filename.split(\".\")[0]][\"Target\"].item())\n",
        "    y_probs.append(y_pred)\n",
        "    if y_pred < 0.5:\n",
        "      y_preds.append(0)\n",
        "    else:\n",
        "      y_preds.append(1)"
      ]
    },
    {
      "cell_type": "code",
      "execution_count": 27,
      "metadata": {
        "colab": {
          "base_uri": "https://localhost:8080/",
          "height": 782
        },
        "id": "zePP0XDexuVR",
        "outputId": "72269e8e-3117-4ba9-c6c9-b2116c527284"
      },
      "outputs": [
        {
          "output_type": "display_data",
          "data": {
            "text/plain": [
              "<Figure size 864x864 with 2 Axes>"
            ],
            "image/png": "[encoded data removed]"
          },
          "metadata": {
            "needs_background": "light"
          }
        },
        {
          "output_type": "stream",
          "name": "stdout",
          "text": [
            "\n",
            "\n",
            "La precisión: 79.6 %\n"
          ]
        }
      ],
      "source": [
        "# Matriz de confusión\n",
        "matrix = confusion_matrix(y_test, y_preds)\n",
        "\n",
        "# Visualización de la matriz de confusión\n",
        "# https://stackoverflow.com/questions/19233771/sklearn-plot-confusion-matrix-with-labels\n",
        "fig, ax = plt.subplots(nrows=1, ncols=1, figsize=(12,12))\n",
        "sns.heatmap(matrix, annot=True, fmt='g', ax=ax)  #annot=True to annotate cells, ftm='g' to disable scientific notation\n",
        "ax.set_xlabel('Predicted labels');ax.set_ylabel('True labels')\n",
        "ax.set_title('Confusion Matrix');\n",
        "ax.xaxis.set_ticklabels(list(np.unique(y_preds)))\n",
        "ax.yaxis.set_ticklabels(list(np.unique(y_preds)))\n",
        "plt.show()\n",
        "\n",
        "#Accuracy\n",
        "accuracy = 0\n",
        "for i in range(matrix.shape[0]):\n",
        "  accuracy += matrix[i,i]\n",
        "accuracy = accuracy / sum(sum(matrix))\n",
        "print(\"\\n\\nLa precisión: \" + str(round(accuracy * 100, 2)) + \" %\")"
      ]
    },
    {
      "cell_type": "code",
      "execution_count": 28,
      "metadata": {
        "colab": {
          "base_uri": "https://localhost:8080/"
        },
        "id": "6v51wAykxuVR",
        "outputId": "35a75aca-3f60-4f23-f4c9-70627e1b4961"
      },
      "outputs": [
        {
          "output_type": "stream",
          "name": "stdout",
          "text": [
            "              precision    recall  f1-score   support\n",
            "\n",
            "           0       0.82      0.94      0.88      2280\n",
            "           1       0.63      0.32      0.42       696\n",
            "\n",
            "    accuracy                           0.80      2976\n",
            "   macro avg       0.72      0.63      0.65      2976\n",
            "weighted avg       0.77      0.80      0.77      2976\n",
            "\n"
          ]
        }
      ],
      "source": [
        "#Precision, Recall and F1-score\n",
        "print(classification_report(y_test, y_preds))"
      ]
    },
    {
      "cell_type": "code",
      "execution_count": 29,
      "metadata": {
        "colab": {
          "base_uri": "https://localhost:8080/",
          "height": 530
        },
        "id": "ua9OAH0cxuVS",
        "outputId": "16c28ef0-8f3d-47a5-c9c7-52b05c4a7acc"
      },
      "outputs": [
        {
          "output_type": "execute_result",
          "data": {
            "text/plain": [
              "Text(0.5, 1.0, 'Lung Opacity ROC Curve')"
            ]
          },
          "metadata": {},
          "execution_count": 29
        },
        {
          "output_type": "display_data",
          "data": {
            "text/plain": [
              "<Figure size 576x576 with 1 Axes>"
            ],
            "image/png": "[encoded data removed]"
          },
          "metadata": {
            "needs_background": "light"
          }
        }
      ],
      "source": [
        "fpr, tpr, _ = roc_curve(y_test, y_probs)\n",
        "fig, ax1 = plt.subplots(1,1, figsize = (8, 8))\n",
        "ax1.plot(fpr, tpr, 'b.-', label = 'EfficientNetB0 (AUC:%2.2f)' % roc_auc_score(y_test, y_probs))\n",
        "ax1.plot(fpr, fpr, 'k-', label = 'Random Guessing')\n",
        "ax1.legend(loc = 4)\n",
        "ax1.set_xlabel('False Positive Rate')\n",
        "ax1.set_ylabel('True Positive Rate');\n",
        "ax1.set_title('Lung Opacity ROC Curve')"
      ]
    },
    {
      "cell_type": "markdown",
      "metadata": {
        "id": "L_aSa1gElqJI"
      },
      "source": [
        "# Fine-tuning"
      ]
    },
    {
      "cell_type": "markdown",
      "metadata": {
        "id": "kCRp8GkBl4sP"
      },
      "source": [
        "Una vez tenemos el red neuronal entrenada procedemos a mejorar la precisión de la misma, para ello vas a realizar lo técnica que se conoce como \"fine-tuning\".\n",
        "\n",
        "El objetivo Fine-tuning es mejorar la precisión del modelo a partir de \"descongelar\" cierto número de layers del modelo base y usar un learning rate más pequeño."
      ]
    },
    {
      "cell_type": "markdown",
      "metadata": {
        "id": "QmkozaELn3XV"
      },
      "source": [
        "## Hiperparámetros"
      ]
    },
    {
      "cell_type": "code",
      "execution_count": 31,
      "metadata": {
        "id": "tfvZO_venOSP"
      },
      "outputs": [],
      "source": [
        "# CNN\n",
        "LEARNING_RATE_FT = 1e-5 # 1e-4, 1e-5\n",
        "EPOCHS_FT = 15 # 15, 10, 15"
      ]
    },
    {
      "cell_type": "markdown",
      "metadata": {
        "id": "jKr6Tyy8n9PQ"
      },
      "source": [
        "## CNN y Fine-tuning"
      ]
    },
    {
      "cell_type": "code",
      "source": [
        "def unfreeze_model(model):\n",
        "  # Freezing layers not training, the model has 390 layers\n",
        "  for layer in model.layers[:-4]: # Todo el modelo base\n",
        "    if not isinstance(layer, layers.BatchNormalization):\n",
        "      layer.trainable = True\n",
        "\n",
        "  # Compile\n",
        "  optimizer = Adam(learning_rate=LEARNING_RATE_FT)\n",
        "  model.compile(\n",
        "      optimizer=optimizer, loss=\"binary_crossentropy\", metrics=[\"accuracy\"]\n",
        "  )\n",
        "\n",
        "  return model"
      ],
      "metadata": {
        "id": "xq4MNY_2b3Bm"
      },
      "execution_count": 14,
      "outputs": []
    },
    {
      "cell_type": "code",
      "execution_count": null,
      "metadata": {
        "id": "5Fs0vHuOm-cY"
      },
      "outputs": [],
      "source": [
        "# def unfreeze_model():\n",
        "#   inputs = layers.Input(shape=(IMG_SIZE, IMG_SIZE, 1))\n",
        "#   x = img_augmentation(inputs)\n",
        "#   x = layers.Concatenate()([x, x, x])  \n",
        "#   model = EfficientNetB3(include_top=False, input_tensor=x, weights=\"imagenet\")\n",
        "\n",
        "#   # Freezing layers not training, the model has 390 layers\n",
        "#   for layer in model.layers[:-130]:\n",
        "#     layer.trainable = False\n",
        "\n",
        "#   # Rebuild top\n",
        "#   x = layers.GlobalAveragePooling2D(name=\"avg_pool\")(model.output)\n",
        "#   x = layers.BatchNormalization()(x)\n",
        "\n",
        "#   top_dropout_rate = 0.2\n",
        "#   x = layers.Dropout(top_dropout_rate, name=\"top_dropout\")(x)\n",
        "#   outputs = layers.Dense(1, activation=\"sigmoid\", name=\"pred\")(x)\n",
        "\n",
        "#   # Compile\n",
        "#   model = keras.Model(inputs, outputs, name=\"EfficientNet\")\n",
        "#   optimizer = Adam(learning_rate=LEARNING_RATE_FT)\n",
        "#   model.compile(\n",
        "#       optimizer=optimizer, loss=\"binary_crossentropy\", metrics=[\"accuracy\"]\n",
        "#   )\n",
        "#   return model"
      ]
    },
    {
      "cell_type": "markdown",
      "metadata": {
        "id": "ZUuqw3NJoEM7"
      },
      "source": [
        "## Training"
      ]
    },
    {
      "cell_type": "code",
      "source": [
        "model = load_model(\"/content/drive/MyDrive/TFM/models/EfficientNetB3/model1/model_EP50_LR0.0001_BS32.pickle\")"
      ],
      "metadata": {
        "id": "2ME_NlP5fG9i"
      },
      "execution_count": 32,
      "outputs": []
    },
    {
      "cell_type": "code",
      "execution_count": 33,
      "metadata": {
        "id": "Qz6iyAU7nquI"
      },
      "outputs": [],
      "source": [
        "# Descongelamos layers del modelo base\n",
        "model_ft = unfreeze_model(model)\n",
        "# model_ft = unfreeze_model()"
      ]
    },
    {
      "cell_type": "code",
      "execution_count": null,
      "metadata": {
        "colab": {
          "base_uri": "https://localhost:8080/"
        },
        "id": "KDdVDvtQoakf",
        "outputId": "278c9b4f-242c-4c46-dbbc-9b4b904cbde1"
      },
      "outputs": [
        {
          "output_type": "stream",
          "name": "stdout",
          "text": [
            "Epoch 1/15\n",
            " 278/1004 [=======>......................] - ETA: 9:37 - loss: 0.3976 - accuracy: 0.8146"
          ]
        }
      ],
      "source": [
        "# Entrenamos la red\n",
        "history_ft = model_ft.fit(\n",
        "    train_gen,\n",
        "    validation_data=valid_gen,\n",
        "    epochs=EPOCHS_FT,\n",
        ")"
      ]
    },
    {
      "cell_type": "markdown",
      "metadata": {
        "id": "pal_6fgvsQ_O"
      },
      "source": [
        "## Guardado del modelo"
      ]
    },
    {
      "cell_type": "code",
      "execution_count": 20,
      "metadata": {
        "colab": {
          "base_uri": "https://localhost:8080/"
        },
        "id": "Qx50aZyDseE_",
        "outputId": "d8c460aa-0aa7-4fee-ec8a-4472926d3d17"
      },
      "outputs": [
        {
          "output_type": "stream",
          "name": "stdout",
          "text": [
            "INFO:tensorflow:Assets written to: /content/drive/MyDrive/TFM/models/EfficientNetB3/model1/model_ftEP7_LR1e-05_BS32.pickle/assets\n"
          ]
        }
      ],
      "source": [
        "# Guardamos el modelo\n",
        "model_ft_save_path = \"/content/drive/MyDrive/TFM/models/EfficientNetB3/\" + MODEL_NAME + \"model_ft\" + \"EP\" + str(EPOCHS_FT) + \"_\" + \"LR\" + str(LEARNING_RATE_FT) + \"_\" + \"BS\" + str(BATCH_SIZE) + '.pickle'\n",
        "model_ft.save(model_ft_save_path)"
      ]
    },
    {
      "cell_type": "code",
      "execution_count": 21,
      "metadata": {
        "id": "_t74mC7JsrwH"
      },
      "outputs": [],
      "source": [
        "# Guardamos el history del modelo\n",
        "pickle.dump(history_ft.history, open(os.path.join(\"/content/drive/MyDrive/TFM/models/EfficientNetB3/\" + MODEL_NAME, \"history_ft.pickle\"), 'wb'))"
      ]
    },
    {
      "cell_type": "markdown",
      "metadata": {
        "id": "I87eAVTKsTOA"
      },
      "source": [
        "## Visualización de la pérdida y de la precisión"
      ]
    },
    {
      "cell_type": "code",
      "execution_count": 24,
      "metadata": {
        "colab": {
          "base_uri": "https://localhost:8080/",
          "height": 683
        },
        "id": "R5wLL9-es0KU",
        "outputId": "d52f42b2-32cb-4820-f210-a800a1a548d8"
      },
      "outputs": [
        {
          "output_type": "display_data",
          "data": {
            "text/plain": [
              "<Figure size 576x360 with 1 Axes>"
            ],
            "image/png": "[encoded data removed]"
          },
          "metadata": {
            "needs_background": "light"
          }
        },
        {
          "output_type": "display_data",
          "data": {
            "text/plain": [
              "<Figure size 576x360 with 1 Axes>"
            ],
            "image/png": "[encoded data removed]"
          },
          "metadata": {
            "needs_background": "light"
          }
        }
      ],
      "source": [
        "show_accuracy(history_ft.history)\n",
        "show_loss(history_ft.history)"
      ]
    },
    {
      "cell_type": "markdown",
      "metadata": {
        "id": "iFdE-vSwsDo8"
      },
      "source": [
        "## Evaluación del modelo"
      ]
    },
    {
      "cell_type": "markdown",
      "metadata": {
        "id": "lJLFPUwZsMve"
      },
      "source": [
        "Evaluación del modelo a partir de la matriz de confusión y del informe de clasificación:"
      ]
    },
    {
      "cell_type": "code",
      "execution_count": 25,
      "metadata": {
        "id": "eUtZ41O63AXh"
      },
      "outputs": [],
      "source": [
        "# Obtenermos el generador para test\n",
        "test_gen = DataGenerator(folder=TEST_FOLDER, dataset=df_test, dic_images=dic_images, batch_size=BATCH_SIZE, image_size=IMG_SIZE, shuffle=False, predict=True)"
      ]
    },
    {
      "cell_type": "code",
      "execution_count": 26,
      "metadata": {
        "id": "A148EiyU3moi"
      },
      "outputs": [],
      "source": [
        "# Calculamos las predicciones para cada batch\n",
        "y_test = []\n",
        "y_preds = []\n",
        "y_probs = []\n",
        "\n",
        "for images, filenames in test_gen:\n",
        "  y_preds_batch = model_ft.predict(images)\n",
        "\n",
        "  for y_pred, filename in zip(y_preds_batch, filenames):\n",
        "    y_test.append(df_test[df_test[\"PatientId\"] == filename.split(\".\")[0]][\"Target\"].item())\n",
        "    y_probs.append(y_pred)\n",
        "    if y_pred < 0.5:\n",
        "      y_preds.append(0)\n",
        "    else:\n",
        "      y_preds.append(1)"
      ]
    },
    {
      "cell_type": "code",
      "execution_count": 27,
      "metadata": {
        "colab": {
          "base_uri": "https://localhost:8080/",
          "height": 782
        },
        "id": "gmUDXXjM2QuK",
        "outputId": "4c6b05b2-c0ca-4688-f968-abb5f920c7d8"
      },
      "outputs": [
        {
          "output_type": "display_data",
          "data": {
            "text/plain": [
              "<Figure size 864x864 with 2 Axes>"
            ],
            "image/png": "[encoded data removed]"
          },
          "metadata": {
            "needs_background": "light"
          }
        },
        {
          "output_type": "stream",
          "name": "stdout",
          "text": [
            "\n",
            "\n",
            "La precisión: 82.22 %\n"
          ]
        }
      ],
      "source": [
        "# Matriz de confusión\n",
        "matrix = confusion_matrix(y_test, y_preds)\n",
        "\n",
        "# Visualización de la matriz de confusión\n",
        "# https://stackoverflow.com/questions/19233771/sklearn-plot-confusion-matrix-with-labels\n",
        "fig, ax = plt.subplots(nrows=1, ncols=1, figsize=(12,12))\n",
        "sns.heatmap(matrix, annot=True, fmt='g', ax=ax)  #annot=True to annotate cells, ftm='g' to disable scientific notation\n",
        "ax.set_xlabel('Predicted labels');ax.set_ylabel('True labels')\n",
        "ax.set_title('Confusion Matrix');\n",
        "ax.xaxis.set_ticklabels(list(np.unique(y_preds)))\n",
        "ax.yaxis.set_ticklabels(list(np.unique(y_preds)))\n",
        "plt.show()\n",
        "\n",
        "#Accuracy\n",
        "accuracy = 0\n",
        "for i in range(matrix.shape[0]):\n",
        "  accuracy += matrix[i,i]\n",
        "accuracy = accuracy / sum(sum(matrix))\n",
        "print(\"\\n\\nLa precisión: \" + str(round(accuracy * 100, 2)) + \" %\")"
      ]
    },
    {
      "cell_type": "code",
      "execution_count": 28,
      "metadata": {
        "colab": {
          "base_uri": "https://localhost:8080/"
        },
        "id": "zdYnkJA2-j-j",
        "outputId": "33009e7f-04cf-4147-e437-748ea1d78a02"
      },
      "outputs": [
        {
          "output_type": "stream",
          "name": "stdout",
          "text": [
            "              precision    recall  f1-score   support\n",
            "\n",
            "           0       0.84      0.95      0.89      2280\n",
            "           1       0.71      0.41      0.52       696\n",
            "\n",
            "    accuracy                           0.82      2976\n",
            "   macro avg       0.77      0.68      0.70      2976\n",
            "weighted avg       0.81      0.82      0.80      2976\n",
            "\n"
          ]
        }
      ],
      "source": [
        "#Precision, Recall and F1-score\n",
        "print(classification_report(y_test, y_preds))"
      ]
    },
    {
      "cell_type": "code",
      "execution_count": 29,
      "metadata": {
        "colab": {
          "base_uri": "https://localhost:8080/",
          "height": 530
        },
        "id": "BQ678q0NT2R8",
        "outputId": "65872369-ec4f-4c68-da81-ae8e08aa2baa"
      },
      "outputs": [
        {
          "output_type": "execute_result",
          "data": {
            "text/plain": [
              "Text(0.5, 1.0, 'Lung Opacity ROC Curve')"
            ]
          },
          "metadata": {},
          "execution_count": 29
        },
        {
          "output_type": "display_data",
          "data": {
            "text/plain": [
              "<Figure size 576x576 with 1 Axes>"
            ],
            "image/png": "[encoded data removed]"
          },
          "metadata": {
            "needs_background": "light"
          }
        }
      ],
      "source": [
        "fpr, tpr, _ = roc_curve(y_test, y_probs)\n",
        "fig, ax1 = plt.subplots(1,1, figsize = (8, 8))\n",
        "ax1.plot(fpr, tpr, 'b.-', label = 'EfficientNetB3 (AUC:%2.2f)' % roc_auc_score(y_test, y_probs))\n",
        "ax1.plot(fpr, fpr, 'k-', label = 'Random Guessing')\n",
        "ax1.legend(loc = 4)\n",
        "ax1.set_xlabel('False Positive Rate')\n",
        "ax1.set_ylabel('True Positive Rate');\n",
        "ax1.set_title('Lung Opacity ROC Curve')"
      ]
    },
    {
      "cell_type": "markdown",
      "source": [
        "# Resumen del modelo"
      ],
      "metadata": {
        "id": "XuZ4bYG_c562"
      }
    },
    {
      "cell_type": "code",
      "execution_count": 31,
      "metadata": {
        "colab": {
          "base_uri": "https://localhost:8080/"
        },
        "id": "dZqUPuXI4-Cs",
        "outputId": "7cce1721-9913-48a4-bd69-03b46a0c10d0"
      },
      "outputs": [
        {
          "output_type": "stream",
          "name": "stdout",
          "text": [
            "Model: \"EfficientNet\"\n",
            "__________________________________________________________________________________________________\n",
            " Layer (type)                   Output Shape         Param #     Connected to                     \n",
            "==================================================================================================\n",
            " input_2 (InputLayer)           [(None, 300, 300, 1  0           []                               \n",
            "                                )]                                                                \n",
            "                                                                                                  \n",
            " img_augmentation (Sequential)  (None, 300, 300, 1)  0           ['input_2[0][0]']                \n",
            "                                                                                                  \n",
            " concatenate_1 (Concatenate)    (None, 300, 300, 3)  0           ['img_augmentation[0][0]',       \n",
            "                                                                  'img_augmentation[0][0]',       \n",
            "                                                                  'img_augmentation[0][0]']       \n",
            "                                                                                                  \n",
            " rescaling_1 (Rescaling)        (None, 300, 300, 3)  0           ['concatenate_1[0][0]']          \n",
            "                                                                                                  \n",
            " normalization_1 (Normalization  (None, 300, 300, 3)  7          ['rescaling_1[0][0]']            \n",
            " )                                                                                                \n",
            "                                                                                                  \n",
            " stem_conv_pad (ZeroPadding2D)  (None, 301, 301, 3)  0           ['normalization_1[0][0]']        \n",
            "                                                                                                  \n",
            " stem_conv (Conv2D)             (None, 150, 150, 40  1080        ['stem_conv_pad[0][0]']          \n",
            "                                )                                                                 \n",
            "                                                                                                  \n",
            " stem_bn (BatchNormalization)   (None, 150, 150, 40  160         ['stem_conv[0][0]']              \n",
            "                                )                                                                 \n",
            "                                                                                                  \n",
            " stem_activation (Activation)   (None, 150, 150, 40  0           ['stem_bn[0][0]']                \n",
            "                                )                                                                 \n",
            "                                                                                                  \n",
            " block1a_dwconv (DepthwiseConv2  (None, 150, 150, 40  360        ['stem_activation[0][0]']        \n",
            " D)                             )                                                                 \n",
            "                                                                                                  \n",
            " block1a_bn (BatchNormalization  (None, 150, 150, 40  160        ['block1a_dwconv[0][0]']         \n",
            " )                              )                                                                 \n",
            "                                                                                                  \n",
            " block1a_activation (Activation  (None, 150, 150, 40  0          ['block1a_bn[0][0]']             \n",
            " )                              )                                                                 \n",
            "                                                                                                  \n",
            " block1a_se_squeeze (GlobalAver  (None, 40)          0           ['block1a_activation[0][0]']     \n",
            " agePooling2D)                                                                                    \n",
            "                                                                                                  \n",
            " block1a_se_reshape (Reshape)   (None, 1, 1, 40)     0           ['block1a_se_squeeze[0][0]']     \n",
            "                                                                                                  \n",
            " block1a_se_reduce (Conv2D)     (None, 1, 1, 10)     410         ['block1a_se_reshape[0][0]']     \n",
            "                                                                                                  \n",
            " block1a_se_expand (Conv2D)     (None, 1, 1, 40)     440         ['block1a_se_reduce[0][0]']      \n",
            "                                                                                                  \n",
            " block1a_se_excite (Multiply)   (None, 150, 150, 40  0           ['block1a_activation[0][0]',     \n",
            "                                )                                 'block1a_se_expand[0][0]']      \n",
            "                                                                                                  \n",
            " block1a_project_conv (Conv2D)  (None, 150, 150, 24  960         ['block1a_se_excite[0][0]']      \n",
            "                                )                                                                 \n",
            "                                                                                                  \n",
            " block1a_project_bn (BatchNorma  (None, 150, 150, 24  96         ['block1a_project_conv[0][0]']   \n",
            " lization)                      )                                                                 \n",
            "                                                                                                  \n",
            " block1b_dwconv (DepthwiseConv2  (None, 150, 150, 24  216        ['block1a_project_bn[0][0]']     \n",
            " D)                             )                                                                 \n",
            "                                                                                                  \n",
            " block1b_bn (BatchNormalization  (None, 150, 150, 24  96         ['block1b_dwconv[0][0]']         \n",
            " )                              )                                                                 \n",
            "                                                                                                  \n",
            " block1b_activation (Activation  (None, 150, 150, 24  0          ['block1b_bn[0][0]']             \n",
            " )                              )                                                                 \n",
            "                                                                                                  \n",
            " block1b_se_squeeze (GlobalAver  (None, 24)          0           ['block1b_activation[0][0]']     \n",
            " agePooling2D)                                                                                    \n",
            "                                                                                                  \n",
            " block1b_se_reshape (Reshape)   (None, 1, 1, 24)     0           ['block1b_se_squeeze[0][0]']     \n",
            "                                                                                                  \n",
            " block1b_se_reduce (Conv2D)     (None, 1, 1, 6)      150         ['block1b_se_reshape[0][0]']     \n",
            "                                                                                                  \n",
            " block1b_se_expand (Conv2D)     (None, 1, 1, 24)     168         ['block1b_se_reduce[0][0]']      \n",
            "                                                                                                  \n",
            " block1b_se_excite (Multiply)   (None, 150, 150, 24  0           ['block1b_activation[0][0]',     \n",
            "                                )                                 'block1b_se_expand[0][0]']      \n",
            "                                                                                                  \n",
            " block1b_project_conv (Conv2D)  (None, 150, 150, 24  576         ['block1b_se_excite[0][0]']      \n",
            "                                )                                                                 \n",
            "                                                                                                  \n",
            " block1b_project_bn (BatchNorma  (None, 150, 150, 24  96         ['block1b_project_conv[0][0]']   \n",
            " lization)                      )                                                                 \n",
            "                                                                                                  \n",
            " block1b_drop (Dropout)         (None, 150, 150, 24  0           ['block1b_project_bn[0][0]']     \n",
            "                                )                                                                 \n",
            "                                                                                                  \n",
            " block1b_add (Add)              (None, 150, 150, 24  0           ['block1b_drop[0][0]',           \n",
            "                                )                                 'block1a_project_bn[0][0]']     \n",
            "                                                                                                  \n",
            " block2a_expand_conv (Conv2D)   (None, 150, 150, 14  3456        ['block1b_add[0][0]']            \n",
            "                                4)                                                                \n",
            "                                                                                                  \n",
            " block2a_expand_bn (BatchNormal  (None, 150, 150, 14  576        ['block2a_expand_conv[0][0]']    \n",
            " ization)                       4)                                                                \n",
            "                                                                                                  \n",
            " block2a_expand_activation (Act  (None, 150, 150, 14  0          ['block2a_expand_bn[0][0]']      \n",
            " ivation)                       4)                                                                \n",
            "                                                                                                  \n",
            " block2a_dwconv_pad (ZeroPaddin  (None, 151, 151, 14  0          ['block2a_expand_activation[0][0]\n",
            " g2D)                           4)                               ']                               \n",
            "                                                                                                  \n",
            " block2a_dwconv (DepthwiseConv2  (None, 75, 75, 144)  1296       ['block2a_dwconv_pad[0][0]']     \n",
            " D)                                                                                               \n",
            "                                                                                                  \n",
            " block2a_bn (BatchNormalization  (None, 75, 75, 144)  576        ['block2a_dwconv[0][0]']         \n",
            " )                                                                                                \n",
            "                                                                                                  \n",
            " block2a_activation (Activation  (None, 75, 75, 144)  0          ['block2a_bn[0][0]']             \n",
            " )                                                                                                \n",
            "                                                                                                  \n",
            " block2a_se_squeeze (GlobalAver  (None, 144)         0           ['block2a_activation[0][0]']     \n",
            " agePooling2D)                                                                                    \n",
            "                                                                                                  \n",
            " block2a_se_reshape (Reshape)   (None, 1, 1, 144)    0           ['block2a_se_squeeze[0][0]']     \n",
            "                                                                                                  \n",
            " block2a_se_reduce (Conv2D)     (None, 1, 1, 6)      870         ['block2a_se_reshape[0][0]']     \n",
            "                                                                                                  \n",
            " block2a_se_expand (Conv2D)     (None, 1, 1, 144)    1008        ['block2a_se_reduce[0][0]']      \n",
            "                                                                                                  \n",
            " block2a_se_excite (Multiply)   (None, 75, 75, 144)  0           ['block2a_activation[0][0]',     \n",
            "                                                                  'block2a_se_expand[0][0]']      \n",
            "                                                                                                  \n",
            " block2a_project_conv (Conv2D)  (None, 75, 75, 32)   4608        ['block2a_se_excite[0][0]']      \n",
            "                                                                                                  \n",
            " block2a_project_bn (BatchNorma  (None, 75, 75, 32)  128         ['block2a_project_conv[0][0]']   \n",
            " lization)                                                                                        \n",
            "                                                                                                  \n",
            " block2b_expand_conv (Conv2D)   (None, 75, 75, 192)  6144        ['block2a_project_bn[0][0]']     \n",
            "                                                                                                  \n",
            " block2b_expand_bn (BatchNormal  (None, 75, 75, 192)  768        ['block2b_expand_conv[0][0]']    \n",
            " ization)                                                                                         \n",
            "                                                                                                  \n",
            " block2b_expand_activation (Act  (None, 75, 75, 192)  0          ['block2b_expand_bn[0][0]']      \n",
            " ivation)                                                                                         \n",
            "                                                                                                  \n",
            " block2b_dwconv (DepthwiseConv2  (None, 75, 75, 192)  1728       ['block2b_expand_activation[0][0]\n",
            " D)                                                              ']                               \n",
            "                                                                                                  \n",
            " block2b_bn (BatchNormalization  (None, 75, 75, 192)  768        ['block2b_dwconv[0][0]']         \n",
            " )                                                                                                \n",
            "                                                                                                  \n",
            " block2b_activation (Activation  (None, 75, 75, 192)  0          ['block2b_bn[0][0]']             \n",
            " )                                                                                                \n",
            "                                                                                                  \n",
            " block2b_se_squeeze (GlobalAver  (None, 192)         0           ['block2b_activation[0][0]']     \n",
            " agePooling2D)                                                                                    \n",
            "                                                                                                  \n",
            " block2b_se_reshape (Reshape)   (None, 1, 1, 192)    0           ['block2b_se_squeeze[0][0]']     \n",
            "                                                                                                  \n",
            " block2b_se_reduce (Conv2D)     (None, 1, 1, 8)      1544        ['block2b_se_reshape[0][0]']     \n",
            "                                                                                                  \n",
            " block2b_se_expand (Conv2D)     (None, 1, 1, 192)    1728        ['block2b_se_reduce[0][0]']      \n",
            "                                                                                                  \n",
            " block2b_se_excite (Multiply)   (None, 75, 75, 192)  0           ['block2b_activation[0][0]',     \n",
            "                                                                  'block2b_se_expand[0][0]']      \n",
            "                                                                                                  \n",
            " block2b_project_conv (Conv2D)  (None, 75, 75, 32)   6144        ['block2b_se_excite[0][0]']      \n",
            "                                                                                                  \n",
            " block2b_project_bn (BatchNorma  (None, 75, 75, 32)  128         ['block2b_project_conv[0][0]']   \n",
            " lization)                                                                                        \n",
            "                                                                                                  \n",
            " block2b_drop (Dropout)         (None, 75, 75, 32)   0           ['block2b_project_bn[0][0]']     \n",
            "                                                                                                  \n",
            " block2b_add (Add)              (None, 75, 75, 32)   0           ['block2b_drop[0][0]',           \n",
            "                                                                  'block2a_project_bn[0][0]']     \n",
            "                                                                                                  \n",
            " block2c_expand_conv (Conv2D)   (None, 75, 75, 192)  6144        ['block2b_add[0][0]']            \n",
            "                                                                                                  \n",
            " block2c_expand_bn (BatchNormal  (None, 75, 75, 192)  768        ['block2c_expand_conv[0][0]']    \n",
            " ization)                                                                                         \n",
            "                                                                                                  \n",
            " block2c_expand_activation (Act  (None, 75, 75, 192)  0          ['block2c_expand_bn[0][0]']      \n",
            " ivation)                                                                                         \n",
            "                                                                                                  \n",
            " block2c_dwconv (DepthwiseConv2  (None, 75, 75, 192)  1728       ['block2c_expand_activation[0][0]\n",
            " D)                                                              ']                               \n",
            "                                                                                                  \n",
            " block2c_bn (BatchNormalization  (None, 75, 75, 192)  768        ['block2c_dwconv[0][0]']         \n",
            " )                                                                                                \n",
            "                                                                                                  \n",
            " block2c_activation (Activation  (None, 75, 75, 192)  0          ['block2c_bn[0][0]']             \n",
            " )                                                                                                \n",
            "                                                                                                  \n",
            " block2c_se_squeeze (GlobalAver  (None, 192)         0           ['block2c_activation[0][0]']     \n",
            " agePooling2D)                                                                                    \n",
            "                                                                                                  \n",
            " block2c_se_reshape (Reshape)   (None, 1, 1, 192)    0           ['block2c_se_squeeze[0][0]']     \n",
            "                                                                                                  \n",
            " block2c_se_reduce (Conv2D)     (None, 1, 1, 8)      1544        ['block2c_se_reshape[0][0]']     \n",
            "                                                                                                  \n",
            " block2c_se_expand (Conv2D)     (None, 1, 1, 192)    1728        ['block2c_se_reduce[0][0]']      \n",
            "                                                                                                  \n",
            " block2c_se_excite (Multiply)   (None, 75, 75, 192)  0           ['block2c_activation[0][0]',     \n",
            "                                                                  'block2c_se_expand[0][0]']      \n",
            "                                                                                                  \n",
            " block2c_project_conv (Conv2D)  (None, 75, 75, 32)   6144        ['block2c_se_excite[0][0]']      \n",
            "                                                                                                  \n",
            " block2c_project_bn (BatchNorma  (None, 75, 75, 32)  128         ['block2c_project_conv[0][0]']   \n",
            " lization)                                                                                        \n",
            "                                                                                                  \n",
            " block2c_drop (Dropout)         (None, 75, 75, 32)   0           ['block2c_project_bn[0][0]']     \n",
            "                                                                                                  \n",
            " block2c_add (Add)              (None, 75, 75, 32)   0           ['block2c_drop[0][0]',           \n",
            "                                                                  'block2b_add[0][0]']            \n",
            "                                                                                                  \n",
            " block3a_expand_conv (Conv2D)   (None, 75, 75, 192)  6144        ['block2c_add[0][0]']            \n",
            "                                                                                                  \n",
            " block3a_expand_bn (BatchNormal  (None, 75, 75, 192)  768        ['block3a_expand_conv[0][0]']    \n",
            " ization)                                                                                         \n",
            "                                                                                                  \n",
            " block3a_expand_activation (Act  (None, 75, 75, 192)  0          ['block3a_expand_bn[0][0]']      \n",
            " ivation)                                                                                         \n",
            "                                                                                                  \n",
            " block3a_dwconv_pad (ZeroPaddin  (None, 79, 79, 192)  0          ['block3a_expand_activation[0][0]\n",
            " g2D)                                                            ']                               \n",
            "                                                                                                  \n",
            " block3a_dwconv (DepthwiseConv2  (None, 38, 38, 192)  4800       ['block3a_dwconv_pad[0][0]']     \n",
            " D)                                                                                               \n",
            "                                                                                                  \n",
            " block3a_bn (BatchNormalization  (None, 38, 38, 192)  768        ['block3a_dwconv[0][0]']         \n",
            " )                                                                                                \n",
            "                                                                                                  \n",
            " block3a_activation (Activation  (None, 38, 38, 192)  0          ['block3a_bn[0][0]']             \n",
            " )                                                                                                \n",
            "                                                                                                  \n",
            " block3a_se_squeeze (GlobalAver  (None, 192)         0           ['block3a_activation[0][0]']     \n",
            " agePooling2D)                                                                                    \n",
            "                                                                                                  \n",
            " block3a_se_reshape (Reshape)   (None, 1, 1, 192)    0           ['block3a_se_squeeze[0][0]']     \n",
            "                                                                                                  \n",
            " block3a_se_reduce (Conv2D)     (None, 1, 1, 8)      1544        ['block3a_se_reshape[0][0]']     \n",
            "                                                                                                  \n",
            " block3a_se_expand (Conv2D)     (None, 1, 1, 192)    1728        ['block3a_se_reduce[0][0]']      \n",
            "                                                                                                  \n",
            " block3a_se_excite (Multiply)   (None, 38, 38, 192)  0           ['block3a_activation[0][0]',     \n",
            "                                                                  'block3a_se_expand[0][0]']      \n",
            "                                                                                                  \n",
            " block3a_project_conv (Conv2D)  (None, 38, 38, 48)   9216        ['block3a_se_excite[0][0]']      \n",
            "                                                                                                  \n",
            " block3a_project_bn (BatchNorma  (None, 38, 38, 48)  192         ['block3a_project_conv[0][0]']   \n",
            " lization)                                                                                        \n",
            "                                                                                                  \n",
            " block3b_expand_conv (Conv2D)   (None, 38, 38, 288)  13824       ['block3a_project_bn[0][0]']     \n",
            "                                                                                                  \n",
            " block3b_expand_bn (BatchNormal  (None, 38, 38, 288)  1152       ['block3b_expand_conv[0][0]']    \n",
            " ization)                                                                                         \n",
            "                                                                                                  \n",
            " block3b_expand_activation (Act  (None, 38, 38, 288)  0          ['block3b_expand_bn[0][0]']      \n",
            " ivation)                                                                                         \n",
            "                                                                                                  \n",
            " block3b_dwconv (DepthwiseConv2  (None, 38, 38, 288)  7200       ['block3b_expand_activation[0][0]\n",
            " D)                                                              ']                               \n",
            "                                                                                                  \n",
            " block3b_bn (BatchNormalization  (None, 38, 38, 288)  1152       ['block3b_dwconv[0][0]']         \n",
            " )                                                                                                \n",
            "                                                                                                  \n",
            " block3b_activation (Activation  (None, 38, 38, 288)  0          ['block3b_bn[0][0]']             \n",
            " )                                                                                                \n",
            "                                                                                                  \n",
            " block3b_se_squeeze (GlobalAver  (None, 288)         0           ['block3b_activation[0][0]']     \n",
            " agePooling2D)                                                                                    \n",
            "                                                                                                  \n",
            " block3b_se_reshape (Reshape)   (None, 1, 1, 288)    0           ['block3b_se_squeeze[0][0]']     \n",
            "                                                                                                  \n",
            " block3b_se_reduce (Conv2D)     (None, 1, 1, 12)     3468        ['block3b_se_reshape[0][0]']     \n",
            "                                                                                                  \n",
            " block3b_se_expand (Conv2D)     (None, 1, 1, 288)    3744        ['block3b_se_reduce[0][0]']      \n",
            "                                                                                                  \n",
            " block3b_se_excite (Multiply)   (None, 38, 38, 288)  0           ['block3b_activation[0][0]',     \n",
            "                                                                  'block3b_se_expand[0][0]']      \n",
            "                                                                                                  \n",
            " block3b_project_conv (Conv2D)  (None, 38, 38, 48)   13824       ['block3b_se_excite[0][0]']      \n",
            "                                                                                                  \n",
            " block3b_project_bn (BatchNorma  (None, 38, 38, 48)  192         ['block3b_project_conv[0][0]']   \n",
            " lization)                                                                                        \n",
            "                                                                                                  \n",
            " block3b_drop (Dropout)         (None, 38, 38, 48)   0           ['block3b_project_bn[0][0]']     \n",
            "                                                                                                  \n",
            " block3b_add (Add)              (None, 38, 38, 48)   0           ['block3b_drop[0][0]',           \n",
            "                                                                  'block3a_project_bn[0][0]']     \n",
            "                                                                                                  \n",
            " block3c_expand_conv (Conv2D)   (None, 38, 38, 288)  13824       ['block3b_add[0][0]']            \n",
            "                                                                                                  \n",
            " block3c_expand_bn (BatchNormal  (None, 38, 38, 288)  1152       ['block3c_expand_conv[0][0]']    \n",
            " ization)                                                                                         \n",
            "                                                                                                  \n",
            " block3c_expand_activation (Act  (None, 38, 38, 288)  0          ['block3c_expand_bn[0][0]']      \n",
            " ivation)                                                                                         \n",
            "                                                                                                  \n",
            " block3c_dwconv (DepthwiseConv2  (None, 38, 38, 288)  7200       ['block3c_expand_activation[0][0]\n",
            " D)                                                              ']                               \n",
            "                                                                                                  \n",
            " block3c_bn (BatchNormalization  (None, 38, 38, 288)  1152       ['block3c_dwconv[0][0]']         \n",
            " )                                                                                                \n",
            "                                                                                                  \n",
            " block3c_activation (Activation  (None, 38, 38, 288)  0          ['block3c_bn[0][0]']             \n",
            " )                                                                                                \n",
            "                                                                                                  \n",
            " block3c_se_squeeze (GlobalAver  (None, 288)         0           ['block3c_activation[0][0]']     \n",
            " agePooling2D)                                                                                    \n",
            "                                                                                                  \n",
            " block3c_se_reshape (Reshape)   (None, 1, 1, 288)    0           ['block3c_se_squeeze[0][0]']     \n",
            "                                                                                                  \n",
            " block3c_se_reduce (Conv2D)     (None, 1, 1, 12)     3468        ['block3c_se_reshape[0][0]']     \n",
            "                                                                                                  \n",
            " block3c_se_expand (Conv2D)     (None, 1, 1, 288)    3744        ['block3c_se_reduce[0][0]']      \n",
            "                                                                                                  \n",
            " block3c_se_excite (Multiply)   (None, 38, 38, 288)  0           ['block3c_activation[0][0]',     \n",
            "                                                                  'block3c_se_expand[0][0]']      \n",
            "                                                                                                  \n",
            " block3c_project_conv (Conv2D)  (None, 38, 38, 48)   13824       ['block3c_se_excite[0][0]']      \n",
            "                                                                                                  \n",
            " block3c_project_bn (BatchNorma  (None, 38, 38, 48)  192         ['block3c_project_conv[0][0]']   \n",
            " lization)                                                                                        \n",
            "                                                                                                  \n",
            " block3c_drop (Dropout)         (None, 38, 38, 48)   0           ['block3c_project_bn[0][0]']     \n",
            "                                                                                                  \n",
            " block3c_add (Add)              (None, 38, 38, 48)   0           ['block3c_drop[0][0]',           \n",
            "                                                                  'block3b_add[0][0]']            \n",
            "                                                                                                  \n",
            " block4a_expand_conv (Conv2D)   (None, 38, 38, 288)  13824       ['block3c_add[0][0]']            \n",
            "                                                                                                  \n",
            " block4a_expand_bn (BatchNormal  (None, 38, 38, 288)  1152       ['block4a_expand_conv[0][0]']    \n",
            " ization)                                                                                         \n",
            "                                                                                                  \n",
            " block4a_expand_activation (Act  (None, 38, 38, 288)  0          ['block4a_expand_bn[0][0]']      \n",
            " ivation)                                                                                         \n",
            "                                                                                                  \n",
            " block4a_dwconv_pad (ZeroPaddin  (None, 39, 39, 288)  0          ['block4a_expand_activation[0][0]\n",
            " g2D)                                                            ']                               \n",
            "                                                                                                  \n",
            " block4a_dwconv (DepthwiseConv2  (None, 19, 19, 288)  2592       ['block4a_dwconv_pad[0][0]']     \n",
            " D)                                                                                               \n",
            "                                                                                                  \n",
            " block4a_bn (BatchNormalization  (None, 19, 19, 288)  1152       ['block4a_dwconv[0][0]']         \n",
            " )                                                                                                \n",
            "                                                                                                  \n",
            " block4a_activation (Activation  (None, 19, 19, 288)  0          ['block4a_bn[0][0]']             \n",
            " )                                                                                                \n",
            "                                                                                                  \n",
            " block4a_se_squeeze (GlobalAver  (None, 288)         0           ['block4a_activation[0][0]']     \n",
            " agePooling2D)                                                                                    \n",
            "                                                                                                  \n",
            " block4a_se_reshape (Reshape)   (None, 1, 1, 288)    0           ['block4a_se_squeeze[0][0]']     \n",
            "                                                                                                  \n",
            " block4a_se_reduce (Conv2D)     (None, 1, 1, 12)     3468        ['block4a_se_reshape[0][0]']     \n",
            "                                                                                                  \n",
            " block4a_se_expand (Conv2D)     (None, 1, 1, 288)    3744        ['block4a_se_reduce[0][0]']      \n",
            "                                                                                                  \n",
            " block4a_se_excite (Multiply)   (None, 19, 19, 288)  0           ['block4a_activation[0][0]',     \n",
            "                                                                  'block4a_se_expand[0][0]']      \n",
            "                                                                                                  \n",
            " block4a_project_conv (Conv2D)  (None, 19, 19, 96)   27648       ['block4a_se_excite[0][0]']      \n",
            "                                                                                                  \n",
            " block4a_project_bn (BatchNorma  (None, 19, 19, 96)  384         ['block4a_project_conv[0][0]']   \n",
            " lization)                                                                                        \n",
            "                                                                                                  \n",
            " block4b_expand_conv (Conv2D)   (None, 19, 19, 576)  55296       ['block4a_project_bn[0][0]']     \n",
            "                                                                                                  \n",
            " block4b_expand_bn (BatchNormal  (None, 19, 19, 576)  2304       ['block4b_expand_conv[0][0]']    \n",
            " ization)                                                                                         \n",
            "                                                                                                  \n",
            " block4b_expand_activation (Act  (None, 19, 19, 576)  0          ['block4b_expand_bn[0][0]']      \n",
            " ivation)                                                                                         \n",
            "                                                                                                  \n",
            " block4b_dwconv (DepthwiseConv2  (None, 19, 19, 576)  5184       ['block4b_expand_activation[0][0]\n",
            " D)                                                              ']                               \n",
            "                                                                                                  \n",
            " block4b_bn (BatchNormalization  (None, 19, 19, 576)  2304       ['block4b_dwconv[0][0]']         \n",
            " )                                                                                                \n",
            "                                                                                                  \n",
            " block4b_activation (Activation  (None, 19, 19, 576)  0          ['block4b_bn[0][0]']             \n",
            " )                                                                                                \n",
            "                                                                                                  \n",
            " block4b_se_squeeze (GlobalAver  (None, 576)         0           ['block4b_activation[0][0]']     \n",
            " agePooling2D)                                                                                    \n",
            "                                                                                                  \n",
            " block4b_se_reshape (Reshape)   (None, 1, 1, 576)    0           ['block4b_se_squeeze[0][0]']     \n",
            "                                                                                                  \n",
            " block4b_se_reduce (Conv2D)     (None, 1, 1, 24)     13848       ['block4b_se_reshape[0][0]']     \n",
            "                                                                                                  \n",
            " block4b_se_expand (Conv2D)     (None, 1, 1, 576)    14400       ['block4b_se_reduce[0][0]']      \n",
            "                                                                                                  \n",
            " block4b_se_excite (Multiply)   (None, 19, 19, 576)  0           ['block4b_activation[0][0]',     \n",
            "                                                                  'block4b_se_expand[0][0]']      \n",
            "                                                                                                  \n",
            " block4b_project_conv (Conv2D)  (None, 19, 19, 96)   55296       ['block4b_se_excite[0][0]']      \n",
            "                                                                                                  \n",
            " block4b_project_bn (BatchNorma  (None, 19, 19, 96)  384         ['block4b_project_conv[0][0]']   \n",
            " lization)                                                                                        \n",
            "                                                                                                  \n",
            " block4b_drop (Dropout)         (None, 19, 19, 96)   0           ['block4b_project_bn[0][0]']     \n",
            "                                                                                                  \n",
            " block4b_add (Add)              (None, 19, 19, 96)   0           ['block4b_drop[0][0]',           \n",
            "                                                                  'block4a_project_bn[0][0]']     \n",
            "                                                                                                  \n",
            " block4c_expand_conv (Conv2D)   (None, 19, 19, 576)  55296       ['block4b_add[0][0]']            \n",
            "                                                                                                  \n",
            " block4c_expand_bn (BatchNormal  (None, 19, 19, 576)  2304       ['block4c_expand_conv[0][0]']    \n",
            " ization)                                                                                         \n",
            "                                                                                                  \n",
            " block4c_expand_activation (Act  (None, 19, 19, 576)  0          ['block4c_expand_bn[0][0]']      \n",
            " ivation)                                                                                         \n",
            "                                                                                                  \n",
            " block4c_dwconv (DepthwiseConv2  (None, 19, 19, 576)  5184       ['block4c_expand_activation[0][0]\n",
            " D)                                                              ']                               \n",
            "                                                                                                  \n",
            " block4c_bn (BatchNormalization  (None, 19, 19, 576)  2304       ['block4c_dwconv[0][0]']         \n",
            " )                                                                                                \n",
            "                                                                                                  \n",
            " block4c_activation (Activation  (None, 19, 19, 576)  0          ['block4c_bn[0][0]']             \n",
            " )                                                                                                \n",
            "                                                                                                  \n",
            " block4c_se_squeeze (GlobalAver  (None, 576)         0           ['block4c_activation[0][0]']     \n",
            " agePooling2D)                                                                                    \n",
            "                                                                                                  \n",
            " block4c_se_reshape (Reshape)   (None, 1, 1, 576)    0           ['block4c_se_squeeze[0][0]']     \n",
            "                                                                                                  \n",
            " block4c_se_reduce (Conv2D)     (None, 1, 1, 24)     13848       ['block4c_se_reshape[0][0]']     \n",
            "                                                                                                  \n",
            " block4c_se_expand (Conv2D)     (None, 1, 1, 576)    14400       ['block4c_se_reduce[0][0]']      \n",
            "                                                                                                  \n",
            " block4c_se_excite (Multiply)   (None, 19, 19, 576)  0           ['block4c_activation[0][0]',     \n",
            "                                                                  'block4c_se_expand[0][0]']      \n",
            "                                                                                                  \n",
            " block4c_project_conv (Conv2D)  (None, 19, 19, 96)   55296       ['block4c_se_excite[0][0]']      \n",
            "                                                                                                  \n",
            " block4c_project_bn (BatchNorma  (None, 19, 19, 96)  384         ['block4c_project_conv[0][0]']   \n",
            " lization)                                                                                        \n",
            "                                                                                                  \n",
            " block4c_drop (Dropout)         (None, 19, 19, 96)   0           ['block4c_project_bn[0][0]']     \n",
            "                                                                                                  \n",
            " block4c_add (Add)              (None, 19, 19, 96)   0           ['block4c_drop[0][0]',           \n",
            "                                                                  'block4b_add[0][0]']            \n",
            "                                                                                                  \n",
            " block4d_expand_conv (Conv2D)   (None, 19, 19, 576)  55296       ['block4c_add[0][0]']            \n",
            "                                                                                                  \n",
            " block4d_expand_bn (BatchNormal  (None, 19, 19, 576)  2304       ['block4d_expand_conv[0][0]']    \n",
            " ization)                                                                                         \n",
            "                                                                                                  \n",
            " block4d_expand_activation (Act  (None, 19, 19, 576)  0          ['block4d_expand_bn[0][0]']      \n",
            " ivation)                                                                                         \n",
            "                                                                                                  \n",
            " block4d_dwconv (DepthwiseConv2  (None, 19, 19, 576)  5184       ['block4d_expand_activation[0][0]\n",
            " D)                                                              ']                               \n",
            "                                                                                                  \n",
            " block4d_bn (BatchNormalization  (None, 19, 19, 576)  2304       ['block4d_dwconv[0][0]']         \n",
            " )                                                                                                \n",
            "                                                                                                  \n",
            " block4d_activation (Activation  (None, 19, 19, 576)  0          ['block4d_bn[0][0]']             \n",
            " )                                                                                                \n",
            "                                                                                                  \n",
            " block4d_se_squeeze (GlobalAver  (None, 576)         0           ['block4d_activation[0][0]']     \n",
            " agePooling2D)                                                                                    \n",
            "                                                                                                  \n",
            " block4d_se_reshape (Reshape)   (None, 1, 1, 576)    0           ['block4d_se_squeeze[0][0]']     \n",
            "                                                                                                  \n",
            " block4d_se_reduce (Conv2D)     (None, 1, 1, 24)     13848       ['block4d_se_reshape[0][0]']     \n",
            "                                                                                                  \n",
            " block4d_se_expand (Conv2D)     (None, 1, 1, 576)    14400       ['block4d_se_reduce[0][0]']      \n",
            "                                                                                                  \n",
            " block4d_se_excite (Multiply)   (None, 19, 19, 576)  0           ['block4d_activation[0][0]',     \n",
            "                                                                  'block4d_se_expand[0][0]']      \n",
            "                                                                                                  \n",
            " block4d_project_conv (Conv2D)  (None, 19, 19, 96)   55296       ['block4d_se_excite[0][0]']      \n",
            "                                                                                                  \n",
            " block4d_project_bn (BatchNorma  (None, 19, 19, 96)  384         ['block4d_project_conv[0][0]']   \n",
            " lization)                                                                                        \n",
            "                                                                                                  \n",
            " block4d_drop (Dropout)         (None, 19, 19, 96)   0           ['block4d_project_bn[0][0]']     \n",
            "                                                                                                  \n",
            " block4d_add (Add)              (None, 19, 19, 96)   0           ['block4d_drop[0][0]',           \n",
            "                                                                  'block4c_add[0][0]']            \n",
            "                                                                                                  \n",
            " block4e_expand_conv (Conv2D)   (None, 19, 19, 576)  55296       ['block4d_add[0][0]']            \n",
            "                                                                                                  \n",
            " block4e_expand_bn (BatchNormal  (None, 19, 19, 576)  2304       ['block4e_expand_conv[0][0]']    \n",
            " ization)                                                                                         \n",
            "                                                                                                  \n",
            " block4e_expand_activation (Act  (None, 19, 19, 576)  0          ['block4e_expand_bn[0][0]']      \n",
            " ivation)                                                                                         \n",
            "                                                                                                  \n",
            " block4e_dwconv (DepthwiseConv2  (None, 19, 19, 576)  5184       ['block4e_expand_activation[0][0]\n",
            " D)                                                              ']                               \n",
            "                                                                                                  \n",
            " block4e_bn (BatchNormalization  (None, 19, 19, 576)  2304       ['block4e_dwconv[0][0]']         \n",
            " )                                                                                                \n",
            "                                                                                                  \n",
            " block4e_activation (Activation  (None, 19, 19, 576)  0          ['block4e_bn[0][0]']             \n",
            " )                                                                                                \n",
            "                                                                                                  \n",
            " block4e_se_squeeze (GlobalAver  (None, 576)         0           ['block4e_activation[0][0]']     \n",
            " agePooling2D)                                                                                    \n",
            "                                                                                                  \n",
            " block4e_se_reshape (Reshape)   (None, 1, 1, 576)    0           ['block4e_se_squeeze[0][0]']     \n",
            "                                                                                                  \n",
            " block4e_se_reduce (Conv2D)     (None, 1, 1, 24)     13848       ['block4e_se_reshape[0][0]']     \n",
            "                                                                                                  \n",
            " block4e_se_expand (Conv2D)     (None, 1, 1, 576)    14400       ['block4e_se_reduce[0][0]']      \n",
            "                                                                                                  \n",
            " block4e_se_excite (Multiply)   (None, 19, 19, 576)  0           ['block4e_activation[0][0]',     \n",
            "                                                                  'block4e_se_expand[0][0]']      \n",
            "                                                                                                  \n",
            " block4e_project_conv (Conv2D)  (None, 19, 19, 96)   55296       ['block4e_se_excite[0][0]']      \n",
            "                                                                                                  \n",
            " block4e_project_bn (BatchNorma  (None, 19, 19, 96)  384         ['block4e_project_conv[0][0]']   \n",
            " lization)                                                                                        \n",
            "                                                                                                  \n",
            " block4e_drop (Dropout)         (None, 19, 19, 96)   0           ['block4e_project_bn[0][0]']     \n",
            "                                                                                                  \n",
            " block4e_add (Add)              (None, 19, 19, 96)   0           ['block4e_drop[0][0]',           \n",
            "                                                                  'block4d_add[0][0]']            \n",
            "                                                                                                  \n",
            " block5a_expand_conv (Conv2D)   (None, 19, 19, 576)  55296       ['block4e_add[0][0]']            \n",
            "                                                                                                  \n",
            " block5a_expand_bn (BatchNormal  (None, 19, 19, 576)  2304       ['block5a_expand_conv[0][0]']    \n",
            " ization)                                                                                         \n",
            "                                                                                                  \n",
            " block5a_expand_activation (Act  (None, 19, 19, 576)  0          ['block5a_expand_bn[0][0]']      \n",
            " ivation)                                                                                         \n",
            "                                                                                                  \n",
            " block5a_dwconv (DepthwiseConv2  (None, 19, 19, 576)  14400      ['block5a_expand_activation[0][0]\n",
            " D)                                                              ']                               \n",
            "                                                                                                  \n",
            " block5a_bn (BatchNormalization  (None, 19, 19, 576)  2304       ['block5a_dwconv[0][0]']         \n",
            " )                                                                                                \n",
            "                                                                                                  \n",
            " block5a_activation (Activation  (None, 19, 19, 576)  0          ['block5a_bn[0][0]']             \n",
            " )                                                                                                \n",
            "                                                                                                  \n",
            " block5a_se_squeeze (GlobalAver  (None, 576)         0           ['block5a_activation[0][0]']     \n",
            " agePooling2D)                                                                                    \n",
            "                                                                                                  \n",
            " block5a_se_reshape (Reshape)   (None, 1, 1, 576)    0           ['block5a_se_squeeze[0][0]']     \n",
            "                                                                                                  \n",
            " block5a_se_reduce (Conv2D)     (None, 1, 1, 24)     13848       ['block5a_se_reshape[0][0]']     \n",
            "                                                                                                  \n",
            " block5a_se_expand (Conv2D)     (None, 1, 1, 576)    14400       ['block5a_se_reduce[0][0]']      \n",
            "                                                                                                  \n",
            " block5a_se_excite (Multiply)   (None, 19, 19, 576)  0           ['block5a_activation[0][0]',     \n",
            "                                                                  'block5a_se_expand[0][0]']      \n",
            "                                                                                                  \n",
            " block5a_project_conv (Conv2D)  (None, 19, 19, 136)  78336       ['block5a_se_excite[0][0]']      \n",
            "                                                                                                  \n",
            " block5a_project_bn (BatchNorma  (None, 19, 19, 136)  544        ['block5a_project_conv[0][0]']   \n",
            " lization)                                                                                        \n",
            "                                                                                                  \n",
            " block5b_expand_conv (Conv2D)   (None, 19, 19, 816)  110976      ['block5a_project_bn[0][0]']     \n",
            "                                                                                                  \n",
            " block5b_expand_bn (BatchNormal  (None, 19, 19, 816)  3264       ['block5b_expand_conv[0][0]']    \n",
            " ization)                                                                                         \n",
            "                                                                                                  \n",
            " block5b_expand_activation (Act  (None, 19, 19, 816)  0          ['block5b_expand_bn[0][0]']      \n",
            " ivation)                                                                                         \n",
            "                                                                                                  \n",
            " block5b_dwconv (DepthwiseConv2  (None, 19, 19, 816)  20400      ['block5b_expand_activation[0][0]\n",
            " D)                                                              ']                               \n",
            "                                                                                                  \n",
            " block5b_bn (BatchNormalization  (None, 19, 19, 816)  3264       ['block5b_dwconv[0][0]']         \n",
            " )                                                                                                \n",
            "                                                                                                  \n",
            " block5b_activation (Activation  (None, 19, 19, 816)  0          ['block5b_bn[0][0]']             \n",
            " )                                                                                                \n",
            "                                                                                                  \n",
            " block5b_se_squeeze (GlobalAver  (None, 816)         0           ['block5b_activation[0][0]']     \n",
            " agePooling2D)                                                                                    \n",
            "                                                                                                  \n",
            " block5b_se_reshape (Reshape)   (None, 1, 1, 816)    0           ['block5b_se_squeeze[0][0]']     \n",
            "                                                                                                  \n",
            " block5b_se_reduce (Conv2D)     (None, 1, 1, 34)     27778       ['block5b_se_reshape[0][0]']     \n",
            "                                                                                                  \n",
            " block5b_se_expand (Conv2D)     (None, 1, 1, 816)    28560       ['block5b_se_reduce[0][0]']      \n",
            "                                                                                                  \n",
            " block5b_se_excite (Multiply)   (None, 19, 19, 816)  0           ['block5b_activation[0][0]',     \n",
            "                                                                  'block5b_se_expand[0][0]']      \n",
            "                                                                                                  \n",
            " block5b_project_conv (Conv2D)  (None, 19, 19, 136)  110976      ['block5b_se_excite[0][0]']      \n",
            "                                                                                                  \n",
            " block5b_project_bn (BatchNorma  (None, 19, 19, 136)  544        ['block5b_project_conv[0][0]']   \n",
            " lization)                                                                                        \n",
            "                                                                                                  \n",
            " block5b_drop (Dropout)         (None, 19, 19, 136)  0           ['block5b_project_bn[0][0]']     \n",
            "                                                                                                  \n",
            " block5b_add (Add)              (None, 19, 19, 136)  0           ['block5b_drop[0][0]',           \n",
            "                                                                  'block5a_project_bn[0][0]']     \n",
            "                                                                                                  \n",
            " block5c_expand_conv (Conv2D)   (None, 19, 19, 816)  110976      ['block5b_add[0][0]']            \n",
            "                                                                                                  \n",
            " block5c_expand_bn (BatchNormal  (None, 19, 19, 816)  3264       ['block5c_expand_conv[0][0]']    \n",
            " ization)                                                                                         \n",
            "                                                                                                  \n",
            " block5c_expand_activation (Act  (None, 19, 19, 816)  0          ['block5c_expand_bn[0][0]']      \n",
            " ivation)                                                                                         \n",
            "                                                                                                  \n",
            " block5c_dwconv (DepthwiseConv2  (None, 19, 19, 816)  20400      ['block5c_expand_activation[0][0]\n",
            " D)                                                              ']                               \n",
            "                                                                                                  \n",
            " block5c_bn (BatchNormalization  (None, 19, 19, 816)  3264       ['block5c_dwconv[0][0]']         \n",
            " )                                                                                                \n",
            "                                                                                                  \n",
            " block5c_activation (Activation  (None, 19, 19, 816)  0          ['block5c_bn[0][0]']             \n",
            " )                                                                                                \n",
            "                                                                                                  \n",
            " block5c_se_squeeze (GlobalAver  (None, 816)         0           ['block5c_activation[0][0]']     \n",
            " agePooling2D)                                                                                    \n",
            "                                                                                                  \n",
            " block5c_se_reshape (Reshape)   (None, 1, 1, 816)    0           ['block5c_se_squeeze[0][0]']     \n",
            "                                                                                                  \n",
            " block5c_se_reduce (Conv2D)     (None, 1, 1, 34)     27778       ['block5c_se_reshape[0][0]']     \n",
            "                                                                                                  \n",
            " block5c_se_expand (Conv2D)     (None, 1, 1, 816)    28560       ['block5c_se_reduce[0][0]']      \n",
            "                                                                                                  \n",
            " block5c_se_excite (Multiply)   (None, 19, 19, 816)  0           ['block5c_activation[0][0]',     \n",
            "                                                                  'block5c_se_expand[0][0]']      \n",
            "                                                                                                  \n",
            " block5c_project_conv (Conv2D)  (None, 19, 19, 136)  110976      ['block5c_se_excite[0][0]']      \n",
            "                                                                                                  \n",
            " block5c_project_bn (BatchNorma  (None, 19, 19, 136)  544        ['block5c_project_conv[0][0]']   \n",
            " lization)                                                                                        \n",
            "                                                                                                  \n",
            " block5c_drop (Dropout)         (None, 19, 19, 136)  0           ['block5c_project_bn[0][0]']     \n",
            "                                                                                                  \n",
            " block5c_add (Add)              (None, 19, 19, 136)  0           ['block5c_drop[0][0]',           \n",
            "                                                                  'block5b_add[0][0]']            \n",
            "                                                                                                  \n",
            " block5d_expand_conv (Conv2D)   (None, 19, 19, 816)  110976      ['block5c_add[0][0]']            \n",
            "                                                                                                  \n",
            " block5d_expand_bn (BatchNormal  (None, 19, 19, 816)  3264       ['block5d_expand_conv[0][0]']    \n",
            " ization)                                                                                         \n",
            "                                                                                                  \n",
            " block5d_expand_activation (Act  (None, 19, 19, 816)  0          ['block5d_expand_bn[0][0]']      \n",
            " ivation)                                                                                         \n",
            "                                                                                                  \n",
            " block5d_dwconv (DepthwiseConv2  (None, 19, 19, 816)  20400      ['block5d_expand_activation[0][0]\n",
            " D)                                                              ']                               \n",
            "                                                                                                  \n",
            " block5d_bn (BatchNormalization  (None, 19, 19, 816)  3264       ['block5d_dwconv[0][0]']         \n",
            " )                                                                                                \n",
            "                                                                                                  \n",
            " block5d_activation (Activation  (None, 19, 19, 816)  0          ['block5d_bn[0][0]']             \n",
            " )                                                                                                \n",
            "                                                                                                  \n",
            " block5d_se_squeeze (GlobalAver  (None, 816)         0           ['block5d_activation[0][0]']     \n",
            " agePooling2D)                                                                                    \n",
            "                                                                                                  \n",
            " block5d_se_reshape (Reshape)   (None, 1, 1, 816)    0           ['block5d_se_squeeze[0][0]']     \n",
            "                                                                                                  \n",
            " block5d_se_reduce (Conv2D)     (None, 1, 1, 34)     27778       ['block5d_se_reshape[0][0]']     \n",
            "                                                                                                  \n",
            " block5d_se_expand (Conv2D)     (None, 1, 1, 816)    28560       ['block5d_se_reduce[0][0]']      \n",
            "                                                                                                  \n",
            " block5d_se_excite (Multiply)   (None, 19, 19, 816)  0           ['block5d_activation[0][0]',     \n",
            "                                                                  'block5d_se_expand[0][0]']      \n",
            "                                                                                                  \n",
            " block5d_project_conv (Conv2D)  (None, 19, 19, 136)  110976      ['block5d_se_excite[0][0]']      \n",
            "                                                                                                  \n",
            " block5d_project_bn (BatchNorma  (None, 19, 19, 136)  544        ['block5d_project_conv[0][0]']   \n",
            " lization)                                                                                        \n",
            "                                                                                                  \n",
            " block5d_drop (Dropout)         (None, 19, 19, 136)  0           ['block5d_project_bn[0][0]']     \n",
            "                                                                                                  \n",
            " block5d_add (Add)              (None, 19, 19, 136)  0           ['block5d_drop[0][0]',           \n",
            "                                                                  'block5c_add[0][0]']            \n",
            "                                                                                                  \n",
            " block5e_expand_conv (Conv2D)   (None, 19, 19, 816)  110976      ['block5d_add[0][0]']            \n",
            "                                                                                                  \n",
            " block5e_expand_bn (BatchNormal  (None, 19, 19, 816)  3264       ['block5e_expand_conv[0][0]']    \n",
            " ization)                                                                                         \n",
            "                                                                                                  \n",
            " block5e_expand_activation (Act  (None, 19, 19, 816)  0          ['block5e_expand_bn[0][0]']      \n",
            " ivation)                                                                                         \n",
            "                                                                                                  \n",
            " block5e_dwconv (DepthwiseConv2  (None, 19, 19, 816)  20400      ['block5e_expand_activation[0][0]\n",
            " D)                                                              ']                               \n",
            "                                                                                                  \n",
            " block5e_bn (BatchNormalization  (None, 19, 19, 816)  3264       ['block5e_dwconv[0][0]']         \n",
            " )                                                                                                \n",
            "                                                                                                  \n",
            " block5e_activation (Activation  (None, 19, 19, 816)  0          ['block5e_bn[0][0]']             \n",
            " )                                                                                                \n",
            "                                                                                                  \n",
            " block5e_se_squeeze (GlobalAver  (None, 816)         0           ['block5e_activation[0][0]']     \n",
            " agePooling2D)                                                                                    \n",
            "                                                                                                  \n",
            " block5e_se_reshape (Reshape)   (None, 1, 1, 816)    0           ['block5e_se_squeeze[0][0]']     \n",
            "                                                                                                  \n",
            " block5e_se_reduce (Conv2D)     (None, 1, 1, 34)     27778       ['block5e_se_reshape[0][0]']     \n",
            "                                                                                                  \n",
            " block5e_se_expand (Conv2D)     (None, 1, 1, 816)    28560       ['block5e_se_reduce[0][0]']      \n",
            "                                                                                                  \n",
            " block5e_se_excite (Multiply)   (None, 19, 19, 816)  0           ['block5e_activation[0][0]',     \n",
            "                                                                  'block5e_se_expand[0][0]']      \n",
            "                                                                                                  \n",
            " block5e_project_conv (Conv2D)  (None, 19, 19, 136)  110976      ['block5e_se_excite[0][0]']      \n",
            "                                                                                                  \n",
            " block5e_project_bn (BatchNorma  (None, 19, 19, 136)  544        ['block5e_project_conv[0][0]']   \n",
            " lization)                                                                                        \n",
            "                                                                                                  \n",
            " block5e_drop (Dropout)         (None, 19, 19, 136)  0           ['block5e_project_bn[0][0]']     \n",
            "                                                                                                  \n",
            " block5e_add (Add)              (None, 19, 19, 136)  0           ['block5e_drop[0][0]',           \n",
            "                                                                  'block5d_add[0][0]']            \n",
            "                                                                                                  \n",
            " block6a_expand_conv (Conv2D)   (None, 19, 19, 816)  110976      ['block5e_add[0][0]']            \n",
            "                                                                                                  \n",
            " block6a_expand_bn (BatchNormal  (None, 19, 19, 816)  3264       ['block6a_expand_conv[0][0]']    \n",
            " ization)                                                                                         \n",
            "                                                                                                  \n",
            " block6a_expand_activation (Act  (None, 19, 19, 816)  0          ['block6a_expand_bn[0][0]']      \n",
            " ivation)                                                                                         \n",
            "                                                                                                  \n",
            " block6a_dwconv_pad (ZeroPaddin  (None, 23, 23, 816)  0          ['block6a_expand_activation[0][0]\n",
            " g2D)                                                            ']                               \n",
            "                                                                                                  \n",
            " block6a_dwconv (DepthwiseConv2  (None, 10, 10, 816)  20400      ['block6a_dwconv_pad[0][0]']     \n",
            " D)                                                                                               \n",
            "                                                                                                  \n",
            " block6a_bn (BatchNormalization  (None, 10, 10, 816)  3264       ['block6a_dwconv[0][0]']         \n",
            " )                                                                                                \n",
            "                                                                                                  \n",
            " block6a_activation (Activation  (None, 10, 10, 816)  0          ['block6a_bn[0][0]']             \n",
            " )                                                                                                \n",
            "                                                                                                  \n",
            " block6a_se_squeeze (GlobalAver  (None, 816)         0           ['block6a_activation[0][0]']     \n",
            " agePooling2D)                                                                                    \n",
            "                                                                                                  \n",
            " block6a_se_reshape (Reshape)   (None, 1, 1, 816)    0           ['block6a_se_squeeze[0][0]']     \n",
            "                                                                                                  \n",
            " block6a_se_reduce (Conv2D)     (None, 1, 1, 34)     27778       ['block6a_se_reshape[0][0]']     \n",
            "                                                                                                  \n",
            " block6a_se_expand (Conv2D)     (None, 1, 1, 816)    28560       ['block6a_se_reduce[0][0]']      \n",
            "                                                                                                  \n",
            " block6a_se_excite (Multiply)   (None, 10, 10, 816)  0           ['block6a_activation[0][0]',     \n",
            "                                                                  'block6a_se_expand[0][0]']      \n",
            "                                                                                                  \n",
            " block6a_project_conv (Conv2D)  (None, 10, 10, 232)  189312      ['block6a_se_excite[0][0]']      \n",
            "                                                                                                  \n",
            " block6a_project_bn (BatchNorma  (None, 10, 10, 232)  928        ['block6a_project_conv[0][0]']   \n",
            " lization)                                                                                        \n",
            "                                                                                                  \n",
            " block6b_expand_conv (Conv2D)   (None, 10, 10, 1392  322944      ['block6a_project_bn[0][0]']     \n",
            "                                )                                                                 \n",
            "                                                                                                  \n",
            " block6b_expand_bn (BatchNormal  (None, 10, 10, 1392  5568       ['block6b_expand_conv[0][0]']    \n",
            " ization)                       )                                                                 \n",
            "                                                                                                  \n",
            " block6b_expand_activation (Act  (None, 10, 10, 1392  0          ['block6b_expand_bn[0][0]']      \n",
            " ivation)                       )                                                                 \n",
            "                                                                                                  \n",
            " block6b_dwconv (DepthwiseConv2  (None, 10, 10, 1392  34800      ['block6b_expand_activation[0][0]\n",
            " D)                             )                                ']                               \n",
            "                                                                                                  \n",
            " block6b_bn (BatchNormalization  (None, 10, 10, 1392  5568       ['block6b_dwconv[0][0]']         \n",
            " )                              )                                                                 \n",
            "                                                                                                  \n",
            " block6b_activation (Activation  (None, 10, 10, 1392  0          ['block6b_bn[0][0]']             \n",
            " )                              )                                                                 \n",
            "                                                                                                  \n",
            " block6b_se_squeeze (GlobalAver  (None, 1392)        0           ['block6b_activation[0][0]']     \n",
            " agePooling2D)                                                                                    \n",
            "                                                                                                  \n",
            " block6b_se_reshape (Reshape)   (None, 1, 1, 1392)   0           ['block6b_se_squeeze[0][0]']     \n",
            "                                                                                                  \n",
            " block6b_se_reduce (Conv2D)     (None, 1, 1, 58)     80794       ['block6b_se_reshape[0][0]']     \n",
            "                                                                                                  \n",
            " block6b_se_expand (Conv2D)     (None, 1, 1, 1392)   82128       ['block6b_se_reduce[0][0]']      \n",
            "                                                                                                  \n",
            " block6b_se_excite (Multiply)   (None, 10, 10, 1392  0           ['block6b_activation[0][0]',     \n",
            "                                )                                 'block6b_se_expand[0][0]']      \n",
            "                                                                                                  \n",
            " block6b_project_conv (Conv2D)  (None, 10, 10, 232)  322944      ['block6b_se_excite[0][0]']      \n",
            "                                                                                                  \n",
            " block6b_project_bn (BatchNorma  (None, 10, 10, 232)  928        ['block6b_project_conv[0][0]']   \n",
            " lization)                                                                                        \n",
            "                                                                                                  \n",
            " block6b_drop (Dropout)         (None, 10, 10, 232)  0           ['block6b_project_bn[0][0]']     \n",
            "                                                                                                  \n",
            " block6b_add (Add)              (None, 10, 10, 232)  0           ['block6b_drop[0][0]',           \n",
            "                                                                  'block6a_project_bn[0][0]']     \n",
            "                                                                                                  \n",
            " block6c_expand_conv (Conv2D)   (None, 10, 10, 1392  322944      ['block6b_add[0][0]']            \n",
            "                                )                                                                 \n",
            "                                                                                                  \n",
            " block6c_expand_bn (BatchNormal  (None, 10, 10, 1392  5568       ['block6c_expand_conv[0][0]']    \n",
            " ization)                       )                                                                 \n",
            "                                                                                                  \n",
            " block6c_expand_activation (Act  (None, 10, 10, 1392  0          ['block6c_expand_bn[0][0]']      \n",
            " ivation)                       )                                                                 \n",
            "                                                                                                  \n",
            " block6c_dwconv (DepthwiseConv2  (None, 10, 10, 1392  34800      ['block6c_expand_activation[0][0]\n",
            " D)                             )                                ']                               \n",
            "                                                                                                  \n",
            " block6c_bn (BatchNormalization  (None, 10, 10, 1392  5568       ['block6c_dwconv[0][0]']         \n",
            " )                              )                                                                 \n",
            "                                                                                                  \n",
            " block6c_activation (Activation  (None, 10, 10, 1392  0          ['block6c_bn[0][0]']             \n",
            " )                              )                                                                 \n",
            "                                                                                                  \n",
            " block6c_se_squeeze (GlobalAver  (None, 1392)        0           ['block6c_activation[0][0]']     \n",
            " agePooling2D)                                                                                    \n",
            "                                                                                                  \n",
            " block6c_se_reshape (Reshape)   (None, 1, 1, 1392)   0           ['block6c_se_squeeze[0][0]']     \n",
            "                                                                                                  \n",
            " block6c_se_reduce (Conv2D)     (None, 1, 1, 58)     80794       ['block6c_se_reshape[0][0]']     \n",
            "                                                                                                  \n",
            " block6c_se_expand (Conv2D)     (None, 1, 1, 1392)   82128       ['block6c_se_reduce[0][0]']      \n",
            "                                                                                                  \n",
            " block6c_se_excite (Multiply)   (None, 10, 10, 1392  0           ['block6c_activation[0][0]',     \n",
            "                                )                                 'block6c_se_expand[0][0]']      \n",
            "                                                                                                  \n",
            " block6c_project_conv (Conv2D)  (None, 10, 10, 232)  322944      ['block6c_se_excite[0][0]']      \n",
            "                                                                                                  \n",
            " block6c_project_bn (BatchNorma  (None, 10, 10, 232)  928        ['block6c_project_conv[0][0]']   \n",
            " lization)                                                                                        \n",
            "                                                                                                  \n",
            " block6c_drop (Dropout)         (None, 10, 10, 232)  0           ['block6c_project_bn[0][0]']     \n",
            "                                                                                                  \n",
            " block6c_add (Add)              (None, 10, 10, 232)  0           ['block6c_drop[0][0]',           \n",
            "                                                                  'block6b_add[0][0]']            \n",
            "                                                                                                  \n",
            " block6d_expand_conv (Conv2D)   (None, 10, 10, 1392  322944      ['block6c_add[0][0]']            \n",
            "                                )                                                                 \n",
            "                                                                                                  \n",
            " block6d_expand_bn (BatchNormal  (None, 10, 10, 1392  5568       ['block6d_expand_conv[0][0]']    \n",
            " ization)                       )                                                                 \n",
            "                                                                                                  \n",
            " block6d_expand_activation (Act  (None, 10, 10, 1392  0          ['block6d_expand_bn[0][0]']      \n",
            " ivation)                       )                                                                 \n",
            "                                                                                                  \n",
            " block6d_dwconv (DepthwiseConv2  (None, 10, 10, 1392  34800      ['block6d_expand_activation[0][0]\n",
            " D)                             )                                ']                               \n",
            "                                                                                                  \n",
            " block6d_bn (BatchNormalization  (None, 10, 10, 1392  5568       ['block6d_dwconv[0][0]']         \n",
            " )                              )                                                                 \n",
            "                                                                                                  \n",
            " block6d_activation (Activation  (None, 10, 10, 1392  0          ['block6d_bn[0][0]']             \n",
            " )                              )                                                                 \n",
            "                                                                                                  \n",
            " block6d_se_squeeze (GlobalAver  (None, 1392)        0           ['block6d_activation[0][0]']     \n",
            " agePooling2D)                                                                                    \n",
            "                                                                                                  \n",
            " block6d_se_reshape (Reshape)   (None, 1, 1, 1392)   0           ['block6d_se_squeeze[0][0]']     \n",
            "                                                                                                  \n",
            " block6d_se_reduce (Conv2D)     (None, 1, 1, 58)     80794       ['block6d_se_reshape[0][0]']     \n",
            "                                                                                                  \n",
            " block6d_se_expand (Conv2D)     (None, 1, 1, 1392)   82128       ['block6d_se_reduce[0][0]']      \n",
            "                                                                                                  \n",
            " block6d_se_excite (Multiply)   (None, 10, 10, 1392  0           ['block6d_activation[0][0]',     \n",
            "                                )                                 'block6d_se_expand[0][0]']      \n",
            "                                                                                                  \n",
            " block6d_project_conv (Conv2D)  (None, 10, 10, 232)  322944      ['block6d_se_excite[0][0]']      \n",
            "                                                                                                  \n",
            " block6d_project_bn (BatchNorma  (None, 10, 10, 232)  928        ['block6d_project_conv[0][0]']   \n",
            " lization)                                                                                        \n",
            "                                                                                                  \n",
            " block6d_drop (Dropout)         (None, 10, 10, 232)  0           ['block6d_project_bn[0][0]']     \n",
            "                                                                                                  \n",
            " block6d_add (Add)              (None, 10, 10, 232)  0           ['block6d_drop[0][0]',           \n",
            "                                                                  'block6c_add[0][0]']            \n",
            "                                                                                                  \n",
            " block6e_expand_conv (Conv2D)   (None, 10, 10, 1392  322944      ['block6d_add[0][0]']            \n",
            "                                )                                                                 \n",
            "                                                                                                  \n",
            " block6e_expand_bn (BatchNormal  (None, 10, 10, 1392  5568       ['block6e_expand_conv[0][0]']    \n",
            " ization)                       )                                                                 \n",
            "                                                                                                  \n",
            " block6e_expand_activation (Act  (None, 10, 10, 1392  0          ['block6e_expand_bn[0][0]']      \n",
            " ivation)                       )                                                                 \n",
            "                                                                                                  \n",
            " block6e_dwconv (DepthwiseConv2  (None, 10, 10, 1392  34800      ['block6e_expand_activation[0][0]\n",
            " D)                             )                                ']                               \n",
            "                                                                                                  \n",
            " block6e_bn (BatchNormalization  (None, 10, 10, 1392  5568       ['block6e_dwconv[0][0]']         \n",
            " )                              )                                                                 \n",
            "                                                                                                  \n",
            " block6e_activation (Activation  (None, 10, 10, 1392  0          ['block6e_bn[0][0]']             \n",
            " )                              )                                                                 \n",
            "                                                                                                  \n",
            " block6e_se_squeeze (GlobalAver  (None, 1392)        0           ['block6e_activation[0][0]']     \n",
            " agePooling2D)                                                                                    \n",
            "                                                                                                  \n",
            " block6e_se_reshape (Reshape)   (None, 1, 1, 1392)   0           ['block6e_se_squeeze[0][0]']     \n",
            "                                                                                                  \n",
            " block6e_se_reduce (Conv2D)     (None, 1, 1, 58)     80794       ['block6e_se_reshape[0][0]']     \n",
            "                                                                                                  \n",
            " block6e_se_expand (Conv2D)     (None, 1, 1, 1392)   82128       ['block6e_se_reduce[0][0]']      \n",
            "                                                                                                  \n",
            " block6e_se_excite (Multiply)   (None, 10, 10, 1392  0           ['block6e_activation[0][0]',     \n",
            "                                )                                 'block6e_se_expand[0][0]']      \n",
            "                                                                                                  \n",
            " block6e_project_conv (Conv2D)  (None, 10, 10, 232)  322944      ['block6e_se_excite[0][0]']      \n",
            "                                                                                                  \n",
            " block6e_project_bn (BatchNorma  (None, 10, 10, 232)  928        ['block6e_project_conv[0][0]']   \n",
            " lization)                                                                                        \n",
            "                                                                                                  \n",
            " block6e_drop (Dropout)         (None, 10, 10, 232)  0           ['block6e_project_bn[0][0]']     \n",
            "                                                                                                  \n",
            " block6e_add (Add)              (None, 10, 10, 232)  0           ['block6e_drop[0][0]',           \n",
            "                                                                  'block6d_add[0][0]']            \n",
            "                                                                                                  \n",
            " block6f_expand_conv (Conv2D)   (None, 10, 10, 1392  322944      ['block6e_add[0][0]']            \n",
            "                                )                                                                 \n",
            "                                                                                                  \n",
            " block6f_expand_bn (BatchNormal  (None, 10, 10, 1392  5568       ['block6f_expand_conv[0][0]']    \n",
            " ization)                       )                                                                 \n",
            "                                                                                                  \n",
            " block6f_expand_activation (Act  (None, 10, 10, 1392  0          ['block6f_expand_bn[0][0]']      \n",
            " ivation)                       )                                                                 \n",
            "                                                                                                  \n",
            " block6f_dwconv (DepthwiseConv2  (None, 10, 10, 1392  34800      ['block6f_expand_activation[0][0]\n",
            " D)                             )                                ']                               \n",
            "                                                                                                  \n",
            " block6f_bn (BatchNormalization  (None, 10, 10, 1392  5568       ['block6f_dwconv[0][0]']         \n",
            " )                              )                                                                 \n",
            "                                                                                                  \n",
            " block6f_activation (Activation  (None, 10, 10, 1392  0          ['block6f_bn[0][0]']             \n",
            " )                              )                                                                 \n",
            "                                                                                                  \n",
            " block6f_se_squeeze (GlobalAver  (None, 1392)        0           ['block6f_activation[0][0]']     \n",
            " agePooling2D)                                                                                    \n",
            "                                                                                                  \n",
            " block6f_se_reshape (Reshape)   (None, 1, 1, 1392)   0           ['block6f_se_squeeze[0][0]']     \n",
            "                                                                                                  \n",
            " block6f_se_reduce (Conv2D)     (None, 1, 1, 58)     80794       ['block6f_se_reshape[0][0]']     \n",
            "                                                                                                  \n",
            " block6f_se_expand (Conv2D)     (None, 1, 1, 1392)   82128       ['block6f_se_reduce[0][0]']      \n",
            "                                                                                                  \n",
            " block6f_se_excite (Multiply)   (None, 10, 10, 1392  0           ['block6f_activation[0][0]',     \n",
            "                                )                                 'block6f_se_expand[0][0]']      \n",
            "                                                                                                  \n",
            " block6f_project_conv (Conv2D)  (None, 10, 10, 232)  322944      ['block6f_se_excite[0][0]']      \n",
            "                                                                                                  \n",
            " block6f_project_bn (BatchNorma  (None, 10, 10, 232)  928        ['block6f_project_conv[0][0]']   \n",
            " lization)                                                                                        \n",
            "                                                                                                  \n",
            " block6f_drop (Dropout)         (None, 10, 10, 232)  0           ['block6f_project_bn[0][0]']     \n",
            "                                                                                                  \n",
            " block6f_add (Add)              (None, 10, 10, 232)  0           ['block6f_drop[0][0]',           \n",
            "                                                                  'block6e_add[0][0]']            \n",
            "                                                                                                  \n",
            " block7a_expand_conv (Conv2D)   (None, 10, 10, 1392  322944      ['block6f_add[0][0]']            \n",
            "                                )                                                                 \n",
            "                                                                                                  \n",
            " block7a_expand_bn (BatchNormal  (None, 10, 10, 1392  5568       ['block7a_expand_conv[0][0]']    \n",
            " ization)                       )                                                                 \n",
            "                                                                                                  \n",
            " block7a_expand_activation (Act  (None, 10, 10, 1392  0          ['block7a_expand_bn[0][0]']      \n",
            " ivation)                       )                                                                 \n",
            "                                                                                                  \n",
            " block7a_dwconv (DepthwiseConv2  (None, 10, 10, 1392  12528      ['block7a_expand_activation[0][0]\n",
            " D)                             )                                ']                               \n",
            "                                                                                                  \n",
            " block7a_bn (BatchNormalization  (None, 10, 10, 1392  5568       ['block7a_dwconv[0][0]']         \n",
            " )                              )                                                                 \n",
            "                                                                                                  \n",
            " block7a_activation (Activation  (None, 10, 10, 1392  0          ['block7a_bn[0][0]']             \n",
            " )                              )                                                                 \n",
            "                                                                                                  \n",
            " block7a_se_squeeze (GlobalAver  (None, 1392)        0           ['block7a_activation[0][0]']     \n",
            " agePooling2D)                                                                                    \n",
            "                                                                                                  \n",
            " block7a_se_reshape (Reshape)   (None, 1, 1, 1392)   0           ['block7a_se_squeeze[0][0]']     \n",
            "                                                                                                  \n",
            " block7a_se_reduce (Conv2D)     (None, 1, 1, 58)     80794       ['block7a_se_reshape[0][0]']     \n",
            "                                                                                                  \n",
            " block7a_se_expand (Conv2D)     (None, 1, 1, 1392)   82128       ['block7a_se_reduce[0][0]']      \n",
            "                                                                                                  \n",
            " block7a_se_excite (Multiply)   (None, 10, 10, 1392  0           ['block7a_activation[0][0]',     \n",
            "                                )                                 'block7a_se_expand[0][0]']      \n",
            "                                                                                                  \n",
            " block7a_project_conv (Conv2D)  (None, 10, 10, 384)  534528      ['block7a_se_excite[0][0]']      \n",
            "                                                                                                  \n",
            " block7a_project_bn (BatchNorma  (None, 10, 10, 384)  1536       ['block7a_project_conv[0][0]']   \n",
            " lization)                                                                                        \n",
            "                                                                                                  \n",
            " block7b_expand_conv (Conv2D)   (None, 10, 10, 2304  884736      ['block7a_project_bn[0][0]']     \n",
            "                                )                                                                 \n",
            "                                                                                                  \n",
            " block7b_expand_bn (BatchNormal  (None, 10, 10, 2304  9216       ['block7b_expand_conv[0][0]']    \n",
            " ization)                       )                                                                 \n",
            "                                                                                                  \n",
            " block7b_expand_activation (Act  (None, 10, 10, 2304  0          ['block7b_expand_bn[0][0]']      \n",
            " ivation)                       )                                                                 \n",
            "                                                                                                  \n",
            " block7b_dwconv (DepthwiseConv2  (None, 10, 10, 2304  20736      ['block7b_expand_activation[0][0]\n",
            " D)                             )                                ']                               \n",
            "                                                                                                  \n",
            " block7b_bn (BatchNormalization  (None, 10, 10, 2304  9216       ['block7b_dwconv[0][0]']         \n",
            " )                              )                                                                 \n",
            "                                                                                                  \n",
            " block7b_activation (Activation  (None, 10, 10, 2304  0          ['block7b_bn[0][0]']             \n",
            " )                              )                                                                 \n",
            "                                                                                                  \n",
            " block7b_se_squeeze (GlobalAver  (None, 2304)        0           ['block7b_activation[0][0]']     \n",
            " agePooling2D)                                                                                    \n",
            "                                                                                                  \n",
            " block7b_se_reshape (Reshape)   (None, 1, 1, 2304)   0           ['block7b_se_squeeze[0][0]']     \n",
            "                                                                                                  \n",
            " block7b_se_reduce (Conv2D)     (None, 1, 1, 96)     221280      ['block7b_se_reshape[0][0]']     \n",
            "                                                                                                  \n",
            " block7b_se_expand (Conv2D)     (None, 1, 1, 2304)   223488      ['block7b_se_reduce[0][0]']      \n",
            "                                                                                                  \n",
            " block7b_se_excite (Multiply)   (None, 10, 10, 2304  0           ['block7b_activation[0][0]',     \n",
            "                                )                                 'block7b_se_expand[0][0]']      \n",
            "                                                                                                  \n",
            " block7b_project_conv (Conv2D)  (None, 10, 10, 384)  884736      ['block7b_se_excite[0][0]']      \n",
            "                                                                                                  \n",
            " block7b_project_bn (BatchNorma  (None, 10, 10, 384)  1536       ['block7b_project_conv[0][0]']   \n",
            " lization)                                                                                        \n",
            "                                                                                                  \n",
            " block7b_drop (Dropout)         (None, 10, 10, 384)  0           ['block7b_project_bn[0][0]']     \n",
            "                                                                                                  \n",
            " block7b_add (Add)              (None, 10, 10, 384)  0           ['block7b_drop[0][0]',           \n",
            "                                                                  'block7a_project_bn[0][0]']     \n",
            "                                                                                                  \n",
            " top_conv (Conv2D)              (None, 10, 10, 1536  589824      ['block7b_add[0][0]']            \n",
            "                                )                                                                 \n",
            "                                                                                                  \n",
            " top_bn (BatchNormalization)    (None, 10, 10, 1536  6144        ['top_conv[0][0]']               \n",
            "                                )                                                                 \n",
            "                                                                                                  \n",
            " top_activation (Activation)    (None, 10, 10, 1536  0           ['top_bn[0][0]']                 \n",
            "                                )                                                                 \n",
            "                                                                                                  \n",
            " avg_pool (GlobalAveragePooling  (None, 1536)        0           ['top_activation[0][0]']         \n",
            " 2D)                                                                                              \n",
            "                                                                                                  \n",
            " batch_normalization_1 (BatchNo  (None, 1536)        6144        ['avg_pool[0][0]']               \n",
            " rmalization)                                                                                     \n",
            "                                                                                                  \n",
            " top_dropout (Dropout)          (None, 1536)         0           ['batch_normalization_1[0][0]']  \n",
            "                                                                                                  \n",
            " pred (Dense)                   (None, 1)            1537        ['top_dropout[0][0]']            \n",
            "                                                                                                  \n",
            "==================================================================================================\n",
            "Total params: 10,791,216\n",
            "Trainable params: 4,609\n",
            "Non-trainable params: 10,786,607\n",
            "__________________________________________________________________________________________________\n"
          ]
        }
      ],
      "source": [
        "model.summary()"
      ]
    },
    {
      "cell_type": "code",
      "source": [
        "model.layers[:-4]"
      ],
      "metadata": {
        "colab": {
          "base_uri": "https://localhost:8080/"
        },
        "id": "8cDBdskUdUdU",
        "outputId": "98351147-f9c3-4c8a-f3c7-869e237a2c6f"
      },
      "execution_count": 35,
      "outputs": [
        {
          "output_type": "execute_result",
          "data": {
            "text/plain": [
              "[<keras.engine.input_layer.InputLayer at 0x7f3efd530cd0>,\n",
              " <keras.engine.sequential.Sequential at 0x7f3efd3eb2d0>,\n",
              " <keras.layers.merge.Concatenate at 0x7f3efd530250>,\n",
              " <keras.layers.preprocessing.image_preprocessing.Rescaling at 0x7f3efdf347d0>,\n",
              " <keras.layers.preprocessing.normalization.Normalization at 0x7f3efd3f03d0>,\n",
              " <keras.layers.convolutional.ZeroPadding2D at 0x7f3efd3ed210>,\n",
              " <keras.layers.convolutional.Conv2D at 0x7f3efd1f47d0>,\n",
              " <keras.layers.normalization.batch_normalization.BatchNormalization at 0x7f3efd51a890>,\n",
              " <keras.layers.core.activation.Activation at 0x7f3efdf37d50>,\n",
              " <keras.layers.convolutional.DepthwiseConv2D at 0x7f3efdf33710>,\n",
              " <keras.layers.normalization.batch_normalization.BatchNormalization at 0x7f3efdf2ded0>,\n",
              " <keras.layers.core.activation.Activation at 0x7f3efd3f1b50>,\n",
              " <keras.layers.pooling.GlobalAveragePooling2D at 0x7f3efdf30f10>,\n",
              " <keras.layers.core.reshape.Reshape at 0x7f3efdc7d710>,\n",
              " <keras.layers.convolutional.Conv2D at 0x7f3efdc7ef10>,\n",
              " <keras.layers.convolutional.Conv2D at 0x7f3efdf37490>,\n",
              " <keras.layers.merge.Multiply at 0x7f3e7e2c6e90>,\n",
              " <keras.layers.convolutional.Conv2D at 0x7f3e7e2cbf90>,\n",
              " <keras.layers.normalization.batch_normalization.BatchNormalization at 0x7f3e7e2c6cd0>,\n",
              " <keras.layers.convolutional.DepthwiseConv2D at 0x7f3e7e258350>,\n",
              " <keras.layers.normalization.batch_normalization.BatchNormalization at 0x7f3e7e25ff10>,\n",
              " <keras.layers.core.activation.Activation at 0x7f3e7e254610>,\n",
              " <keras.layers.pooling.GlobalAveragePooling2D at 0x7f3e7e268790>,\n",
              " <keras.layers.core.reshape.Reshape at 0x7f3e7e2706d0>,\n",
              " <keras.layers.convolutional.Conv2D at 0x7f3e7e254650>,\n",
              " <keras.layers.convolutional.Conv2D at 0x7f3e7e254190>,\n",
              " <keras.layers.merge.Multiply at 0x7f3e7e282790>,\n",
              " <keras.layers.convolutional.Conv2D at 0x7f3e7e26e990>,\n",
              " <keras.layers.normalization.batch_normalization.BatchNormalization at 0x7f3e7e2825d0>,\n",
              " <keras.layers.core.dropout.Dropout at 0x7f3e7e217750>,\n",
              " <keras.layers.merge.Add at 0x7f3efd3f3b50>,\n",
              " <keras.layers.convolutional.Conv2D at 0x7f3e7e20fe90>,\n",
              " <keras.layers.normalization.batch_normalization.BatchNormalization at 0x7f3e7e28ca50>,\n",
              " <keras.layers.core.activation.Activation at 0x7f3e7e22ced0>,\n",
              " <keras.layers.convolutional.ZeroPadding2D at 0x7f3e7e22cbd0>,\n",
              " <keras.layers.convolutional.DepthwiseConv2D at 0x7f3e7e221e50>,\n",
              " <keras.layers.normalization.batch_normalization.BatchNormalization at 0x7f3e7e23b790>,\n",
              " <keras.layers.core.activation.Activation at 0x7f3e7e23b8d0>,\n",
              " <keras.layers.pooling.GlobalAveragePooling2D at 0x7f3e7e221bd0>,\n",
              " <keras.layers.core.reshape.Reshape at 0x7f3e7e246e90>,\n",
              " <keras.layers.convolutional.Conv2D at 0x7f3e7e23f150>,\n",
              " <keras.layers.convolutional.Conv2D at 0x7f3e7e20f3d0>,\n",
              " <keras.layers.merge.Multiply at 0x7f3e7e1e0090>,\n",
              " <keras.layers.convolutional.Conv2D at 0x7f3e7e1d6ed0>,\n",
              " <keras.layers.normalization.batch_normalization.BatchNormalization at 0x7f3e7e249550>,\n",
              " <keras.layers.convolutional.Conv2D at 0x7f3e7e1f7e90>,\n",
              " <keras.layers.normalization.batch_normalization.BatchNormalization at 0x7f3e7e1f7f90>,\n",
              " <keras.layers.core.activation.Activation at 0x7f3e7e1f2090>,\n",
              " <keras.layers.convolutional.DepthwiseConv2D at 0x7f3e7e1eaf50>,\n",
              " <keras.layers.normalization.batch_normalization.BatchNormalization at 0x7f3e7e224110>,\n",
              " <keras.layers.core.activation.Activation at 0x7f3e7e249190>,\n",
              " <keras.layers.pooling.GlobalAveragePooling2D at 0x7f3e7e22ca90>,\n",
              " <keras.layers.core.reshape.Reshape at 0x7f3efdc7e450>,\n",
              " <keras.layers.convolutional.Conv2D at 0x7f3e7e268350>,\n",
              " <keras.layers.convolutional.Conv2D at 0x7f3e7e1f7990>,\n",
              " <keras.layers.merge.Multiply at 0x7f3e7e203e50>,\n",
              " <keras.layers.convolutional.Conv2D at 0x7f3e7e203210>,\n",
              " <keras.layers.normalization.batch_normalization.BatchNormalization at 0x7f3efdf2a390>,\n",
              " <keras.layers.core.dropout.Dropout at 0x7f3e7e19a650>,\n",
              " <keras.layers.merge.Add at 0x7f3e7e19a450>,\n",
              " <keras.layers.convolutional.Conv2D at 0x7f3e7e19a710>,\n",
              " <keras.layers.normalization.batch_normalization.BatchNormalization at 0x7f3e7e20b0d0>,\n",
              " <keras.layers.core.activation.Activation at 0x7f3e7e18e610>,\n",
              " <keras.layers.convolutional.DepthwiseConv2D at 0x7f3e7e194750>,\n",
              " <keras.layers.normalization.batch_normalization.BatchNormalization at 0x7f3e7e1abd10>,\n",
              " <keras.layers.core.activation.Activation at 0x7f3e7e1b0ed0>,\n",
              " <keras.layers.pooling.GlobalAveragePooling2D at 0x7f3e7e1b6e50>,\n",
              " <keras.layers.core.reshape.Reshape at 0x7f3e7e1c31d0>,\n",
              " <keras.layers.convolutional.Conv2D at 0x7f3e7e1ef590>,\n",
              " <keras.layers.convolutional.Conv2D at 0x7f3e7e1a0710>,\n",
              " <keras.layers.merge.Multiply at 0x7f3e7e154790>,\n",
              " <keras.layers.convolutional.Conv2D at 0x7f3e7e1c9b10>,\n",
              " <keras.layers.normalization.batch_normalization.BatchNormalization at 0x7f3e7e1545d0>,\n",
              " <keras.layers.core.dropout.Dropout at 0x7f3e7e16d750>,\n",
              " <keras.layers.merge.Add at 0x7f3e7e19a5d0>,\n",
              " <keras.layers.convolutional.Conv2D at 0x7f3e7e163e90>,\n",
              " <keras.layers.normalization.batch_normalization.BatchNormalization at 0x7f3e7e160a50>,\n",
              " <keras.layers.core.activation.Activation at 0x7f3e7e181ed0>,\n",
              " <keras.layers.convolutional.ZeroPadding2D at 0x7f3e7e181bd0>,\n",
              " <keras.layers.convolutional.DepthwiseConv2D at 0x7f3e7e176e50>,\n",
              " <keras.layers.normalization.batch_normalization.BatchNormalization at 0x7f3e7e111790>,\n",
              " <keras.layers.core.activation.Activation at 0x7f3e7e176e10>,\n",
              " <keras.layers.pooling.GlobalAveragePooling2D at 0x7f3e7e111610>,\n",
              " <keras.layers.core.reshape.Reshape at 0x7f3e7e115950>,\n",
              " <keras.layers.convolutional.Conv2D at 0x7f3e7e1c3190>,\n",
              " <keras.layers.convolutional.Conv2D at 0x7f3e7e1633d0>,\n",
              " <keras.layers.merge.Multiply at 0x7f3efd3f8450>,\n",
              " <keras.layers.convolutional.Conv2D at 0x7f3e7e136f50>,\n",
              " <keras.layers.normalization.batch_normalization.BatchNormalization at 0x7f3e7e1a8190>,\n",
              " <keras.layers.convolutional.Conv2D at 0x7f3e7e1a3150>,\n",
              " <keras.layers.normalization.batch_normalization.BatchNormalization at 0x7f3e7e184c10>,\n",
              " <keras.layers.core.activation.Activation at 0x7f3e7e194e50>,\n",
              " <keras.layers.convolutional.DepthwiseConv2D at 0x7f3e7e22c310>,\n",
              " <keras.layers.normalization.batch_normalization.BatchNormalization at 0x7f3e7e231890>,\n",
              " <keras.layers.core.activation.Activation at 0x7f3e7e23f850>,\n",
              " <keras.layers.pooling.GlobalAveragePooling2D at 0x7f3efdf2a810>,\n",
              " <keras.layers.core.reshape.Reshape at 0x7f3e7e1a3350>,\n",
              " <keras.layers.convolutional.Conv2D at 0x7f3e7e0ce950>,\n",
              " <keras.layers.convolutional.Conv2D at 0x7f3e7e0d3150>,\n",
              " <keras.layers.merge.Multiply at 0x7f3e7e0d4410>,\n",
              " <keras.layers.convolutional.Conv2D at 0x7f3e7e0ddc90>,\n",
              " <keras.layers.normalization.batch_normalization.BatchNormalization at 0x7f3e7e0e19d0>,\n",
              " <keras.layers.core.dropout.Dropout at 0x7f3e7e0e69d0>,\n",
              " <keras.layers.merge.Add at 0x7f3e7e0e1b10>,\n",
              " <keras.layers.convolutional.Conv2D at 0x7f3e7e0f1590>,\n",
              " <keras.layers.normalization.batch_normalization.BatchNormalization at 0x7f3e7e0d3c90>,\n",
              " <keras.layers.core.activation.Activation at 0x7f3e7e0fd510>,\n",
              " <keras.layers.convolutional.DepthwiseConv2D at 0x7f3e7e0f6a50>,\n",
              " <keras.layers.normalization.batch_normalization.BatchNormalization at 0x7f3e7e231850>,\n",
              " <keras.layers.core.activation.Activation at 0x7f3e7e0f6bd0>,\n",
              " <keras.layers.pooling.GlobalAveragePooling2D at 0x7f3e7e106ed0>,\n",
              " <keras.layers.core.reshape.Reshape at 0x7f3e7e092290>,\n",
              " <keras.layers.convolutional.Conv2D at 0x7f3e7e0ddbd0>,\n",
              " <keras.layers.convolutional.Conv2D at 0x7f3e7e0f1150>,\n",
              " <keras.layers.merge.Multiply at 0x7f3e7e0a5510>,\n",
              " <keras.layers.convolutional.Conv2D at 0x7f3e7e0a9510>,\n",
              " <keras.layers.normalization.batch_normalization.BatchNormalization at 0x7f3e7e0a5310>,\n",
              " <keras.layers.core.dropout.Dropout at 0x7f3e7e0bc4d0>,\n",
              " <keras.layers.merge.Add at 0x7f3e7e0ec290>,\n",
              " <keras.layers.convolutional.Conv2D at 0x7f3e7e0b4690>,\n",
              " <keras.layers.normalization.batch_normalization.BatchNormalization at 0x7f3e7e0b17d0>,\n",
              " <keras.layers.core.activation.Activation at 0x7f3e7e0cc310>,\n",
              " <keras.layers.convolutional.ZeroPadding2D at 0x7f3e7e0cced0>,\n",
              " <keras.layers.convolutional.DepthwiseConv2D at 0x7f3e7e0c15d0>,\n",
              " <keras.layers.normalization.batch_normalization.BatchNormalization at 0x7f3e7e0b8c10>,\n",
              " <keras.layers.core.activation.Activation at 0x7f3e7e0c1bd0>,\n",
              " <keras.layers.pooling.GlobalAveragePooling2D at 0x7f3e7e05f5d0>,\n",
              " <keras.layers.core.reshape.Reshape at 0x7f3e7e073850>,\n",
              " <keras.layers.convolutional.Conv2D at 0x7f3e7e073d90>,\n",
              " <keras.layers.convolutional.Conv2D at 0x7f3e7e0b1d90>,\n",
              " <keras.layers.merge.Multiply at 0x7f3e7e10bd90>,\n",
              " <keras.layers.convolutional.Conv2D at 0x7f3e7e0c5910>,\n",
              " <keras.layers.normalization.batch_normalization.BatchNormalization at 0x7f3e7e06d050>,\n",
              " <keras.layers.convolutional.Conv2D at 0x7f3e7e0e6b90>,\n",
              " <keras.layers.normalization.batch_normalization.BatchNormalization at 0x7f3e7e0c5890>,\n",
              " <keras.layers.core.activation.Activation at 0x7f3e7e0e1710>,\n",
              " <keras.layers.convolutional.DepthwiseConv2D at 0x7f3e7e184910>,\n",
              " <keras.layers.normalization.batch_normalization.BatchNormalization at 0x7f3e7e086590>,\n",
              " <keras.layers.core.activation.Activation at 0x7f3e7e079250>,\n",
              " <keras.layers.pooling.GlobalAveragePooling2D at 0x7f3e7e0ecad0>,\n",
              " <keras.layers.core.reshape.Reshape at 0x7f3e7e19ad10>,\n",
              " <keras.layers.convolutional.Conv2D at 0x7f3e7e092110>,\n",
              " <keras.layers.convolutional.Conv2D at 0x7f3e7e0e1a10>,\n",
              " <keras.layers.merge.Multiply at 0x7f3e7e0210d0>,\n",
              " <keras.layers.convolutional.Conv2D at 0x7f3e7e073fd0>,\n",
              " <keras.layers.normalization.batch_normalization.BatchNormalization at 0x7f3e7e017350>,\n",
              " <keras.layers.core.dropout.Dropout at 0x7f3e7e02fbd0>,\n",
              " <keras.layers.merge.Add at 0x7f3e7e040390>,\n",
              " <keras.layers.convolutional.Conv2D at 0x7f3e7e03b090>,\n",
              " <keras.layers.normalization.batch_normalization.BatchNormalization at 0x7f3e7e026850>,\n",
              " <keras.layers.core.activation.Activation at 0x7f3e7e040910>,\n",
              " <keras.layers.convolutional.DepthwiseConv2D at 0x7f3e7e0492d0>,\n",
              " <keras.layers.normalization.batch_normalization.BatchNormalization at 0x7f3e7e19a3d0>,\n",
              " <keras.layers.core.activation.Activation at 0x7f3e7e049390>,\n",
              " <keras.layers.pooling.GlobalAveragePooling2D at 0x7f3e6b3c2390>,\n",
              " <keras.layers.core.reshape.Reshape at 0x7f3e7e049110>,\n",
              " <keras.layers.convolutional.Conv2D at 0x7f3e6b3bf210>,\n",
              " <keras.layers.convolutional.Conv2D at 0x7f3e7e040550>,\n",
              " <keras.layers.merge.Multiply at 0x7f3e6b3b1090>,\n",
              " <keras.layers.convolutional.Conv2D at 0x7f3e6b3da990>,\n",
              " <keras.layers.normalization.batch_normalization.BatchNormalization at 0x7f3e6b3b1f90>,\n",
              " <keras.layers.core.dropout.Dropout at 0x7f3e6b3e0950>,\n",
              " <keras.layers.merge.Add at 0x7f3e7e034450>,\n",
              " <keras.layers.convolutional.Conv2D at 0x7f3e6b3e7c10>,\n",
              " <keras.layers.normalization.batch_normalization.BatchNormalization at 0x7f3e6b3ce550>,\n",
              " <keras.layers.core.activation.Activation at 0x7f3e6b3821d0>,\n",
              " <keras.layers.convolutional.DepthwiseConv2D at 0x7f3e6b37c0d0>,\n",
              " <keras.layers.normalization.batch_normalization.BatchNormalization at 0x7f3e6b378150>,\n",
              " <keras.layers.core.activation.Activation at 0x7f3e6b378590>,\n",
              " <keras.layers.pooling.GlobalAveragePooling2D at 0x7f3e6b37d350>,\n",
              " <keras.layers.core.reshape.Reshape at 0x7f3e6b38c090>,\n",
              " <keras.layers.convolutional.Conv2D at 0x7f3e6b3e0390>,\n",
              " <keras.layers.convolutional.Conv2D at 0x7f3e6b3ce410>,\n",
              " <keras.layers.merge.Multiply at 0x7f3e6b3dea90>,\n",
              " <keras.layers.convolutional.Conv2D at 0x7f3e6b3da390>,\n",
              " <keras.layers.normalization.batch_normalization.BatchNormalization at 0x7f3e6b3b9310>,\n",
              " <keras.layers.core.dropout.Dropout at 0x7f3e7e0e4650>,\n",
              " <keras.layers.merge.Add at 0x7f3e7e080210>,\n",
              " <keras.layers.convolutional.Conv2D at 0x7f3e7e017790>,\n",
              " <keras.layers.normalization.batch_normalization.BatchNormalization at 0x7f3e6b3a28d0>,\n",
              " <keras.layers.core.activation.Activation at 0x7f3e6b39d590>,\n",
              " <keras.layers.convolutional.DepthwiseConv2D at 0x7f3e6b3a2390>,\n",
              " <keras.layers.normalization.batch_normalization.BatchNormalization at 0x7f3e6b38ce10>,\n",
              " <keras.layers.core.activation.Activation at 0x7f3e6b330e50>,\n",
              " <keras.layers.pooling.GlobalAveragePooling2D at 0x7f3e6b330d50>,\n",
              " <keras.layers.core.reshape.Reshape at 0x7f3e6b39b750>,\n",
              " <keras.layers.convolutional.Conv2D at 0x7f3e6b38c310>,\n",
              " <keras.layers.convolutional.Conv2D at 0x7f3e7e07d750>,\n",
              " <keras.layers.merge.Multiply at 0x7f3e6b33ca50>,\n",
              " <keras.layers.convolutional.Conv2D at 0x7f3e6b34f750>,\n",
              " <keras.layers.normalization.batch_normalization.BatchNormalization at 0x7f3e6b343e90>,\n",
              " <keras.layers.core.dropout.Dropout at 0x7f3e6b357f90>,\n",
              " <keras.layers.merge.Add at 0x7f3e6b357310>,\n",
              " <keras.layers.convolutional.Conv2D at 0x7f3e6b36f310>,\n",
              " <keras.layers.normalization.batch_normalization.BatchNormalization at 0x7f3e6b353fd0>,\n",
              " <keras.layers.core.activation.Activation at 0x7f3e6b35cbd0>,\n",
              " <keras.layers.convolutional.DepthwiseConv2D at 0x7f3e6b2f4e90>,\n",
              " <keras.layers.normalization.batch_normalization.BatchNormalization at 0x7f3e6b2f4e10>,\n",
              " <keras.layers.core.activation.Activation at 0x7f3e6b2f4d50>,\n",
              " <keras.layers.pooling.GlobalAveragePooling2D at 0x7f3e6b2f4290>,\n",
              " <keras.layers.core.reshape.Reshape at 0x7f3e6b3532d0>,\n",
              " <keras.layers.convolutional.Conv2D at 0x7f3e6b314190>,\n",
              " <keras.layers.convolutional.Conv2D at 0x7f3e6b36f490>,\n",
              " <keras.layers.merge.Multiply at 0x7f3e6b32e890>,\n",
              " <keras.layers.convolutional.Conv2D at 0x7f3e6b328190>,\n",
              " <keras.layers.normalization.batch_normalization.BatchNormalization at 0x7f3e6b306250>,\n",
              " <keras.layers.convolutional.Conv2D at 0x7f3e6b2b4d10>,\n",
              " <keras.layers.normalization.batch_normalization.BatchNormalization at 0x7f3e6b2b8f50>,\n",
              " <keras.layers.core.activation.Activation at 0x7f3e6b2c0150>,\n",
              " <keras.layers.convolutional.DepthwiseConv2D at 0x7f3e6b2ce6d0>,\n",
              " <keras.layers.normalization.batch_normalization.BatchNormalization at 0x7f3e6b2c9e10>,\n",
              " <keras.layers.core.activation.Activation at 0x7f3e6b2ced50>,\n",
              " <keras.layers.pooling.GlobalAveragePooling2D at 0x7f3e6b2c9b10>,\n",
              " <keras.layers.core.reshape.Reshape at 0x7f3e6b33c250>,\n",
              " <keras.layers.convolutional.Conv2D at 0x7f3e6b306190>,\n",
              " <keras.layers.convolutional.Conv2D at 0x7f3e6b2bced0>,\n",
              " <keras.layers.merge.Multiply at 0x7f3e7e103750>,\n",
              " <keras.layers.convolutional.Conv2D at 0x7f3e6b30e190>,\n",
              " <keras.layers.normalization.batch_normalization.BatchNormalization at 0x7f3e6b36fbd0>,\n",
              " <keras.layers.core.dropout.Dropout at 0x7f3e6b2d9190>,\n",
              " <keras.layers.merge.Add at 0x7f3e6b2dd4d0>,\n",
              " <keras.layers.convolutional.Conv2D at 0x7f3e6b2b4750>,\n",
              " <keras.layers.normalization.batch_normalization.BatchNormalization at 0x7f3e6b339e50>,\n",
              " <keras.layers.core.activation.Activation at 0x7f3e6b2c4d90>,\n",
              " <keras.layers.convolutional.DepthwiseConv2D at 0x7f3e6b2eabd0>,\n",
              " <keras.layers.normalization.batch_normalization.BatchNormalization at 0x7f3e6b2ef690>,\n",
              " <keras.layers.core.activation.Activation at 0x7f3efd5a8e90>,\n",
              " <keras.layers.pooling.GlobalAveragePooling2D at 0x7f3e6b276ad0>,\n",
              " <keras.layers.core.reshape.Reshape at 0x7f3e6b281990>,\n",
              " <keras.layers.convolutional.Conv2D at 0x7f3e6b281350>,\n",
              " <keras.layers.convolutional.Conv2D at 0x7f3e6b2e3710>,\n",
              " <keras.layers.merge.Multiply at 0x7f3e6b29c410>,\n",
              " <keras.layers.convolutional.Conv2D at 0x7f3e6b295cd0>,\n",
              " <keras.layers.normalization.batch_normalization.BatchNormalization at 0x7f3e6b295450>,\n",
              " <keras.layers.core.dropout.Dropout at 0x7f3e6b2ad690>,\n",
              " <keras.layers.merge.Add at 0x7f3e6b2ad610>,\n",
              " <keras.layers.convolutional.Conv2D at 0x7f3e6b2a2790>,\n",
              " <keras.layers.normalization.batch_normalization.BatchNormalization at 0x7f3e6b2a18d0>,\n",
              " <keras.layers.core.activation.Activation at 0x7f3e6b23c410>,\n",
              " <keras.layers.convolutional.DepthwiseConv2D at 0x7f3e6b236650>,\n",
              " <keras.layers.normalization.batch_normalization.BatchNormalization at 0x7f3e6b281a90>,\n",
              " <keras.layers.core.activation.Activation at 0x7f3e6b242f10>,\n",
              " <keras.layers.pooling.GlobalAveragePooling2D at 0x7f3e6b246990>,\n",
              " <keras.layers.core.reshape.Reshape at 0x7f3e6b2a2f50>,\n",
              " <keras.layers.convolutional.Conv2D at 0x7f3e6b2813d0>,\n",
              " <keras.layers.convolutional.Conv2D at 0x7f3e6b2a2350>,\n",
              " <keras.layers.merge.Multiply at 0x7f3e6b25d290>,\n",
              " <keras.layers.convolutional.Conv2D at 0x7f3e6b26d0d0>,\n",
              " <keras.layers.normalization.batch_normalization.BatchNormalization at 0x7f3e6b265a90>,\n",
              " <keras.layers.core.dropout.Dropout at 0x7f3e6b2013d0>,\n",
              " <keras.layers.merge.Add at 0x7f3e6b20b350>,\n",
              " <keras.layers.convolutional.Conv2D at 0x7f3e6b20bbd0>,\n",
              " <keras.layers.normalization.batch_normalization.BatchNormalization at 0x7f3e6b1f69d0>,\n",
              " <keras.layers.core.activation.Activation at 0x7f3e6b1f9f10>,\n",
              " <keras.layers.convolutional.DepthwiseConv2D at 0x7f3e6b246d10>,\n",
              " <keras.layers.normalization.batch_normalization.BatchNormalization at 0x7f3e6b236810>,\n",
              " <keras.layers.core.activation.Activation at 0x7f3e6b2a2a10>,\n",
              " <keras.layers.pooling.GlobalAveragePooling2D at 0x7f3e6b1f2f10>,\n",
              " <keras.layers.core.reshape.Reshape at 0x7f3e6b2e6c90>,\n",
              " <keras.layers.convolutional.Conv2D at 0x7f3e6b2b4390>,\n",
              " <keras.layers.convolutional.Conv2D at 0x7f3e6b20b690>,\n",
              " <keras.layers.merge.Multiply at 0x7f3e6b289310>,\n",
              " <keras.layers.convolutional.Conv2D at 0x7f3e6b21bc90>,\n",
              " <keras.layers.normalization.batch_normalization.BatchNormalization at 0x7f3e6b284a50>,\n",
              " <keras.layers.core.dropout.Dropout at 0x7f3e6b220710>,\n",
              " <keras.layers.merge.Add at 0x7f3e6b2238d0>,\n",
              " <keras.layers.convolutional.Conv2D at 0x7f3e6b223a90>,\n",
              " <keras.layers.normalization.batch_normalization.BatchNormalization at 0x7f3e6b21bf90>,\n",
              " <keras.layers.core.activation.Activation at 0x7f3e6b1b2d10>,\n",
              " <keras.layers.convolutional.ZeroPadding2D at 0x7f3e6b22d4d0>,\n",
              " <keras.layers.convolutional.DepthwiseConv2D at 0x7f3e6b1b9450>,\n",
              " <keras.layers.normalization.batch_normalization.BatchNormalization at 0x7f3e6b22da10>,\n",
              " <keras.layers.core.activation.Activation at 0x7f3e6b1c0fd0>,\n",
              " <keras.layers.pooling.GlobalAveragePooling2D at 0x7f3e6b1c4150>,\n",
              " <keras.layers.core.reshape.Reshape at 0x7f3e6b1c40d0>,\n",
              " <keras.layers.convolutional.Conv2D at 0x7f3e6b1c7a10>,\n",
              " <keras.layers.convolutional.Conv2D at 0x7f3e6b2c4490>,\n",
              " <keras.layers.merge.Multiply at 0x7f3e6b1e0150>,\n",
              " <keras.layers.convolutional.Conv2D at 0x7f3e6b1db110>,\n",
              " <keras.layers.normalization.batch_normalization.BatchNormalization at 0x7f3e6b1e0850>,\n",
              " <keras.layers.convolutional.Conv2D at 0x7f3e6b176710>,\n",
              " <keras.layers.normalization.batch_normalization.BatchNormalization at 0x7f3e6b170650>,\n",
              " <keras.layers.core.activation.Activation at 0x7f3e6b17b610>,\n",
              " <keras.layers.convolutional.DepthwiseConv2D at 0x7f3e6b189f90>,\n",
              " <keras.layers.normalization.batch_normalization.BatchNormalization at 0x7f3e6b19f450>,\n",
              " <keras.layers.core.activation.Activation at 0x7f3e6b18d150>,\n",
              " <keras.layers.pooling.GlobalAveragePooling2D at 0x7f3e6b19f710>,\n",
              " <keras.layers.core.reshape.Reshape at 0x7f3e6b17bf90>,\n",
              " <keras.layers.convolutional.Conv2D at 0x7f3e6b1c7210>,\n",
              " <keras.layers.convolutional.Conv2D at 0x7f3e6b17ed10>,\n",
              " <keras.layers.merge.Multiply at 0x7f3e6b1391d0>,\n",
              " <keras.layers.convolutional.Conv2D at 0x7f3e6b13d190>,\n",
              " <keras.layers.normalization.batch_normalization.BatchNormalization at 0x7f3e6b145a90>,\n",
              " <keras.layers.core.dropout.Dropout at 0x7f3e6b145d50>,\n",
              " <keras.layers.merge.Add at 0x7f3e6b145b50>,\n",
              " <keras.layers.convolutional.Conv2D at 0x7f3e6b176190>,\n",
              " <keras.layers.normalization.batch_normalization.BatchNormalization at 0x7f3e6b141050>,\n",
              " <keras.layers.core.activation.Activation at 0x7f3e6b1a8fd0>,\n",
              " <keras.layers.convolutional.DepthwiseConv2D at 0x7f3e6b1a8bd0>,\n",
              " <keras.layers.normalization.batch_normalization.BatchNormalization at 0x7f3e6b23cd90>,\n",
              " <keras.layers.core.activation.Activation at 0x7f3e6b229950>,\n",
              " <keras.layers.pooling.GlobalAveragePooling2D at 0x7f3e6b223e10>,\n",
              " <keras.layers.core.reshape.Reshape at 0x7f3e6b14cf10>,\n",
              " <keras.layers.convolutional.Conv2D at 0x7f3e6b220210>,\n",
              " <keras.layers.convolutional.Conv2D at 0x7f3e6b141cd0>,\n",
              " <keras.layers.merge.Multiply at 0x7f3e6b161710>,\n",
              " <keras.layers.convolutional.Conv2D at 0x7f3e6b223610>,\n",
              " <keras.layers.normalization.batch_normalization.BatchNormalization at 0x7f3e6b20b510>,\n",
              " <keras.layers.core.dropout.Dropout at 0x7f3e6b0f1590>,\n",
              " <keras.layers.merge.Add at 0x7f3e6b0f1b50>,\n",
              " <keras.layers.convolutional.Conv2D at 0x7f3e6b0f51d0>,\n",
              " <keras.layers.normalization.batch_normalization.BatchNormalization at 0x7f3e6b161f90>,\n",
              " <keras.layers.core.activation.Activation at 0x7f3e6b109610>,\n",
              " <keras.layers.convolutional.DepthwiseConv2D at 0x7f3e6b0ffe50>,\n",
              " <keras.layers.normalization.batch_normalization.BatchNormalization at 0x7f3e6b109b50>,\n",
              " <keras.layers.core.activation.Activation at 0x7f3e6b0ff5d0>,\n",
              " <keras.layers.pooling.GlobalAveragePooling2D at 0x7f3e6b111910>,\n",
              " <keras.layers.core.reshape.Reshape at 0x7f3e6b119550>,\n",
              " <keras.layers.convolutional.Conv2D at 0x7f3e6b1ac490>,\n",
              " <keras.layers.convolutional.Conv2D at 0x7f3e6b0f1fd0>,\n",
              " <keras.layers.merge.Multiply at 0x7f3e6b0b1210>,\n",
              " <keras.layers.convolutional.Conv2D at 0x7f3e6b0bfd50>,\n",
              " <keras.layers.normalization.batch_normalization.BatchNormalization at 0x7f3e6b2bc6d0>,\n",
              " <keras.layers.core.dropout.Dropout at 0x7f3e6b0cd110>,\n",
              " <keras.layers.merge.Add at 0x7f3e6b0cda50>,\n",
              " <keras.layers.convolutional.Conv2D at 0x7f3e6b0da490>,\n",
              " <keras.layers.normalization.batch_normalization.BatchNormalization at 0x7f3e6b0b1990>,\n",
              " <keras.layers.core.activation.Activation at 0x7f3e6b0d3b10>,\n",
              " <keras.layers.convolutional.DepthwiseConv2D at 0x7f3e6b0dde50>,\n",
              " <keras.layers.normalization.batch_normalization.BatchNormalization at 0x7f3e6b1195d0>,\n",
              " <keras.layers.core.activation.Activation at 0x7f3e6b0dd810>,\n",
              " <keras.layers.pooling.GlobalAveragePooling2D at 0x7f3e6b07c3d0>,\n",
              " <keras.layers.core.reshape.Reshape at 0x7f3e6b0bfdd0>,\n",
              " <keras.layers.convolutional.Conv2D at 0x7f3e6b07c310>,\n",
              " <keras.layers.convolutional.Conv2D at 0x7f3e7e147690>,\n",
              " <keras.layers.merge.Multiply at 0x7f3e6b0c7dd0>,\n",
              " <keras.layers.convolutional.Conv2D at 0x7f3e6b111990>,\n",
              " <keras.layers.normalization.batch_normalization.BatchNormalization at 0x7f3e6b0eff50>,\n",
              " <keras.layers.core.dropout.Dropout at 0x7f3e6b2235d0>,\n",
              " <keras.layers.merge.Add at 0x7f3e6b152f50>,\n",
              " <keras.layers.convolutional.Conv2D at 0x7f3e6b152b90>,\n",
              " <keras.layers.normalization.batch_normalization.BatchNormalization at 0x7f3e6b111c90>,\n",
              " <keras.layers.core.activation.Activation at 0x7f3e6b095050>,\n",
              " <keras.layers.convolutional.DepthwiseConv2D at 0x7f3e6b08e690>,\n",
              " <keras.layers.normalization.batch_normalization.BatchNormalization at 0x7f3e6b09bed0>,\n",
              " <keras.layers.core.activation.Activation at 0x7f3e6b08ad50>,\n",
              " <keras.layers.pooling.GlobalAveragePooling2D at 0x7f3e6b08ecd0>,\n",
              " <keras.layers.core.reshape.Reshape at 0x7f3e6b0a4e10>,\n",
              " <keras.layers.convolutional.Conv2D at 0x7f3e6b0effd0>,\n",
              " <keras.layers.convolutional.Conv2D at 0x7f3e6b0e2090>,\n",
              " <keras.layers.merge.Multiply at 0x7f3e6b034b10>,\n",
              " <keras.layers.convolutional.Conv2D at 0x7f3e6b040b10>,\n",
              " <keras.layers.normalization.batch_normalization.BatchNormalization at 0x7f3e6b034950>,\n",
              " <keras.layers.core.dropout.Dropout at 0x7f3e6b04c450>,\n",
              " <keras.layers.merge.Add at 0x7f3e6b1cf810>,\n",
              " <keras.layers.convolutional.Conv2D at 0x7f3e6b048410>,\n",
              " <keras.layers.normalization.batch_normalization.BatchNormalization at 0x7f3e6b084e90>,\n",
              " <keras.layers.core.activation.Activation at 0x7f3e6b05ccd0>,\n",
              " <keras.layers.convolutional.DepthwiseConv2D at 0x7f3e6b052810>,\n",
              " <keras.layers.normalization.batch_normalization.BatchNormalization at 0x7f3e6b06ac90>,\n",
              " <keras.layers.core.activation.Activation at 0x7f3e6b051bd0>,\n",
              " <keras.layers.pooling.GlobalAveragePooling2D at 0x7f3e6b06af10>,\n",
              " <keras.layers.core.reshape.Reshape at 0x7f3e6b052510>,\n",
              " <keras.layers.convolutional.Conv2D at 0x7f3e6aff29d0>,\n",
              " <keras.layers.convolutional.Conv2D at 0x7f3e6b043e90>,\n",
              " <keras.layers.merge.Multiply at 0x7f3e6aff65d0>,\n",
              " <keras.layers.convolutional.Conv2D at 0x7f3e6b00dad0>,\n",
              " <keras.layers.normalization.batch_normalization.BatchNormalization at 0x7f3e6affbcd0>,\n",
              " <keras.layers.convolutional.Conv2D at 0x7f3e6b016fd0>,\n",
              " <keras.layers.normalization.batch_normalization.BatchNormalization at 0x7f3e6b00df50>,\n",
              " <keras.layers.core.activation.Activation at 0x7f3e6b02be50>,\n",
              " <keras.layers.convolutional.DepthwiseConv2D at 0x7f3e6b025d50>,\n",
              " <keras.layers.normalization.batch_normalization.BatchNormalization at 0x7f3e6afbca90>,\n",
              " <keras.layers.core.activation.Activation at 0x7f3e6b020a50>,\n",
              " <keras.layers.pooling.GlobalAveragePooling2D at 0x7f3e6afbcb10>,\n",
              " <keras.layers.core.reshape.Reshape at 0x7f3e6b06ad90>,\n",
              " <keras.layers.convolutional.Conv2D at 0x7f3e6aff2f10>,\n",
              " <keras.layers.convolutional.Conv2D at 0x7f3e6b020650>,\n",
              " <keras.layers.merge.Multiply at 0x7f3e6b048c90>,\n",
              " <keras.layers.convolutional.Conv2D at 0x7f3e6afb0190>,\n",
              " <keras.layers.normalization.batch_normalization.BatchNormalization at 0x7f3e6b048f90>,\n",
              " <keras.layers.core.dropout.Dropout at 0x7f3e6b156390>,\n",
              " <keras.layers.merge.Add at 0x7f3e6b046c10>,\n",
              " <keras.layers.convolutional.Conv2D at 0x7f3efd5193d0>,\n",
              " <keras.layers.normalization.batch_normalization.BatchNormalization at 0x7f3e6b1cb4d0>,\n",
              " <keras.layers.core.activation.Activation at 0x7f3e6afbfb90>]"
            ]
          },
          "metadata": {},
          "execution_count": 35
        }
      ]
    }
  ],
  "metadata": {
    "accelerator": "GPU",
    "colab": {
      "collapsed_sections": [],
      "name": "pneumonia_detection_B3.ipynb",
      "toc_visible": true,
      "provenance": [],
      "machine_shape": "hm"
    },
    "kernelspec": {
      "display_name": "Python 3",
      "language": "python",
      "name": "python3"
    },
    "language_info": {
      "codemirror_mode": {
        "name": "ipython",
        "version": 3
      },
      "file_extension": ".py",
      "mimetype": "text/x-python",
      "name": "python",
      "nbconvert_exporter": "python",
      "pygments_lexer": "ipython3",
      "version": "3.7.12"
    }
  },
  "nbformat": 4,
  "nbformat_minor": 0
}