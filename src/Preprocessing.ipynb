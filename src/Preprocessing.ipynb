{
 "cells": [
  {
   "cell_type": "markdown",
   "metadata": {},
   "source": [
    "# Librerías"
   ]
  },
  {
   "cell_type": "code",
   "execution_count": 1,
   "metadata": {},
   "outputs": [],
   "source": [
    "import numpy as np\n",
    "import pandas as pd\n",
    "import os\n",
    "import pydicom\n",
    "from PIL import Image\n",
    "from skimage.transform import resize\n",
    "\n",
    "from sklearn.model_selection import train_test_split\n",
    "\n",
    "from tensorflow import keras\n",
    "from tensorflow.keras.preprocessing.image import ImageDataGenerator\n",
    "\n",
    "import matplotlib.pyplot as plt"
   ]
  },
  {
   "cell_type": "markdown",
   "metadata": {},
   "source": [
    "# Lectura del dataset "
   ]
  },
  {
   "cell_type": "code",
   "execution_count": 2,
   "metadata": {},
   "outputs": [
    {
     "data": {
      "text/html": [
       "<div>\n",
       "<style scoped>\n",
       "    .dataframe tbody tr th:only-of-type {\n",
       "        vertical-align: middle;\n",
       "    }\n",
       "\n",
       "    .dataframe tbody tr th {\n",
       "        vertical-align: top;\n",
       "    }\n",
       "\n",
       "    .dataframe thead th {\n",
       "        text-align: right;\n",
       "    }\n",
       "</style>\n",
       "<table border=\"1\" class=\"dataframe\">\n",
       "  <thead>\n",
       "    <tr style=\"text-align: right;\">\n",
       "      <th></th>\n",
       "      <th>patientId</th>\n",
       "      <th>x</th>\n",
       "      <th>y</th>\n",
       "      <th>width</th>\n",
       "      <th>height</th>\n",
       "      <th>Target</th>\n",
       "    </tr>\n",
       "  </thead>\n",
       "  <tbody>\n",
       "    <tr>\n",
       "      <th>0</th>\n",
       "      <td>0004cfab-14fd-4e49-80ba-63a80b6bddd6</td>\n",
       "      <td>NaN</td>\n",
       "      <td>NaN</td>\n",
       "      <td>NaN</td>\n",
       "      <td>NaN</td>\n",
       "      <td>0</td>\n",
       "    </tr>\n",
       "    <tr>\n",
       "      <th>1</th>\n",
       "      <td>00313ee0-9eaa-42f4-b0ab-c148ed3241cd</td>\n",
       "      <td>NaN</td>\n",
       "      <td>NaN</td>\n",
       "      <td>NaN</td>\n",
       "      <td>NaN</td>\n",
       "      <td>0</td>\n",
       "    </tr>\n",
       "    <tr>\n",
       "      <th>2</th>\n",
       "      <td>00322d4d-1c29-4943-afc9-b6754be640eb</td>\n",
       "      <td>NaN</td>\n",
       "      <td>NaN</td>\n",
       "      <td>NaN</td>\n",
       "      <td>NaN</td>\n",
       "      <td>0</td>\n",
       "    </tr>\n",
       "    <tr>\n",
       "      <th>3</th>\n",
       "      <td>003d8fa0-6bf1-40ed-b54c-ac657f8495c5</td>\n",
       "      <td>NaN</td>\n",
       "      <td>NaN</td>\n",
       "      <td>NaN</td>\n",
       "      <td>NaN</td>\n",
       "      <td>0</td>\n",
       "    </tr>\n",
       "    <tr>\n",
       "      <th>4</th>\n",
       "      <td>00436515-870c-4b36-a041-de91049b9ab4</td>\n",
       "      <td>264.0</td>\n",
       "      <td>152.0</td>\n",
       "      <td>213.0</td>\n",
       "      <td>379.0</td>\n",
       "      <td>1</td>\n",
       "    </tr>\n",
       "  </tbody>\n",
       "</table>\n",
       "</div>"
      ],
      "text/plain": [
       "                              patientId      x      y  width  height  Target\n",
       "0  0004cfab-14fd-4e49-80ba-63a80b6bddd6    NaN    NaN    NaN     NaN       0\n",
       "1  00313ee0-9eaa-42f4-b0ab-c148ed3241cd    NaN    NaN    NaN     NaN       0\n",
       "2  00322d4d-1c29-4943-afc9-b6754be640eb    NaN    NaN    NaN     NaN       0\n",
       "3  003d8fa0-6bf1-40ed-b54c-ac657f8495c5    NaN    NaN    NaN     NaN       0\n",
       "4  00436515-870c-4b36-a041-de91049b9ab4  264.0  152.0  213.0   379.0       1"
      ]
     },
     "execution_count": 2,
     "metadata": {},
     "output_type": "execute_result"
    }
   ],
   "source": [
    "df = pd.read_csv(\"../data/stage_2_train_labels.csv\")\n",
    "df.head()"
   ]
  },
  {
   "cell_type": "markdown",
   "metadata": {},
   "source": [
    "Comprobaciones sobre el número de registros y si hay elementos duplicados"
   ]
  },
  {
   "cell_type": "code",
   "execution_count": 3,
   "metadata": {},
   "outputs": [
    {
     "name": "stdout",
     "output_type": "stream",
     "text": [
      "El número de registros es: 30227\n",
      "El número de patientId únicos es: 26684\n",
      "El número de duplicados es: 3543\n"
     ]
    }
   ],
   "source": [
    "num_filas = len(df)\n",
    "num_patientId_unicos = len(np.unique(df[\"patientId\"]))\n",
    "num_duplicados = num_filas - num_patientId_unicos\n",
    "\n",
    "print(\"El número de registros es: \" + str(num_filas))\n",
    "print(\"El número de patientId únicos es: \" + str(num_patientId_unicos))\n",
    "print(\"El número de duplicados es: \" + str(num_duplicados))\n"
   ]
  },
  {
   "cell_type": "markdown",
   "metadata": {},
   "source": [
    "Vamos a identificar esos duplicados y eliminarlos"
   ]
  },
  {
   "cell_type": "code",
   "execution_count": 4,
   "metadata": {},
   "outputs": [
    {
     "data": {
      "text/html": [
       "<div>\n",
       "<style scoped>\n",
       "    .dataframe tbody tr th:only-of-type {\n",
       "        vertical-align: middle;\n",
       "    }\n",
       "\n",
       "    .dataframe tbody tr th {\n",
       "        vertical-align: top;\n",
       "    }\n",
       "\n",
       "    .dataframe thead th {\n",
       "        text-align: right;\n",
       "    }\n",
       "</style>\n",
       "<table border=\"1\" class=\"dataframe\">\n",
       "  <thead>\n",
       "    <tr style=\"text-align: right;\">\n",
       "      <th></th>\n",
       "      <th>patientId</th>\n",
       "      <th>x</th>\n",
       "      <th>y</th>\n",
       "      <th>width</th>\n",
       "      <th>height</th>\n",
       "      <th>Target</th>\n",
       "    </tr>\n",
       "  </thead>\n",
       "  <tbody>\n",
       "    <tr>\n",
       "      <th>5</th>\n",
       "      <td>00436515-870c-4b36-a041-de91049b9ab4</td>\n",
       "      <td>562.0</td>\n",
       "      <td>152.0</td>\n",
       "      <td>256.0</td>\n",
       "      <td>453.0</td>\n",
       "      <td>1</td>\n",
       "    </tr>\n",
       "    <tr>\n",
       "      <th>9</th>\n",
       "      <td>00704310-78a8-4b38-8475-49f4573b2dbb</td>\n",
       "      <td>695.0</td>\n",
       "      <td>575.0</td>\n",
       "      <td>162.0</td>\n",
       "      <td>137.0</td>\n",
       "      <td>1</td>\n",
       "    </tr>\n",
       "    <tr>\n",
       "      <th>15</th>\n",
       "      <td>00aecb01-a116-45a2-956c-08d2fa55433f</td>\n",
       "      <td>547.0</td>\n",
       "      <td>299.0</td>\n",
       "      <td>119.0</td>\n",
       "      <td>165.0</td>\n",
       "      <td>1</td>\n",
       "    </tr>\n",
       "    <tr>\n",
       "      <th>17</th>\n",
       "      <td>00c0b293-48e7-4e16-ac76-9269ba535a62</td>\n",
       "      <td>650.0</td>\n",
       "      <td>511.0</td>\n",
       "      <td>206.0</td>\n",
       "      <td>284.0</td>\n",
       "      <td>1</td>\n",
       "    </tr>\n",
       "    <tr>\n",
       "      <th>20</th>\n",
       "      <td>00f08de1-517e-4652-a04f-d1dc9ee48593</td>\n",
       "      <td>571.0</td>\n",
       "      <td>275.0</td>\n",
       "      <td>230.0</td>\n",
       "      <td>476.0</td>\n",
       "      <td>1</td>\n",
       "    </tr>\n",
       "  </tbody>\n",
       "</table>\n",
       "</div>"
      ],
      "text/plain": [
       "                               patientId      x      y  width  height  Target\n",
       "5   00436515-870c-4b36-a041-de91049b9ab4  562.0  152.0  256.0   453.0       1\n",
       "9   00704310-78a8-4b38-8475-49f4573b2dbb  695.0  575.0  162.0   137.0       1\n",
       "15  00aecb01-a116-45a2-956c-08d2fa55433f  547.0  299.0  119.0   165.0       1\n",
       "17  00c0b293-48e7-4e16-ac76-9269ba535a62  650.0  511.0  206.0   284.0       1\n",
       "20  00f08de1-517e-4652-a04f-d1dc9ee48593  571.0  275.0  230.0   476.0       1"
      ]
     },
     "execution_count": 4,
     "metadata": {},
     "output_type": "execute_result"
    }
   ],
   "source": [
    "df_duplicados = df[df.duplicated([\"patientId\"])]\n",
    "df_duplicados.head()"
   ]
  },
  {
   "cell_type": "code",
   "execution_count": 5,
   "metadata": {},
   "outputs": [
    {
     "data": {
      "text/html": [
       "<div>\n",
       "<style scoped>\n",
       "    .dataframe tbody tr th:only-of-type {\n",
       "        vertical-align: middle;\n",
       "    }\n",
       "\n",
       "    .dataframe tbody tr th {\n",
       "        vertical-align: top;\n",
       "    }\n",
       "\n",
       "    .dataframe thead th {\n",
       "        text-align: right;\n",
       "    }\n",
       "</style>\n",
       "<table border=\"1\" class=\"dataframe\">\n",
       "  <thead>\n",
       "    <tr style=\"text-align: right;\">\n",
       "      <th></th>\n",
       "      <th>patientId</th>\n",
       "      <th>x</th>\n",
       "      <th>y</th>\n",
       "      <th>width</th>\n",
       "      <th>height</th>\n",
       "      <th>Target</th>\n",
       "    </tr>\n",
       "  </thead>\n",
       "  <tbody>\n",
       "    <tr>\n",
       "      <th>8</th>\n",
       "      <td>00704310-78a8-4b38-8475-49f4573b2dbb</td>\n",
       "      <td>323.0</td>\n",
       "      <td>577.0</td>\n",
       "      <td>160.0</td>\n",
       "      <td>104.0</td>\n",
       "      <td>1</td>\n",
       "    </tr>\n",
       "    <tr>\n",
       "      <th>9</th>\n",
       "      <td>00704310-78a8-4b38-8475-49f4573b2dbb</td>\n",
       "      <td>695.0</td>\n",
       "      <td>575.0</td>\n",
       "      <td>162.0</td>\n",
       "      <td>137.0</td>\n",
       "      <td>1</td>\n",
       "    </tr>\n",
       "  </tbody>\n",
       "</table>\n",
       "</div>"
      ],
      "text/plain": [
       "                              patientId      x      y  width  height  Target\n",
       "8  00704310-78a8-4b38-8475-49f4573b2dbb  323.0  577.0  160.0   104.0       1\n",
       "9  00704310-78a8-4b38-8475-49f4573b2dbb  695.0  575.0  162.0   137.0       1"
      ]
     },
     "execution_count": 5,
     "metadata": {},
     "output_type": "execute_result"
    }
   ],
   "source": [
    "df[df[\"patientId\"] == \"00704310-78a8-4b38-8475-49f4573b2dbb\"]"
   ]
  },
  {
   "cell_type": "markdown",
   "metadata": {},
   "source": [
    "Como podemos comprobar hay registros que están duplicados para una misma imagen, esto se entiende a priori que está bien porque un registro indica que hay neumonía en un pulmón, y el otro registro que también hay pulmonía en el otro.\n",
    "\n",
    "En nuestro caso, tenemos un imagen que queremos clasificar si el target es 1 o 0, pero nos da igual si hay una neumonía en un pulmón, en los dos o en ninguno, es decir, solo nos importa el `patientId` (indica el paciente y la imagen correspondiente) y la variable objetivo `Target` (1 indica que hay neumonía y 0 en caso contrario).\n",
    "\n",
    "Por lo tanto, vamos a quedarnos con el primer elemnto duplicado, el segundo lo eliminamos del dataset."
   ]
  },
  {
   "cell_type": "code",
   "execution_count": 6,
   "metadata": {},
   "outputs": [
    {
     "data": {
      "text/html": [
       "<div>\n",
       "<style scoped>\n",
       "    .dataframe tbody tr th:only-of-type {\n",
       "        vertical-align: middle;\n",
       "    }\n",
       "\n",
       "    .dataframe tbody tr th {\n",
       "        vertical-align: top;\n",
       "    }\n",
       "\n",
       "    .dataframe thead th {\n",
       "        text-align: right;\n",
       "    }\n",
       "</style>\n",
       "<table border=\"1\" class=\"dataframe\">\n",
       "  <thead>\n",
       "    <tr style=\"text-align: right;\">\n",
       "      <th></th>\n",
       "      <th>patientId</th>\n",
       "      <th>x</th>\n",
       "      <th>y</th>\n",
       "      <th>width</th>\n",
       "      <th>height</th>\n",
       "      <th>Target</th>\n",
       "    </tr>\n",
       "  </thead>\n",
       "  <tbody>\n",
       "    <tr>\n",
       "      <th>0</th>\n",
       "      <td>0004cfab-14fd-4e49-80ba-63a80b6bddd6</td>\n",
       "      <td>NaN</td>\n",
       "      <td>NaN</td>\n",
       "      <td>NaN</td>\n",
       "      <td>NaN</td>\n",
       "      <td>0</td>\n",
       "    </tr>\n",
       "    <tr>\n",
       "      <th>1</th>\n",
       "      <td>00313ee0-9eaa-42f4-b0ab-c148ed3241cd</td>\n",
       "      <td>NaN</td>\n",
       "      <td>NaN</td>\n",
       "      <td>NaN</td>\n",
       "      <td>NaN</td>\n",
       "      <td>0</td>\n",
       "    </tr>\n",
       "    <tr>\n",
       "      <th>2</th>\n",
       "      <td>00322d4d-1c29-4943-afc9-b6754be640eb</td>\n",
       "      <td>NaN</td>\n",
       "      <td>NaN</td>\n",
       "      <td>NaN</td>\n",
       "      <td>NaN</td>\n",
       "      <td>0</td>\n",
       "    </tr>\n",
       "    <tr>\n",
       "      <th>3</th>\n",
       "      <td>003d8fa0-6bf1-40ed-b54c-ac657f8495c5</td>\n",
       "      <td>NaN</td>\n",
       "      <td>NaN</td>\n",
       "      <td>NaN</td>\n",
       "      <td>NaN</td>\n",
       "      <td>0</td>\n",
       "    </tr>\n",
       "    <tr>\n",
       "      <th>4</th>\n",
       "      <td>00436515-870c-4b36-a041-de91049b9ab4</td>\n",
       "      <td>264.0</td>\n",
       "      <td>152.0</td>\n",
       "      <td>213.0</td>\n",
       "      <td>379.0</td>\n",
       "      <td>1</td>\n",
       "    </tr>\n",
       "  </tbody>\n",
       "</table>\n",
       "</div>"
      ],
      "text/plain": [
       "                              patientId      x      y  width  height  Target\n",
       "0  0004cfab-14fd-4e49-80ba-63a80b6bddd6    NaN    NaN    NaN     NaN       0\n",
       "1  00313ee0-9eaa-42f4-b0ab-c148ed3241cd    NaN    NaN    NaN     NaN       0\n",
       "2  00322d4d-1c29-4943-afc9-b6754be640eb    NaN    NaN    NaN     NaN       0\n",
       "3  003d8fa0-6bf1-40ed-b54c-ac657f8495c5    NaN    NaN    NaN     NaN       0\n",
       "4  00436515-870c-4b36-a041-de91049b9ab4  264.0  152.0  213.0   379.0       1"
      ]
     },
     "execution_count": 6,
     "metadata": {},
     "output_type": "execute_result"
    }
   ],
   "source": [
    "df = df.drop_duplicates(subset=\"patientId\")\n",
    "df.head()"
   ]
  },
  {
   "cell_type": "code",
   "execution_count": 7,
   "metadata": {},
   "outputs": [
    {
     "name": "stdout",
     "output_type": "stream",
     "text": [
      "El número de registros es: 26684\n",
      "El número de patientId únicos es: 26684\n",
      "El número de duplicados es: 0\n"
     ]
    }
   ],
   "source": [
    "num_filas = len(df)\n",
    "num_patientId_unicos = len(np.unique(df[\"patientId\"]))\n",
    "num_duplicados = num_filas - num_patientId_unicos\n",
    "\n",
    "print(\"El número de registros es: \" + str(num_filas))\n",
    "print(\"El número de patientId únicos es: \" + str(num_patientId_unicos))\n",
    "print(\"El número de duplicados es: \" + str(num_duplicados))"
   ]
  },
  {
   "cell_type": "markdown",
   "metadata": {},
   "source": [
    "El siguiente paso es eliminar las columnas innecesasrias, es decir, solo nos hace falta el `patientId` para saber qué paciente es y qué imagen hay que usar, y la variable `Target` para saber si en la imagen hay neumonía o no."
   ]
  },
  {
   "cell_type": "code",
   "execution_count": 8,
   "metadata": {},
   "outputs": [
    {
     "name": "stdout",
     "output_type": "stream",
     "text": [
      "El número de registros es: 26684\n"
     ]
    },
    {
     "data": {
      "text/html": [
       "<div>\n",
       "<style scoped>\n",
       "    .dataframe tbody tr th:only-of-type {\n",
       "        vertical-align: middle;\n",
       "    }\n",
       "\n",
       "    .dataframe tbody tr th {\n",
       "        vertical-align: top;\n",
       "    }\n",
       "\n",
       "    .dataframe thead th {\n",
       "        text-align: right;\n",
       "    }\n",
       "</style>\n",
       "<table border=\"1\" class=\"dataframe\">\n",
       "  <thead>\n",
       "    <tr style=\"text-align: right;\">\n",
       "      <th></th>\n",
       "      <th>patientId</th>\n",
       "      <th>Target</th>\n",
       "    </tr>\n",
       "  </thead>\n",
       "  <tbody>\n",
       "    <tr>\n",
       "      <th>0</th>\n",
       "      <td>0004cfab-14fd-4e49-80ba-63a80b6bddd6</td>\n",
       "      <td>0</td>\n",
       "    </tr>\n",
       "    <tr>\n",
       "      <th>1</th>\n",
       "      <td>00313ee0-9eaa-42f4-b0ab-c148ed3241cd</td>\n",
       "      <td>0</td>\n",
       "    </tr>\n",
       "    <tr>\n",
       "      <th>2</th>\n",
       "      <td>00322d4d-1c29-4943-afc9-b6754be640eb</td>\n",
       "      <td>0</td>\n",
       "    </tr>\n",
       "    <tr>\n",
       "      <th>3</th>\n",
       "      <td>003d8fa0-6bf1-40ed-b54c-ac657f8495c5</td>\n",
       "      <td>0</td>\n",
       "    </tr>\n",
       "    <tr>\n",
       "      <th>4</th>\n",
       "      <td>00436515-870c-4b36-a041-de91049b9ab4</td>\n",
       "      <td>1</td>\n",
       "    </tr>\n",
       "  </tbody>\n",
       "</table>\n",
       "</div>"
      ],
      "text/plain": [
       "                              patientId  Target\n",
       "0  0004cfab-14fd-4e49-80ba-63a80b6bddd6       0\n",
       "1  00313ee0-9eaa-42f4-b0ab-c148ed3241cd       0\n",
       "2  00322d4d-1c29-4943-afc9-b6754be640eb       0\n",
       "3  003d8fa0-6bf1-40ed-b54c-ac657f8495c5       0\n",
       "4  00436515-870c-4b36-a041-de91049b9ab4       1"
      ]
     },
     "execution_count": 8,
     "metadata": {},
     "output_type": "execute_result"
    }
   ],
   "source": [
    "df = df.iloc[:, [0,5]]\n",
    "print(\"El número de registros es: \" + str(len(df)))\n",
    "df.head()"
   ]
  },
  {
   "cell_type": "markdown",
   "metadata": {},
   "source": [
    "# Split conjunto de train, test y validation"
   ]
  },
  {
   "cell_type": "code",
   "execution_count": 9,
   "metadata": {},
   "outputs": [],
   "source": [
    "X_train, X_test, y_train, y_test = train_test_split(df[\"patientId\"], df[\"Target\"], test_size=3000)\n",
    "X_train, X_validation, y_train, y_validation = train_test_split(X_train, y_train, test_size=3000)"
   ]
  },
  {
   "cell_type": "code",
   "execution_count": 10,
   "metadata": {},
   "outputs": [
    {
     "name": "stdout",
     "output_type": "stream",
     "text": [
      "Las dimensiones de X_train son: (20684,)\n",
      "Las dimensiones de y_train son: (20684,)\n",
      "Las dimensiones de X_validation son: (3000,)\n",
      "Las dimensiones de y_validation son: (3000,)\n",
      "Las dimensiones de X_test sonn: (3000,)\n",
      "Las dimensiones de y_test sonn: (3000,)\n"
     ]
    }
   ],
   "source": [
    "print(\"Las dimensiones de X_train son: \" + str(X_train.shape))\n",
    "print(\"Las dimensiones de y_train son: \" + str(y_train.shape))\n",
    "print(\"Las dimensiones de X_validation son: \" + str(X_validation.shape))\n",
    "print(\"Las dimensiones de y_validation son: \" + str(y_validation.shape))\n",
    "print(\"Las dimensiones de X_test sonn: \" + str(X_test.shape))\n",
    "print(\"Las dimensiones de y_test sonn: \" + str(y_test.shape))"
   ]
  },
  {
   "cell_type": "markdown",
   "metadata": {},
   "source": [
    "# Transformar las imágenes de dicom a png"
   ]
  },
  {
   "cell_type": "markdown",
   "metadata": {},
   "source": [
    "En este apartado se va a transformar la imágenes de dicom a png, básicamente para que no comprima la imagen y sea más fácil de trabajar con ella.\n",
    "\n",
    "La estructura de carpetas que se van a generar son las siguientes:\n",
    "* train_images: contiene las imágenes del conjunto de train.\n",
    "* validation_images: contiene las imágenes del conjunto de validation.\n",
    "* test_images: contiene las imágenes del conjunto de test.\n",
    "\n",
    "Lo primero de todo es crear las carpeta correspondientes:"
   ]
  },
  {
   "cell_type": "code",
   "execution_count": 11,
   "metadata": {},
   "outputs": [],
   "source": [
    "# Definición del tamaño de las imágenes, original 1024x1024, la necesaria para EfficientNetB0 es 224x224\n",
    "IMG_SIZE = 224\n",
    "\n",
    "# Creación de los directorios\n",
    "os.mkdir(\"../data/preprocessed_dataset/train_images\")\n",
    "os.mkdir(\"../data/preprocessed_dataset/validation_images\")\n",
    "os.mkdir(\"../data/preprocessed_dataset/test_images\")"
   ]
  },
  {
   "cell_type": "markdown",
   "metadata": {},
   "source": [
    "Lo siguiente es definir una función para que vaya recorriendo la imágenes, las transforme y las almacene en el directorio correspondiente:"
   ]
  },
  {
   "cell_type": "code",
   "execution_count": 12,
   "metadata": {},
   "outputs": [],
   "source": [
    "def transform_dcm_png(images, mode=\"train\"):\n",
    "    path = \"\"\n",
    "    root = \"../data/stage_2_train_images/\"\n",
    "    \n",
    "    if mode == \"train\":\n",
    "        path = \"../data/preprocessed_dataset/train_images\"\n",
    "    if mode == \"validation\":\n",
    "        path =  \"../data/preprocessed_dataset/validation_images\"\n",
    "    if mode == \"test\":\n",
    "        path = \"../data/preprocessed_dataset/test_images\"\n",
    "    \n",
    "    # Empieza la transformación\n",
    "    for image in images:\n",
    "        img = pydicom.dcmread(os.path.join(root, image + \".dcm\")).pixel_array\n",
    "        img_resize = resize(img, (IMG_SIZE, IMG_SIZE), mode=\"reflect\") * 255\n",
    "        img_resize = img_resize.astype(np.uint8)\n",
    "        img_save = Image.fromarray(img_resize)\n",
    "        img_save.save(os.path.join(path, image + \".png\"))\n",
    "        \n",
    "transform_dcm_png(images=X_train.values, mode=\"train\")\n",
    "transform_dcm_png(images=X_validation.values, mode=\"validation\")\n",
    "transform_dcm_png(images=X_test.values, mode=\"test\")"
   ]
  },
  {
   "cell_type": "code",
   "execution_count": 13,
   "metadata": {},
   "outputs": [
    {
     "name": "stdout",
     "output_type": "stream",
     "text": [
      "Train: True\n",
      "Validation: True\n",
      "Test: True\n"
     ]
    }
   ],
   "source": [
    "def check_transform(images, mode=\"train\"):\n",
    "    files = []\n",
    "    \n",
    "    if mode == \"train\":\n",
    "        files = os.listdir(\"../data/preprocessed_dataset/train_images\")\n",
    "    if mode == \"validation\":\n",
    "        files = os.listdir(\"../data/preprocessed_dataset/validation_images\")\n",
    "    if mode == \"test\":\n",
    "        files = os.listdir(\"../data/preprocessed_dataset/test_images\")\n",
    "        \n",
    "    for image in images:\n",
    "        if not image + \".png\" in files:\n",
    "            return False\n",
    "    return True\n",
    "\n",
    "print(\"Train: \" + str(check_transform(images=X_train.values, mode=\"train\")))\n",
    "print(\"Validation: \" + str(check_transform(images=X_validation.values, mode=\"validation\")))\n",
    "print(\"Test: \" + str(check_transform(images=X_test.values, mode=\"test\")))"
   ]
  },
  {
   "cell_type": "markdown",
   "metadata": {},
   "source": [
    "# Comprobar el balance de datos"
   ]
  },
  {
   "cell_type": "markdown",
   "metadata": {},
   "source": [
    "Comprobamos el número de muestras que hay en el conjunto de train sin neumonía y con neumonía. Además, calculamos la proporción."
   ]
  },
  {
   "cell_type": "code",
   "execution_count": 14,
   "metadata": {},
   "outputs": [
    {
     "name": "stdout",
     "output_type": "stream",
     "text": [
      "El número de muestras sin neumonía es: 16036\n",
      "El número de muestras con neumonía es: 4648\n"
     ]
    }
   ],
   "source": [
    "print(\"El número de muestras sin neumonía es: \" + str(np.count_nonzero(y_train == 0)))\n",
    "print(\"El número de muestras con neumonía es: \" + str(np.count_nonzero(y_train == 1)))"
   ]
  },
  {
   "cell_type": "code",
   "execution_count": 15,
   "metadata": {},
   "outputs": [
    {
     "name": "stdout",
     "output_type": "stream",
     "text": [
      "La proporción es: 3.45\n"
     ]
    }
   ],
   "source": [
    "proportion = round(np.count_nonzero(y_train == 0) / np.count_nonzero(y_train == 1), 2)\n",
    "print(\"La proporción es: \" + str(proportion))"
   ]
  },
  {
   "cell_type": "markdown",
   "metadata": {},
   "source": [
    "Por cada imágenes con neumonía hay aproximadamente 3.5 imágenes sin neumonía. Por lo tanto, vemos que hay un claro desbalanceo entre clases.\n",
    "\n",
    "Para solventar este problema vamos a realizar un aumento de datos de la clase minoritaría, en nuestro caso, de las imágenes con neumonía.\n",
    "\n",
    "Inicialmente lo que se va a hacer va a ser aumentar tantas imágenes como sea la diferencia con la proporción, es decir, si la proporción es 3.4 (se van a crear 3 - 1 = 2 imágenes aumentadas por cada imagen con neumonía). Finalmente, se volverá a recorrer cada imágen con neumonía y calcular una imágenes aumentada hasta que haya un claro balanceo de datos."
   ]
  },
  {
   "cell_type": "code",
   "execution_count": 38,
   "metadata": {},
   "outputs": [],
   "source": [
    "def image_data_generator(img, batch_size=20):\n",
    "    # Data augmentation\n",
    "    images = []\n",
    "    img_gen = ImageDataGenerator(samplewise_center=False, \n",
    "                                 samplewise_std_normalization=False, \n",
    "                                 horizontal_flip = True, \n",
    "                                 vertical_flip = False, \n",
    "                                 height_shift_range = 0.05, \n",
    "                                 width_shift_range = 0.02, \n",
    "                                 rotation_range = 3, \n",
    "                                 shear_range = 0.01,\n",
    "                                 fill_mode = 'nearest',\n",
    "                                 zoom_range = 0.05)\n",
    "\n",
    "    img = img.reshape(1,img.shape[0],img.shape[1],1) # (1, dim1, dim2, canal)\n",
    "\n",
    "    it = img_gen.flow(img, batch_size=1)\n",
    "\n",
    "    for i in range(batch_size):\n",
    "        # generate batch of images\n",
    "        batch = it.next()\n",
    "        # convert to unsigned integers for viewing\n",
    "        image = batch[0].astype('uint8')\n",
    "        image = np.squeeze(image, axis=-1)\n",
    "        # add to list\n",
    "        images.append(image)\n",
    "        \n",
    "    return images[np.random.randint(low=0, high=batch_size)]"
   ]
  },
  {
   "cell_type": "code",
   "execution_count": 39,
   "metadata": {},
   "outputs": [],
   "source": [
    "def data_balancing(X_train, y_train, proportion):\n",
    "    X = np.copy(X_train)\n",
    "    y = np.copy(y_train)\n",
    "    indices = np.where(y == 1)[0]\n",
    "    proportion = int(proportion)\n",
    "    root = \"../data/preprocessed_dataset/train_images\"\n",
    "    \n",
    "    # 1ª Data augmentation\n",
    "    # Tantas imágenes aumentadas como número de proporción, si la proporción es 3.7 se generan 3 - 1 = 2 imágenes nuevas\n",
    "    for index in indices:\n",
    "        img = np.array(Image.open(os.path.join(root, X[index] + \".png\")))\n",
    "        img_name = X[index] + \"#a\"\n",
    "        for rep in range(proportion - 1):\n",
    "            augmented_image = image_data_generator(img)\n",
    "            img_save = Image.fromarray(augmented_image)\n",
    "            img_save.save(os.path.join(root, img_name + str(rep) + \".png\"))\n",
    "            X = np.append(X, img_name + str(rep))\n",
    "            y = np.append(y, 1)\n",
    "            \n",
    "    # 2º Data augmentation\n",
    "    # Se va a crear una imágen aumentada de forma aleatoria hasta balancear las clases\n",
    "    # En este caso solo se crea una imágen aumentada por cada imágen hasta balancear las clases\n",
    "    repetitions = np.count_nonzero(y == 0) - np.count_nonzero(y == 1)\n",
    "    visited = []\n",
    "    rep_tag = 0\n",
    "    \n",
    "    for rep in range(repetitions):\n",
    "        index = indices[np.random.randint(low=0, high=indices.shape[0])]\n",
    "        while index in visited:\n",
    "            index = indices[np.random.randint(low=0, high=indices.shape[0])]\n",
    "            if len(visited) == indices.shape[0]: # Si ya he visitado todos, vuelvo a empezar\n",
    "                visited = []\n",
    "                rep_tag += 1\n",
    "        img = np.array(Image.open(os.path.join(root, X[index] + \".png\")))\n",
    "        img_name = X[index] + \"#b\"\n",
    "        \n",
    "        # Creación de la imagen\n",
    "        augmented_image = image_data_generator(img)\n",
    "        img_save = Image.fromarray(augmented_image)\n",
    "        img_save.save(os.path.join(root, img_name + str(rep_tag) + \".png\"))\n",
    "        X = np.append(X, img_name + str(rep_tag))\n",
    "        y = np.append(y, 1)\n",
    "        \n",
    "        # Guardamos el paciente visitado\n",
    "        visited.append(index)\n",
    "        \n",
    "    return X, y"
   ]
  },
  {
   "cell_type": "code",
   "execution_count": 40,
   "metadata": {},
   "outputs": [],
   "source": [
    "X_train_augmented, y_train_augmented = data_balancing(X_train, y_train, proportion)"
   ]
  },
  {
   "cell_type": "markdown",
   "metadata": {},
   "source": [
    "Comprobamos si el balanceo se ha realizado de forma correcta:"
   ]
  },
  {
   "cell_type": "code",
   "execution_count": 41,
   "metadata": {},
   "outputs": [
    {
     "name": "stdout",
     "output_type": "stream",
     "text": [
      "El número de muestras sin neumonía es: 16036\n",
      "El número de muestras con neumonía es: 16036\n"
     ]
    }
   ],
   "source": [
    "print(\"El número de muestras sin neumonía es: \" + str(np.count_nonzero(y_train_augmented == 0)))\n",
    "print(\"El número de muestras con neumonía es: \" + str(np.count_nonzero(y_train_augmented == 1)))"
   ]
  },
  {
   "cell_type": "markdown",
   "metadata": {},
   "source": [
    "Comprobamos que se han introducido los datos de forma correcta en el dataset:"
   ]
  },
  {
   "cell_type": "code",
   "execution_count": 42,
   "metadata": {},
   "outputs": [
    {
     "name": "stdout",
     "output_type": "stream",
     "text": [
      "20350    ba8f8cb0-5aed-4242-b117-8516f4c7b51b\n",
      "5826     49f5c9f1-8c3c-4afc-b940-33e1500d31e8\n",
      "1110     0cc27255-7f78-4093-84d7-04190a7d72ec\n",
      "16706    a12b6a40-323c-4ead-8875-5b84ae4beb6f\n",
      "24779    de94813d-0475-41b0-b248-af03dfb5a412\n",
      "                         ...                 \n",
      "5654     4885207c-0763-45f4-b2ac-ea5658e3202f\n",
      "27882    f75825ef-d6a7-4738-b1aa-2aa410b1398d\n",
      "11873    7a5b8476-3a3f-4b43-a23d-524384981214\n",
      "8099     5c9364c7-51da-490b-82bd-e7078e9c21f2\n",
      "6404     4eabc5b6-eb31-495c-ae71-baff48d68912\n",
      "Name: patientId, Length: 20684, dtype: object\n",
      "\n",
      "\n",
      "['ba8f8cb0-5aed-4242-b117-8516f4c7b51b'\n",
      " '49f5c9f1-8c3c-4afc-b940-33e1500d31e8'\n",
      " '0cc27255-7f78-4093-84d7-04190a7d72ec' ...\n",
      " '1851dff6-31ec-4453-9ddc-95c0aedace5b#b0'\n",
      " 'b4b73865-89a8-4fd1-8494-4abd8084beca#b0'\n",
      " 'b8db9c09-e681-4737-9ad8-e92ad618a5ca#b0']\n"
     ]
    }
   ],
   "source": [
    "print(X_train)\n",
    "print(\"\\n\")\n",
    "print(X_train_augmented)"
   ]
  },
  {
   "cell_type": "code",
   "execution_count": 43,
   "metadata": {},
   "outputs": [
    {
     "name": "stdout",
     "output_type": "stream",
     "text": [
      "20350    0\n",
      "5826     0\n",
      "1110     0\n",
      "16706    0\n",
      "24779    0\n",
      "        ..\n",
      "5654     0\n",
      "27882    0\n",
      "11873    0\n",
      "8099     0\n",
      "6404     0\n",
      "Name: Target, Length: 20684, dtype: int64\n",
      "\n",
      "\n",
      "[0 0 0 ... 1 1 1]\n"
     ]
    }
   ],
   "source": [
    "print(y_train)\n",
    "print(\"\\n\")\n",
    "print(y_train_augmented)"
   ]
  },
  {
   "cell_type": "code",
   "execution_count": 44,
   "metadata": {},
   "outputs": [
    {
     "data": {
      "text/plain": [
       "array([   19,    20,    21, ..., 20646, 20649, 20651], dtype=int64)"
      ]
     },
     "execution_count": 44,
     "metadata": {},
     "output_type": "execute_result"
    }
   ],
   "source": [
    "indices = np.where(y_train == 1)[0]\n",
    "indices"
   ]
  },
  {
   "cell_type": "code",
   "execution_count": 45,
   "metadata": {},
   "outputs": [
    {
     "data": {
      "text/plain": [
       "True"
      ]
     },
     "execution_count": 45,
     "metadata": {},
     "output_type": "execute_result"
    }
   ],
   "source": [
    "def check_augmented_data(X_train_augmented, y_train_augmented, indices, proportion):\n",
    "    root = os.listdir(\"../data/preprocessed_dataset/train_images\")\n",
    "    \n",
    "    for index in indices:\n",
    "        patientId = X_train_augmented[index]\n",
    "        target = y_train_augmented[index]\n",
    "        \n",
    "        for i in range(int(proportion) -1):\n",
    "            # Comprobamos que se han creado las imágenes\n",
    "            if not patientId + \"#a\" + str(i) + \".png\" in root:\n",
    "                return False\n",
    "            \n",
    "            # Comprobamos que lo ha añadido al dataset\n",
    "            if not patientId + \"#a\" + str(i) in X_train_augmented:\n",
    "                return False\n",
    "            \n",
    "            # Comprobamos que ha añadido un 1\n",
    "            index_augmented = np.where(X_train_augmented == patientId + \"#a\" + str(i))\n",
    "            if y_train_augmented[index_augmented] != 1:\n",
    "                return False\n",
    "            \n",
    "    return True\n",
    "\n",
    "check_augmented_data(X_train_augmented, y_train_augmented, indices, proportion)"
   ]
  },
  {
   "cell_type": "markdown",
   "metadata": {},
   "source": [
    "# Generación ficheros de salida"
   ]
  },
  {
   "cell_type": "markdown",
   "metadata": {},
   "source": [
    "En este punto se van a generar los ficheros de salida para train, validation y test."
   ]
  },
  {
   "cell_type": "code",
   "execution_count": 46,
   "metadata": {},
   "outputs": [],
   "source": [
    "# Generación del dataframe de salida de train\n",
    "df_train = pd.DataFrame(data={\n",
    "    \"PatientId\": X_train_augmented,\n",
    "    \"Target\": y_train_augmented\n",
    "})\n",
    "\n",
    "# Generación del dataframe de salida de validation\n",
    "df_validation = pd.DataFrame(data={\n",
    "    \"PatientId\": X_validation.values,\n",
    "    \"Target\": y_validation.values\n",
    "})\n",
    "\n",
    "# Generación del dataframe de salida de test\n",
    "df_test = pd.DataFrame(data={\n",
    "    \"PatientId\": X_test.values,\n",
    "    \"Target\": y_test.values\n",
    "})"
   ]
  },
  {
   "cell_type": "code",
   "execution_count": 47,
   "metadata": {},
   "outputs": [],
   "source": [
    "# Generación del fichero de CSV para train\n",
    "df_train.to_csv(\"../data/preprocessed_dataset/train_labels.csv\", index=False)\n",
    "\n",
    "# Generación del fichero de CSV para validation\n",
    "df_validation.to_csv(\"../data/preprocessed_dataset/validation_labels.csv\", index=False)\n",
    "\n",
    "# Generación del fichero de CSV para test\n",
    "df_test.to_csv(\"../data/preprocessed_dataset/test_labels.csv\", index=False)"
   ]
  }
 ],
 "metadata": {
  "kernelspec": {
   "display_name": "Python 3",
   "language": "python",
   "name": "python3"
  },
  "language_info": {
   "codemirror_mode": {
    "name": "ipython",
    "version": 3
   },
   "file_extension": ".py",
   "mimetype": "text/x-python",
   "name": "python",
   "nbconvert_exporter": "python",
   "pygments_lexer": "ipython3",
   "version": "3.8.3"
  }
 },
 "nbformat": 4,
 "nbformat_minor": 4
}
