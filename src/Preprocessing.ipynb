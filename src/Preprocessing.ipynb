{
 "cells": [
  {
   "cell_type": "markdown",
   "metadata": {},
   "source": [
    "# Librerías"
   ]
  },
  {
   "cell_type": "code",
   "execution_count": 82,
   "metadata": {},
   "outputs": [],
   "source": [
    "import numpy as np\n",
    "import pandas as pd\n",
    "import os\n",
    "import pydicom\n",
    "from PIL import Image\n",
    "\n",
    "from sklearn.model_selection import train_test_split\n",
    "\n",
    "import matplotlib.pyplot as plt"
   ]
  },
  {
   "cell_type": "markdown",
   "metadata": {},
   "source": [
    "# Lectura del dataset "
   ]
  },
  {
   "cell_type": "code",
   "execution_count": 51,
   "metadata": {},
   "outputs": [
    {
     "data": {
      "text/html": [
       "<div>\n",
       "<style scoped>\n",
       "    .dataframe tbody tr th:only-of-type {\n",
       "        vertical-align: middle;\n",
       "    }\n",
       "\n",
       "    .dataframe tbody tr th {\n",
       "        vertical-align: top;\n",
       "    }\n",
       "\n",
       "    .dataframe thead th {\n",
       "        text-align: right;\n",
       "    }\n",
       "</style>\n",
       "<table border=\"1\" class=\"dataframe\">\n",
       "  <thead>\n",
       "    <tr style=\"text-align: right;\">\n",
       "      <th></th>\n",
       "      <th>patientId</th>\n",
       "      <th>x</th>\n",
       "      <th>y</th>\n",
       "      <th>width</th>\n",
       "      <th>height</th>\n",
       "      <th>Target</th>\n",
       "    </tr>\n",
       "  </thead>\n",
       "  <tbody>\n",
       "    <tr>\n",
       "      <th>0</th>\n",
       "      <td>0004cfab-14fd-4e49-80ba-63a80b6bddd6</td>\n",
       "      <td>NaN</td>\n",
       "      <td>NaN</td>\n",
       "      <td>NaN</td>\n",
       "      <td>NaN</td>\n",
       "      <td>0</td>\n",
       "    </tr>\n",
       "    <tr>\n",
       "      <th>1</th>\n",
       "      <td>00313ee0-9eaa-42f4-b0ab-c148ed3241cd</td>\n",
       "      <td>NaN</td>\n",
       "      <td>NaN</td>\n",
       "      <td>NaN</td>\n",
       "      <td>NaN</td>\n",
       "      <td>0</td>\n",
       "    </tr>\n",
       "    <tr>\n",
       "      <th>2</th>\n",
       "      <td>00322d4d-1c29-4943-afc9-b6754be640eb</td>\n",
       "      <td>NaN</td>\n",
       "      <td>NaN</td>\n",
       "      <td>NaN</td>\n",
       "      <td>NaN</td>\n",
       "      <td>0</td>\n",
       "    </tr>\n",
       "    <tr>\n",
       "      <th>3</th>\n",
       "      <td>003d8fa0-6bf1-40ed-b54c-ac657f8495c5</td>\n",
       "      <td>NaN</td>\n",
       "      <td>NaN</td>\n",
       "      <td>NaN</td>\n",
       "      <td>NaN</td>\n",
       "      <td>0</td>\n",
       "    </tr>\n",
       "    <tr>\n",
       "      <th>4</th>\n",
       "      <td>00436515-870c-4b36-a041-de91049b9ab4</td>\n",
       "      <td>264.0</td>\n",
       "      <td>152.0</td>\n",
       "      <td>213.0</td>\n",
       "      <td>379.0</td>\n",
       "      <td>1</td>\n",
       "    </tr>\n",
       "  </tbody>\n",
       "</table>\n",
       "</div>"
      ],
      "text/plain": [
       "                              patientId      x      y  width  height  Target\n",
       "0  0004cfab-14fd-4e49-80ba-63a80b6bddd6    NaN    NaN    NaN     NaN       0\n",
       "1  00313ee0-9eaa-42f4-b0ab-c148ed3241cd    NaN    NaN    NaN     NaN       0\n",
       "2  00322d4d-1c29-4943-afc9-b6754be640eb    NaN    NaN    NaN     NaN       0\n",
       "3  003d8fa0-6bf1-40ed-b54c-ac657f8495c5    NaN    NaN    NaN     NaN       0\n",
       "4  00436515-870c-4b36-a041-de91049b9ab4  264.0  152.0  213.0   379.0       1"
      ]
     },
     "execution_count": 51,
     "metadata": {},
     "output_type": "execute_result"
    }
   ],
   "source": [
    "df = pd.read_csv(\"../data/stage_2_train_labels.csv\")\n",
    "df.head()"
   ]
  },
  {
   "cell_type": "markdown",
   "metadata": {},
   "source": [
    "Comprobaciones sobre el número de registros y si hay elementos duplicados"
   ]
  },
  {
   "cell_type": "code",
   "execution_count": 52,
   "metadata": {},
   "outputs": [
    {
     "name": "stdout",
     "output_type": "stream",
     "text": [
      "El número de registros es: 30227\n",
      "El número de patientId únicos es: 26684\n",
      "El número de duplicados es: 3543\n"
     ]
    }
   ],
   "source": [
    "num_filas = len(df)\n",
    "num_patientId_unicos = len(np.unique(df[\"patientId\"]))\n",
    "num_duplicados = num_filas - num_patientId_unicos\n",
    "\n",
    "print(\"El número de registros es: \" + str(num_filas))\n",
    "print(\"El número de patientId únicos es: \" + str(num_patientId_unicos))\n",
    "print(\"El número de duplicados es: \" + str(num_duplicados))\n"
   ]
  },
  {
   "cell_type": "markdown",
   "metadata": {},
   "source": [
    "Vamos a identificar esos duplicados y eliminarlos"
   ]
  },
  {
   "cell_type": "code",
   "execution_count": 53,
   "metadata": {},
   "outputs": [
    {
     "data": {
      "text/html": [
       "<div>\n",
       "<style scoped>\n",
       "    .dataframe tbody tr th:only-of-type {\n",
       "        vertical-align: middle;\n",
       "    }\n",
       "\n",
       "    .dataframe tbody tr th {\n",
       "        vertical-align: top;\n",
       "    }\n",
       "\n",
       "    .dataframe thead th {\n",
       "        text-align: right;\n",
       "    }\n",
       "</style>\n",
       "<table border=\"1\" class=\"dataframe\">\n",
       "  <thead>\n",
       "    <tr style=\"text-align: right;\">\n",
       "      <th></th>\n",
       "      <th>patientId</th>\n",
       "      <th>x</th>\n",
       "      <th>y</th>\n",
       "      <th>width</th>\n",
       "      <th>height</th>\n",
       "      <th>Target</th>\n",
       "    </tr>\n",
       "  </thead>\n",
       "  <tbody>\n",
       "    <tr>\n",
       "      <th>5</th>\n",
       "      <td>00436515-870c-4b36-a041-de91049b9ab4</td>\n",
       "      <td>562.0</td>\n",
       "      <td>152.0</td>\n",
       "      <td>256.0</td>\n",
       "      <td>453.0</td>\n",
       "      <td>1</td>\n",
       "    </tr>\n",
       "    <tr>\n",
       "      <th>9</th>\n",
       "      <td>00704310-78a8-4b38-8475-49f4573b2dbb</td>\n",
       "      <td>695.0</td>\n",
       "      <td>575.0</td>\n",
       "      <td>162.0</td>\n",
       "      <td>137.0</td>\n",
       "      <td>1</td>\n",
       "    </tr>\n",
       "    <tr>\n",
       "      <th>15</th>\n",
       "      <td>00aecb01-a116-45a2-956c-08d2fa55433f</td>\n",
       "      <td>547.0</td>\n",
       "      <td>299.0</td>\n",
       "      <td>119.0</td>\n",
       "      <td>165.0</td>\n",
       "      <td>1</td>\n",
       "    </tr>\n",
       "    <tr>\n",
       "      <th>17</th>\n",
       "      <td>00c0b293-48e7-4e16-ac76-9269ba535a62</td>\n",
       "      <td>650.0</td>\n",
       "      <td>511.0</td>\n",
       "      <td>206.0</td>\n",
       "      <td>284.0</td>\n",
       "      <td>1</td>\n",
       "    </tr>\n",
       "    <tr>\n",
       "      <th>20</th>\n",
       "      <td>00f08de1-517e-4652-a04f-d1dc9ee48593</td>\n",
       "      <td>571.0</td>\n",
       "      <td>275.0</td>\n",
       "      <td>230.0</td>\n",
       "      <td>476.0</td>\n",
       "      <td>1</td>\n",
       "    </tr>\n",
       "  </tbody>\n",
       "</table>\n",
       "</div>"
      ],
      "text/plain": [
       "                               patientId      x      y  width  height  Target\n",
       "5   00436515-870c-4b36-a041-de91049b9ab4  562.0  152.0  256.0   453.0       1\n",
       "9   00704310-78a8-4b38-8475-49f4573b2dbb  695.0  575.0  162.0   137.0       1\n",
       "15  00aecb01-a116-45a2-956c-08d2fa55433f  547.0  299.0  119.0   165.0       1\n",
       "17  00c0b293-48e7-4e16-ac76-9269ba535a62  650.0  511.0  206.0   284.0       1\n",
       "20  00f08de1-517e-4652-a04f-d1dc9ee48593  571.0  275.0  230.0   476.0       1"
      ]
     },
     "execution_count": 53,
     "metadata": {},
     "output_type": "execute_result"
    }
   ],
   "source": [
    "df_duplicados = df[df.duplicated([\"patientId\"])]\n",
    "df_duplicados.head()"
   ]
  },
  {
   "cell_type": "code",
   "execution_count": 54,
   "metadata": {},
   "outputs": [
    {
     "data": {
      "text/html": [
       "<div>\n",
       "<style scoped>\n",
       "    .dataframe tbody tr th:only-of-type {\n",
       "        vertical-align: middle;\n",
       "    }\n",
       "\n",
       "    .dataframe tbody tr th {\n",
       "        vertical-align: top;\n",
       "    }\n",
       "\n",
       "    .dataframe thead th {\n",
       "        text-align: right;\n",
       "    }\n",
       "</style>\n",
       "<table border=\"1\" class=\"dataframe\">\n",
       "  <thead>\n",
       "    <tr style=\"text-align: right;\">\n",
       "      <th></th>\n",
       "      <th>patientId</th>\n",
       "      <th>x</th>\n",
       "      <th>y</th>\n",
       "      <th>width</th>\n",
       "      <th>height</th>\n",
       "      <th>Target</th>\n",
       "    </tr>\n",
       "  </thead>\n",
       "  <tbody>\n",
       "    <tr>\n",
       "      <th>8</th>\n",
       "      <td>00704310-78a8-4b38-8475-49f4573b2dbb</td>\n",
       "      <td>323.0</td>\n",
       "      <td>577.0</td>\n",
       "      <td>160.0</td>\n",
       "      <td>104.0</td>\n",
       "      <td>1</td>\n",
       "    </tr>\n",
       "    <tr>\n",
       "      <th>9</th>\n",
       "      <td>00704310-78a8-4b38-8475-49f4573b2dbb</td>\n",
       "      <td>695.0</td>\n",
       "      <td>575.0</td>\n",
       "      <td>162.0</td>\n",
       "      <td>137.0</td>\n",
       "      <td>1</td>\n",
       "    </tr>\n",
       "  </tbody>\n",
       "</table>\n",
       "</div>"
      ],
      "text/plain": [
       "                              patientId      x      y  width  height  Target\n",
       "8  00704310-78a8-4b38-8475-49f4573b2dbb  323.0  577.0  160.0   104.0       1\n",
       "9  00704310-78a8-4b38-8475-49f4573b2dbb  695.0  575.0  162.0   137.0       1"
      ]
     },
     "execution_count": 54,
     "metadata": {},
     "output_type": "execute_result"
    }
   ],
   "source": [
    "df[df[\"patientId\"] == \"00704310-78a8-4b38-8475-49f4573b2dbb\"]"
   ]
  },
  {
   "cell_type": "markdown",
   "metadata": {},
   "source": [
    "Como podemos comprobar hay registros que están duplicados para una misma imagen, esto se entiende a priori que está bien porque un registro indica que hay neumonía en un pulmón, y el otro registro que también hay pulmonía en el otro.\n",
    "\n",
    "En nuestro caso, tenemos un imagen que queremos clasificar si el target es 1 o 0, pero nos da igual si hay una neumonía en un pulmón, en los dos o en ninguno, es decir, solo nos importa el `patientId` (indica el paciente y la imagen correspondiente) y la variable objetivo `Target` (1 indica que hay neumonía y 0 en caso contrario).\n",
    "\n",
    "Por lo tanto, vamos a quedarnos con el primer elemnto duplicado, el segundo lo eliminamos del dataset."
   ]
  },
  {
   "cell_type": "code",
   "execution_count": 55,
   "metadata": {},
   "outputs": [
    {
     "data": {
      "text/html": [
       "<div>\n",
       "<style scoped>\n",
       "    .dataframe tbody tr th:only-of-type {\n",
       "        vertical-align: middle;\n",
       "    }\n",
       "\n",
       "    .dataframe tbody tr th {\n",
       "        vertical-align: top;\n",
       "    }\n",
       "\n",
       "    .dataframe thead th {\n",
       "        text-align: right;\n",
       "    }\n",
       "</style>\n",
       "<table border=\"1\" class=\"dataframe\">\n",
       "  <thead>\n",
       "    <tr style=\"text-align: right;\">\n",
       "      <th></th>\n",
       "      <th>patientId</th>\n",
       "      <th>x</th>\n",
       "      <th>y</th>\n",
       "      <th>width</th>\n",
       "      <th>height</th>\n",
       "      <th>Target</th>\n",
       "    </tr>\n",
       "  </thead>\n",
       "  <tbody>\n",
       "    <tr>\n",
       "      <th>0</th>\n",
       "      <td>0004cfab-14fd-4e49-80ba-63a80b6bddd6</td>\n",
       "      <td>NaN</td>\n",
       "      <td>NaN</td>\n",
       "      <td>NaN</td>\n",
       "      <td>NaN</td>\n",
       "      <td>0</td>\n",
       "    </tr>\n",
       "    <tr>\n",
       "      <th>1</th>\n",
       "      <td>00313ee0-9eaa-42f4-b0ab-c148ed3241cd</td>\n",
       "      <td>NaN</td>\n",
       "      <td>NaN</td>\n",
       "      <td>NaN</td>\n",
       "      <td>NaN</td>\n",
       "      <td>0</td>\n",
       "    </tr>\n",
       "    <tr>\n",
       "      <th>2</th>\n",
       "      <td>00322d4d-1c29-4943-afc9-b6754be640eb</td>\n",
       "      <td>NaN</td>\n",
       "      <td>NaN</td>\n",
       "      <td>NaN</td>\n",
       "      <td>NaN</td>\n",
       "      <td>0</td>\n",
       "    </tr>\n",
       "    <tr>\n",
       "      <th>3</th>\n",
       "      <td>003d8fa0-6bf1-40ed-b54c-ac657f8495c5</td>\n",
       "      <td>NaN</td>\n",
       "      <td>NaN</td>\n",
       "      <td>NaN</td>\n",
       "      <td>NaN</td>\n",
       "      <td>0</td>\n",
       "    </tr>\n",
       "    <tr>\n",
       "      <th>4</th>\n",
       "      <td>00436515-870c-4b36-a041-de91049b9ab4</td>\n",
       "      <td>264.0</td>\n",
       "      <td>152.0</td>\n",
       "      <td>213.0</td>\n",
       "      <td>379.0</td>\n",
       "      <td>1</td>\n",
       "    </tr>\n",
       "  </tbody>\n",
       "</table>\n",
       "</div>"
      ],
      "text/plain": [
       "                              patientId      x      y  width  height  Target\n",
       "0  0004cfab-14fd-4e49-80ba-63a80b6bddd6    NaN    NaN    NaN     NaN       0\n",
       "1  00313ee0-9eaa-42f4-b0ab-c148ed3241cd    NaN    NaN    NaN     NaN       0\n",
       "2  00322d4d-1c29-4943-afc9-b6754be640eb    NaN    NaN    NaN     NaN       0\n",
       "3  003d8fa0-6bf1-40ed-b54c-ac657f8495c5    NaN    NaN    NaN     NaN       0\n",
       "4  00436515-870c-4b36-a041-de91049b9ab4  264.0  152.0  213.0   379.0       1"
      ]
     },
     "execution_count": 55,
     "metadata": {},
     "output_type": "execute_result"
    }
   ],
   "source": [
    "df = df.drop_duplicates(subset=\"patientId\")\n",
    "df.head()"
   ]
  },
  {
   "cell_type": "code",
   "execution_count": 56,
   "metadata": {},
   "outputs": [
    {
     "name": "stdout",
     "output_type": "stream",
     "text": [
      "El número de registros es: 26684\n",
      "El número de patientId únicos es: 26684\n",
      "El número de duplicados es: 0\n"
     ]
    }
   ],
   "source": [
    "num_filas = len(df)\n",
    "num_patientId_unicos = len(np.unique(df[\"patientId\"]))\n",
    "num_duplicados = num_filas - num_patientId_unicos\n",
    "\n",
    "print(\"El número de registros es: \" + str(num_filas))\n",
    "print(\"El número de patientId únicos es: \" + str(num_patientId_unicos))\n",
    "print(\"El número de duplicados es: \" + str(num_duplicados))"
   ]
  },
  {
   "cell_type": "markdown",
   "metadata": {},
   "source": [
    "El siguiente paso es eliminar las columnas innecesasrias, es decir, solo nos hace falta el `patientId` para saber qué paciente es y qué imagen hay que usar, y la variable `Target` para saber si en la imagen hay neumonía o no."
   ]
  },
  {
   "cell_type": "code",
   "execution_count": 57,
   "metadata": {},
   "outputs": [
    {
     "name": "stdout",
     "output_type": "stream",
     "text": [
      "El número de registros es: 26684\n"
     ]
    },
    {
     "data": {
      "text/html": [
       "<div>\n",
       "<style scoped>\n",
       "    .dataframe tbody tr th:only-of-type {\n",
       "        vertical-align: middle;\n",
       "    }\n",
       "\n",
       "    .dataframe tbody tr th {\n",
       "        vertical-align: top;\n",
       "    }\n",
       "\n",
       "    .dataframe thead th {\n",
       "        text-align: right;\n",
       "    }\n",
       "</style>\n",
       "<table border=\"1\" class=\"dataframe\">\n",
       "  <thead>\n",
       "    <tr style=\"text-align: right;\">\n",
       "      <th></th>\n",
       "      <th>patientId</th>\n",
       "      <th>Target</th>\n",
       "    </tr>\n",
       "  </thead>\n",
       "  <tbody>\n",
       "    <tr>\n",
       "      <th>0</th>\n",
       "      <td>0004cfab-14fd-4e49-80ba-63a80b6bddd6</td>\n",
       "      <td>0</td>\n",
       "    </tr>\n",
       "    <tr>\n",
       "      <th>1</th>\n",
       "      <td>00313ee0-9eaa-42f4-b0ab-c148ed3241cd</td>\n",
       "      <td>0</td>\n",
       "    </tr>\n",
       "    <tr>\n",
       "      <th>2</th>\n",
       "      <td>00322d4d-1c29-4943-afc9-b6754be640eb</td>\n",
       "      <td>0</td>\n",
       "    </tr>\n",
       "    <tr>\n",
       "      <th>3</th>\n",
       "      <td>003d8fa0-6bf1-40ed-b54c-ac657f8495c5</td>\n",
       "      <td>0</td>\n",
       "    </tr>\n",
       "    <tr>\n",
       "      <th>4</th>\n",
       "      <td>00436515-870c-4b36-a041-de91049b9ab4</td>\n",
       "      <td>1</td>\n",
       "    </tr>\n",
       "  </tbody>\n",
       "</table>\n",
       "</div>"
      ],
      "text/plain": [
       "                              patientId  Target\n",
       "0  0004cfab-14fd-4e49-80ba-63a80b6bddd6       0\n",
       "1  00313ee0-9eaa-42f4-b0ab-c148ed3241cd       0\n",
       "2  00322d4d-1c29-4943-afc9-b6754be640eb       0\n",
       "3  003d8fa0-6bf1-40ed-b54c-ac657f8495c5       0\n",
       "4  00436515-870c-4b36-a041-de91049b9ab4       1"
      ]
     },
     "execution_count": 57,
     "metadata": {},
     "output_type": "execute_result"
    }
   ],
   "source": [
    "df = df.iloc[:, [0,5]]\n",
    "print(\"El número de registros es: \" + str(len(df)))\n",
    "df.head()"
   ]
  },
  {
   "cell_type": "markdown",
   "metadata": {},
   "source": [
    "# Split conjunto de train, test y validation"
   ]
  },
  {
   "cell_type": "code",
   "execution_count": 72,
   "metadata": {},
   "outputs": [],
   "source": [
    "X_train, X_test, y_train, y_test = train_test_split(df[\"patientId\"], df[\"Target\"], test_size=3000)\n",
    "X_train, X_validation, y_train, y_validation = train_test_split(X_train, y_train, test_size=3000)"
   ]
  },
  {
   "cell_type": "code",
   "execution_count": 73,
   "metadata": {},
   "outputs": [
    {
     "name": "stdout",
     "output_type": "stream",
     "text": [
      "Las dimensiones de X_train son: (20684,)\n",
      "Las dimensiones de y_train son: (20684,)\n",
      "Las dimensiones de X_validation son: (3000,)\n",
      "Las dimensiones de y_validation son: (3000,)\n",
      "Las dimensiones de X_test sonn: (3000,)\n",
      "Las dimensiones de y_test sonn: (3000,)\n"
     ]
    }
   ],
   "source": [
    "print(\"Las dimensiones de X_train son: \" + str(X_train.shape))\n",
    "print(\"Las dimensiones de y_train son: \" + str(y_train.shape))\n",
    "print(\"Las dimensiones de X_validation son: \" + str(X_validation.shape))\n",
    "print(\"Las dimensiones de y_validation son: \" + str(y_validation.shape))\n",
    "print(\"Las dimensiones de X_test sonn: \" + str(X_test.shape))\n",
    "print(\"Las dimensiones de y_test sonn: \" + str(y_test.shape))"
   ]
  },
  {
   "cell_type": "code",
   "execution_count": 78,
   "metadata": {},
   "outputs": [],
   "source": [
    "# np.count_nonzero(y_train == 1)"
   ]
  },
  {
   "cell_type": "markdown",
   "metadata": {},
   "source": [
    "# Transformar las imágenes de dicom a png"
   ]
  },
  {
   "cell_type": "markdown",
   "metadata": {},
   "source": [
    "En este apartado se va a transformar la imágenes de dicom a png, básicamente para que no comprima la imagen y sea más fácil de trabajar con ella.\n",
    "\n",
    "La estructura de carpetas que se van a generar son las siguientes:\n",
    "* train_images: contiene las imágenes del conjunto de train.\n",
    "* validation_images: contiene las imágenes del conjunto de validation.\n",
    "* test_images: contiene las imágenes del conjunto de test.\n",
    "\n",
    "Lo primero de todo es crear las carpeta correspondientes:"
   ]
  },
  {
   "cell_type": "code",
   "execution_count": 79,
   "metadata": {},
   "outputs": [],
   "source": [
    "# Creación de los directorios\n",
    "os.mkdir(\"../data/preprocessed_dataset/train_images\")\n",
    "os.mkdir(\"../data/preprocessed_dataset/validation_images\")\n",
    "os.mkdir(\"../data/preprocessed_dataset/test_images\")"
   ]
  },
  {
   "cell_type": "markdown",
   "metadata": {},
   "source": [
    "Lo siguiente es definir una función para que vaya recorriendo la imágenes, las transforme y las almacene en el directorio correspondiente:"
   ]
  },
  {
   "cell_type": "code",
   "execution_count": null,
   "metadata": {},
   "outputs": [],
   "source": [
    "def transform_dcm_png(images, mode=\"train\"):\n",
    "    path = \"\"\n",
    "    root = \"../data/stage_2_train_images/\"\n",
    "    \n",
    "    if mode == \"train\":\n",
    "        path = \"../data/preprocessed_dataset/train_images\"\n",
    "    if mode == \"validation\":\n",
    "        path =  \"../data/preprocessed_dataset/validation_images\"\n",
    "    if mode == \"test\":\n",
    "        path = \"../data/preprocessed_dataset/test_images\"\n",
    "    \n",
    "    # Empieza la transformación\n",
    "    for image in images:\n",
    "        img = pydicom.dcmread(os.path.join(root, image + \".dcm\")).pixel_array\n",
    "        img_save = Image.fromarray(img)\n",
    "        img_save.save(os.path.join(path, image + \".png\"))\n",
    "        \n",
    "transform_dcm_png(images=X_train.values, mode=\"train\")\n",
    "transform_dcm_png(images=X_validation.values, mode=\"validation\")\n",
    "transform_dcm_png(images=X_test.values, mode=\"test\")"
   ]
  },
  {
   "cell_type": "code",
   "execution_count": 88,
   "metadata": {},
   "outputs": [
    {
     "data": {
      "text/plain": [
       "array(['4436d992-c780-474a-b753-4effe7e4deaa',\n",
       "       '823a9297-1c70-4f5d-8f10-b33205761ca2',\n",
       "       'ca5c6136-98de-4885-829a-ac8dc00cd00c', ...,\n",
       "       '0cc27255-7f78-4093-84d7-04190a7d72ec',\n",
       "       'c8e36af3-6b75-49ac-b144-975daf5aaa38',\n",
       "       'a2d15397-0a67-4f00-a6ff-e44bf5de8b9c'], dtype=object)"
      ]
     },
     "execution_count": 88,
     "metadata": {},
     "output_type": "execute_result"
    }
   ],
   "source": [
    "def check_transform(images, mode=\"train\"):\n",
    "    files = []\n",
    "    \n",
    "    if mode == \"train\":\n",
    "        files = os.listdir(\"../data/preprocessed_dataset/train_images\")\n",
    "    if mode == \"validation\":\n",
    "        files = os.listdir(\"../data/preprocessed_dataset/validation_images\")\n",
    "    if mode == \"test\":\n",
    "        path = os.listdir(\"../data/preprocessed_dataset/test_images\")\n",
    "        \n",
    "    for image in images:\n",
    "        if not image + \".png\" in files:\n",
    "            return False\n",
    "    return True\n",
    "\n",
    "print(\"Train: \" + str(check_transform(images=X_train.values, mode=\"train\")))\n",
    "print(\"Validation: \" + str(check_transform(images=X_validation.values, mode=\"validation\")))\n",
    "print(\"Test: \" + str(check_transform(images=X_test.values, mode=\"test\")))"
   ]
  },
  {
   "cell_type": "code",
   "execution_count": null,
   "metadata": {},
   "outputs": [],
   "source": [
    "aux = os.listdir(\"../data/preprocessed_dataset/train_images\")\n",
    "if '4436d992-c780-474a-b753-4effe7e4deaa.png' in aux:\n",
    "    print(\"a\")"
   ]
  }
 ],
 "metadata": {
  "kernelspec": {
   "display_name": "Python 3",
   "language": "python",
   "name": "python3"
  },
  "language_info": {
   "codemirror_mode": {
    "name": "ipython",
    "version": 3
   },
   "file_extension": ".py",
   "mimetype": "text/x-python",
   "name": "python",
   "nbconvert_exporter": "python",
   "pygments_lexer": "ipython3",
   "version": "3.8.3"
  }
 },
 "nbformat": 4,
 "nbformat_minor": 4
}
