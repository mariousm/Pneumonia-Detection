{
  "cells": [
    {
      "cell_type": "markdown",
      "metadata": {
        "id": "jfhHSQoRktDb"
      },
      "source": [
        ""
      ]
    },
    {
      "cell_type": "markdown",
      "metadata": {
        "id": "gQc31ylIoJzI"
      },
      "source": [
        "# Importación de librerías"
      ]
    },
    {
      "cell_type": "code",
      "execution_count": 1,
      "metadata": {
        "id": "F4ghj3pmoJzJ"
      },
      "outputs": [],
      "source": [
        "import numpy as np\n",
        "import pandas as pd\n",
        "import os\n",
        "import csv\n",
        "import random\n",
        "import _pickle as pickle\n",
        "from PIL import Image\n",
        "from skimage.transform import resize\n",
        "\n",
        "import seaborn as sns\n",
        "from sklearn.metrics import confusion_matrix, classification_report, roc_curve, roc_auc_score\n",
        "\n",
        "from tensorflow import keras\n",
        "from tensorflow.keras.applications import EfficientNetB4\n",
        "from tensorflow.keras.optimizers import Adam\n",
        "from keras.models import Sequential\n",
        "from keras import layers\n",
        "from keras.models import load_model\n",
        "\n",
        "import matplotlib.pyplot as plt"
      ]
    },
    {
      "cell_type": "markdown",
      "metadata": {
        "id": "-gx8TfIaaEM_"
      },
      "source": [
        "# Carga de Google Drive"
      ]
    },
    {
      "cell_type": "code",
      "execution_count": 2,
      "metadata": {
        "colab": {
          "base_uri": "https://localhost:8080/"
        },
        "id": "R18rOwHuoeme",
        "outputId": "76ec1b06-7fc2-417f-b1a7-ed8908dbd2be"
      },
      "outputs": [
        {
          "output_type": "stream",
          "name": "stdout",
          "text": [
            "Mounted at /content/drive\n"
          ]
        }
      ],
      "source": [
        "from google.colab import drive\n",
        "drive.mount('/content/drive')"
      ]
    },
    {
      "cell_type": "markdown",
      "metadata": {
        "id": "Bjk_r3zDajYf"
      },
      "source": [
        "# Lectura de los datos"
      ]
    },
    {
      "cell_type": "code",
      "execution_count": 3,
      "metadata": {
        "colab": {
          "base_uri": "https://localhost:8080/"
        },
        "id": "TJlyy1otafCy",
        "outputId": "7f660b78-3455-41c5-b6ac-d539d11d065e"
      },
      "outputs": [
        {
          "output_type": "stream",
          "name": "stdout",
          "text": [
            "El número de registros en df_train es: 32144\n",
            "El número de registros en df_test es: 3000\n",
            "El número de registros en df_validation es: 3000\n"
          ]
        }
      ],
      "source": [
        "# Carga de los dataframes de train, test y validation\n",
        "df_train = pd.read_csv(\"/content/drive/MyDrive/TFM/data/EfficientNetB4/train_labels.csv\")\n",
        "df_test = pd.read_csv(\"/content/drive/MyDrive/TFM/data/EfficientNetB4/test_labels.csv\")\n",
        "df_validation = pd.read_csv(\"/content/drive/MyDrive/TFM/data/EfficientNetB4/validation_labels.csv\")\n",
        "\n",
        "print(\"El número de registros en df_train es: \" + str(len(df_train)))\n",
        "print(\"El número de registros en df_test es: \" + str(len(df_test)))\n",
        "print(\"El número de registros en df_validation es: \" + str(len(df_validation)))"
      ]
    },
    {
      "cell_type": "code",
      "execution_count": null,
      "metadata": {
        "colab": {
          "base_uri": "https://localhost:8080/",
          "height": 206
        },
        "id": "52Viwc_6cFW_",
        "outputId": "18dadbb0-04c4-4c12-9e7a-dcabf99a161b"
      },
      "outputs": [
        {
          "output_type": "execute_result",
          "data": {
            "text/plain": [
              "                              PatientId  Target\n",
              "0  087d375c-c266-4069-84dd-4d1d9d906539       0\n",
              "1  bf90b850-cae0-4f24-9767-a63923beeaf3       0\n",
              "2  6d3f2555-82f6-49ea-91ec-2b70fe3fb7bf       0\n",
              "3  9f12306f-aeae-4898-b99a-2b15be3e81d7       0\n",
              "4  bcc05c8d-c968-49e7-b68b-bd61aaf88215       0"
            ],
            "text/html": [
              "\n",
              "  <div id=\"df-60d26738-3b71-44fd-94f0-80a99374b2a2\">\n",
              "    <div class=\"colab-df-container\">\n",
              "      <div>\n",
              "<style scoped>\n",
              "    .dataframe tbody tr th:only-of-type {\n",
              "        vertical-align: middle;\n",
              "    }\n",
              "\n",
              "    .dataframe tbody tr th {\n",
              "        vertical-align: top;\n",
              "    }\n",
              "\n",
              "    .dataframe thead th {\n",
              "        text-align: right;\n",
              "    }\n",
              "</style>\n",
              "<table border=\"1\" class=\"dataframe\">\n",
              "  <thead>\n",
              "    <tr style=\"text-align: right;\">\n",
              "      <th></th>\n",
              "      <th>PatientId</th>\n",
              "      <th>Target</th>\n",
              "    </tr>\n",
              "  </thead>\n",
              "  <tbody>\n",
              "    <tr>\n",
              "      <th>0</th>\n",
              "      <td>087d375c-c266-4069-84dd-4d1d9d906539</td>\n",
              "      <td>0</td>\n",
              "    </tr>\n",
              "    <tr>\n",
              "      <th>1</th>\n",
              "      <td>bf90b850-cae0-4f24-9767-a63923beeaf3</td>\n",
              "      <td>0</td>\n",
              "    </tr>\n",
              "    <tr>\n",
              "      <th>2</th>\n",
              "      <td>6d3f2555-82f6-49ea-91ec-2b70fe3fb7bf</td>\n",
              "      <td>0</td>\n",
              "    </tr>\n",
              "    <tr>\n",
              "      <th>3</th>\n",
              "      <td>9f12306f-aeae-4898-b99a-2b15be3e81d7</td>\n",
              "      <td>0</td>\n",
              "    </tr>\n",
              "    <tr>\n",
              "      <th>4</th>\n",
              "      <td>bcc05c8d-c968-49e7-b68b-bd61aaf88215</td>\n",
              "      <td>0</td>\n",
              "    </tr>\n",
              "  </tbody>\n",
              "</table>\n",
              "</div>\n",
              "      <button class=\"colab-df-convert\" onclick=\"convertToInteractive('df-60d26738-3b71-44fd-94f0-80a99374b2a2')\"\n",
              "              title=\"Convert this dataframe to an interactive table.\"\n",
              "              style=\"display:none;\">\n",
              "        \n",
              "  <svg xmlns=\"http://www.w3.org/2000/svg\" height=\"24px\"viewBox=\"0 0 24 24\"\n",
              "       width=\"24px\">\n",
              "    <path d=\"M0 0h24v24H0V0z\" fill=\"none\"/>\n",
              "    <path d=\"M18.56 5.44l.94 2.06.94-2.06 2.06-.94-2.06-.94-.94-2.06-.94 2.06-2.06.94zm-11 1L8.5 8.5l.94-2.06 2.06-.94-2.06-.94L8.5 2.5l-.94 2.06-2.06.94zm10 10l.94 2.06.94-2.06 2.06-.94-2.06-.94-.94-2.06-.94 2.06-2.06.94z\"/><path d=\"M17.41 7.96l-1.37-1.37c-.4-.4-.92-.59-1.43-.59-.52 0-1.04.2-1.43.59L10.3 9.45l-7.72 7.72c-.78.78-.78 2.05 0 2.83L4 21.41c.39.39.9.59 1.41.59.51 0 1.02-.2 1.41-.59l7.78-7.78 2.81-2.81c.8-.78.8-2.07 0-2.86zM5.41 20L4 18.59l7.72-7.72 1.47 1.35L5.41 20z\"/>\n",
              "  </svg>\n",
              "      </button>\n",
              "      \n",
              "  <style>\n",
              "    .colab-df-container {\n",
              "      display:flex;\n",
              "      flex-wrap:wrap;\n",
              "      gap: 12px;\n",
              "    }\n",
              "\n",
              "    .colab-df-convert {\n",
              "      background-color: #E8F0FE;\n",
              "      border: none;\n",
              "      border-radius: 50%;\n",
              "      cursor: pointer;\n",
              "      display: none;\n",
              "      fill: #1967D2;\n",
              "      height: 32px;\n",
              "      padding: 0 0 0 0;\n",
              "      width: 32px;\n",
              "    }\n",
              "\n",
              "    .colab-df-convert:hover {\n",
              "      background-color: #E2EBFA;\n",
              "      box-shadow: 0px 1px 2px rgba(60, 64, 67, 0.3), 0px 1px 3px 1px rgba(60, 64, 67, 0.15);\n",
              "      fill: #174EA6;\n",
              "    }\n",
              "\n",
              "    [theme=dark] .colab-df-convert {\n",
              "      background-color: #3B4455;\n",
              "      fill: #D2E3FC;\n",
              "    }\n",
              "\n",
              "    [theme=dark] .colab-df-convert:hover {\n",
              "      background-color: #434B5C;\n",
              "      box-shadow: 0px 1px 3px 1px rgba(0, 0, 0, 0.15);\n",
              "      filter: drop-shadow(0px 1px 2px rgba(0, 0, 0, 0.3));\n",
              "      fill: #FFFFFF;\n",
              "    }\n",
              "  </style>\n",
              "\n",
              "      <script>\n",
              "        const buttonEl =\n",
              "          document.querySelector('#df-60d26738-3b71-44fd-94f0-80a99374b2a2 button.colab-df-convert');\n",
              "        buttonEl.style.display =\n",
              "          google.colab.kernel.accessAllowed ? 'block' : 'none';\n",
              "\n",
              "        async function convertToInteractive(key) {\n",
              "          const element = document.querySelector('#df-60d26738-3b71-44fd-94f0-80a99374b2a2');\n",
              "          const dataTable =\n",
              "            await google.colab.kernel.invokeFunction('convertToInteractive',\n",
              "                                                     [key], {});\n",
              "          if (!dataTable) return;\n",
              "\n",
              "          const docLinkHtml = 'Like what you see? Visit the ' +\n",
              "            '<a target=\"_blank\" href=https://colab.research.google.com/notebooks/data_table.ipynb>data table notebook</a>'\n",
              "            + ' to learn more about interactive tables.';\n",
              "          element.innerHTML = '';\n",
              "          dataTable['output_type'] = 'display_data';\n",
              "          await google.colab.output.renderOutput(dataTable, element);\n",
              "          const docLink = document.createElement('div');\n",
              "          docLink.innerHTML = docLinkHtml;\n",
              "          element.appendChild(docLink);\n",
              "        }\n",
              "      </script>\n",
              "    </div>\n",
              "  </div>\n",
              "  "
            ]
          },
          "metadata": {},
          "execution_count": 4
        }
      ],
      "source": [
        "df_train.head()"
      ]
    },
    {
      "cell_type": "code",
      "execution_count": null,
      "metadata": {
        "colab": {
          "base_uri": "https://localhost:8080/",
          "height": 206
        },
        "id": "dVMof2eacJbj",
        "outputId": "e939d766-c515-4954-c26c-2e2f246a7df7"
      },
      "outputs": [
        {
          "output_type": "execute_result",
          "data": {
            "text/plain": [
              "                              PatientId  Target\n",
              "0  8d48694a-f998-4043-bc98-63a3c18527f2       1\n",
              "1  74344068-50a8-4c34-af4e-f2e533cacd8c       0\n",
              "2  4688892f-076f-4d48-85e3-34da2c3bf7f3       0\n",
              "3  00f2de16-a231-40c3-9a5f-8198f530a4b0       0\n",
              "4  ecde8726-a846-4a55-93d9-1762acbae97d       0"
            ],
            "text/html": [
              "\n",
              "  <div id=\"df-3c07514c-79da-49a0-b963-c1f38b736815\">\n",
              "    <div class=\"colab-df-container\">\n",
              "      <div>\n",
              "<style scoped>\n",
              "    .dataframe tbody tr th:only-of-type {\n",
              "        vertical-align: middle;\n",
              "    }\n",
              "\n",
              "    .dataframe tbody tr th {\n",
              "        vertical-align: top;\n",
              "    }\n",
              "\n",
              "    .dataframe thead th {\n",
              "        text-align: right;\n",
              "    }\n",
              "</style>\n",
              "<table border=\"1\" class=\"dataframe\">\n",
              "  <thead>\n",
              "    <tr style=\"text-align: right;\">\n",
              "      <th></th>\n",
              "      <th>PatientId</th>\n",
              "      <th>Target</th>\n",
              "    </tr>\n",
              "  </thead>\n",
              "  <tbody>\n",
              "    <tr>\n",
              "      <th>0</th>\n",
              "      <td>8d48694a-f998-4043-bc98-63a3c18527f2</td>\n",
              "      <td>1</td>\n",
              "    </tr>\n",
              "    <tr>\n",
              "      <th>1</th>\n",
              "      <td>74344068-50a8-4c34-af4e-f2e533cacd8c</td>\n",
              "      <td>0</td>\n",
              "    </tr>\n",
              "    <tr>\n",
              "      <th>2</th>\n",
              "      <td>4688892f-076f-4d48-85e3-34da2c3bf7f3</td>\n",
              "      <td>0</td>\n",
              "    </tr>\n",
              "    <tr>\n",
              "      <th>3</th>\n",
              "      <td>00f2de16-a231-40c3-9a5f-8198f530a4b0</td>\n",
              "      <td>0</td>\n",
              "    </tr>\n",
              "    <tr>\n",
              "      <th>4</th>\n",
              "      <td>ecde8726-a846-4a55-93d9-1762acbae97d</td>\n",
              "      <td>0</td>\n",
              "    </tr>\n",
              "  </tbody>\n",
              "</table>\n",
              "</div>\n",
              "      <button class=\"colab-df-convert\" onclick=\"convertToInteractive('df-3c07514c-79da-49a0-b963-c1f38b736815')\"\n",
              "              title=\"Convert this dataframe to an interactive table.\"\n",
              "              style=\"display:none;\">\n",
              "        \n",
              "  <svg xmlns=\"http://www.w3.org/2000/svg\" height=\"24px\"viewBox=\"0 0 24 24\"\n",
              "       width=\"24px\">\n",
              "    <path d=\"M0 0h24v24H0V0z\" fill=\"none\"/>\n",
              "    <path d=\"M18.56 5.44l.94 2.06.94-2.06 2.06-.94-2.06-.94-.94-2.06-.94 2.06-2.06.94zm-11 1L8.5 8.5l.94-2.06 2.06-.94-2.06-.94L8.5 2.5l-.94 2.06-2.06.94zm10 10l.94 2.06.94-2.06 2.06-.94-2.06-.94-.94-2.06-.94 2.06-2.06.94z\"/><path d=\"M17.41 7.96l-1.37-1.37c-.4-.4-.92-.59-1.43-.59-.52 0-1.04.2-1.43.59L10.3 9.45l-7.72 7.72c-.78.78-.78 2.05 0 2.83L4 21.41c.39.39.9.59 1.41.59.51 0 1.02-.2 1.41-.59l7.78-7.78 2.81-2.81c.8-.78.8-2.07 0-2.86zM5.41 20L4 18.59l7.72-7.72 1.47 1.35L5.41 20z\"/>\n",
              "  </svg>\n",
              "      </button>\n",
              "      \n",
              "  <style>\n",
              "    .colab-df-container {\n",
              "      display:flex;\n",
              "      flex-wrap:wrap;\n",
              "      gap: 12px;\n",
              "    }\n",
              "\n",
              "    .colab-df-convert {\n",
              "      background-color: #E8F0FE;\n",
              "      border: none;\n",
              "      border-radius: 50%;\n",
              "      cursor: pointer;\n",
              "      display: none;\n",
              "      fill: #1967D2;\n",
              "      height: 32px;\n",
              "      padding: 0 0 0 0;\n",
              "      width: 32px;\n",
              "    }\n",
              "\n",
              "    .colab-df-convert:hover {\n",
              "      background-color: #E2EBFA;\n",
              "      box-shadow: 0px 1px 2px rgba(60, 64, 67, 0.3), 0px 1px 3px 1px rgba(60, 64, 67, 0.15);\n",
              "      fill: #174EA6;\n",
              "    }\n",
              "\n",
              "    [theme=dark] .colab-df-convert {\n",
              "      background-color: #3B4455;\n",
              "      fill: #D2E3FC;\n",
              "    }\n",
              "\n",
              "    [theme=dark] .colab-df-convert:hover {\n",
              "      background-color: #434B5C;\n",
              "      box-shadow: 0px 1px 3px 1px rgba(0, 0, 0, 0.15);\n",
              "      filter: drop-shadow(0px 1px 2px rgba(0, 0, 0, 0.3));\n",
              "      fill: #FFFFFF;\n",
              "    }\n",
              "  </style>\n",
              "\n",
              "      <script>\n",
              "        const buttonEl =\n",
              "          document.querySelector('#df-3c07514c-79da-49a0-b963-c1f38b736815 button.colab-df-convert');\n",
              "        buttonEl.style.display =\n",
              "          google.colab.kernel.accessAllowed ? 'block' : 'none';\n",
              "\n",
              "        async function convertToInteractive(key) {\n",
              "          const element = document.querySelector('#df-3c07514c-79da-49a0-b963-c1f38b736815');\n",
              "          const dataTable =\n",
              "            await google.colab.kernel.invokeFunction('convertToInteractive',\n",
              "                                                     [key], {});\n",
              "          if (!dataTable) return;\n",
              "\n",
              "          const docLinkHtml = 'Like what you see? Visit the ' +\n",
              "            '<a target=\"_blank\" href=https://colab.research.google.com/notebooks/data_table.ipynb>data table notebook</a>'\n",
              "            + ' to learn more about interactive tables.';\n",
              "          element.innerHTML = '';\n",
              "          dataTable['output_type'] = 'display_data';\n",
              "          await google.colab.output.renderOutput(dataTable, element);\n",
              "          const docLink = document.createElement('div');\n",
              "          docLink.innerHTML = docLinkHtml;\n",
              "          element.appendChild(docLink);\n",
              "        }\n",
              "      </script>\n",
              "    </div>\n",
              "  </div>\n",
              "  "
            ]
          },
          "metadata": {},
          "execution_count": 5
        }
      ],
      "source": [
        "df_test.head()"
      ]
    },
    {
      "cell_type": "code",
      "execution_count": null,
      "metadata": {
        "colab": {
          "base_uri": "https://localhost:8080/",
          "height": 206
        },
        "id": "F8UDpReecL3H",
        "outputId": "823b194c-1d14-4c53-9d2c-91f1820e4d60"
      },
      "outputs": [
        {
          "output_type": "execute_result",
          "data": {
            "text/plain": [
              "                              PatientId  Target\n",
              "0  76115ff9-5117-45fc-831b-29bc150bf0ff       0\n",
              "1  70d88928-f775-4ac7-99f0-86d54907b631       0\n",
              "2  4c5e8452-6bb3-4e36-86c6-b508b7cf50d6       0\n",
              "3  45a1e0ab-3eb3-4587-b679-2b2310635804       1\n",
              "4  fb25a758-fb40-471d-b15e-03aa03e245b0       0"
            ],
            "text/html": [
              "\n",
              "  <div id=\"df-00aa6be6-b2b0-4f07-ae6e-109f578a084f\">\n",
              "    <div class=\"colab-df-container\">\n",
              "      <div>\n",
              "<style scoped>\n",
              "    .dataframe tbody tr th:only-of-type {\n",
              "        vertical-align: middle;\n",
              "    }\n",
              "\n",
              "    .dataframe tbody tr th {\n",
              "        vertical-align: top;\n",
              "    }\n",
              "\n",
              "    .dataframe thead th {\n",
              "        text-align: right;\n",
              "    }\n",
              "</style>\n",
              "<table border=\"1\" class=\"dataframe\">\n",
              "  <thead>\n",
              "    <tr style=\"text-align: right;\">\n",
              "      <th></th>\n",
              "      <th>PatientId</th>\n",
              "      <th>Target</th>\n",
              "    </tr>\n",
              "  </thead>\n",
              "  <tbody>\n",
              "    <tr>\n",
              "      <th>0</th>\n",
              "      <td>76115ff9-5117-45fc-831b-29bc150bf0ff</td>\n",
              "      <td>0</td>\n",
              "    </tr>\n",
              "    <tr>\n",
              "      <th>1</th>\n",
              "      <td>70d88928-f775-4ac7-99f0-86d54907b631</td>\n",
              "      <td>0</td>\n",
              "    </tr>\n",
              "    <tr>\n",
              "      <th>2</th>\n",
              "      <td>4c5e8452-6bb3-4e36-86c6-b508b7cf50d6</td>\n",
              "      <td>0</td>\n",
              "    </tr>\n",
              "    <tr>\n",
              "      <th>3</th>\n",
              "      <td>45a1e0ab-3eb3-4587-b679-2b2310635804</td>\n",
              "      <td>1</td>\n",
              "    </tr>\n",
              "    <tr>\n",
              "      <th>4</th>\n",
              "      <td>fb25a758-fb40-471d-b15e-03aa03e245b0</td>\n",
              "      <td>0</td>\n",
              "    </tr>\n",
              "  </tbody>\n",
              "</table>\n",
              "</div>\n",
              "      <button class=\"colab-df-convert\" onclick=\"convertToInteractive('df-00aa6be6-b2b0-4f07-ae6e-109f578a084f')\"\n",
              "              title=\"Convert this dataframe to an interactive table.\"\n",
              "              style=\"display:none;\">\n",
              "        \n",
              "  <svg xmlns=\"http://www.w3.org/2000/svg\" height=\"24px\"viewBox=\"0 0 24 24\"\n",
              "       width=\"24px\">\n",
              "    <path d=\"M0 0h24v24H0V0z\" fill=\"none\"/>\n",
              "    <path d=\"M18.56 5.44l.94 2.06.94-2.06 2.06-.94-2.06-.94-.94-2.06-.94 2.06-2.06.94zm-11 1L8.5 8.5l.94-2.06 2.06-.94-2.06-.94L8.5 2.5l-.94 2.06-2.06.94zm10 10l.94 2.06.94-2.06 2.06-.94-2.06-.94-.94-2.06-.94 2.06-2.06.94z\"/><path d=\"M17.41 7.96l-1.37-1.37c-.4-.4-.92-.59-1.43-.59-.52 0-1.04.2-1.43.59L10.3 9.45l-7.72 7.72c-.78.78-.78 2.05 0 2.83L4 21.41c.39.39.9.59 1.41.59.51 0 1.02-.2 1.41-.59l7.78-7.78 2.81-2.81c.8-.78.8-2.07 0-2.86zM5.41 20L4 18.59l7.72-7.72 1.47 1.35L5.41 20z\"/>\n",
              "  </svg>\n",
              "      </button>\n",
              "      \n",
              "  <style>\n",
              "    .colab-df-container {\n",
              "      display:flex;\n",
              "      flex-wrap:wrap;\n",
              "      gap: 12px;\n",
              "    }\n",
              "\n",
              "    .colab-df-convert {\n",
              "      background-color: #E8F0FE;\n",
              "      border: none;\n",
              "      border-radius: 50%;\n",
              "      cursor: pointer;\n",
              "      display: none;\n",
              "      fill: #1967D2;\n",
              "      height: 32px;\n",
              "      padding: 0 0 0 0;\n",
              "      width: 32px;\n",
              "    }\n",
              "\n",
              "    .colab-df-convert:hover {\n",
              "      background-color: #E2EBFA;\n",
              "      box-shadow: 0px 1px 2px rgba(60, 64, 67, 0.3), 0px 1px 3px 1px rgba(60, 64, 67, 0.15);\n",
              "      fill: #174EA6;\n",
              "    }\n",
              "\n",
              "    [theme=dark] .colab-df-convert {\n",
              "      background-color: #3B4455;\n",
              "      fill: #D2E3FC;\n",
              "    }\n",
              "\n",
              "    [theme=dark] .colab-df-convert:hover {\n",
              "      background-color: #434B5C;\n",
              "      box-shadow: 0px 1px 3px 1px rgba(0, 0, 0, 0.15);\n",
              "      filter: drop-shadow(0px 1px 2px rgba(0, 0, 0, 0.3));\n",
              "      fill: #FFFFFF;\n",
              "    }\n",
              "  </style>\n",
              "\n",
              "      <script>\n",
              "        const buttonEl =\n",
              "          document.querySelector('#df-00aa6be6-b2b0-4f07-ae6e-109f578a084f button.colab-df-convert');\n",
              "        buttonEl.style.display =\n",
              "          google.colab.kernel.accessAllowed ? 'block' : 'none';\n",
              "\n",
              "        async function convertToInteractive(key) {\n",
              "          const element = document.querySelector('#df-00aa6be6-b2b0-4f07-ae6e-109f578a084f');\n",
              "          const dataTable =\n",
              "            await google.colab.kernel.invokeFunction('convertToInteractive',\n",
              "                                                     [key], {});\n",
              "          if (!dataTable) return;\n",
              "\n",
              "          const docLinkHtml = 'Like what you see? Visit the ' +\n",
              "            '<a target=\"_blank\" href=https://colab.research.google.com/notebooks/data_table.ipynb>data table notebook</a>'\n",
              "            + ' to learn more about interactive tables.';\n",
              "          element.innerHTML = '';\n",
              "          dataTable['output_type'] = 'display_data';\n",
              "          await google.colab.output.renderOutput(dataTable, element);\n",
              "          const docLink = document.createElement('div');\n",
              "          docLink.innerHTML = docLinkHtml;\n",
              "          element.appendChild(docLink);\n",
              "        }\n",
              "      </script>\n",
              "    </div>\n",
              "  </div>\n",
              "  "
            ]
          },
          "metadata": {},
          "execution_count": 6
        }
      ],
      "source": [
        "df_validation.head()"
      ]
    },
    {
      "cell_type": "markdown",
      "metadata": {
        "id": "FDUw5d7gcBNv"
      },
      "source": [
        "## Comprobación de los datos"
      ]
    },
    {
      "cell_type": "markdown",
      "metadata": {
        "id": "OmhmLhb3cfqn"
      },
      "source": [
        "Vamos a comprobar que las imágenes que se encuentran en cada directorio, es decir, en train, validation, y test, también están en los dataframes correspondientes.\n",
        "\n",
        "Se hace esta comprobación básicamente para saber si se han subido de forma correcta las imágenes."
      ]
    },
    {
      "cell_type": "code",
      "execution_count": 4,
      "metadata": {
        "id": "_6mF_InwcD2F"
      },
      "outputs": [],
      "source": [
        "def check_images(dir, df):\n",
        "  files = os.listdir(dir)\n",
        "  num_elements = len(df)\n",
        "  num_images = len(files)\n",
        "\n",
        "  # Recorremos el dataframe correspondiente y comprobamos si están las imágenes\n",
        "  for patientId in df[\"PatientId\"]:\n",
        "    if not patientId + \".png\" in files:\n",
        "      return False\n",
        "\n",
        "  # Comprobamoos que hay el mismo número de registros que de imágenes\n",
        "  if num_elements != num_images:\n",
        "    print(num_elements)\n",
        "    print(num_images)\n",
        "    return False\n",
        "\n",
        "  return True"
      ]
    },
    {
      "cell_type": "code",
      "execution_count": 6,
      "metadata": {
        "colab": {
          "base_uri": "https://localhost:8080/"
        },
        "id": "5FUCNknOe5J9",
        "outputId": "9a4cccac-30d3-43bd-e2dd-fd17a5ce0750"
      },
      "outputs": [
        {
          "output_type": "stream",
          "name": "stdout",
          "text": [
            "Train: True\n",
            "Test: True\n",
            "Validation: True\n"
          ]
        }
      ],
      "source": [
        "print(\"Train: \" + str(check_images(\"/content/drive/MyDrive/TFM/data/EfficientNetB4/train_images\", df_train)))\n",
        "print(\"Test: \" + str(check_images(\"/content/drive/MyDrive/TFM/data/EfficientNetB4/test_images\", df_test)))\n",
        "print(\"Validation: \" + str(check_images(\"/content/drive/MyDrive/TFM/data/EfficientNetB4/validation_images\", df_validation)))"
      ]
    },
    {
      "cell_type": "markdown",
      "metadata": {
        "id": "YcG77svo2qOb"
      },
      "source": [
        "# Carga de las imágenes preprocesadas"
      ]
    },
    {
      "cell_type": "markdown",
      "metadata": {
        "id": "A91ooyaC27_i"
      },
      "source": [
        "En este punto vamos a cargar todas las imágenes que tenemos en un diccionario, es decir, tanto las imágenes de train, como de test y validation.\n",
        "\n",
        "Este diccionario está formado por un par clave-valor, donde la clave va a ser el `PatientId` (el nombre de la imágenes sin el \".png\"), y el valor va a ser la imágenes preprocesada en formato 380x380 (neceario para hacer uso de EfficientNetB4).\n",
        "\n",
        "Se ha hecho uso de esta carga en un diccionario para reducir los tiempos de ejecución en el entrenamiento de la red, ya que anteriormente el Data Generator tardaba demasiado por dos motivos:\n",
        "* Al abrir la imagen en cada época.\n",
        "* Al redimensionar la imagen del formato original 1024x1024 a 380x380."
      ]
    },
    {
      "cell_type": "code",
      "execution_count": 7,
      "metadata": {
        "id": "RSd1P3fM4dR0"
      },
      "outputs": [],
      "source": [
        "# EXTRA\n",
        "TRAIN_FOLDER = \"/content/drive/MyDrive/TFM/data/EfficientNetB4/train_images\"\n",
        "TEST_FOLDER = \"/content/drive/MyDrive/TFM/data/EfficientNetB4/test_images\"\n",
        "VALID_FOLDER = \"/content/drive/MyDrive/TFM/data/EfficientNetB4/validation_images\"\n",
        "\n",
        "MODEL_NAME = \"model1/\""
      ]
    },
    {
      "cell_type": "code",
      "execution_count": null,
      "metadata": {
        "id": "aa-fbtfg4yGD"
      },
      "outputs": [],
      "source": [
        "def get_dic_images(dir, dic_images):\n",
        "  files = os.listdir(dir)\n",
        "  dic = dic_images.copy()\n",
        "\n",
        "  for filename in files:\n",
        "    patientId = filename.split(\".\")[0]\n",
        "    image = np.array(Image.open(os.path.join(dir, filename)))\n",
        "    dic[patientId] = image\n",
        "  \n",
        "  return dic"
      ]
    },
    {
      "cell_type": "code",
      "execution_count": null,
      "metadata": {
        "id": "DS9lOPnr3yZz"
      },
      "outputs": [],
      "source": [
        "dic_images = {}\n",
        "dic_images = get_dic_images(TRAIN_FOLDER, dic_images)\n",
        "dic_images = get_dic_images(TEST_FOLDER, dic_images)\n",
        "dic_images = get_dic_images(VALID_FOLDER, dic_images)"
      ]
    },
    {
      "cell_type": "code",
      "execution_count": null,
      "metadata": {
        "id": "9_K0LYti7mcW"
      },
      "outputs": [],
      "source": [
        "# Volcamos los datos a un fichero\n",
        "pickle.dump(dic_images, open(os.path.join(\"/content/drive/MyDrive/TFM/data/EfficientNetB4\", \"dic_images.pickle\"), 'wb'))"
      ]
    },
    {
      "cell_type": "markdown",
      "metadata": {
        "id": "U4RBHRoe66Go"
      },
      "source": [
        "Para no tener que cargar todo el rato el diccionario, ya que esto es muy costoso (estar abriendo cada imagen), hemos el diccionario a un fichero pickle.\n",
        "\n",
        "De esta forma, conseguimos reducir el tiempo de carga de las imágenes. Finalmente, definimos la carga en el caso de ser necesaria: "
      ]
    },
    {
      "cell_type": "code",
      "execution_count": 8,
      "metadata": {
        "colab": {
          "base_uri": "https://localhost:8080/"
        },
        "id": "jCs-6SM79lFF",
        "outputId": "bdba285b-4768-4634-dbb7-46c61cfc61cd"
      },
      "outputs": [
        {
          "output_type": "stream",
          "name": "stdout",
          "text": [
            "El número total de imágenes es: 38148\n",
            "El número total de imágenes esperadas es: 38144\n"
          ]
        }
      ],
      "source": [
        "# Hacemos la lectura de los datos\n",
        "dic_images = pickle.load(open(os.path.join(\"/content/drive/MyDrive/TFM/data/EfficientNetB4\", \"dic_images.pickle\"), \"rb\"))\n",
        "\n",
        "# Comprobamos que se ha hecho la lectura de forma correcta\n",
        "print(\"El número total de imágenes es: \" + str(len(dic_images)))\n",
        "print(\"El número total de imágenes esperadas es: \" + str(len(df_train) + len(df_test) + len(df_validation)))"
      ]
    },
    {
      "cell_type": "markdown",
      "metadata": {
        "id": "R6CWyq-mWyZB"
      },
      "source": [
        "# Data Generator"
      ]
    },
    {
      "cell_type": "markdown",
      "metadata": {
        "id": "2ctkEPEAW9kz"
      },
      "source": [
        "En este punto vamos a resolver la problemática de la carga de los datos en memoria. El dataset de entrenamiento presenta 32144 imágenes con resolución 380x380, lo cual hace que haya un elevado consumo de memoria, hasta tal punto que puede que Google Colab no sea capaz de soportar.\n",
        "\n",
        "Para solventar este problema creamos un data generator, el cual se encarga de cargar en memoria pequeños grupos de imágenes según se vayan utilizando, es decir, dependiendo del tamaño del batch.\n",
        "\n",
        "La salida que proporciona el data generator es un cojunto de imágenes junto con la variable objetivo.\n",
        "\n",
        "Cabe destacar que al usar EfficientNet la imagen de entrada a la red tiene que tener valores entre 0 y 255, es por ello que no se normalizan los datos porque EfficientNet ya tiene sus layers para hacerlo.\n"
      ]
    },
    {
      "cell_type": "code",
      "execution_count": 9,
      "metadata": {
        "id": "D-fBVVqdX-KG"
      },
      "outputs": [],
      "source": [
        "# https://stanford.edu/~shervine/blog/keras-how-to-generate-data-on-the-fly\n",
        "\n",
        "class DataGenerator(keras.utils.Sequence):\n",
        "\n",
        "  # Constructor\n",
        "  def __init__(self, folder, dataset, dic_images, batch_size=32, image_size=256, shuffle=True, predict=False):\n",
        "    self.folder = folder\n",
        "    self.filenames = os.listdir(folder)\n",
        "    self.dataset = dataset\n",
        "    self.dic_images = dic_images.copy()\n",
        "    self.batch_size = batch_size\n",
        "    self.image_size = image_size\n",
        "    self.shuffle = shuffle\n",
        "    self.predict = predict\n",
        "    self.on_epoch_end()\n",
        "    \n",
        "\n",
        "  # Carga y Transformación de la imágenes para training\n",
        "  # filename: es el nombre del archivo de la imagen, es decir, con png\n",
        "  def __train__(self, filename):\n",
        "    filename = filename.split(\".\")[0]\n",
        "\n",
        "    # Cargamos la imagen original\n",
        "    img = self.dic_images[filename]\n",
        "\n",
        "    # Cargamos la variable objetivo\n",
        "    target = self.dataset[self.dataset[\"PatientId\"] == filename][\"Target\"].item()\n",
        "\n",
        "    # Reducción de la escala de la imagen\n",
        "    if (self.image_size, self.image_size) != (IMG_SIZE, IMG_SIZE): \n",
        "      img = resize(img, (self.image_size, self.image_size), mode=\"reflect\") * 255\n",
        "      img = img.astype(np.uint8)\n",
        "\n",
        "    # Normalizamos\n",
        "    # img_min = img.min()\n",
        "    # img_max = img.max()\n",
        "    # img_norm = (img - img_min) / (img_max - img_min)\n",
        "\n",
        "    # Expandimos las dimensiones (self.image_size, self.image_size, 1)\n",
        "    # img_norm = np.expand_dims(img_norm, -1)\n",
        "    img = np.expand_dims(img, -1)\n",
        "\n",
        "    return img, target\n",
        "\n",
        "\n",
        "  # Carga y transformación de las imágenes para testing\n",
        "  def __test__(self, filename):\n",
        "    filename = filename.split(\".\")[0]\n",
        "\n",
        "    # Cargamos la imagen original\n",
        "    img = self.dic_images[filename]\n",
        "\n",
        "    # Reducción de la escala de la imagen\n",
        "    if (self.image_size, self.image_size) != (IMG_SIZE, IMG_SIZE): \n",
        "      img = resize(img, (self.image_size, self.image_size), mode=\"reflect\") * 255\n",
        "      img = img.astype(np.uint8)\n",
        "\n",
        "    # Normalizamos\n",
        "    # img_min = img.min()\n",
        "    # img_max = img.max()\n",
        "    # img_norm = (img - img_min) / (img_max - img_min)\n",
        "\n",
        "    # Expandimos las dimensiones (self.image_size, self.image_size, 1)\n",
        "    # img_norm = np.expand_dims(img_norm, -1)\n",
        "    img = np.expand_dims(img, -1)\n",
        "\n",
        "    return img\n",
        "\n",
        "  \n",
        "  # Método encargado de generar el batch\n",
        "  def __getitem__(self, index):\n",
        "    # Generación de los nombres de archivos pertenecientes al batch\n",
        "    filenames_batch = self.filenames[index*self.batch_size:(index+1)*self.batch_size]\n",
        "\n",
        "    if self.predict:\n",
        "      # Modo testing\n",
        "      imgs = [self.__test__(filename) for filename in filenames_batch]\n",
        "      imgs = np.array(imgs)\n",
        "      return imgs, filenames_batch\n",
        "\n",
        "    else:\n",
        "      # Modo training\n",
        "      items = [self.__train__(filename) for filename in filenames_batch]\n",
        "      imgs, targets = zip(*items)\n",
        "      imgs = np.array(imgs)\n",
        "      targets = np.expand_dims(np.array(targets), -1)\n",
        "      return imgs, targets\n",
        "\n",
        "  # Método encargado de mezclar nos nombres de archivos, para así dotar de una mayor aleatoriedad\n",
        "  def on_epoch_end(self):\n",
        "    if self.shuffle:\n",
        "      random.shuffle(self.filenames)\n",
        "\n",
        "  # Método para controlar el tamaño del \n",
        "  def __len__(self):\n",
        "    return int(len(self.filenames) / self.batch_size)"
      ]
    },
    {
      "cell_type": "markdown",
      "metadata": {
        "id": "zcXOLL4F2g6S"
      },
      "source": [
        "# Red Neuronal Convolucional"
      ]
    },
    {
      "cell_type": "markdown",
      "metadata": {
        "id": "jtELF9Ux2njD"
      },
      "source": [
        "El siguiente paso es crear la red neuronal convolucional, para ello vamos a hacer uso de `EfficientNet`, en nuestro caso usaremos `EfficientNetB4`.\n",
        "\n",
        "Al usar `EfficientNetB4` estamos \"limitados\" a que la resolución de las imágenes sea de 380x380, en vez de 1024x1024 que era el tamaño original.\n",
        "\n",
        "Otro punto a destacar es que la imagen que introduzcamos al modelo no hace falta normalizarla, ya que se encarga `EfficientNetB4` de hacerlo."
      ]
    },
    {
      "cell_type": "markdown",
      "metadata": {
        "id": "sWbjvtWrB7E9"
      },
      "source": [
        "## Hiperparámetros"
      ]
    },
    {
      "cell_type": "code",
      "execution_count": 10,
      "metadata": {
        "id": "6W1G9uBn6Ect"
      },
      "outputs": [],
      "source": [
        "# Data generator\n",
        "IMG_SIZE = 380\n",
        "BATCH_SIZE = 32\n",
        "\n",
        "# CNN\n",
        "LEARNING_RATE = 1e-4\n",
        "EPOCHS = 20 # 20, 30, 50, 30"
      ]
    },
    {
      "cell_type": "markdown",
      "metadata": {
        "id": "EJmlsna9B-W9"
      },
      "source": [
        "## Data augmentation"
      ]
    },
    {
      "cell_type": "markdown",
      "metadata": {
        "id": "BuSOk5ZP6kA3"
      },
      "source": [
        "El siguiente punto es definir el data augmentation, para así mejorar la variabilidad del entrenamiento y por lo tanto la precisión de la red neuronal."
      ]
    },
    {
      "cell_type": "code",
      "execution_count": 11,
      "metadata": {
        "id": "QhZ7IzBQ6sAm"
      },
      "outputs": [],
      "source": [
        "img_augmentation = Sequential(\n",
        "    [\n",
        "     layers.RandomRotation(factor=0.05),\n",
        "     layers.RandomTranslation(height_factor=0.05, width_factor=0.02),\n",
        "     layers.RandomFlip(\"horizontal\"),\n",
        "     layers.RandomContrast(factor=0.05),\n",
        "    ],\n",
        "    name = \"img_augmentation\"\n",
        ")"
      ]
    },
    {
      "cell_type": "markdown",
      "metadata": {
        "id": "UZGKIRNGCBF_"
      },
      "source": [
        "## CNN y transfer learning"
      ]
    },
    {
      "cell_type": "markdown",
      "metadata": {
        "id": "YtHJInQoCHcZ"
      },
      "source": [
        "El siguiente paso es crear la red neuronal convolucional y aplicar transfer learning.\n",
        "\n",
        "El transfer learning lo que significa es que vamos a tener dos modelos, un modelo base con pesos ya pre-entrenados con otro tipo de problemas, y un modelo nuevo basado en el modelo base.\n",
        "\n",
        "De forma resumida lo que se va a hacer es lo siguiente:\n",
        "* 1º: vamos a inicializar el modelo base con pesos ya pre-entrenados.\n",
        "* 2º: se van a congelar todos los layers del modelo base con `trainable = False`.\n",
        "* 3º: Creamos un nuevo modelo después de la salida del modelo base.\n",
        "* 4º: Entrenamos el nuevo modelo con el dataset."
      ]
    },
    {
      "cell_type": "code",
      "execution_count": null,
      "metadata": {
        "id": "rUNW70exDDQE"
      },
      "outputs": [],
      "source": [
        "# Método que se encarga de generar el modelo\n",
        "# https://keras.io/examples/vision/image_classification_efficientnet_fine_tuning/#transfer-learning-from-pretrained-weights\n",
        "# https://stackoverflow.com/questions/51995977/how-can-i-use-a-pre-trained-neural-network-with-grayscale-images\n",
        "def build_model():\n",
        "  inputs = layers.Input(shape=(IMG_SIZE, IMG_SIZE, 1))\n",
        "  x = img_augmentation(inputs)\n",
        "  x = layers.Concatenate()([x, x, x])  \n",
        "  model = EfficientNetB4(include_top=False, input_tensor=x, weights=\"imagenet\")\n",
        "\n",
        "  # Freeze the pretrained weights\n",
        "  model.trainable = False\n",
        "\n",
        "  # Rebuild top\n",
        "  x = layers.GlobalAveragePooling2D(name=\"avg_pool\")(model.output)\n",
        "  x = layers.BatchNormalization()(x)\n",
        "\n",
        "  top_dropout_rate = 0.2\n",
        "  x = layers.Dropout(top_dropout_rate, name=\"top_dropout\")(x)\n",
        "  outputs = layers.Dense(1, activation=\"sigmoid\", name=\"pred\")(x)\n",
        "\n",
        "  # Compile\n",
        "  model = keras.Model(inputs, outputs, name=\"EfficientNet\")\n",
        "  optimizer = Adam(learning_rate=LEARNING_RATE)\n",
        "  model.compile(\n",
        "      optimizer=optimizer, loss=\"binary_crossentropy\", metrics=[\"accuracy\"]\n",
        "  )\n",
        "  return model"
      ]
    },
    {
      "cell_type": "markdown",
      "metadata": {
        "id": "pvOTVwl8Hlmw"
      },
      "source": [
        "## Training"
      ]
    },
    {
      "cell_type": "code",
      "execution_count": 12,
      "metadata": {
        "id": "eSYXWw79HqTY"
      },
      "outputs": [],
      "source": [
        "# Obtenemos los generadores para training y validaton\n",
        "train_gen = DataGenerator(folder=TRAIN_FOLDER, dataset=df_train, dic_images=dic_images, batch_size=BATCH_SIZE, image_size=IMG_SIZE, shuffle=True, predict=False)\n",
        "valid_gen = DataGenerator(folder=VALID_FOLDER, dataset=df_validation, dic_images=dic_images, batch_size=BATCH_SIZE, image_size=IMG_SIZE, shuffle=False, predict=False)"
      ]
    },
    {
      "cell_type": "code",
      "execution_count": null,
      "metadata": {
        "id": "bVCT36HATAHP"
      },
      "outputs": [],
      "source": [
        "# Construimos el modelo (tanto el modelo base como el nuestro)\n",
        "model = build_model()"
      ]
    },
    {
      "cell_type": "code",
      "execution_count": null,
      "metadata": {
        "colab": {
          "base_uri": "https://localhost:8080/"
        },
        "id": "38eKXD28TDLl",
        "outputId": "495653fb-b3b3-4696-efdd-9ef8931ef5e7"
      },
      "outputs": [
        {
          "output_type": "stream",
          "name": "stdout",
          "text": [
            "Epoch 1/20\n",
            "1004/1004 [==============================] - 307s 284ms/step - loss: 0.5837 - accuracy: 0.7107 - val_loss: 0.5031 - val_accuracy: 0.7560\n",
            "Epoch 2/20\n",
            "1004/1004 [==============================] - 281s 280ms/step - loss: 0.4852 - accuracy: 0.7740 - val_loss: 0.4616 - val_accuracy: 0.7843\n",
            "Epoch 3/20\n",
            "1004/1004 [==============================] - 281s 280ms/step - loss: 0.4588 - accuracy: 0.7856 - val_loss: 0.4506 - val_accuracy: 0.7890\n",
            "Epoch 4/20\n",
            "1004/1004 [==============================] - 281s 280ms/step - loss: 0.4508 - accuracy: 0.7918 - val_loss: 0.4399 - val_accuracy: 0.7960\n",
            "Epoch 5/20\n",
            "1004/1004 [==============================] - 282s 281ms/step - loss: 0.4387 - accuracy: 0.7976 - val_loss: 0.4416 - val_accuracy: 0.7981\n",
            "Epoch 6/20\n",
            "1004/1004 [==============================] - 281s 280ms/step - loss: 0.4300 - accuracy: 0.8020 - val_loss: 0.4398 - val_accuracy: 0.7954\n",
            "Epoch 7/20\n",
            "1004/1004 [==============================] - 281s 280ms/step - loss: 0.4287 - accuracy: 0.8034 - val_loss: 0.4390 - val_accuracy: 0.7967\n",
            "Epoch 8/20\n",
            "1004/1004 [==============================] - 281s 280ms/step - loss: 0.4230 - accuracy: 0.8073 - val_loss: 0.4360 - val_accuracy: 0.7981\n",
            "Epoch 9/20\n",
            "1004/1004 [==============================] - 281s 280ms/step - loss: 0.4203 - accuracy: 0.8064 - val_loss: 0.4330 - val_accuracy: 0.8014\n",
            "Epoch 10/20\n",
            "1004/1004 [==============================] - 281s 280ms/step - loss: 0.4181 - accuracy: 0.8069 - val_loss: 0.4385 - val_accuracy: 0.7977\n",
            "Epoch 11/20\n",
            "1004/1004 [==============================] - 281s 280ms/step - loss: 0.4150 - accuracy: 0.8118 - val_loss: 0.4363 - val_accuracy: 0.8017\n",
            "Epoch 12/20\n",
            "1004/1004 [==============================] - 281s 280ms/step - loss: 0.4141 - accuracy: 0.8099 - val_loss: 0.4315 - val_accuracy: 0.8001\n",
            "Epoch 13/20\n",
            "1004/1004 [==============================] - 281s 280ms/step - loss: 0.4098 - accuracy: 0.8124 - val_loss: 0.4377 - val_accuracy: 0.7940\n",
            "Epoch 14/20\n",
            "1004/1004 [==============================] - 281s 280ms/step - loss: 0.4127 - accuracy: 0.8118 - val_loss: 0.4318 - val_accuracy: 0.7994\n",
            "Epoch 15/20\n",
            "1004/1004 [==============================] - 281s 280ms/step - loss: 0.4100 - accuracy: 0.8132 - val_loss: 0.4335 - val_accuracy: 0.8014\n",
            "Epoch 16/20\n",
            "1004/1004 [==============================] - 281s 280ms/step - loss: 0.4071 - accuracy: 0.8138 - val_loss: 0.4408 - val_accuracy: 0.7997\n",
            "Epoch 17/20\n",
            "1004/1004 [==============================] - 281s 280ms/step - loss: 0.4085 - accuracy: 0.8142 - val_loss: 0.4292 - val_accuracy: 0.8001\n",
            "Epoch 18/20\n",
            "1004/1004 [==============================] - 281s 280ms/step - loss: 0.4069 - accuracy: 0.8147 - val_loss: 0.4311 - val_accuracy: 0.8014\n",
            "Epoch 19/20\n",
            "1004/1004 [==============================] - 281s 280ms/step - loss: 0.4085 - accuracy: 0.8126 - val_loss: 0.4285 - val_accuracy: 0.8017\n",
            "Epoch 20/20\n",
            "1004/1004 [==============================] - 283s 282ms/step - loss: 0.4045 - accuracy: 0.8144 - val_loss: 0.4313 - val_accuracy: 0.8004\n"
          ]
        }
      ],
      "source": [
        "# Entrenamos la red\n",
        "history = model.fit(\n",
        "    train_gen,\n",
        "    validation_data=valid_gen,\n",
        "    epochs=EPOCHS,\n",
        ")"
      ]
    },
    {
      "cell_type": "markdown",
      "metadata": {
        "id": "v5Y8H4veg1aH"
      },
      "source": [
        "## Guardado del modelo"
      ]
    },
    {
      "cell_type": "markdown",
      "metadata": {
        "id": "9DjjGCJvg4nn"
      },
      "source": [
        "Antes de evaluar a nivel visual el modelo vamos a guardarlo:"
      ]
    },
    {
      "cell_type": "code",
      "execution_count": null,
      "metadata": {
        "colab": {
          "base_uri": "https://localhost:8080/"
        },
        "id": "ag3W5YR3g9X2",
        "outputId": "25fdd70b-de63-4907-80c9-e5537ccaad86"
      },
      "outputs": [
        {
          "output_type": "stream",
          "name": "stdout",
          "text": [
            "INFO:tensorflow:Assets written to: /content/drive/MyDrive/TFM/models/EfficientNetB4/model1/model_EP20_LR0.0001_BS32.pickle/assets\n"
          ]
        }
      ],
      "source": [
        "# Guardamos el modelo\n",
        "model_save_path = \"/content/drive/MyDrive/TFM/models/EfficientNetB4/\" + MODEL_NAME + \"model_\" + \"EP\" + str(EPOCHS) + \"_\" + \"LR\" + str(LEARNING_RATE) + \"_\" + \"BS\" + str(BATCH_SIZE) + '.pickle'\n",
        "model.save(model_save_path)"
      ]
    },
    {
      "cell_type": "code",
      "execution_count": null,
      "metadata": {
        "id": "nMpTX4NZjtUD"
      },
      "outputs": [],
      "source": [
        "# Guardamos el history del modelo\n",
        "pickle.dump(history.history, open(os.path.join(\"/content/drive/MyDrive/TFM/models/EfficientNetB4/\" + MODEL_NAME, \"history.pickle\"), 'wb'))"
      ]
    },
    {
      "cell_type": "markdown",
      "metadata": {
        "id": "46Df3-w5hVO5"
      },
      "source": [
        "## Visualización de la pérdida y de la precisión"
      ]
    },
    {
      "cell_type": "code",
      "execution_count": 13,
      "metadata": {
        "id": "6FRtOWjlhZCa"
      },
      "outputs": [],
      "source": [
        "# Visualizamos la evolución de la accuracy\n",
        "def show_accuracy(history):\n",
        "  fig, axis = plt.subplots(figsize=(8,5))\n",
        "  plt.plot(history['accuracy'])\n",
        "  plt.plot(history['val_accuracy'])\n",
        "  plt.title('model accuracy')\n",
        "  plt.ylabel('accuracy')\n",
        "  plt.xlabel('epoch')\n",
        "  plt.legend(['train', 'validation'], loc='lower right')\n",
        "  plt.show()\n",
        "\n",
        "# Visualizamos la evolución del error cometido por la red\n",
        "def show_loss(history):\n",
        "  fig, axis = plt.subplots(figsize=(8,5))\n",
        "  plt.plot(history['loss'])\n",
        "  plt.plot(history['val_loss'])\n",
        "  plt.title('model loss')\n",
        "  plt.ylabel('loss')\n",
        "  plt.xlabel('epoch')\n",
        "  plt.legend(['train', 'validation'], loc='upper right')\n",
        "  plt.show()"
      ]
    },
    {
      "cell_type": "code",
      "execution_count": null,
      "metadata": {
        "colab": {
          "base_uri": "https://localhost:8080/",
          "height": 683
        },
        "id": "bXt2I_azlF40",
        "outputId": "8bcd77c9-7516-49b1-f648-bf794d73c4ac"
      },
      "outputs": [
        {
          "output_type": "display_data",
          "data": {
            "text/plain": [
              "<Figure size 576x360 with 1 Axes>"
            ],
            "image/png": "[encoded data removed]"
          },
          "metadata": {
            "needs_background": "light"
          }
        },
        {
          "output_type": "display_data",
          "data": {
            "text/plain": [
              "<Figure size 576x360 with 1 Axes>"
            ],
            "image/png": "[encoded data removed]"
          },
          "metadata": {
            "needs_background": "light"
          }
        }
      ],
      "source": [
        "show_accuracy(history.history)\n",
        "show_loss(history.history)"
      ]
    },
    {
      "cell_type": "markdown",
      "metadata": {
        "id": "cWV0p_Rdx27e"
      },
      "source": [
        "## Evaluación del modelo"
      ]
    },
    {
      "cell_type": "markdown",
      "metadata": {
        "id": "YsW3tC18xuVP"
      },
      "source": [
        "Evaluación del modelo a partir de la matriz de confusión y del informe de clasificación:"
      ]
    },
    {
      "cell_type": "code",
      "execution_count": null,
      "metadata": {
        "id": "DFk_mKW_xuVQ"
      },
      "outputs": [],
      "source": [
        "# Obtenermos el generador para test\n",
        "test_gen = DataGenerator(folder=TEST_FOLDER, dataset=df_test, dic_images=dic_images, batch_size=BATCH_SIZE, image_size=IMG_SIZE, shuffle=False, predict=True)"
      ]
    },
    {
      "cell_type": "code",
      "execution_count": null,
      "metadata": {
        "id": "yuZ9Qzv-xuVQ"
      },
      "outputs": [],
      "source": [
        "# Calculamos las predicciones para cada batch\n",
        "y_test = []\n",
        "y_preds = []\n",
        "y_probs = []\n",
        "\n",
        "for images, filenames in test_gen:\n",
        "  y_preds_batch = model.predict(images)\n",
        "\n",
        "  for y_pred, filename in zip(y_preds_batch, filenames):\n",
        "    y_test.append(df_test[df_test[\"PatientId\"] == filename.split(\".\")[0]][\"Target\"].item())\n",
        "    y_probs.append(y_pred)\n",
        "    if y_pred < 0.5:\n",
        "      y_preds.append(0)\n",
        "    else:\n",
        "      y_preds.append(1)"
      ]
    },
    {
      "cell_type": "code",
      "execution_count": null,
      "metadata": {
        "colab": {
          "base_uri": "https://localhost:8080/",
          "height": 782
        },
        "id": "zePP0XDexuVR",
        "outputId": "dbd934bd-a69c-4cd6-8ae1-2296f2ed629a"
      },
      "outputs": [
        {
          "output_type": "display_data",
          "data": {
            "text/plain": [
              "<Figure size 864x864 with 2 Axes>"
            ],
            "image/png": "[encoded data removed]"
          },
          "metadata": {
            "needs_background": "light"
          }
        },
        {
          "output_type": "stream",
          "name": "stdout",
          "text": [
            "\n",
            "\n",
            "La precisión: 79.7 %\n"
          ]
        }
      ],
      "source": [
        "# Matriz de confusión\n",
        "matrix = confusion_matrix(y_test, y_preds)\n",
        "\n",
        "# Visualización de la matriz de confusión\n",
        "# https://stackoverflow.com/questions/19233771/sklearn-plot-confusion-matrix-with-labels\n",
        "fig, ax = plt.subplots(nrows=1, ncols=1, figsize=(12,12))\n",
        "sns.heatmap(matrix, annot=True, fmt='g', ax=ax)  #annot=True to annotate cells, ftm='g' to disable scientific notation\n",
        "ax.set_xlabel('Predicted labels');ax.set_ylabel('True labels')\n",
        "ax.set_title('Confusion Matrix');\n",
        "ax.xaxis.set_ticklabels(list(np.unique(y_preds)))\n",
        "ax.yaxis.set_ticklabels(list(np.unique(y_preds)))\n",
        "plt.show()\n",
        "\n",
        "#Accuracy\n",
        "accuracy = 0\n",
        "for i in range(matrix.shape[0]):\n",
        "  accuracy += matrix[i,i]\n",
        "accuracy = accuracy / sum(sum(matrix))\n",
        "print(\"\\n\\nLa precisión: \" + str(round(accuracy * 100, 2)) + \" %\")"
      ]
    },
    {
      "cell_type": "code",
      "execution_count": null,
      "metadata": {
        "colab": {
          "base_uri": "https://localhost:8080/"
        },
        "id": "6v51wAykxuVR",
        "outputId": "ef83efef-2465-4676-9903-3ab7e78e238e"
      },
      "outputs": [
        {
          "output_type": "stream",
          "name": "stdout",
          "text": [
            "              precision    recall  f1-score   support\n",
            "\n",
            "           0       0.84      0.90      0.87      2282\n",
            "           1       0.58      0.45      0.51       694\n",
            "\n",
            "    accuracy                           0.80      2976\n",
            "   macro avg       0.71      0.68      0.69      2976\n",
            "weighted avg       0.78      0.80      0.79      2976\n",
            "\n"
          ]
        }
      ],
      "source": [
        "#Precision, Recall and F1-score\n",
        "print(classification_report(y_test, y_preds))"
      ]
    },
    {
      "cell_type": "code",
      "execution_count": null,
      "metadata": {
        "colab": {
          "base_uri": "https://localhost:8080/",
          "height": 530
        },
        "id": "ua9OAH0cxuVS",
        "outputId": "fa57ba9e-52d3-4a6b-dae7-13f6d50873c6"
      },
      "outputs": [
        {
          "output_type": "execute_result",
          "data": {
            "text/plain": [
              "Text(0.5, 1.0, 'Lung Opacity ROC Curve')"
            ]
          },
          "metadata": {},
          "execution_count": 42
        },
        {
          "output_type": "display_data",
          "data": {
            "text/plain": [
              "<Figure size 576x576 with 1 Axes>"
            ],
            "image/png": "[encoded data removed]"
          },
          "metadata": {
            "needs_background": "light"
          }
        }
      ],
      "source": [
        "fpr, tpr, _ = roc_curve(y_test, y_probs)\n",
        "fig, ax1 = plt.subplots(1,1, figsize = (8, 8))\n",
        "ax1.plot(fpr, tpr, 'b.-', label = 'EfficientNetB0 (AUC:%2.2f)' % roc_auc_score(y_test, y_probs))\n",
        "ax1.plot(fpr, fpr, 'k-', label = 'Random Guessing')\n",
        "ax1.legend(loc = 4)\n",
        "ax1.set_xlabel('False Positive Rate')\n",
        "ax1.set_ylabel('True Positive Rate');\n",
        "ax1.set_title('Lung Opacity ROC Curve')"
      ]
    },
    {
      "cell_type": "markdown",
      "metadata": {
        "id": "L_aSa1gElqJI"
      },
      "source": [
        "# Fine-tuning"
      ]
    },
    {
      "cell_type": "markdown",
      "metadata": {
        "id": "kCRp8GkBl4sP"
      },
      "source": [
        "Una vez tenemos el red neuronal entrenada procedemos a mejorar la precisión de la misma, para ello vas a realizar lo técnica que se conoce como \"fine-tuning\".\n",
        "\n",
        "El objetivo Fine-tuning es mejorar la precisión del modelo a partir de \"descongelar\" cierto número de layers del modelo base y usar un learning rate más pequeño."
      ]
    },
    {
      "cell_type": "markdown",
      "metadata": {
        "id": "QmkozaELn3XV"
      },
      "source": [
        "## Hiperparámetros"
      ]
    },
    {
      "cell_type": "code",
      "execution_count": 20,
      "metadata": {
        "id": "tfvZO_venOSP"
      },
      "outputs": [],
      "source": [
        "# Data generator\n",
        "BATCH_SIZE = 16\n",
        "\n",
        "# CNN\n",
        "LEARNING_RATE_FT = 1e-5 # 1e-4, 1e-5\n",
        "EPOCHS_FT = 7 # 15, 10, 15"
      ]
    },
    {
      "cell_type": "markdown",
      "metadata": {
        "id": "jKr6Tyy8n9PQ"
      },
      "source": [
        "## CNN y Fine-tuning"
      ]
    },
    {
      "cell_type": "code",
      "source": [
        "def unfreeze_model(model):\n",
        "  # Freezing layers not training, the model has 390 layers\n",
        "  for layer in model.layers[:-4]: # Todo el modelo base\n",
        "    if not isinstance(layer, layers.BatchNormalization):\n",
        "      layer.trainable = True\n",
        "\n",
        "  # Compile\n",
        "  optimizer = Adam(learning_rate=LEARNING_RATE_FT)\n",
        "  model.compile(\n",
        "      optimizer=optimizer, loss=\"binary_crossentropy\", metrics=[\"accuracy\"]\n",
        "  )\n",
        "\n",
        "  return model"
      ],
      "metadata": {
        "id": "xq4MNY_2b3Bm"
      },
      "execution_count": 15,
      "outputs": []
    },
    {
      "cell_type": "code",
      "execution_count": null,
      "metadata": {
        "id": "5Fs0vHuOm-cY"
      },
      "outputs": [],
      "source": [
        "# def unfreeze_model():\n",
        "#   inputs = layers.Input(shape=(IMG_SIZE, IMG_SIZE, 1))\n",
        "#   x = img_augmentation(inputs)\n",
        "#   x = layers.Concatenate()([x, x, x])  \n",
        "#   model = EfficientNetB3(include_top=False, input_tensor=x, weights=\"imagenet\")\n",
        "\n",
        "#   # Freezing layers not training, the model has 390 layers\n",
        "#   for layer in model.layers[:-130]:\n",
        "#     layer.trainable = False\n",
        "\n",
        "#   # Rebuild top\n",
        "#   x = layers.GlobalAveragePooling2D(name=\"avg_pool\")(model.output)\n",
        "#   x = layers.BatchNormalization()(x)\n",
        "\n",
        "#   top_dropout_rate = 0.2\n",
        "#   x = layers.Dropout(top_dropout_rate, name=\"top_dropout\")(x)\n",
        "#   outputs = layers.Dense(1, activation=\"sigmoid\", name=\"pred\")(x)\n",
        "\n",
        "#   # Compile\n",
        "#   model = keras.Model(inputs, outputs, name=\"EfficientNet\")\n",
        "#   optimizer = Adam(learning_rate=LEARNING_RATE_FT)\n",
        "#   model.compile(\n",
        "#       optimizer=optimizer, loss=\"binary_crossentropy\", metrics=[\"accuracy\"]\n",
        "#   )\n",
        "#   return model"
      ]
    },
    {
      "cell_type": "markdown",
      "metadata": {
        "id": "ZUuqw3NJoEM7"
      },
      "source": [
        "## Training"
      ]
    },
    {
      "cell_type": "code",
      "source": [
        "model = load_model(\"/content/drive/MyDrive/TFM/models/EfficientNetB4/model1/model_EP20_LR0.0001_BS32.pickle\")"
      ],
      "metadata": {
        "id": "SI0manFGasUs"
      },
      "execution_count": 16,
      "outputs": []
    },
    {
      "cell_type": "code",
      "execution_count": 18,
      "metadata": {
        "id": "Qz6iyAU7nquI"
      },
      "outputs": [],
      "source": [
        "# Descongelamos layers del modelo base\n",
        "model_ft = unfreeze_model(model)\n",
        "# model_ft = unfreeze_model()"
      ]
    },
    {
      "cell_type": "code",
      "source": [
        "train_gen = DataGenerator(folder=TRAIN_FOLDER, dataset=df_train, dic_images=dic_images, batch_size=BATCH_SIZE, image_size=IMG_SIZE, shuffle=True, predict=False)\n",
        "valid_gen = DataGenerator(folder=VALID_FOLDER, dataset=df_validation, dic_images=dic_images, batch_size=BATCH_SIZE, image_size=IMG_SIZE, shuffle=False, predict=False)"
      ],
      "metadata": {
        "id": "C0DqfalWuZdA"
      },
      "execution_count": 21,
      "outputs": []
    },
    {
      "cell_type": "code",
      "execution_count": 22,
      "metadata": {
        "colab": {
          "base_uri": "https://localhost:8080/"
        },
        "id": "KDdVDvtQoakf",
        "outputId": "b7ec5b80-3b5a-41a2-c6aa-33aa32e7359e"
      },
      "outputs": [
        {
          "output_type": "stream",
          "name": "stdout",
          "text": [
            "Epoch 1/7\n",
            "2009/2009 [==============================] - 1689s 840ms/step - loss: 0.3731 - accuracy: 0.8325 - val_loss: 0.4740 - val_accuracy: 0.8122\n",
            "Epoch 2/7\n",
            "2009/2009 [==============================] - 1685s 839ms/step - loss: 0.3250 - accuracy: 0.8563 - val_loss: 0.4610 - val_accuracy: 0.8172\n",
            "Epoch 3/7\n",
            "2009/2009 [==============================] - 1678s 835ms/step - loss: 0.3005 - accuracy: 0.8689 - val_loss: 0.5009 - val_accuracy: 0.8205\n",
            "Epoch 4/7\n",
            "2009/2009 [==============================] - 1686s 839ms/step - loss: 0.2817 - accuracy: 0.8789 - val_loss: 0.3885 - val_accuracy: 0.8295\n",
            "Epoch 5/7\n",
            "2009/2009 [==============================] - 1674s 833ms/step - loss: 0.2687 - accuracy: 0.8860 - val_loss: 0.4099 - val_accuracy: 0.8305\n",
            "Epoch 6/7\n",
            "2009/2009 [==============================] - 1685s 838ms/step - loss: 0.2527 - accuracy: 0.8916 - val_loss: 0.4076 - val_accuracy: 0.8329\n",
            "Epoch 7/7\n",
            "2009/2009 [==============================] - 1682s 837ms/step - loss: 0.2411 - accuracy: 0.8962 - val_loss: 0.3975 - val_accuracy: 0.8292\n"
          ]
        }
      ],
      "source": [
        "# Entrenamos la red\n",
        "history_ft = model_ft.fit(\n",
        "    train_gen,\n",
        "    validation_data=valid_gen,\n",
        "    epochs=EPOCHS_FT,\n",
        ")"
      ]
    },
    {
      "cell_type": "markdown",
      "metadata": {
        "id": "pal_6fgvsQ_O"
      },
      "source": [
        "## Guardado del modelo"
      ]
    },
    {
      "cell_type": "code",
      "execution_count": 23,
      "metadata": {
        "colab": {
          "base_uri": "https://localhost:8080/"
        },
        "id": "Qx50aZyDseE_",
        "outputId": "16eb57d0-f532-466e-f430-d5f619b0abf6"
      },
      "outputs": [
        {
          "output_type": "stream",
          "name": "stdout",
          "text": [
            "INFO:tensorflow:Assets written to: /content/drive/MyDrive/TFM/models/EfficientNetB4/model1/model_ftEP7_LR1e-05_BS16.pickle/assets\n"
          ]
        }
      ],
      "source": [
        "# Guardamos el modelo\n",
        "model_ft_save_path = \"/content/drive/MyDrive/TFM/models/EfficientNetB4/\" + MODEL_NAME + \"model_ft\" + \"EP\" + str(EPOCHS_FT) + \"_\" + \"LR\" + str(LEARNING_RATE_FT) + \"_\" + \"BS\" + str(BATCH_SIZE) + '.pickle'\n",
        "model_ft.save(model_ft_save_path)"
      ]
    },
    {
      "cell_type": "code",
      "execution_count": 24,
      "metadata": {
        "id": "_t74mC7JsrwH"
      },
      "outputs": [],
      "source": [
        "# Guardamos el history del modelo\n",
        "pickle.dump(history_ft.history, open(os.path.join(\"/content/drive/MyDrive/TFM/models/EfficientNetB4/\" + MODEL_NAME, \"history_ft.pickle\"), 'wb'))"
      ]
    },
    {
      "cell_type": "markdown",
      "metadata": {
        "id": "I87eAVTKsTOA"
      },
      "source": [
        "## Visualización de la pérdida y de la precisión"
      ]
    },
    {
      "cell_type": "code",
      "execution_count": 25,
      "metadata": {
        "colab": {
          "base_uri": "https://localhost:8080/",
          "height": 683
        },
        "id": "R5wLL9-es0KU",
        "outputId": "0a349400-aaa7-45e4-88d2-babbf967ee18"
      },
      "outputs": [
        {
          "output_type": "display_data",
          "data": {
            "text/plain": [
              "<Figure size 576x360 with 1 Axes>"
            ],
            "image/png": "[encoded data removed]"
          },
          "metadata": {
            "needs_background": "light"
          }
        },
        {
          "output_type": "display_data",
          "data": {
            "text/plain": [
              "<Figure size 576x360 with 1 Axes>"
            ],
            "image/png": "[encoded data removed]"
          },
          "metadata": {
            "needs_background": "light"
          }
        }
      ],
      "source": [
        "show_accuracy(history_ft.history)\n",
        "show_loss(history_ft.history)"
      ]
    },
    {
      "cell_type": "markdown",
      "metadata": {
        "id": "iFdE-vSwsDo8"
      },
      "source": [
        "## Evaluación del modelo"
      ]
    },
    {
      "cell_type": "markdown",
      "metadata": {
        "id": "lJLFPUwZsMve"
      },
      "source": [
        "Evaluación del modelo a partir de la matriz de confusión y del informe de clasificación:"
      ]
    },
    {
      "cell_type": "code",
      "execution_count": 26,
      "metadata": {
        "id": "eUtZ41O63AXh"
      },
      "outputs": [],
      "source": [
        "# Obtenermos el generador para test\n",
        "test_gen = DataGenerator(folder=TEST_FOLDER, dataset=df_test, dic_images=dic_images, batch_size=BATCH_SIZE, image_size=IMG_SIZE, shuffle=False, predict=True)"
      ]
    },
    {
      "cell_type": "code",
      "execution_count": 27,
      "metadata": {
        "id": "A148EiyU3moi"
      },
      "outputs": [],
      "source": [
        "# Calculamos las predicciones para cada batch\n",
        "y_test = []\n",
        "y_preds = []\n",
        "y_probs = []\n",
        "\n",
        "for images, filenames in test_gen:\n",
        "  y_preds_batch = model_ft.predict(images)\n",
        "\n",
        "  for y_pred, filename in zip(y_preds_batch, filenames):\n",
        "    y_test.append(df_test[df_test[\"PatientId\"] == filename.split(\".\")[0]][\"Target\"].item())\n",
        "    y_probs.append(y_pred)\n",
        "    if y_pred < 0.5:\n",
        "      y_preds.append(0)\n",
        "    else:\n",
        "      y_preds.append(1)"
      ]
    },
    {
      "cell_type": "code",
      "execution_count": 28,
      "metadata": {
        "colab": {
          "base_uri": "https://localhost:8080/",
          "height": 782
        },
        "id": "gmUDXXjM2QuK",
        "outputId": "110a1b9b-f8dc-44cf-f98f-b9814e6cc91a"
      },
      "outputs": [
        {
          "output_type": "display_data",
          "data": {
            "text/plain": [
              "<Figure size 864x864 with 2 Axes>"
            ],
            "image/png": "[encoded data removed]"
          },
          "metadata": {
            "needs_background": "light"
          }
        },
        {
          "output_type": "stream",
          "name": "stdout",
          "text": [
            "\n",
            "\n",
            "La precisión: 82.59 %\n"
          ]
        }
      ],
      "source": [
        "# Matriz de confusión\n",
        "matrix = confusion_matrix(y_test, y_preds)\n",
        "\n",
        "# Visualización de la matriz de confusión\n",
        "# https://stackoverflow.com/questions/19233771/sklearn-plot-confusion-matrix-with-labels\n",
        "fig, ax = plt.subplots(nrows=1, ncols=1, figsize=(12,12))\n",
        "sns.heatmap(matrix, annot=True, fmt='g', ax=ax)  #annot=True to annotate cells, ftm='g' to disable scientific notation\n",
        "ax.set_xlabel('Predicted labels');ax.set_ylabel('True labels')\n",
        "ax.set_title('Confusion Matrix');\n",
        "ax.xaxis.set_ticklabels(list(np.unique(y_preds)))\n",
        "ax.yaxis.set_ticklabels(list(np.unique(y_preds)))\n",
        "plt.show()\n",
        "\n",
        "#Accuracy\n",
        "accuracy = 0\n",
        "for i in range(matrix.shape[0]):\n",
        "  accuracy += matrix[i,i]\n",
        "accuracy = accuracy / sum(sum(matrix))\n",
        "print(\"\\n\\nLa precisión: \" + str(round(accuracy * 100, 2)) + \" %\")"
      ]
    },
    {
      "cell_type": "code",
      "execution_count": 29,
      "metadata": {
        "colab": {
          "base_uri": "https://localhost:8080/"
        },
        "id": "zdYnkJA2-j-j",
        "outputId": "71c2e4f1-5bf6-47ec-824f-36a80ba52784"
      },
      "outputs": [
        {
          "output_type": "stream",
          "name": "stdout",
          "text": [
            "              precision    recall  f1-score   support\n",
            "\n",
            "           0       0.87      0.90      0.89      2294\n",
            "           1       0.64      0.57      0.60       698\n",
            "\n",
            "    accuracy                           0.83      2992\n",
            "   macro avg       0.76      0.74      0.75      2992\n",
            "weighted avg       0.82      0.83      0.82      2992\n",
            "\n"
          ]
        }
      ],
      "source": [
        "#Precision, Recall and F1-score\n",
        "print(classification_report(y_test, y_preds))"
      ]
    },
    {
      "cell_type": "code",
      "execution_count": 31,
      "metadata": {
        "colab": {
          "base_uri": "https://localhost:8080/",
          "height": 530
        },
        "id": "BQ678q0NT2R8",
        "outputId": "a9185caa-c547-4b32-b8ce-d76557c93927"
      },
      "outputs": [
        {
          "output_type": "execute_result",
          "data": {
            "text/plain": [
              "Text(0.5, 1.0, 'Lung Opacity ROC Curve')"
            ]
          },
          "metadata": {},
          "execution_count": 31
        },
        {
          "output_type": "display_data",
          "data": {
            "text/plain": [
              "<Figure size 576x576 with 1 Axes>"
            ],
            "image/png": "[encoded data removed]"
          },
          "metadata": {
            "needs_background": "light"
          }
        }
      ],
      "source": [
        "fpr, tpr, _ = roc_curve(y_test, y_probs)\n",
        "fig, ax1 = plt.subplots(1,1, figsize = (8, 8))\n",
        "ax1.plot(fpr, tpr, 'b.-', label = 'EfficientNetB4 (AUC:%2.2f)' % roc_auc_score(y_test, y_probs))\n",
        "ax1.plot(fpr, fpr, 'k-', label = 'Random Guessing')\n",
        "ax1.legend(loc = 4)\n",
        "ax1.set_xlabel('False Positive Rate')\n",
        "ax1.set_ylabel('True Positive Rate');\n",
        "ax1.set_title('Lung Opacity ROC Curve')"
      ]
    },
    {
      "cell_type": "markdown",
      "source": [
        "# Resumen del modelo"
      ],
      "metadata": {
        "id": "XuZ4bYG_c562"
      }
    },
    {
      "cell_type": "code",
      "execution_count": 32,
      "metadata": {
        "colab": {
          "base_uri": "https://localhost:8080/"
        },
        "id": "dZqUPuXI4-Cs",
        "outputId": "70114cd0-f7ea-425c-be58-32635b95d9a0"
      },
      "outputs": [
        {
          "output_type": "stream",
          "name": "stdout",
          "text": [
            "Model: \"EfficientNet\"\n",
            "__________________________________________________________________________________________________\n",
            " Layer (type)                   Output Shape         Param #     Connected to                     \n",
            "==================================================================================================\n",
            " input_2 (InputLayer)           [(None, 380, 380, 1  0           []                               \n",
            "                                )]                                                                \n",
            "                                                                                                  \n",
            " img_augmentation (Sequential)  (None, 380, 380, 1)  0           ['input_2[0][0]']                \n",
            "                                                                                                  \n",
            " concatenate_1 (Concatenate)    (None, 380, 380, 3)  0           ['img_augmentation[0][0]',       \n",
            "                                                                  'img_augmentation[0][0]',       \n",
            "                                                                  'img_augmentation[0][0]']       \n",
            "                                                                                                  \n",
            " rescaling_1 (Rescaling)        (None, 380, 380, 3)  0           ['concatenate_1[0][0]']          \n",
            "                                                                                                  \n",
            " normalization_1 (Normalization  (None, 380, 380, 3)  7          ['rescaling_1[0][0]']            \n",
            " )                                                                                                \n",
            "                                                                                                  \n",
            " stem_conv_pad (ZeroPadding2D)  (None, 381, 381, 3)  0           ['normalization_1[0][0]']        \n",
            "                                                                                                  \n",
            " stem_conv (Conv2D)             (None, 190, 190, 48  1296        ['stem_conv_pad[0][0]']          \n",
            "                                )                                                                 \n",
            "                                                                                                  \n",
            " stem_bn (BatchNormalization)   (None, 190, 190, 48  192         ['stem_conv[0][0]']              \n",
            "                                )                                                                 \n",
            "                                                                                                  \n",
            " stem_activation (Activation)   (None, 190, 190, 48  0           ['stem_bn[0][0]']                \n",
            "                                )                                                                 \n",
            "                                                                                                  \n",
            " block1a_dwconv (DepthwiseConv2  (None, 190, 190, 48  432        ['stem_activation[0][0]']        \n",
            " D)                             )                                                                 \n",
            "                                                                                                  \n",
            " block1a_bn (BatchNormalization  (None, 190, 190, 48  192        ['block1a_dwconv[0][0]']         \n",
            " )                              )                                                                 \n",
            "                                                                                                  \n",
            " block1a_activation (Activation  (None, 190, 190, 48  0          ['block1a_bn[0][0]']             \n",
            " )                              )                                                                 \n",
            "                                                                                                  \n",
            " block1a_se_squeeze (GlobalAver  (None, 48)          0           ['block1a_activation[0][0]']     \n",
            " agePooling2D)                                                                                    \n",
            "                                                                                                  \n",
            " block1a_se_reshape (Reshape)   (None, 1, 1, 48)     0           ['block1a_se_squeeze[0][0]']     \n",
            "                                                                                                  \n",
            " block1a_se_reduce (Conv2D)     (None, 1, 1, 12)     588         ['block1a_se_reshape[0][0]']     \n",
            "                                                                                                  \n",
            " block1a_se_expand (Conv2D)     (None, 1, 1, 48)     624         ['block1a_se_reduce[0][0]']      \n",
            "                                                                                                  \n",
            " block1a_se_excite (Multiply)   (None, 190, 190, 48  0           ['block1a_activation[0][0]',     \n",
            "                                )                                 'block1a_se_expand[0][0]']      \n",
            "                                                                                                  \n",
            " block1a_project_conv (Conv2D)  (None, 190, 190, 24  1152        ['block1a_se_excite[0][0]']      \n",
            "                                )                                                                 \n",
            "                                                                                                  \n",
            " block1a_project_bn (BatchNorma  (None, 190, 190, 24  96         ['block1a_project_conv[0][0]']   \n",
            " lization)                      )                                                                 \n",
            "                                                                                                  \n",
            " block1b_dwconv (DepthwiseConv2  (None, 190, 190, 24  216        ['block1a_project_bn[0][0]']     \n",
            " D)                             )                                                                 \n",
            "                                                                                                  \n",
            " block1b_bn (BatchNormalization  (None, 190, 190, 24  96         ['block1b_dwconv[0][0]']         \n",
            " )                              )                                                                 \n",
            "                                                                                                  \n",
            " block1b_activation (Activation  (None, 190, 190, 24  0          ['block1b_bn[0][0]']             \n",
            " )                              )                                                                 \n",
            "                                                                                                  \n",
            " block1b_se_squeeze (GlobalAver  (None, 24)          0           ['block1b_activation[0][0]']     \n",
            " agePooling2D)                                                                                    \n",
            "                                                                                                  \n",
            " block1b_se_reshape (Reshape)   (None, 1, 1, 24)     0           ['block1b_se_squeeze[0][0]']     \n",
            "                                                                                                  \n",
            " block1b_se_reduce (Conv2D)     (None, 1, 1, 6)      150         ['block1b_se_reshape[0][0]']     \n",
            "                                                                                                  \n",
            " block1b_se_expand (Conv2D)     (None, 1, 1, 24)     168         ['block1b_se_reduce[0][0]']      \n",
            "                                                                                                  \n",
            " block1b_se_excite (Multiply)   (None, 190, 190, 24  0           ['block1b_activation[0][0]',     \n",
            "                                )                                 'block1b_se_expand[0][0]']      \n",
            "                                                                                                  \n",
            " block1b_project_conv (Conv2D)  (None, 190, 190, 24  576         ['block1b_se_excite[0][0]']      \n",
            "                                )                                                                 \n",
            "                                                                                                  \n",
            " block1b_project_bn (BatchNorma  (None, 190, 190, 24  96         ['block1b_project_conv[0][0]']   \n",
            " lization)                      )                                                                 \n",
            "                                                                                                  \n",
            " block1b_drop (Dropout)         (None, 190, 190, 24  0           ['block1b_project_bn[0][0]']     \n",
            "                                )                                                                 \n",
            "                                                                                                  \n",
            " block1b_add (Add)              (None, 190, 190, 24  0           ['block1b_drop[0][0]',           \n",
            "                                )                                 'block1a_project_bn[0][0]']     \n",
            "                                                                                                  \n",
            " block2a_expand_conv (Conv2D)   (None, 190, 190, 14  3456        ['block1b_add[0][0]']            \n",
            "                                4)                                                                \n",
            "                                                                                                  \n",
            " block2a_expand_bn (BatchNormal  (None, 190, 190, 14  576        ['block2a_expand_conv[0][0]']    \n",
            " ization)                       4)                                                                \n",
            "                                                                                                  \n",
            " block2a_expand_activation (Act  (None, 190, 190, 14  0          ['block2a_expand_bn[0][0]']      \n",
            " ivation)                       4)                                                                \n",
            "                                                                                                  \n",
            " block2a_dwconv_pad (ZeroPaddin  (None, 191, 191, 14  0          ['block2a_expand_activation[0][0]\n",
            " g2D)                           4)                               ']                               \n",
            "                                                                                                  \n",
            " block2a_dwconv (DepthwiseConv2  (None, 95, 95, 144)  1296       ['block2a_dwconv_pad[0][0]']     \n",
            " D)                                                                                               \n",
            "                                                                                                  \n",
            " block2a_bn (BatchNormalization  (None, 95, 95, 144)  576        ['block2a_dwconv[0][0]']         \n",
            " )                                                                                                \n",
            "                                                                                                  \n",
            " block2a_activation (Activation  (None, 95, 95, 144)  0          ['block2a_bn[0][0]']             \n",
            " )                                                                                                \n",
            "                                                                                                  \n",
            " block2a_se_squeeze (GlobalAver  (None, 144)         0           ['block2a_activation[0][0]']     \n",
            " agePooling2D)                                                                                    \n",
            "                                                                                                  \n",
            " block2a_se_reshape (Reshape)   (None, 1, 1, 144)    0           ['block2a_se_squeeze[0][0]']     \n",
            "                                                                                                  \n",
            " block2a_se_reduce (Conv2D)     (None, 1, 1, 6)      870         ['block2a_se_reshape[0][0]']     \n",
            "                                                                                                  \n",
            " block2a_se_expand (Conv2D)     (None, 1, 1, 144)    1008        ['block2a_se_reduce[0][0]']      \n",
            "                                                                                                  \n",
            " block2a_se_excite (Multiply)   (None, 95, 95, 144)  0           ['block2a_activation[0][0]',     \n",
            "                                                                  'block2a_se_expand[0][0]']      \n",
            "                                                                                                  \n",
            " block2a_project_conv (Conv2D)  (None, 95, 95, 32)   4608        ['block2a_se_excite[0][0]']      \n",
            "                                                                                                  \n",
            " block2a_project_bn (BatchNorma  (None, 95, 95, 32)  128         ['block2a_project_conv[0][0]']   \n",
            " lization)                                                                                        \n",
            "                                                                                                  \n",
            " block2b_expand_conv (Conv2D)   (None, 95, 95, 192)  6144        ['block2a_project_bn[0][0]']     \n",
            "                                                                                                  \n",
            " block2b_expand_bn (BatchNormal  (None, 95, 95, 192)  768        ['block2b_expand_conv[0][0]']    \n",
            " ization)                                                                                         \n",
            "                                                                                                  \n",
            " block2b_expand_activation (Act  (None, 95, 95, 192)  0          ['block2b_expand_bn[0][0]']      \n",
            " ivation)                                                                                         \n",
            "                                                                                                  \n",
            " block2b_dwconv (DepthwiseConv2  (None, 95, 95, 192)  1728       ['block2b_expand_activation[0][0]\n",
            " D)                                                              ']                               \n",
            "                                                                                                  \n",
            " block2b_bn (BatchNormalization  (None, 95, 95, 192)  768        ['block2b_dwconv[0][0]']         \n",
            " )                                                                                                \n",
            "                                                                                                  \n",
            " block2b_activation (Activation  (None, 95, 95, 192)  0          ['block2b_bn[0][0]']             \n",
            " )                                                                                                \n",
            "                                                                                                  \n",
            " block2b_se_squeeze (GlobalAver  (None, 192)         0           ['block2b_activation[0][0]']     \n",
            " agePooling2D)                                                                                    \n",
            "                                                                                                  \n",
            " block2b_se_reshape (Reshape)   (None, 1, 1, 192)    0           ['block2b_se_squeeze[0][0]']     \n",
            "                                                                                                  \n",
            " block2b_se_reduce (Conv2D)     (None, 1, 1, 8)      1544        ['block2b_se_reshape[0][0]']     \n",
            "                                                                                                  \n",
            " block2b_se_expand (Conv2D)     (None, 1, 1, 192)    1728        ['block2b_se_reduce[0][0]']      \n",
            "                                                                                                  \n",
            " block2b_se_excite (Multiply)   (None, 95, 95, 192)  0           ['block2b_activation[0][0]',     \n",
            "                                                                  'block2b_se_expand[0][0]']      \n",
            "                                                                                                  \n",
            " block2b_project_conv (Conv2D)  (None, 95, 95, 32)   6144        ['block2b_se_excite[0][0]']      \n",
            "                                                                                                  \n",
            " block2b_project_bn (BatchNorma  (None, 95, 95, 32)  128         ['block2b_project_conv[0][0]']   \n",
            " lization)                                                                                        \n",
            "                                                                                                  \n",
            " block2b_drop (Dropout)         (None, 95, 95, 32)   0           ['block2b_project_bn[0][0]']     \n",
            "                                                                                                  \n",
            " block2b_add (Add)              (None, 95, 95, 32)   0           ['block2b_drop[0][0]',           \n",
            "                                                                  'block2a_project_bn[0][0]']     \n",
            "                                                                                                  \n",
            " block2c_expand_conv (Conv2D)   (None, 95, 95, 192)  6144        ['block2b_add[0][0]']            \n",
            "                                                                                                  \n",
            " block2c_expand_bn (BatchNormal  (None, 95, 95, 192)  768        ['block2c_expand_conv[0][0]']    \n",
            " ization)                                                                                         \n",
            "                                                                                                  \n",
            " block2c_expand_activation (Act  (None, 95, 95, 192)  0          ['block2c_expand_bn[0][0]']      \n",
            " ivation)                                                                                         \n",
            "                                                                                                  \n",
            " block2c_dwconv (DepthwiseConv2  (None, 95, 95, 192)  1728       ['block2c_expand_activation[0][0]\n",
            " D)                                                              ']                               \n",
            "                                                                                                  \n",
            " block2c_bn (BatchNormalization  (None, 95, 95, 192)  768        ['block2c_dwconv[0][0]']         \n",
            " )                                                                                                \n",
            "                                                                                                  \n",
            " block2c_activation (Activation  (None, 95, 95, 192)  0          ['block2c_bn[0][0]']             \n",
            " )                                                                                                \n",
            "                                                                                                  \n",
            " block2c_se_squeeze (GlobalAver  (None, 192)         0           ['block2c_activation[0][0]']     \n",
            " agePooling2D)                                                                                    \n",
            "                                                                                                  \n",
            " block2c_se_reshape (Reshape)   (None, 1, 1, 192)    0           ['block2c_se_squeeze[0][0]']     \n",
            "                                                                                                  \n",
            " block2c_se_reduce (Conv2D)     (None, 1, 1, 8)      1544        ['block2c_se_reshape[0][0]']     \n",
            "                                                                                                  \n",
            " block2c_se_expand (Conv2D)     (None, 1, 1, 192)    1728        ['block2c_se_reduce[0][0]']      \n",
            "                                                                                                  \n",
            " block2c_se_excite (Multiply)   (None, 95, 95, 192)  0           ['block2c_activation[0][0]',     \n",
            "                                                                  'block2c_se_expand[0][0]']      \n",
            "                                                                                                  \n",
            " block2c_project_conv (Conv2D)  (None, 95, 95, 32)   6144        ['block2c_se_excite[0][0]']      \n",
            "                                                                                                  \n",
            " block2c_project_bn (BatchNorma  (None, 95, 95, 32)  128         ['block2c_project_conv[0][0]']   \n",
            " lization)                                                                                        \n",
            "                                                                                                  \n",
            " block2c_drop (Dropout)         (None, 95, 95, 32)   0           ['block2c_project_bn[0][0]']     \n",
            "                                                                                                  \n",
            " block2c_add (Add)              (None, 95, 95, 32)   0           ['block2c_drop[0][0]',           \n",
            "                                                                  'block2b_add[0][0]']            \n",
            "                                                                                                  \n",
            " block2d_expand_conv (Conv2D)   (None, 95, 95, 192)  6144        ['block2c_add[0][0]']            \n",
            "                                                                                                  \n",
            " block2d_expand_bn (BatchNormal  (None, 95, 95, 192)  768        ['block2d_expand_conv[0][0]']    \n",
            " ization)                                                                                         \n",
            "                                                                                                  \n",
            " block2d_expand_activation (Act  (None, 95, 95, 192)  0          ['block2d_expand_bn[0][0]']      \n",
            " ivation)                                                                                         \n",
            "                                                                                                  \n",
            " block2d_dwconv (DepthwiseConv2  (None, 95, 95, 192)  1728       ['block2d_expand_activation[0][0]\n",
            " D)                                                              ']                               \n",
            "                                                                                                  \n",
            " block2d_bn (BatchNormalization  (None, 95, 95, 192)  768        ['block2d_dwconv[0][0]']         \n",
            " )                                                                                                \n",
            "                                                                                                  \n",
            " block2d_activation (Activation  (None, 95, 95, 192)  0          ['block2d_bn[0][0]']             \n",
            " )                                                                                                \n",
            "                                                                                                  \n",
            " block2d_se_squeeze (GlobalAver  (None, 192)         0           ['block2d_activation[0][0]']     \n",
            " agePooling2D)                                                                                    \n",
            "                                                                                                  \n",
            " block2d_se_reshape (Reshape)   (None, 1, 1, 192)    0           ['block2d_se_squeeze[0][0]']     \n",
            "                                                                                                  \n",
            " block2d_se_reduce (Conv2D)     (None, 1, 1, 8)      1544        ['block2d_se_reshape[0][0]']     \n",
            "                                                                                                  \n",
            " block2d_se_expand (Conv2D)     (None, 1, 1, 192)    1728        ['block2d_se_reduce[0][0]']      \n",
            "                                                                                                  \n",
            " block2d_se_excite (Multiply)   (None, 95, 95, 192)  0           ['block2d_activation[0][0]',     \n",
            "                                                                  'block2d_se_expand[0][0]']      \n",
            "                                                                                                  \n",
            " block2d_project_conv (Conv2D)  (None, 95, 95, 32)   6144        ['block2d_se_excite[0][0]']      \n",
            "                                                                                                  \n",
            " block2d_project_bn (BatchNorma  (None, 95, 95, 32)  128         ['block2d_project_conv[0][0]']   \n",
            " lization)                                                                                        \n",
            "                                                                                                  \n",
            " block2d_drop (Dropout)         (None, 95, 95, 32)   0           ['block2d_project_bn[0][0]']     \n",
            "                                                                                                  \n",
            " block2d_add (Add)              (None, 95, 95, 32)   0           ['block2d_drop[0][0]',           \n",
            "                                                                  'block2c_add[0][0]']            \n",
            "                                                                                                  \n",
            " block3a_expand_conv (Conv2D)   (None, 95, 95, 192)  6144        ['block2d_add[0][0]']            \n",
            "                                                                                                  \n",
            " block3a_expand_bn (BatchNormal  (None, 95, 95, 192)  768        ['block3a_expand_conv[0][0]']    \n",
            " ization)                                                                                         \n",
            "                                                                                                  \n",
            " block3a_expand_activation (Act  (None, 95, 95, 192)  0          ['block3a_expand_bn[0][0]']      \n",
            " ivation)                                                                                         \n",
            "                                                                                                  \n",
            " block3a_dwconv_pad (ZeroPaddin  (None, 99, 99, 192)  0          ['block3a_expand_activation[0][0]\n",
            " g2D)                                                            ']                               \n",
            "                                                                                                  \n",
            " block3a_dwconv (DepthwiseConv2  (None, 48, 48, 192)  4800       ['block3a_dwconv_pad[0][0]']     \n",
            " D)                                                                                               \n",
            "                                                                                                  \n",
            " block3a_bn (BatchNormalization  (None, 48, 48, 192)  768        ['block3a_dwconv[0][0]']         \n",
            " )                                                                                                \n",
            "                                                                                                  \n",
            " block3a_activation (Activation  (None, 48, 48, 192)  0          ['block3a_bn[0][0]']             \n",
            " )                                                                                                \n",
            "                                                                                                  \n",
            " block3a_se_squeeze (GlobalAver  (None, 192)         0           ['block3a_activation[0][0]']     \n",
            " agePooling2D)                                                                                    \n",
            "                                                                                                  \n",
            " block3a_se_reshape (Reshape)   (None, 1, 1, 192)    0           ['block3a_se_squeeze[0][0]']     \n",
            "                                                                                                  \n",
            " block3a_se_reduce (Conv2D)     (None, 1, 1, 8)      1544        ['block3a_se_reshape[0][0]']     \n",
            "                                                                                                  \n",
            " block3a_se_expand (Conv2D)     (None, 1, 1, 192)    1728        ['block3a_se_reduce[0][0]']      \n",
            "                                                                                                  \n",
            " block3a_se_excite (Multiply)   (None, 48, 48, 192)  0           ['block3a_activation[0][0]',     \n",
            "                                                                  'block3a_se_expand[0][0]']      \n",
            "                                                                                                  \n",
            " block3a_project_conv (Conv2D)  (None, 48, 48, 56)   10752       ['block3a_se_excite[0][0]']      \n",
            "                                                                                                  \n",
            " block3a_project_bn (BatchNorma  (None, 48, 48, 56)  224         ['block3a_project_conv[0][0]']   \n",
            " lization)                                                                                        \n",
            "                                                                                                  \n",
            " block3b_expand_conv (Conv2D)   (None, 48, 48, 336)  18816       ['block3a_project_bn[0][0]']     \n",
            "                                                                                                  \n",
            " block3b_expand_bn (BatchNormal  (None, 48, 48, 336)  1344       ['block3b_expand_conv[0][0]']    \n",
            " ization)                                                                                         \n",
            "                                                                                                  \n",
            " block3b_expand_activation (Act  (None, 48, 48, 336)  0          ['block3b_expand_bn[0][0]']      \n",
            " ivation)                                                                                         \n",
            "                                                                                                  \n",
            " block3b_dwconv (DepthwiseConv2  (None, 48, 48, 336)  8400       ['block3b_expand_activation[0][0]\n",
            " D)                                                              ']                               \n",
            "                                                                                                  \n",
            " block3b_bn (BatchNormalization  (None, 48, 48, 336)  1344       ['block3b_dwconv[0][0]']         \n",
            " )                                                                                                \n",
            "                                                                                                  \n",
            " block3b_activation (Activation  (None, 48, 48, 336)  0          ['block3b_bn[0][0]']             \n",
            " )                                                                                                \n",
            "                                                                                                  \n",
            " block3b_se_squeeze (GlobalAver  (None, 336)         0           ['block3b_activation[0][0]']     \n",
            " agePooling2D)                                                                                    \n",
            "                                                                                                  \n",
            " block3b_se_reshape (Reshape)   (None, 1, 1, 336)    0           ['block3b_se_squeeze[0][0]']     \n",
            "                                                                                                  \n",
            " block3b_se_reduce (Conv2D)     (None, 1, 1, 14)     4718        ['block3b_se_reshape[0][0]']     \n",
            "                                                                                                  \n",
            " block3b_se_expand (Conv2D)     (None, 1, 1, 336)    5040        ['block3b_se_reduce[0][0]']      \n",
            "                                                                                                  \n",
            " block3b_se_excite (Multiply)   (None, 48, 48, 336)  0           ['block3b_activation[0][0]',     \n",
            "                                                                  'block3b_se_expand[0][0]']      \n",
            "                                                                                                  \n",
            " block3b_project_conv (Conv2D)  (None, 48, 48, 56)   18816       ['block3b_se_excite[0][0]']      \n",
            "                                                                                                  \n",
            " block3b_project_bn (BatchNorma  (None, 48, 48, 56)  224         ['block3b_project_conv[0][0]']   \n",
            " lization)                                                                                        \n",
            "                                                                                                  \n",
            " block3b_drop (Dropout)         (None, 48, 48, 56)   0           ['block3b_project_bn[0][0]']     \n",
            "                                                                                                  \n",
            " block3b_add (Add)              (None, 48, 48, 56)   0           ['block3b_drop[0][0]',           \n",
            "                                                                  'block3a_project_bn[0][0]']     \n",
            "                                                                                                  \n",
            " block3c_expand_conv (Conv2D)   (None, 48, 48, 336)  18816       ['block3b_add[0][0]']            \n",
            "                                                                                                  \n",
            " block3c_expand_bn (BatchNormal  (None, 48, 48, 336)  1344       ['block3c_expand_conv[0][0]']    \n",
            " ization)                                                                                         \n",
            "                                                                                                  \n",
            " block3c_expand_activation (Act  (None, 48, 48, 336)  0          ['block3c_expand_bn[0][0]']      \n",
            " ivation)                                                                                         \n",
            "                                                                                                  \n",
            " block3c_dwconv (DepthwiseConv2  (None, 48, 48, 336)  8400       ['block3c_expand_activation[0][0]\n",
            " D)                                                              ']                               \n",
            "                                                                                                  \n",
            " block3c_bn (BatchNormalization  (None, 48, 48, 336)  1344       ['block3c_dwconv[0][0]']         \n",
            " )                                                                                                \n",
            "                                                                                                  \n",
            " block3c_activation (Activation  (None, 48, 48, 336)  0          ['block3c_bn[0][0]']             \n",
            " )                                                                                                \n",
            "                                                                                                  \n",
            " block3c_se_squeeze (GlobalAver  (None, 336)         0           ['block3c_activation[0][0]']     \n",
            " agePooling2D)                                                                                    \n",
            "                                                                                                  \n",
            " block3c_se_reshape (Reshape)   (None, 1, 1, 336)    0           ['block3c_se_squeeze[0][0]']     \n",
            "                                                                                                  \n",
            " block3c_se_reduce (Conv2D)     (None, 1, 1, 14)     4718        ['block3c_se_reshape[0][0]']     \n",
            "                                                                                                  \n",
            " block3c_se_expand (Conv2D)     (None, 1, 1, 336)    5040        ['block3c_se_reduce[0][0]']      \n",
            "                                                                                                  \n",
            " block3c_se_excite (Multiply)   (None, 48, 48, 336)  0           ['block3c_activation[0][0]',     \n",
            "                                                                  'block3c_se_expand[0][0]']      \n",
            "                                                                                                  \n",
            " block3c_project_conv (Conv2D)  (None, 48, 48, 56)   18816       ['block3c_se_excite[0][0]']      \n",
            "                                                                                                  \n",
            " block3c_project_bn (BatchNorma  (None, 48, 48, 56)  224         ['block3c_project_conv[0][0]']   \n",
            " lization)                                                                                        \n",
            "                                                                                                  \n",
            " block3c_drop (Dropout)         (None, 48, 48, 56)   0           ['block3c_project_bn[0][0]']     \n",
            "                                                                                                  \n",
            " block3c_add (Add)              (None, 48, 48, 56)   0           ['block3c_drop[0][0]',           \n",
            "                                                                  'block3b_add[0][0]']            \n",
            "                                                                                                  \n",
            " block3d_expand_conv (Conv2D)   (None, 48, 48, 336)  18816       ['block3c_add[0][0]']            \n",
            "                                                                                                  \n",
            " block3d_expand_bn (BatchNormal  (None, 48, 48, 336)  1344       ['block3d_expand_conv[0][0]']    \n",
            " ization)                                                                                         \n",
            "                                                                                                  \n",
            " block3d_expand_activation (Act  (None, 48, 48, 336)  0          ['block3d_expand_bn[0][0]']      \n",
            " ivation)                                                                                         \n",
            "                                                                                                  \n",
            " block3d_dwconv (DepthwiseConv2  (None, 48, 48, 336)  8400       ['block3d_expand_activation[0][0]\n",
            " D)                                                              ']                               \n",
            "                                                                                                  \n",
            " block3d_bn (BatchNormalization  (None, 48, 48, 336)  1344       ['block3d_dwconv[0][0]']         \n",
            " )                                                                                                \n",
            "                                                                                                  \n",
            " block3d_activation (Activation  (None, 48, 48, 336)  0          ['block3d_bn[0][0]']             \n",
            " )                                                                                                \n",
            "                                                                                                  \n",
            " block3d_se_squeeze (GlobalAver  (None, 336)         0           ['block3d_activation[0][0]']     \n",
            " agePooling2D)                                                                                    \n",
            "                                                                                                  \n",
            " block3d_se_reshape (Reshape)   (None, 1, 1, 336)    0           ['block3d_se_squeeze[0][0]']     \n",
            "                                                                                                  \n",
            " block3d_se_reduce (Conv2D)     (None, 1, 1, 14)     4718        ['block3d_se_reshape[0][0]']     \n",
            "                                                                                                  \n",
            " block3d_se_expand (Conv2D)     (None, 1, 1, 336)    5040        ['block3d_se_reduce[0][0]']      \n",
            "                                                                                                  \n",
            " block3d_se_excite (Multiply)   (None, 48, 48, 336)  0           ['block3d_activation[0][0]',     \n",
            "                                                                  'block3d_se_expand[0][0]']      \n",
            "                                                                                                  \n",
            " block3d_project_conv (Conv2D)  (None, 48, 48, 56)   18816       ['block3d_se_excite[0][0]']      \n",
            "                                                                                                  \n",
            " block3d_project_bn (BatchNorma  (None, 48, 48, 56)  224         ['block3d_project_conv[0][0]']   \n",
            " lization)                                                                                        \n",
            "                                                                                                  \n",
            " block3d_drop (Dropout)         (None, 48, 48, 56)   0           ['block3d_project_bn[0][0]']     \n",
            "                                                                                                  \n",
            " block3d_add (Add)              (None, 48, 48, 56)   0           ['block3d_drop[0][0]',           \n",
            "                                                                  'block3c_add[0][0]']            \n",
            "                                                                                                  \n",
            " block4a_expand_conv (Conv2D)   (None, 48, 48, 336)  18816       ['block3d_add[0][0]']            \n",
            "                                                                                                  \n",
            " block4a_expand_bn (BatchNormal  (None, 48, 48, 336)  1344       ['block4a_expand_conv[0][0]']    \n",
            " ization)                                                                                         \n",
            "                                                                                                  \n",
            " block4a_expand_activation (Act  (None, 48, 48, 336)  0          ['block4a_expand_bn[0][0]']      \n",
            " ivation)                                                                                         \n",
            "                                                                                                  \n",
            " block4a_dwconv_pad (ZeroPaddin  (None, 49, 49, 336)  0          ['block4a_expand_activation[0][0]\n",
            " g2D)                                                            ']                               \n",
            "                                                                                                  \n",
            " block4a_dwconv (DepthwiseConv2  (None, 24, 24, 336)  3024       ['block4a_dwconv_pad[0][0]']     \n",
            " D)                                                                                               \n",
            "                                                                                                  \n",
            " block4a_bn (BatchNormalization  (None, 24, 24, 336)  1344       ['block4a_dwconv[0][0]']         \n",
            " )                                                                                                \n",
            "                                                                                                  \n",
            " block4a_activation (Activation  (None, 24, 24, 336)  0          ['block4a_bn[0][0]']             \n",
            " )                                                                                                \n",
            "                                                                                                  \n",
            " block4a_se_squeeze (GlobalAver  (None, 336)         0           ['block4a_activation[0][0]']     \n",
            " agePooling2D)                                                                                    \n",
            "                                                                                                  \n",
            " block4a_se_reshape (Reshape)   (None, 1, 1, 336)    0           ['block4a_se_squeeze[0][0]']     \n",
            "                                                                                                  \n",
            " block4a_se_reduce (Conv2D)     (None, 1, 1, 14)     4718        ['block4a_se_reshape[0][0]']     \n",
            "                                                                                                  \n",
            " block4a_se_expand (Conv2D)     (None, 1, 1, 336)    5040        ['block4a_se_reduce[0][0]']      \n",
            "                                                                                                  \n",
            " block4a_se_excite (Multiply)   (None, 24, 24, 336)  0           ['block4a_activation[0][0]',     \n",
            "                                                                  'block4a_se_expand[0][0]']      \n",
            "                                                                                                  \n",
            " block4a_project_conv (Conv2D)  (None, 24, 24, 112)  37632       ['block4a_se_excite[0][0]']      \n",
            "                                                                                                  \n",
            " block4a_project_bn (BatchNorma  (None, 24, 24, 112)  448        ['block4a_project_conv[0][0]']   \n",
            " lization)                                                                                        \n",
            "                                                                                                  \n",
            " block4b_expand_conv (Conv2D)   (None, 24, 24, 672)  75264       ['block4a_project_bn[0][0]']     \n",
            "                                                                                                  \n",
            " block4b_expand_bn (BatchNormal  (None, 24, 24, 672)  2688       ['block4b_expand_conv[0][0]']    \n",
            " ization)                                                                                         \n",
            "                                                                                                  \n",
            " block4b_expand_activation (Act  (None, 24, 24, 672)  0          ['block4b_expand_bn[0][0]']      \n",
            " ivation)                                                                                         \n",
            "                                                                                                  \n",
            " block4b_dwconv (DepthwiseConv2  (None, 24, 24, 672)  6048       ['block4b_expand_activation[0][0]\n",
            " D)                                                              ']                               \n",
            "                                                                                                  \n",
            " block4b_bn (BatchNormalization  (None, 24, 24, 672)  2688       ['block4b_dwconv[0][0]']         \n",
            " )                                                                                                \n",
            "                                                                                                  \n",
            " block4b_activation (Activation  (None, 24, 24, 672)  0          ['block4b_bn[0][0]']             \n",
            " )                                                                                                \n",
            "                                                                                                  \n",
            " block4b_se_squeeze (GlobalAver  (None, 672)         0           ['block4b_activation[0][0]']     \n",
            " agePooling2D)                                                                                    \n",
            "                                                                                                  \n",
            " block4b_se_reshape (Reshape)   (None, 1, 1, 672)    0           ['block4b_se_squeeze[0][0]']     \n",
            "                                                                                                  \n",
            " block4b_se_reduce (Conv2D)     (None, 1, 1, 28)     18844       ['block4b_se_reshape[0][0]']     \n",
            "                                                                                                  \n",
            " block4b_se_expand (Conv2D)     (None, 1, 1, 672)    19488       ['block4b_se_reduce[0][0]']      \n",
            "                                                                                                  \n",
            " block4b_se_excite (Multiply)   (None, 24, 24, 672)  0           ['block4b_activation[0][0]',     \n",
            "                                                                  'block4b_se_expand[0][0]']      \n",
            "                                                                                                  \n",
            " block4b_project_conv (Conv2D)  (None, 24, 24, 112)  75264       ['block4b_se_excite[0][0]']      \n",
            "                                                                                                  \n",
            " block4b_project_bn (BatchNorma  (None, 24, 24, 112)  448        ['block4b_project_conv[0][0]']   \n",
            " lization)                                                                                        \n",
            "                                                                                                  \n",
            " block4b_drop (Dropout)         (None, 24, 24, 112)  0           ['block4b_project_bn[0][0]']     \n",
            "                                                                                                  \n",
            " block4b_add (Add)              (None, 24, 24, 112)  0           ['block4b_drop[0][0]',           \n",
            "                                                                  'block4a_project_bn[0][0]']     \n",
            "                                                                                                  \n",
            " block4c_expand_conv (Conv2D)   (None, 24, 24, 672)  75264       ['block4b_add[0][0]']            \n",
            "                                                                                                  \n",
            " block4c_expand_bn (BatchNormal  (None, 24, 24, 672)  2688       ['block4c_expand_conv[0][0]']    \n",
            " ization)                                                                                         \n",
            "                                                                                                  \n",
            " block4c_expand_activation (Act  (None, 24, 24, 672)  0          ['block4c_expand_bn[0][0]']      \n",
            " ivation)                                                                                         \n",
            "                                                                                                  \n",
            " block4c_dwconv (DepthwiseConv2  (None, 24, 24, 672)  6048       ['block4c_expand_activation[0][0]\n",
            " D)                                                              ']                               \n",
            "                                                                                                  \n",
            " block4c_bn (BatchNormalization  (None, 24, 24, 672)  2688       ['block4c_dwconv[0][0]']         \n",
            " )                                                                                                \n",
            "                                                                                                  \n",
            " block4c_activation (Activation  (None, 24, 24, 672)  0          ['block4c_bn[0][0]']             \n",
            " )                                                                                                \n",
            "                                                                                                  \n",
            " block4c_se_squeeze (GlobalAver  (None, 672)         0           ['block4c_activation[0][0]']     \n",
            " agePooling2D)                                                                                    \n",
            "                                                                                                  \n",
            " block4c_se_reshape (Reshape)   (None, 1, 1, 672)    0           ['block4c_se_squeeze[0][0]']     \n",
            "                                                                                                  \n",
            " block4c_se_reduce (Conv2D)     (None, 1, 1, 28)     18844       ['block4c_se_reshape[0][0]']     \n",
            "                                                                                                  \n",
            " block4c_se_expand (Conv2D)     (None, 1, 1, 672)    19488       ['block4c_se_reduce[0][0]']      \n",
            "                                                                                                  \n",
            " block4c_se_excite (Multiply)   (None, 24, 24, 672)  0           ['block4c_activation[0][0]',     \n",
            "                                                                  'block4c_se_expand[0][0]']      \n",
            "                                                                                                  \n",
            " block4c_project_conv (Conv2D)  (None, 24, 24, 112)  75264       ['block4c_se_excite[0][0]']      \n",
            "                                                                                                  \n",
            " block4c_project_bn (BatchNorma  (None, 24, 24, 112)  448        ['block4c_project_conv[0][0]']   \n",
            " lization)                                                                                        \n",
            "                                                                                                  \n",
            " block4c_drop (Dropout)         (None, 24, 24, 112)  0           ['block4c_project_bn[0][0]']     \n",
            "                                                                                                  \n",
            " block4c_add (Add)              (None, 24, 24, 112)  0           ['block4c_drop[0][0]',           \n",
            "                                                                  'block4b_add[0][0]']            \n",
            "                                                                                                  \n",
            " block4d_expand_conv (Conv2D)   (None, 24, 24, 672)  75264       ['block4c_add[0][0]']            \n",
            "                                                                                                  \n",
            " block4d_expand_bn (BatchNormal  (None, 24, 24, 672)  2688       ['block4d_expand_conv[0][0]']    \n",
            " ization)                                                                                         \n",
            "                                                                                                  \n",
            " block4d_expand_activation (Act  (None, 24, 24, 672)  0          ['block4d_expand_bn[0][0]']      \n",
            " ivation)                                                                                         \n",
            "                                                                                                  \n",
            " block4d_dwconv (DepthwiseConv2  (None, 24, 24, 672)  6048       ['block4d_expand_activation[0][0]\n",
            " D)                                                              ']                               \n",
            "                                                                                                  \n",
            " block4d_bn (BatchNormalization  (None, 24, 24, 672)  2688       ['block4d_dwconv[0][0]']         \n",
            " )                                                                                                \n",
            "                                                                                                  \n",
            " block4d_activation (Activation  (None, 24, 24, 672)  0          ['block4d_bn[0][0]']             \n",
            " )                                                                                                \n",
            "                                                                                                  \n",
            " block4d_se_squeeze (GlobalAver  (None, 672)         0           ['block4d_activation[0][0]']     \n",
            " agePooling2D)                                                                                    \n",
            "                                                                                                  \n",
            " block4d_se_reshape (Reshape)   (None, 1, 1, 672)    0           ['block4d_se_squeeze[0][0]']     \n",
            "                                                                                                  \n",
            " block4d_se_reduce (Conv2D)     (None, 1, 1, 28)     18844       ['block4d_se_reshape[0][0]']     \n",
            "                                                                                                  \n",
            " block4d_se_expand (Conv2D)     (None, 1, 1, 672)    19488       ['block4d_se_reduce[0][0]']      \n",
            "                                                                                                  \n",
            " block4d_se_excite (Multiply)   (None, 24, 24, 672)  0           ['block4d_activation[0][0]',     \n",
            "                                                                  'block4d_se_expand[0][0]']      \n",
            "                                                                                                  \n",
            " block4d_project_conv (Conv2D)  (None, 24, 24, 112)  75264       ['block4d_se_excite[0][0]']      \n",
            "                                                                                                  \n",
            " block4d_project_bn (BatchNorma  (None, 24, 24, 112)  448        ['block4d_project_conv[0][0]']   \n",
            " lization)                                                                                        \n",
            "                                                                                                  \n",
            " block4d_drop (Dropout)         (None, 24, 24, 112)  0           ['block4d_project_bn[0][0]']     \n",
            "                                                                                                  \n",
            " block4d_add (Add)              (None, 24, 24, 112)  0           ['block4d_drop[0][0]',           \n",
            "                                                                  'block4c_add[0][0]']            \n",
            "                                                                                                  \n",
            " block4e_expand_conv (Conv2D)   (None, 24, 24, 672)  75264       ['block4d_add[0][0]']            \n",
            "                                                                                                  \n",
            " block4e_expand_bn (BatchNormal  (None, 24, 24, 672)  2688       ['block4e_expand_conv[0][0]']    \n",
            " ization)                                                                                         \n",
            "                                                                                                  \n",
            " block4e_expand_activation (Act  (None, 24, 24, 672)  0          ['block4e_expand_bn[0][0]']      \n",
            " ivation)                                                                                         \n",
            "                                                                                                  \n",
            " block4e_dwconv (DepthwiseConv2  (None, 24, 24, 672)  6048       ['block4e_expand_activation[0][0]\n",
            " D)                                                              ']                               \n",
            "                                                                                                  \n",
            " block4e_bn (BatchNormalization  (None, 24, 24, 672)  2688       ['block4e_dwconv[0][0]']         \n",
            " )                                                                                                \n",
            "                                                                                                  \n",
            " block4e_activation (Activation  (None, 24, 24, 672)  0          ['block4e_bn[0][0]']             \n",
            " )                                                                                                \n",
            "                                                                                                  \n",
            " block4e_se_squeeze (GlobalAver  (None, 672)         0           ['block4e_activation[0][0]']     \n",
            " agePooling2D)                                                                                    \n",
            "                                                                                                  \n",
            " block4e_se_reshape (Reshape)   (None, 1, 1, 672)    0           ['block4e_se_squeeze[0][0]']     \n",
            "                                                                                                  \n",
            " block4e_se_reduce (Conv2D)     (None, 1, 1, 28)     18844       ['block4e_se_reshape[0][0]']     \n",
            "                                                                                                  \n",
            " block4e_se_expand (Conv2D)     (None, 1, 1, 672)    19488       ['block4e_se_reduce[0][0]']      \n",
            "                                                                                                  \n",
            " block4e_se_excite (Multiply)   (None, 24, 24, 672)  0           ['block4e_activation[0][0]',     \n",
            "                                                                  'block4e_se_expand[0][0]']      \n",
            "                                                                                                  \n",
            " block4e_project_conv (Conv2D)  (None, 24, 24, 112)  75264       ['block4e_se_excite[0][0]']      \n",
            "                                                                                                  \n",
            " block4e_project_bn (BatchNorma  (None, 24, 24, 112)  448        ['block4e_project_conv[0][0]']   \n",
            " lization)                                                                                        \n",
            "                                                                                                  \n",
            " block4e_drop (Dropout)         (None, 24, 24, 112)  0           ['block4e_project_bn[0][0]']     \n",
            "                                                                                                  \n",
            " block4e_add (Add)              (None, 24, 24, 112)  0           ['block4e_drop[0][0]',           \n",
            "                                                                  'block4d_add[0][0]']            \n",
            "                                                                                                  \n",
            " block4f_expand_conv (Conv2D)   (None, 24, 24, 672)  75264       ['block4e_add[0][0]']            \n",
            "                                                                                                  \n",
            " block4f_expand_bn (BatchNormal  (None, 24, 24, 672)  2688       ['block4f_expand_conv[0][0]']    \n",
            " ization)                                                                                         \n",
            "                                                                                                  \n",
            " block4f_expand_activation (Act  (None, 24, 24, 672)  0          ['block4f_expand_bn[0][0]']      \n",
            " ivation)                                                                                         \n",
            "                                                                                                  \n",
            " block4f_dwconv (DepthwiseConv2  (None, 24, 24, 672)  6048       ['block4f_expand_activation[0][0]\n",
            " D)                                                              ']                               \n",
            "                                                                                                  \n",
            " block4f_bn (BatchNormalization  (None, 24, 24, 672)  2688       ['block4f_dwconv[0][0]']         \n",
            " )                                                                                                \n",
            "                                                                                                  \n",
            " block4f_activation (Activation  (None, 24, 24, 672)  0          ['block4f_bn[0][0]']             \n",
            " )                                                                                                \n",
            "                                                                                                  \n",
            " block4f_se_squeeze (GlobalAver  (None, 672)         0           ['block4f_activation[0][0]']     \n",
            " agePooling2D)                                                                                    \n",
            "                                                                                                  \n",
            " block4f_se_reshape (Reshape)   (None, 1, 1, 672)    0           ['block4f_se_squeeze[0][0]']     \n",
            "                                                                                                  \n",
            " block4f_se_reduce (Conv2D)     (None, 1, 1, 28)     18844       ['block4f_se_reshape[0][0]']     \n",
            "                                                                                                  \n",
            " block4f_se_expand (Conv2D)     (None, 1, 1, 672)    19488       ['block4f_se_reduce[0][0]']      \n",
            "                                                                                                  \n",
            " block4f_se_excite (Multiply)   (None, 24, 24, 672)  0           ['block4f_activation[0][0]',     \n",
            "                                                                  'block4f_se_expand[0][0]']      \n",
            "                                                                                                  \n",
            " block4f_project_conv (Conv2D)  (None, 24, 24, 112)  75264       ['block4f_se_excite[0][0]']      \n",
            "                                                                                                  \n",
            " block4f_project_bn (BatchNorma  (None, 24, 24, 112)  448        ['block4f_project_conv[0][0]']   \n",
            " lization)                                                                                        \n",
            "                                                                                                  \n",
            " block4f_drop (Dropout)         (None, 24, 24, 112)  0           ['block4f_project_bn[0][0]']     \n",
            "                                                                                                  \n",
            " block4f_add (Add)              (None, 24, 24, 112)  0           ['block4f_drop[0][0]',           \n",
            "                                                                  'block4e_add[0][0]']            \n",
            "                                                                                                  \n",
            " block5a_expand_conv (Conv2D)   (None, 24, 24, 672)  75264       ['block4f_add[0][0]']            \n",
            "                                                                                                  \n",
            " block5a_expand_bn (BatchNormal  (None, 24, 24, 672)  2688       ['block5a_expand_conv[0][0]']    \n",
            " ization)                                                                                         \n",
            "                                                                                                  \n",
            " block5a_expand_activation (Act  (None, 24, 24, 672)  0          ['block5a_expand_bn[0][0]']      \n",
            " ivation)                                                                                         \n",
            "                                                                                                  \n",
            " block5a_dwconv (DepthwiseConv2  (None, 24, 24, 672)  16800      ['block5a_expand_activation[0][0]\n",
            " D)                                                              ']                               \n",
            "                                                                                                  \n",
            " block5a_bn (BatchNormalization  (None, 24, 24, 672)  2688       ['block5a_dwconv[0][0]']         \n",
            " )                                                                                                \n",
            "                                                                                                  \n",
            " block5a_activation (Activation  (None, 24, 24, 672)  0          ['block5a_bn[0][0]']             \n",
            " )                                                                                                \n",
            "                                                                                                  \n",
            " block5a_se_squeeze (GlobalAver  (None, 672)         0           ['block5a_activation[0][0]']     \n",
            " agePooling2D)                                                                                    \n",
            "                                                                                                  \n",
            " block5a_se_reshape (Reshape)   (None, 1, 1, 672)    0           ['block5a_se_squeeze[0][0]']     \n",
            "                                                                                                  \n",
            " block5a_se_reduce (Conv2D)     (None, 1, 1, 28)     18844       ['block5a_se_reshape[0][0]']     \n",
            "                                                                                                  \n",
            " block5a_se_expand (Conv2D)     (None, 1, 1, 672)    19488       ['block5a_se_reduce[0][0]']      \n",
            "                                                                                                  \n",
            " block5a_se_excite (Multiply)   (None, 24, 24, 672)  0           ['block5a_activation[0][0]',     \n",
            "                                                                  'block5a_se_expand[0][0]']      \n",
            "                                                                                                  \n",
            " block5a_project_conv (Conv2D)  (None, 24, 24, 160)  107520      ['block5a_se_excite[0][0]']      \n",
            "                                                                                                  \n",
            " block5a_project_bn (BatchNorma  (None, 24, 24, 160)  640        ['block5a_project_conv[0][0]']   \n",
            " lization)                                                                                        \n",
            "                                                                                                  \n",
            " block5b_expand_conv (Conv2D)   (None, 24, 24, 960)  153600      ['block5a_project_bn[0][0]']     \n",
            "                                                                                                  \n",
            " block5b_expand_bn (BatchNormal  (None, 24, 24, 960)  3840       ['block5b_expand_conv[0][0]']    \n",
            " ization)                                                                                         \n",
            "                                                                                                  \n",
            " block5b_expand_activation (Act  (None, 24, 24, 960)  0          ['block5b_expand_bn[0][0]']      \n",
            " ivation)                                                                                         \n",
            "                                                                                                  \n",
            " block5b_dwconv (DepthwiseConv2  (None, 24, 24, 960)  24000      ['block5b_expand_activation[0][0]\n",
            " D)                                                              ']                               \n",
            "                                                                                                  \n",
            " block5b_bn (BatchNormalization  (None, 24, 24, 960)  3840       ['block5b_dwconv[0][0]']         \n",
            " )                                                                                                \n",
            "                                                                                                  \n",
            " block5b_activation (Activation  (None, 24, 24, 960)  0          ['block5b_bn[0][0]']             \n",
            " )                                                                                                \n",
            "                                                                                                  \n",
            " block5b_se_squeeze (GlobalAver  (None, 960)         0           ['block5b_activation[0][0]']     \n",
            " agePooling2D)                                                                                    \n",
            "                                                                                                  \n",
            " block5b_se_reshape (Reshape)   (None, 1, 1, 960)    0           ['block5b_se_squeeze[0][0]']     \n",
            "                                                                                                  \n",
            " block5b_se_reduce (Conv2D)     (None, 1, 1, 40)     38440       ['block5b_se_reshape[0][0]']     \n",
            "                                                                                                  \n",
            " block5b_se_expand (Conv2D)     (None, 1, 1, 960)    39360       ['block5b_se_reduce[0][0]']      \n",
            "                                                                                                  \n",
            " block5b_se_excite (Multiply)   (None, 24, 24, 960)  0           ['block5b_activation[0][0]',     \n",
            "                                                                  'block5b_se_expand[0][0]']      \n",
            "                                                                                                  \n",
            " block5b_project_conv (Conv2D)  (None, 24, 24, 160)  153600      ['block5b_se_excite[0][0]']      \n",
            "                                                                                                  \n",
            " block5b_project_bn (BatchNorma  (None, 24, 24, 160)  640        ['block5b_project_conv[0][0]']   \n",
            " lization)                                                                                        \n",
            "                                                                                                  \n",
            " block5b_drop (Dropout)         (None, 24, 24, 160)  0           ['block5b_project_bn[0][0]']     \n",
            "                                                                                                  \n",
            " block5b_add (Add)              (None, 24, 24, 160)  0           ['block5b_drop[0][0]',           \n",
            "                                                                  'block5a_project_bn[0][0]']     \n",
            "                                                                                                  \n",
            " block5c_expand_conv (Conv2D)   (None, 24, 24, 960)  153600      ['block5b_add[0][0]']            \n",
            "                                                                                                  \n",
            " block5c_expand_bn (BatchNormal  (None, 24, 24, 960)  3840       ['block5c_expand_conv[0][0]']    \n",
            " ization)                                                                                         \n",
            "                                                                                                  \n",
            " block5c_expand_activation (Act  (None, 24, 24, 960)  0          ['block5c_expand_bn[0][0]']      \n",
            " ivation)                                                                                         \n",
            "                                                                                                  \n",
            " block5c_dwconv (DepthwiseConv2  (None, 24, 24, 960)  24000      ['block5c_expand_activation[0][0]\n",
            " D)                                                              ']                               \n",
            "                                                                                                  \n",
            " block5c_bn (BatchNormalization  (None, 24, 24, 960)  3840       ['block5c_dwconv[0][0]']         \n",
            " )                                                                                                \n",
            "                                                                                                  \n",
            " block5c_activation (Activation  (None, 24, 24, 960)  0          ['block5c_bn[0][0]']             \n",
            " )                                                                                                \n",
            "                                                                                                  \n",
            " block5c_se_squeeze (GlobalAver  (None, 960)         0           ['block5c_activation[0][0]']     \n",
            " agePooling2D)                                                                                    \n",
            "                                                                                                  \n",
            " block5c_se_reshape (Reshape)   (None, 1, 1, 960)    0           ['block5c_se_squeeze[0][0]']     \n",
            "                                                                                                  \n",
            " block5c_se_reduce (Conv2D)     (None, 1, 1, 40)     38440       ['block5c_se_reshape[0][0]']     \n",
            "                                                                                                  \n",
            " block5c_se_expand (Conv2D)     (None, 1, 1, 960)    39360       ['block5c_se_reduce[0][0]']      \n",
            "                                                                                                  \n",
            " block5c_se_excite (Multiply)   (None, 24, 24, 960)  0           ['block5c_activation[0][0]',     \n",
            "                                                                  'block5c_se_expand[0][0]']      \n",
            "                                                                                                  \n",
            " block5c_project_conv (Conv2D)  (None, 24, 24, 160)  153600      ['block5c_se_excite[0][0]']      \n",
            "                                                                                                  \n",
            " block5c_project_bn (BatchNorma  (None, 24, 24, 160)  640        ['block5c_project_conv[0][0]']   \n",
            " lization)                                                                                        \n",
            "                                                                                                  \n",
            " block5c_drop (Dropout)         (None, 24, 24, 160)  0           ['block5c_project_bn[0][0]']     \n",
            "                                                                                                  \n",
            " block5c_add (Add)              (None, 24, 24, 160)  0           ['block5c_drop[0][0]',           \n",
            "                                                                  'block5b_add[0][0]']            \n",
            "                                                                                                  \n",
            " block5d_expand_conv (Conv2D)   (None, 24, 24, 960)  153600      ['block5c_add[0][0]']            \n",
            "                                                                                                  \n",
            " block5d_expand_bn (BatchNormal  (None, 24, 24, 960)  3840       ['block5d_expand_conv[0][0]']    \n",
            " ization)                                                                                         \n",
            "                                                                                                  \n",
            " block5d_expand_activation (Act  (None, 24, 24, 960)  0          ['block5d_expand_bn[0][0]']      \n",
            " ivation)                                                                                         \n",
            "                                                                                                  \n",
            " block5d_dwconv (DepthwiseConv2  (None, 24, 24, 960)  24000      ['block5d_expand_activation[0][0]\n",
            " D)                                                              ']                               \n",
            "                                                                                                  \n",
            " block5d_bn (BatchNormalization  (None, 24, 24, 960)  3840       ['block5d_dwconv[0][0]']         \n",
            " )                                                                                                \n",
            "                                                                                                  \n",
            " block5d_activation (Activation  (None, 24, 24, 960)  0          ['block5d_bn[0][0]']             \n",
            " )                                                                                                \n",
            "                                                                                                  \n",
            " block5d_se_squeeze (GlobalAver  (None, 960)         0           ['block5d_activation[0][0]']     \n",
            " agePooling2D)                                                                                    \n",
            "                                                                                                  \n",
            " block5d_se_reshape (Reshape)   (None, 1, 1, 960)    0           ['block5d_se_squeeze[0][0]']     \n",
            "                                                                                                  \n",
            " block5d_se_reduce (Conv2D)     (None, 1, 1, 40)     38440       ['block5d_se_reshape[0][0]']     \n",
            "                                                                                                  \n",
            " block5d_se_expand (Conv2D)     (None, 1, 1, 960)    39360       ['block5d_se_reduce[0][0]']      \n",
            "                                                                                                  \n",
            " block5d_se_excite (Multiply)   (None, 24, 24, 960)  0           ['block5d_activation[0][0]',     \n",
            "                                                                  'block5d_se_expand[0][0]']      \n",
            "                                                                                                  \n",
            " block5d_project_conv (Conv2D)  (None, 24, 24, 160)  153600      ['block5d_se_excite[0][0]']      \n",
            "                                                                                                  \n",
            " block5d_project_bn (BatchNorma  (None, 24, 24, 160)  640        ['block5d_project_conv[0][0]']   \n",
            " lization)                                                                                        \n",
            "                                                                                                  \n",
            " block5d_drop (Dropout)         (None, 24, 24, 160)  0           ['block5d_project_bn[0][0]']     \n",
            "                                                                                                  \n",
            " block5d_add (Add)              (None, 24, 24, 160)  0           ['block5d_drop[0][0]',           \n",
            "                                                                  'block5c_add[0][0]']            \n",
            "                                                                                                  \n",
            " block5e_expand_conv (Conv2D)   (None, 24, 24, 960)  153600      ['block5d_add[0][0]']            \n",
            "                                                                                                  \n",
            " block5e_expand_bn (BatchNormal  (None, 24, 24, 960)  3840       ['block5e_expand_conv[0][0]']    \n",
            " ization)                                                                                         \n",
            "                                                                                                  \n",
            " block5e_expand_activation (Act  (None, 24, 24, 960)  0          ['block5e_expand_bn[0][0]']      \n",
            " ivation)                                                                                         \n",
            "                                                                                                  \n",
            " block5e_dwconv (DepthwiseConv2  (None, 24, 24, 960)  24000      ['block5e_expand_activation[0][0]\n",
            " D)                                                              ']                               \n",
            "                                                                                                  \n",
            " block5e_bn (BatchNormalization  (None, 24, 24, 960)  3840       ['block5e_dwconv[0][0]']         \n",
            " )                                                                                                \n",
            "                                                                                                  \n",
            " block5e_activation (Activation  (None, 24, 24, 960)  0          ['block5e_bn[0][0]']             \n",
            " )                                                                                                \n",
            "                                                                                                  \n",
            " block5e_se_squeeze (GlobalAver  (None, 960)         0           ['block5e_activation[0][0]']     \n",
            " agePooling2D)                                                                                    \n",
            "                                                                                                  \n",
            " block5e_se_reshape (Reshape)   (None, 1, 1, 960)    0           ['block5e_se_squeeze[0][0]']     \n",
            "                                                                                                  \n",
            " block5e_se_reduce (Conv2D)     (None, 1, 1, 40)     38440       ['block5e_se_reshape[0][0]']     \n",
            "                                                                                                  \n",
            " block5e_se_expand (Conv2D)     (None, 1, 1, 960)    39360       ['block5e_se_reduce[0][0]']      \n",
            "                                                                                                  \n",
            " block5e_se_excite (Multiply)   (None, 24, 24, 960)  0           ['block5e_activation[0][0]',     \n",
            "                                                                  'block5e_se_expand[0][0]']      \n",
            "                                                                                                  \n",
            " block5e_project_conv (Conv2D)  (None, 24, 24, 160)  153600      ['block5e_se_excite[0][0]']      \n",
            "                                                                                                  \n",
            " block5e_project_bn (BatchNorma  (None, 24, 24, 160)  640        ['block5e_project_conv[0][0]']   \n",
            " lization)                                                                                        \n",
            "                                                                                                  \n",
            " block5e_drop (Dropout)         (None, 24, 24, 160)  0           ['block5e_project_bn[0][0]']     \n",
            "                                                                                                  \n",
            " block5e_add (Add)              (None, 24, 24, 160)  0           ['block5e_drop[0][0]',           \n",
            "                                                                  'block5d_add[0][0]']            \n",
            "                                                                                                  \n",
            " block5f_expand_conv (Conv2D)   (None, 24, 24, 960)  153600      ['block5e_add[0][0]']            \n",
            "                                                                                                  \n",
            " block5f_expand_bn (BatchNormal  (None, 24, 24, 960)  3840       ['block5f_expand_conv[0][0]']    \n",
            " ization)                                                                                         \n",
            "                                                                                                  \n",
            " block5f_expand_activation (Act  (None, 24, 24, 960)  0          ['block5f_expand_bn[0][0]']      \n",
            " ivation)                                                                                         \n",
            "                                                                                                  \n",
            " block5f_dwconv (DepthwiseConv2  (None, 24, 24, 960)  24000      ['block5f_expand_activation[0][0]\n",
            " D)                                                              ']                               \n",
            "                                                                                                  \n",
            " block5f_bn (BatchNormalization  (None, 24, 24, 960)  3840       ['block5f_dwconv[0][0]']         \n",
            " )                                                                                                \n",
            "                                                                                                  \n",
            " block5f_activation (Activation  (None, 24, 24, 960)  0          ['block5f_bn[0][0]']             \n",
            " )                                                                                                \n",
            "                                                                                                  \n",
            " block5f_se_squeeze (GlobalAver  (None, 960)         0           ['block5f_activation[0][0]']     \n",
            " agePooling2D)                                                                                    \n",
            "                                                                                                  \n",
            " block5f_se_reshape (Reshape)   (None, 1, 1, 960)    0           ['block5f_se_squeeze[0][0]']     \n",
            "                                                                                                  \n",
            " block5f_se_reduce (Conv2D)     (None, 1, 1, 40)     38440       ['block5f_se_reshape[0][0]']     \n",
            "                                                                                                  \n",
            " block5f_se_expand (Conv2D)     (None, 1, 1, 960)    39360       ['block5f_se_reduce[0][0]']      \n",
            "                                                                                                  \n",
            " block5f_se_excite (Multiply)   (None, 24, 24, 960)  0           ['block5f_activation[0][0]',     \n",
            "                                                                  'block5f_se_expand[0][0]']      \n",
            "                                                                                                  \n",
            " block5f_project_conv (Conv2D)  (None, 24, 24, 160)  153600      ['block5f_se_excite[0][0]']      \n",
            "                                                                                                  \n",
            " block5f_project_bn (BatchNorma  (None, 24, 24, 160)  640        ['block5f_project_conv[0][0]']   \n",
            " lization)                                                                                        \n",
            "                                                                                                  \n",
            " block5f_drop (Dropout)         (None, 24, 24, 160)  0           ['block5f_project_bn[0][0]']     \n",
            "                                                                                                  \n",
            " block5f_add (Add)              (None, 24, 24, 160)  0           ['block5f_drop[0][0]',           \n",
            "                                                                  'block5e_add[0][0]']            \n",
            "                                                                                                  \n",
            " block6a_expand_conv (Conv2D)   (None, 24, 24, 960)  153600      ['block5f_add[0][0]']            \n",
            "                                                                                                  \n",
            " block6a_expand_bn (BatchNormal  (None, 24, 24, 960)  3840       ['block6a_expand_conv[0][0]']    \n",
            " ization)                                                                                         \n",
            "                                                                                                  \n",
            " block6a_expand_activation (Act  (None, 24, 24, 960)  0          ['block6a_expand_bn[0][0]']      \n",
            " ivation)                                                                                         \n",
            "                                                                                                  \n",
            " block6a_dwconv_pad (ZeroPaddin  (None, 27, 27, 960)  0          ['block6a_expand_activation[0][0]\n",
            " g2D)                                                            ']                               \n",
            "                                                                                                  \n",
            " block6a_dwconv (DepthwiseConv2  (None, 12, 12, 960)  24000      ['block6a_dwconv_pad[0][0]']     \n",
            " D)                                                                                               \n",
            "                                                                                                  \n",
            " block6a_bn (BatchNormalization  (None, 12, 12, 960)  3840       ['block6a_dwconv[0][0]']         \n",
            " )                                                                                                \n",
            "                                                                                                  \n",
            " block6a_activation (Activation  (None, 12, 12, 960)  0          ['block6a_bn[0][0]']             \n",
            " )                                                                                                \n",
            "                                                                                                  \n",
            " block6a_se_squeeze (GlobalAver  (None, 960)         0           ['block6a_activation[0][0]']     \n",
            " agePooling2D)                                                                                    \n",
            "                                                                                                  \n",
            " block6a_se_reshape (Reshape)   (None, 1, 1, 960)    0           ['block6a_se_squeeze[0][0]']     \n",
            "                                                                                                  \n",
            " block6a_se_reduce (Conv2D)     (None, 1, 1, 40)     38440       ['block6a_se_reshape[0][0]']     \n",
            "                                                                                                  \n",
            " block6a_se_expand (Conv2D)     (None, 1, 1, 960)    39360       ['block6a_se_reduce[0][0]']      \n",
            "                                                                                                  \n",
            " block6a_se_excite (Multiply)   (None, 12, 12, 960)  0           ['block6a_activation[0][0]',     \n",
            "                                                                  'block6a_se_expand[0][0]']      \n",
            "                                                                                                  \n",
            " block6a_project_conv (Conv2D)  (None, 12, 12, 272)  261120      ['block6a_se_excite[0][0]']      \n",
            "                                                                                                  \n",
            " block6a_project_bn (BatchNorma  (None, 12, 12, 272)  1088       ['block6a_project_conv[0][0]']   \n",
            " lization)                                                                                        \n",
            "                                                                                                  \n",
            " block6b_expand_conv (Conv2D)   (None, 12, 12, 1632  443904      ['block6a_project_bn[0][0]']     \n",
            "                                )                                                                 \n",
            "                                                                                                  \n",
            " block6b_expand_bn (BatchNormal  (None, 12, 12, 1632  6528       ['block6b_expand_conv[0][0]']    \n",
            " ization)                       )                                                                 \n",
            "                                                                                                  \n",
            " block6b_expand_activation (Act  (None, 12, 12, 1632  0          ['block6b_expand_bn[0][0]']      \n",
            " ivation)                       )                                                                 \n",
            "                                                                                                  \n",
            " block6b_dwconv (DepthwiseConv2  (None, 12, 12, 1632  40800      ['block6b_expand_activation[0][0]\n",
            " D)                             )                                ']                               \n",
            "                                                                                                  \n",
            " block6b_bn (BatchNormalization  (None, 12, 12, 1632  6528       ['block6b_dwconv[0][0]']         \n",
            " )                              )                                                                 \n",
            "                                                                                                  \n",
            " block6b_activation (Activation  (None, 12, 12, 1632  0          ['block6b_bn[0][0]']             \n",
            " )                              )                                                                 \n",
            "                                                                                                  \n",
            " block6b_se_squeeze (GlobalAver  (None, 1632)        0           ['block6b_activation[0][0]']     \n",
            " agePooling2D)                                                                                    \n",
            "                                                                                                  \n",
            " block6b_se_reshape (Reshape)   (None, 1, 1, 1632)   0           ['block6b_se_squeeze[0][0]']     \n",
            "                                                                                                  \n",
            " block6b_se_reduce (Conv2D)     (None, 1, 1, 68)     111044      ['block6b_se_reshape[0][0]']     \n",
            "                                                                                                  \n",
            " block6b_se_expand (Conv2D)     (None, 1, 1, 1632)   112608      ['block6b_se_reduce[0][0]']      \n",
            "                                                                                                  \n",
            " block6b_se_excite (Multiply)   (None, 12, 12, 1632  0           ['block6b_activation[0][0]',     \n",
            "                                )                                 'block6b_se_expand[0][0]']      \n",
            "                                                                                                  \n",
            " block6b_project_conv (Conv2D)  (None, 12, 12, 272)  443904      ['block6b_se_excite[0][0]']      \n",
            "                                                                                                  \n",
            " block6b_project_bn (BatchNorma  (None, 12, 12, 272)  1088       ['block6b_project_conv[0][0]']   \n",
            " lization)                                                                                        \n",
            "                                                                                                  \n",
            " block6b_drop (Dropout)         (None, 12, 12, 272)  0           ['block6b_project_bn[0][0]']     \n",
            "                                                                                                  \n",
            " block6b_add (Add)              (None, 12, 12, 272)  0           ['block6b_drop[0][0]',           \n",
            "                                                                  'block6a_project_bn[0][0]']     \n",
            "                                                                                                  \n",
            " block6c_expand_conv (Conv2D)   (None, 12, 12, 1632  443904      ['block6b_add[0][0]']            \n",
            "                                )                                                                 \n",
            "                                                                                                  \n",
            " block6c_expand_bn (BatchNormal  (None, 12, 12, 1632  6528       ['block6c_expand_conv[0][0]']    \n",
            " ization)                       )                                                                 \n",
            "                                                                                                  \n",
            " block6c_expand_activation (Act  (None, 12, 12, 1632  0          ['block6c_expand_bn[0][0]']      \n",
            " ivation)                       )                                                                 \n",
            "                                                                                                  \n",
            " block6c_dwconv (DepthwiseConv2  (None, 12, 12, 1632  40800      ['block6c_expand_activation[0][0]\n",
            " D)                             )                                ']                               \n",
            "                                                                                                  \n",
            " block6c_bn (BatchNormalization  (None, 12, 12, 1632  6528       ['block6c_dwconv[0][0]']         \n",
            " )                              )                                                                 \n",
            "                                                                                                  \n",
            " block6c_activation (Activation  (None, 12, 12, 1632  0          ['block6c_bn[0][0]']             \n",
            " )                              )                                                                 \n",
            "                                                                                                  \n",
            " block6c_se_squeeze (GlobalAver  (None, 1632)        0           ['block6c_activation[0][0]']     \n",
            " agePooling2D)                                                                                    \n",
            "                                                                                                  \n",
            " block6c_se_reshape (Reshape)   (None, 1, 1, 1632)   0           ['block6c_se_squeeze[0][0]']     \n",
            "                                                                                                  \n",
            " block6c_se_reduce (Conv2D)     (None, 1, 1, 68)     111044      ['block6c_se_reshape[0][0]']     \n",
            "                                                                                                  \n",
            " block6c_se_expand (Conv2D)     (None, 1, 1, 1632)   112608      ['block6c_se_reduce[0][0]']      \n",
            "                                                                                                  \n",
            " block6c_se_excite (Multiply)   (None, 12, 12, 1632  0           ['block6c_activation[0][0]',     \n",
            "                                )                                 'block6c_se_expand[0][0]']      \n",
            "                                                                                                  \n",
            " block6c_project_conv (Conv2D)  (None, 12, 12, 272)  443904      ['block6c_se_excite[0][0]']      \n",
            "                                                                                                  \n",
            " block6c_project_bn (BatchNorma  (None, 12, 12, 272)  1088       ['block6c_project_conv[0][0]']   \n",
            " lization)                                                                                        \n",
            "                                                                                                  \n",
            " block6c_drop (Dropout)         (None, 12, 12, 272)  0           ['block6c_project_bn[0][0]']     \n",
            "                                                                                                  \n",
            " block6c_add (Add)              (None, 12, 12, 272)  0           ['block6c_drop[0][0]',           \n",
            "                                                                  'block6b_add[0][0]']            \n",
            "                                                                                                  \n",
            " block6d_expand_conv (Conv2D)   (None, 12, 12, 1632  443904      ['block6c_add[0][0]']            \n",
            "                                )                                                                 \n",
            "                                                                                                  \n",
            " block6d_expand_bn (BatchNormal  (None, 12, 12, 1632  6528       ['block6d_expand_conv[0][0]']    \n",
            " ization)                       )                                                                 \n",
            "                                                                                                  \n",
            " block6d_expand_activation (Act  (None, 12, 12, 1632  0          ['block6d_expand_bn[0][0]']      \n",
            " ivation)                       )                                                                 \n",
            "                                                                                                  \n",
            " block6d_dwconv (DepthwiseConv2  (None, 12, 12, 1632  40800      ['block6d_expand_activation[0][0]\n",
            " D)                             )                                ']                               \n",
            "                                                                                                  \n",
            " block6d_bn (BatchNormalization  (None, 12, 12, 1632  6528       ['block6d_dwconv[0][0]']         \n",
            " )                              )                                                                 \n",
            "                                                                                                  \n",
            " block6d_activation (Activation  (None, 12, 12, 1632  0          ['block6d_bn[0][0]']             \n",
            " )                              )                                                                 \n",
            "                                                                                                  \n",
            " block6d_se_squeeze (GlobalAver  (None, 1632)        0           ['block6d_activation[0][0]']     \n",
            " agePooling2D)                                                                                    \n",
            "                                                                                                  \n",
            " block6d_se_reshape (Reshape)   (None, 1, 1, 1632)   0           ['block6d_se_squeeze[0][0]']     \n",
            "                                                                                                  \n",
            " block6d_se_reduce (Conv2D)     (None, 1, 1, 68)     111044      ['block6d_se_reshape[0][0]']     \n",
            "                                                                                                  \n",
            " block6d_se_expand (Conv2D)     (None, 1, 1, 1632)   112608      ['block6d_se_reduce[0][0]']      \n",
            "                                                                                                  \n",
            " block6d_se_excite (Multiply)   (None, 12, 12, 1632  0           ['block6d_activation[0][0]',     \n",
            "                                )                                 'block6d_se_expand[0][0]']      \n",
            "                                                                                                  \n",
            " block6d_project_conv (Conv2D)  (None, 12, 12, 272)  443904      ['block6d_se_excite[0][0]']      \n",
            "                                                                                                  \n",
            " block6d_project_bn (BatchNorma  (None, 12, 12, 272)  1088       ['block6d_project_conv[0][0]']   \n",
            " lization)                                                                                        \n",
            "                                                                                                  \n",
            " block6d_drop (Dropout)         (None, 12, 12, 272)  0           ['block6d_project_bn[0][0]']     \n",
            "                                                                                                  \n",
            " block6d_add (Add)              (None, 12, 12, 272)  0           ['block6d_drop[0][0]',           \n",
            "                                                                  'block6c_add[0][0]']            \n",
            "                                                                                                  \n",
            " block6e_expand_conv (Conv2D)   (None, 12, 12, 1632  443904      ['block6d_add[0][0]']            \n",
            "                                )                                                                 \n",
            "                                                                                                  \n",
            " block6e_expand_bn (BatchNormal  (None, 12, 12, 1632  6528       ['block6e_expand_conv[0][0]']    \n",
            " ization)                       )                                                                 \n",
            "                                                                                                  \n",
            " block6e_expand_activation (Act  (None, 12, 12, 1632  0          ['block6e_expand_bn[0][0]']      \n",
            " ivation)                       )                                                                 \n",
            "                                                                                                  \n",
            " block6e_dwconv (DepthwiseConv2  (None, 12, 12, 1632  40800      ['block6e_expand_activation[0][0]\n",
            " D)                             )                                ']                               \n",
            "                                                                                                  \n",
            " block6e_bn (BatchNormalization  (None, 12, 12, 1632  6528       ['block6e_dwconv[0][0]']         \n",
            " )                              )                                                                 \n",
            "                                                                                                  \n",
            " block6e_activation (Activation  (None, 12, 12, 1632  0          ['block6e_bn[0][0]']             \n",
            " )                              )                                                                 \n",
            "                                                                                                  \n",
            " block6e_se_squeeze (GlobalAver  (None, 1632)        0           ['block6e_activation[0][0]']     \n",
            " agePooling2D)                                                                                    \n",
            "                                                                                                  \n",
            " block6e_se_reshape (Reshape)   (None, 1, 1, 1632)   0           ['block6e_se_squeeze[0][0]']     \n",
            "                                                                                                  \n",
            " block6e_se_reduce (Conv2D)     (None, 1, 1, 68)     111044      ['block6e_se_reshape[0][0]']     \n",
            "                                                                                                  \n",
            " block6e_se_expand (Conv2D)     (None, 1, 1, 1632)   112608      ['block6e_se_reduce[0][0]']      \n",
            "                                                                                                  \n",
            " block6e_se_excite (Multiply)   (None, 12, 12, 1632  0           ['block6e_activation[0][0]',     \n",
            "                                )                                 'block6e_se_expand[0][0]']      \n",
            "                                                                                                  \n",
            " block6e_project_conv (Conv2D)  (None, 12, 12, 272)  443904      ['block6e_se_excite[0][0]']      \n",
            "                                                                                                  \n",
            " block6e_project_bn (BatchNorma  (None, 12, 12, 272)  1088       ['block6e_project_conv[0][0]']   \n",
            " lization)                                                                                        \n",
            "                                                                                                  \n",
            " block6e_drop (Dropout)         (None, 12, 12, 272)  0           ['block6e_project_bn[0][0]']     \n",
            "                                                                                                  \n",
            " block6e_add (Add)              (None, 12, 12, 272)  0           ['block6e_drop[0][0]',           \n",
            "                                                                  'block6d_add[0][0]']            \n",
            "                                                                                                  \n",
            " block6f_expand_conv (Conv2D)   (None, 12, 12, 1632  443904      ['block6e_add[0][0]']            \n",
            "                                )                                                                 \n",
            "                                                                                                  \n",
            " block6f_expand_bn (BatchNormal  (None, 12, 12, 1632  6528       ['block6f_expand_conv[0][0]']    \n",
            " ization)                       )                                                                 \n",
            "                                                                                                  \n",
            " block6f_expand_activation (Act  (None, 12, 12, 1632  0          ['block6f_expand_bn[0][0]']      \n",
            " ivation)                       )                                                                 \n",
            "                                                                                                  \n",
            " block6f_dwconv (DepthwiseConv2  (None, 12, 12, 1632  40800      ['block6f_expand_activation[0][0]\n",
            " D)                             )                                ']                               \n",
            "                                                                                                  \n",
            " block6f_bn (BatchNormalization  (None, 12, 12, 1632  6528       ['block6f_dwconv[0][0]']         \n",
            " )                              )                                                                 \n",
            "                                                                                                  \n",
            " block6f_activation (Activation  (None, 12, 12, 1632  0          ['block6f_bn[0][0]']             \n",
            " )                              )                                                                 \n",
            "                                                                                                  \n",
            " block6f_se_squeeze (GlobalAver  (None, 1632)        0           ['block6f_activation[0][0]']     \n",
            " agePooling2D)                                                                                    \n",
            "                                                                                                  \n",
            " block6f_se_reshape (Reshape)   (None, 1, 1, 1632)   0           ['block6f_se_squeeze[0][0]']     \n",
            "                                                                                                  \n",
            " block6f_se_reduce (Conv2D)     (None, 1, 1, 68)     111044      ['block6f_se_reshape[0][0]']     \n",
            "                                                                                                  \n",
            " block6f_se_expand (Conv2D)     (None, 1, 1, 1632)   112608      ['block6f_se_reduce[0][0]']      \n",
            "                                                                                                  \n",
            " block6f_se_excite (Multiply)   (None, 12, 12, 1632  0           ['block6f_activation[0][0]',     \n",
            "                                )                                 'block6f_se_expand[0][0]']      \n",
            "                                                                                                  \n",
            " block6f_project_conv (Conv2D)  (None, 12, 12, 272)  443904      ['block6f_se_excite[0][0]']      \n",
            "                                                                                                  \n",
            " block6f_project_bn (BatchNorma  (None, 12, 12, 272)  1088       ['block6f_project_conv[0][0]']   \n",
            " lization)                                                                                        \n",
            "                                                                                                  \n",
            " block6f_drop (Dropout)         (None, 12, 12, 272)  0           ['block6f_project_bn[0][0]']     \n",
            "                                                                                                  \n",
            " block6f_add (Add)              (None, 12, 12, 272)  0           ['block6f_drop[0][0]',           \n",
            "                                                                  'block6e_add[0][0]']            \n",
            "                                                                                                  \n",
            " block6g_expand_conv (Conv2D)   (None, 12, 12, 1632  443904      ['block6f_add[0][0]']            \n",
            "                                )                                                                 \n",
            "                                                                                                  \n",
            " block6g_expand_bn (BatchNormal  (None, 12, 12, 1632  6528       ['block6g_expand_conv[0][0]']    \n",
            " ization)                       )                                                                 \n",
            "                                                                                                  \n",
            " block6g_expand_activation (Act  (None, 12, 12, 1632  0          ['block6g_expand_bn[0][0]']      \n",
            " ivation)                       )                                                                 \n",
            "                                                                                                  \n",
            " block6g_dwconv (DepthwiseConv2  (None, 12, 12, 1632  40800      ['block6g_expand_activation[0][0]\n",
            " D)                             )                                ']                               \n",
            "                                                                                                  \n",
            " block6g_bn (BatchNormalization  (None, 12, 12, 1632  6528       ['block6g_dwconv[0][0]']         \n",
            " )                              )                                                                 \n",
            "                                                                                                  \n",
            " block6g_activation (Activation  (None, 12, 12, 1632  0          ['block6g_bn[0][0]']             \n",
            " )                              )                                                                 \n",
            "                                                                                                  \n",
            " block6g_se_squeeze (GlobalAver  (None, 1632)        0           ['block6g_activation[0][0]']     \n",
            " agePooling2D)                                                                                    \n",
            "                                                                                                  \n",
            " block6g_se_reshape (Reshape)   (None, 1, 1, 1632)   0           ['block6g_se_squeeze[0][0]']     \n",
            "                                                                                                  \n",
            " block6g_se_reduce (Conv2D)     (None, 1, 1, 68)     111044      ['block6g_se_reshape[0][0]']     \n",
            "                                                                                                  \n",
            " block6g_se_expand (Conv2D)     (None, 1, 1, 1632)   112608      ['block6g_se_reduce[0][0]']      \n",
            "                                                                                                  \n",
            " block6g_se_excite (Multiply)   (None, 12, 12, 1632  0           ['block6g_activation[0][0]',     \n",
            "                                )                                 'block6g_se_expand[0][0]']      \n",
            "                                                                                                  \n",
            " block6g_project_conv (Conv2D)  (None, 12, 12, 272)  443904      ['block6g_se_excite[0][0]']      \n",
            "                                                                                                  \n",
            " block6g_project_bn (BatchNorma  (None, 12, 12, 272)  1088       ['block6g_project_conv[0][0]']   \n",
            " lization)                                                                                        \n",
            "                                                                                                  \n",
            " block6g_drop (Dropout)         (None, 12, 12, 272)  0           ['block6g_project_bn[0][0]']     \n",
            "                                                                                                  \n",
            " block6g_add (Add)              (None, 12, 12, 272)  0           ['block6g_drop[0][0]',           \n",
            "                                                                  'block6f_add[0][0]']            \n",
            "                                                                                                  \n",
            " block6h_expand_conv (Conv2D)   (None, 12, 12, 1632  443904      ['block6g_add[0][0]']            \n",
            "                                )                                                                 \n",
            "                                                                                                  \n",
            " block6h_expand_bn (BatchNormal  (None, 12, 12, 1632  6528       ['block6h_expand_conv[0][0]']    \n",
            " ization)                       )                                                                 \n",
            "                                                                                                  \n",
            " block6h_expand_activation (Act  (None, 12, 12, 1632  0          ['block6h_expand_bn[0][0]']      \n",
            " ivation)                       )                                                                 \n",
            "                                                                                                  \n",
            " block6h_dwconv (DepthwiseConv2  (None, 12, 12, 1632  40800      ['block6h_expand_activation[0][0]\n",
            " D)                             )                                ']                               \n",
            "                                                                                                  \n",
            " block6h_bn (BatchNormalization  (None, 12, 12, 1632  6528       ['block6h_dwconv[0][0]']         \n",
            " )                              )                                                                 \n",
            "                                                                                                  \n",
            " block6h_activation (Activation  (None, 12, 12, 1632  0          ['block6h_bn[0][0]']             \n",
            " )                              )                                                                 \n",
            "                                                                                                  \n",
            " block6h_se_squeeze (GlobalAver  (None, 1632)        0           ['block6h_activation[0][0]']     \n",
            " agePooling2D)                                                                                    \n",
            "                                                                                                  \n",
            " block6h_se_reshape (Reshape)   (None, 1, 1, 1632)   0           ['block6h_se_squeeze[0][0]']     \n",
            "                                                                                                  \n",
            " block6h_se_reduce (Conv2D)     (None, 1, 1, 68)     111044      ['block6h_se_reshape[0][0]']     \n",
            "                                                                                                  \n",
            " block6h_se_expand (Conv2D)     (None, 1, 1, 1632)   112608      ['block6h_se_reduce[0][0]']      \n",
            "                                                                                                  \n",
            " block6h_se_excite (Multiply)   (None, 12, 12, 1632  0           ['block6h_activation[0][0]',     \n",
            "                                )                                 'block6h_se_expand[0][0]']      \n",
            "                                                                                                  \n",
            " block6h_project_conv (Conv2D)  (None, 12, 12, 272)  443904      ['block6h_se_excite[0][0]']      \n",
            "                                                                                                  \n",
            " block6h_project_bn (BatchNorma  (None, 12, 12, 272)  1088       ['block6h_project_conv[0][0]']   \n",
            " lization)                                                                                        \n",
            "                                                                                                  \n",
            " block6h_drop (Dropout)         (None, 12, 12, 272)  0           ['block6h_project_bn[0][0]']     \n",
            "                                                                                                  \n",
            " block6h_add (Add)              (None, 12, 12, 272)  0           ['block6h_drop[0][0]',           \n",
            "                                                                  'block6g_add[0][0]']            \n",
            "                                                                                                  \n",
            " block7a_expand_conv (Conv2D)   (None, 12, 12, 1632  443904      ['block6h_add[0][0]']            \n",
            "                                )                                                                 \n",
            "                                                                                                  \n",
            " block7a_expand_bn (BatchNormal  (None, 12, 12, 1632  6528       ['block7a_expand_conv[0][0]']    \n",
            " ization)                       )                                                                 \n",
            "                                                                                                  \n",
            " block7a_expand_activation (Act  (None, 12, 12, 1632  0          ['block7a_expand_bn[0][0]']      \n",
            " ivation)                       )                                                                 \n",
            "                                                                                                  \n",
            " block7a_dwconv (DepthwiseConv2  (None, 12, 12, 1632  14688      ['block7a_expand_activation[0][0]\n",
            " D)                             )                                ']                               \n",
            "                                                                                                  \n",
            " block7a_bn (BatchNormalization  (None, 12, 12, 1632  6528       ['block7a_dwconv[0][0]']         \n",
            " )                              )                                                                 \n",
            "                                                                                                  \n",
            " block7a_activation (Activation  (None, 12, 12, 1632  0          ['block7a_bn[0][0]']             \n",
            " )                              )                                                                 \n",
            "                                                                                                  \n",
            " block7a_se_squeeze (GlobalAver  (None, 1632)        0           ['block7a_activation[0][0]']     \n",
            " agePooling2D)                                                                                    \n",
            "                                                                                                  \n",
            " block7a_se_reshape (Reshape)   (None, 1, 1, 1632)   0           ['block7a_se_squeeze[0][0]']     \n",
            "                                                                                                  \n",
            " block7a_se_reduce (Conv2D)     (None, 1, 1, 68)     111044      ['block7a_se_reshape[0][0]']     \n",
            "                                                                                                  \n",
            " block7a_se_expand (Conv2D)     (None, 1, 1, 1632)   112608      ['block7a_se_reduce[0][0]']      \n",
            "                                                                                                  \n",
            " block7a_se_excite (Multiply)   (None, 12, 12, 1632  0           ['block7a_activation[0][0]',     \n",
            "                                )                                 'block7a_se_expand[0][0]']      \n",
            "                                                                                                  \n",
            " block7a_project_conv (Conv2D)  (None, 12, 12, 448)  731136      ['block7a_se_excite[0][0]']      \n",
            "                                                                                                  \n",
            " block7a_project_bn (BatchNorma  (None, 12, 12, 448)  1792       ['block7a_project_conv[0][0]']   \n",
            " lization)                                                                                        \n",
            "                                                                                                  \n",
            " block7b_expand_conv (Conv2D)   (None, 12, 12, 2688  1204224     ['block7a_project_bn[0][0]']     \n",
            "                                )                                                                 \n",
            "                                                                                                  \n",
            " block7b_expand_bn (BatchNormal  (None, 12, 12, 2688  10752      ['block7b_expand_conv[0][0]']    \n",
            " ization)                       )                                                                 \n",
            "                                                                                                  \n",
            " block7b_expand_activation (Act  (None, 12, 12, 2688  0          ['block7b_expand_bn[0][0]']      \n",
            " ivation)                       )                                                                 \n",
            "                                                                                                  \n",
            " block7b_dwconv (DepthwiseConv2  (None, 12, 12, 2688  24192      ['block7b_expand_activation[0][0]\n",
            " D)                             )                                ']                               \n",
            "                                                                                                  \n",
            " block7b_bn (BatchNormalization  (None, 12, 12, 2688  10752      ['block7b_dwconv[0][0]']         \n",
            " )                              )                                                                 \n",
            "                                                                                                  \n",
            " block7b_activation (Activation  (None, 12, 12, 2688  0          ['block7b_bn[0][0]']             \n",
            " )                              )                                                                 \n",
            "                                                                                                  \n",
            " block7b_se_squeeze (GlobalAver  (None, 2688)        0           ['block7b_activation[0][0]']     \n",
            " agePooling2D)                                                                                    \n",
            "                                                                                                  \n",
            " block7b_se_reshape (Reshape)   (None, 1, 1, 2688)   0           ['block7b_se_squeeze[0][0]']     \n",
            "                                                                                                  \n",
            " block7b_se_reduce (Conv2D)     (None, 1, 1, 112)    301168      ['block7b_se_reshape[0][0]']     \n",
            "                                                                                                  \n",
            " block7b_se_expand (Conv2D)     (None, 1, 1, 2688)   303744      ['block7b_se_reduce[0][0]']      \n",
            "                                                                                                  \n",
            " block7b_se_excite (Multiply)   (None, 12, 12, 2688  0           ['block7b_activation[0][0]',     \n",
            "                                )                                 'block7b_se_expand[0][0]']      \n",
            "                                                                                                  \n",
            " block7b_project_conv (Conv2D)  (None, 12, 12, 448)  1204224     ['block7b_se_excite[0][0]']      \n",
            "                                                                                                  \n",
            " block7b_project_bn (BatchNorma  (None, 12, 12, 448)  1792       ['block7b_project_conv[0][0]']   \n",
            " lization)                                                                                        \n",
            "                                                                                                  \n",
            " block7b_drop (Dropout)         (None, 12, 12, 448)  0           ['block7b_project_bn[0][0]']     \n",
            "                                                                                                  \n",
            " block7b_add (Add)              (None, 12, 12, 448)  0           ['block7b_drop[0][0]',           \n",
            "                                                                  'block7a_project_bn[0][0]']     \n",
            "                                                                                                  \n",
            " top_conv (Conv2D)              (None, 12, 12, 1792  802816      ['block7b_add[0][0]']            \n",
            "                                )                                                                 \n",
            "                                                                                                  \n",
            " top_bn (BatchNormalization)    (None, 12, 12, 1792  7168        ['top_conv[0][0]']               \n",
            "                                )                                                                 \n",
            "                                                                                                  \n",
            " top_activation (Activation)    (None, 12, 12, 1792  0           ['top_bn[0][0]']                 \n",
            "                                )                                                                 \n",
            "                                                                                                  \n",
            " avg_pool (GlobalAveragePooling  (None, 1792)        0           ['top_activation[0][0]']         \n",
            " 2D)                                                                                              \n",
            "                                                                                                  \n",
            " batch_normalization_1 (BatchNo  (None, 1792)        7168        ['avg_pool[0][0]']               \n",
            " rmalization)                                                                                     \n",
            "                                                                                                  \n",
            " top_dropout (Dropout)          (None, 1792)         0           ['batch_normalization_1[0][0]']  \n",
            "                                                                                                  \n",
            " pred (Dense)                   (None, 1)            1793        ['top_dropout[0][0]']            \n",
            "                                                                                                  \n",
            "==================================================================================================\n",
            "Total params: 17,682,784\n",
            "Trainable params: 17,428,793\n",
            "Non-trainable params: 253,991\n",
            "__________________________________________________________________________________________________\n"
          ]
        }
      ],
      "source": [
        "model.summary()"
      ]
    }
  ],
  "metadata": {
    "accelerator": "GPU",
    "colab": {
      "collapsed_sections": [],
      "name": "pneumonia_detection_B4.ipynb",
      "provenance": [],
      "toc_visible": true,
      "machine_shape": "hm"
    },
    "kernelspec": {
      "display_name": "Python 3",
      "language": "python",
      "name": "python3"
    },
    "language_info": {
      "codemirror_mode": {
        "name": "ipython",
        "version": 3
      },
      "file_extension": ".py",
      "mimetype": "text/x-python",
      "name": "python",
      "nbconvert_exporter": "python",
      "pygments_lexer": "ipython3",
      "version": "3.7.12"
    }
  },
  "nbformat": 4,
  "nbformat_minor": 0
}